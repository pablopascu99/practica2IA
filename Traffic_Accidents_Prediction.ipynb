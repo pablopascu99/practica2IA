{
 "cells": [
  {
   "cell_type": "markdown",
   "id": "33478688",
   "metadata": {},
   "source": [
    "# UK Traffic Accidents Predictions (Datos de seguridad vial)"
   ]
  },
  {
   "cell_type": "markdown",
   "id": "c41dfd59",
   "metadata": {},
   "source": [
    "<h1>Tabla de Contenidos<span class=\"tocSkip\"></span></h1>\n",
    "<div class=\"toc\">\n",
    "   <ul class=\"toc-item\">\n",
    "      <li>\n",
    "         <span><a href=\"#Problem-Definition\" data-toc-modified-id=\"Problem-Definition-1\"><span class=\"toc-item-num\">1&nbsp;&nbsp;</span>Problem Definition</a></span>\n",
    "         <ul class=\"toc-item\">\n",
    "            <li><span><a href=\"#Project-Overview\" data-toc-modified-id=\"Project-Overview-1.1\"><span class=\"toc-item-num\">1.1&nbsp;&nbsp;</span>Project Overview</a></span></li>\n",
    "            <li><span><a href=\"#Problem-Statement\" data-toc-modified-id=\"Problem-Statement-1.2\"><span class=\"toc-item-num\">1.2&nbsp;&nbsp;</span>Problem Statement</a></span></li>\n",
    "         </ul>\n",
    "      </li>\n",
    "      <li>\n",
    "         <span><a href=\"#Dataset-Analysis\" data-toc-modified-id=\"Dataset-Analysis-2\"><span class=\"toc-item-num\">2&nbsp;&nbsp;</span>Dataset Analysis</a></span>\n",
    "         <ul class=\"toc-item\">\n",
    "            <li><span><a href=\"#Importing-Python-libraries\" data-toc-modified-id=\"Importing-Python-libraries-2.1\"><span class=\"toc-item-num\">2.1&nbsp;&nbsp;</span>Importing Python libraries</a></span></li>\n",
    "            <li><span><a href=\"#Importing-the-data\" data-toc-modified-id=\"Importing-the-data-2.2\"><span class=\"toc-item-num\">2.2&nbsp;&nbsp;</span>Importing the data</a></span></li>\n",
    "            <li>\n",
    "               <span><a href=\"#Data-Description-and-Exploratory-Visualisations\" data-toc-modified-id=\"Data-Description-and-Exploratory-Visualisations-2.3\"><span class=\"toc-item-num\">2.3&nbsp;&nbsp;</span>Data Description and Exploratory Visualisations</a></span>\n",
    "               <ul class=\"toc-item\">\n",
    "                  <li><span><a href=\"#Overview\" data-toc-modified-id=\"Overview-2.3.1\"><span class=\"toc-item-num\">2.3.1&nbsp;&nbsp;</span>Overview</a></span></li>\n",
    "                  <li><span><a href=\"#Numerical-features-overview\" data-toc-modified-id=\"Numerical-features-overview-2.3.2\"><span class=\"toc-item-num\">2.3.2&nbsp;&nbsp;</span>Numerical features overview</a></span></li>\n",
    "               </ul>\n",
    "            </li>\n",
    "            <li>\n",
    "               <span><a href=\"#Feature-distribution-by-target-attribute\" data-toc-modified-id=\"Feature-distribution-by-target-attribute-2.4\"><span class=\"toc-item-num\">2.4&nbsp;&nbsp;</span>Feature distribution by target attribute</a></span>\n",
    "               <ul class=\"toc-item\">\n",
    "                  <li><span><a href=\"#Accident-severity\" data-toc-modified-id=\"Age-2.4.1\"><span class=\"toc-item-num\">2.4.1&nbsp;&nbsp;</span>Accident severity</a></span></li>\n",
    "                  <li><span><a href=\"#Number-of-vehicles\" data-toc-modified-id=\"Education-2.4.2\"><span class=\"toc-item-num\">2.4.2&nbsp;&nbsp;</span>Number of vehicles</a></span></li>\n",
    "                  <li><span><a href=\"#Number-of-casualties\" data-toc-modified-id=\"Gender-2.4.3\"><span class=\"toc-item-num\">2.4.3&nbsp;&nbsp;</span>Number of casualties</a></span></li>\n",
    "                  <li><span><a href=\"#Day-of-week\" data-toc-modified-id=\"Marital-Status-2.4.4\"><span class=\"toc-item-num\">2.4.4&nbsp;&nbsp;</span>Day of week</a></span></li>\n",
    "                  <li><span><a href=\"#Police-office-attend\" data-toc-modified-id=\"Distance-from-Home-2.4.5\"><span class=\"toc-item-num\">2.4.5&nbsp;&nbsp;</span>Police office attend</a></span></li>\n",
    "                  <li><span><a href=\"#Sex-of-driver\" data-toc-modified-id=\"Department-2.4.6\"><span class=\"toc-item-num\">2.4.6&nbsp;&nbsp;</span>Sex of driver</a></span></li>\n",
    "                  <li><span><a href=\"#Age-of-driver\" data-toc-modified-id=\"Role-and-Work-Conditions-2.4.7\"><span class=\"toc-item-num\">2.4.7&nbsp;&nbsp;</span>Age of driver</a></span></li>\n",
    "                  <li><span><a href=\"#Age-of-vehicle\" data-toc-modified-id=\"Years-at-the-Company-2.4.8\"><span class=\"toc-item-num\">2.4.8&nbsp;&nbsp;</span>Age of vehicle</a></span></li>\n",
    "                  <li><span><a href=\"#Sex-of-casualty\" data-toc-modified-id=\"Years-With-Current-Manager-2.4.9\"><span class=\"toc-item-num\">2.4.9&nbsp;&nbsp;</span>Sex of casualty</a></span></li>\n",
    "                  <li><span><a href=\"#Age-of-casualty\" data-toc-modified-id=\"Work-Life-Balance-Score-2.4.10\"><span class=\"toc-item-num\">2.4.10&nbsp;&nbsp;</span>Age of casualty</a></span></li>\n",
    "                  <li><span><a href=\"#Casualty-severity\" data-toc-modified-id=\"Pay/Salary-Employee-Information-2.4.11\"><span class=\"toc-item-num\">2.4.11&nbsp;&nbsp;</span>Casualty severity</a></span></li>\n",
    "                  <li><span><a href=\"#Car-passenger\" data-toc-modified-id=\"Employee-Satisfaction-and-Performance-Information-2.4.12\"><span class=\"toc-item-num\">2.4.12&nbsp;&nbsp;</span>Car passenger</a></span></li>\n",
    "               </ul>\n",
    "            </li>\n",
    "            <li><span><a href=\"#Target-Variable:-Attrition\" data-toc-modified-id=\"Target-Variable:-Attrition-2.5\"><span class=\"toc-item-num\">2.5&nbsp;&nbsp;</span>Target Variable: Attrition</a></span></li>\n",
    "            <li><span><a href=\"#Correlation\" data-toc-modified-id=\"Correlation-2.6\"><span class=\"toc-item-num\">2.6&nbsp;&nbsp;</span>Correlation</a></span></li>\n",
    "            <li><span><a href=\"#EDA-Concluding-Remarks\" data-toc-modified-id=\"EDA-Concluding-Remarks-2.7\"><span class=\"toc-item-num\">2.7&nbsp;&nbsp;</span>EDA Concluding Remarks</a></span></li>\n",
    "         </ul>\n",
    "      </li>\n",
    "      <li>\n",
    "         <span><a href=\"#Pre-processing-Pipeline\" data-toc-modified-id=\"Pre-processing-Pipeline-3\"><span class=\"toc-item-num\">3&nbsp;&nbsp;</span>Pre-processing Pipeline</a></span>\n",
    "         <ul class=\"toc-item\">\n",
    "            <li><span><a href=\"#Encoding\" data-toc-modified-id=\"Encoding-3.1\"><span class=\"toc-item-num\">3.1&nbsp;&nbsp;</span>Encoding</a></span></li>\n",
    "            <li><span><a href=\"#Feature-Scaling\" data-toc-modified-id=\"Feature-Scaling-3.2\"><span class=\"toc-item-num\">3.2&nbsp;&nbsp;</span>Feature Scaling</a></span></li>\n",
    "            <li><span><a href=\"#Splitting-data-into-training-and-testing-sets\" data-toc-modified-id=\"Splitting-data-into-training-and-testing-sets-3.3\"><span class=\"toc-item-num\">3.3&nbsp;&nbsp;</span>Splitting data into training and testing sets</a></span></li>\n",
    "         </ul>\n",
    "      </li>\n",
    "      <li>\n",
    "         <span><a href=\"#Building-Machine-Learning-Models\" data-toc-modified-id=\"Building-Machine-Learning-Models-4\"><span class=\"toc-item-num\">4&nbsp;&nbsp;</span>Building Machine Learning Models</a></span>\n",
    "         <ul class=\"toc-item\">\n",
    "            <li><span><a href=\"#Baseline-Algorithms\" data-toc-modified-id=\"Baseline-Algorithms-4.1\"><span class=\"toc-item-num\">4.1&nbsp;&nbsp;</span>Baseline Algorithms</a></span></li>\n",
    "            <li>\n",
    "               <span><a href=\"#Logistic-Regression\" data-toc-modified-id=\"Logistic-Regression-4.2\"><span class=\"toc-item-num\">4.2&nbsp;&nbsp;</span>Logistic Regression</a></span>\n",
    "               <ul class=\"toc-item\">\n",
    "                  <li><span><a href=\"#Fine-tuning\" data-toc-modified-id=\"Fine-tuning-4.2.1\"><span class=\"toc-item-num\">4.2.1&nbsp;&nbsp;</span>Fine-tuning</a></span></li>\n",
    "                  <li><span><a href=\"#Evaluation\" data-toc-modified-id=\"Evaluation-4.2.2\"><span class=\"toc-item-num\">4.2.2&nbsp;&nbsp;</span>Evaluation</a></span></li>\n",
    "               </ul>\n",
    "            </li>\n",
    "            <li>\n",
    "               <span><a href=\"#Random-Forest-Classifier\" data-toc-modified-id=\"Random-Forest-Classifier-4.3\"><span class=\"toc-item-num\">4.3&nbsp;&nbsp;</span>Random Forest Classifier</a></span>\n",
    "               <ul class=\"toc-item\">\n",
    "                  <li><span><a href=\"#Fine-tuning\" data-toc-modified-id=\"Fine-tuning-4.3.1\"><span class=\"toc-item-num\">4.3.1&nbsp;&nbsp;</span>Fine-tuning</a></span></li>\n",
    "                  <li><span><a href=\"#Evaluation\" data-toc-modified-id=\"Evaluation-4.3.2\"><span class=\"toc-item-num\">4.3.2&nbsp;&nbsp;</span>Evaluation</a></span></li>\n",
    "               </ul>\n",
    "            </li>\n",
    "            <li><span><a href=\"#ROC-Graphs\" data-toc-modified-id=\"ROC-Graphs-4.4\"><span class=\"toc-item-num\">4.4&nbsp;&nbsp;</span>ROC Graphs</a></span></li>\n",
    "         </ul>\n",
    "      </li>\n",
    "      <li>\n",
    "         <span><a href=\"#Concluding-Remarks\" data-toc-modified-id=\"Concluding-Remarks-5\"><span class=\"toc-item-num\">5&nbsp;&nbsp;</span>Concluding Remarks</a></span>\n",
    "         <ul class=\"toc-item\">\n",
    "            <li><span><a href=\"#Risk-Category\" data-toc-modified-id=\"Risk-Category-5.1\"><span class=\"toc-item-num\">5.1&nbsp;&nbsp;</span>Risk Category</a></span></li>\n",
    "            <li><span><a href=\"#Strategic-Retention-Plan\" data-toc-modified-id=\"Strategic-Retention-Plan-5.2\"><span class=\"toc-item-num\">5.2&nbsp;&nbsp;</span>Strategic Retention Plan</a></span></li>\n",
    "         </ul>\n",
    "      </li>\n",
    "   </ul>\n",
    "</div>"
   ]
  },
  {
   "cell_type": "markdown",
   "id": "66551d34",
   "metadata": {},
   "source": [
    "## Problem Definition"
   ]
  },
  {
   "cell_type": "markdown",
   "id": "c6dfe07d",
   "metadata": {},
   "source": [
    "Partimos de 3 .csv que guardan los datos de los accidentes, victimas y vehiculos de UK del año 2020. Fueron descargados desde la pagina oficial del gobierno de Gran Bretaña https://data.gov.uk/dataset/cb7ae6f0-4be6-4935-9277-47e5ce24a11f/road-safety-data"
   ]
  },
  {
   "cell_type": "markdown",
   "id": "fc338bdb",
   "metadata": {},
   "source": [
    "De esos 3 .csv iniciales, los unificamos en uno solo mediante el identificador del accidente y después (ya solo con un .csv) filtramos y obtenemos los datos que nos interesan para luego implementar los modelos. "
   ]
  },
  {
   "cell_type": "markdown",
   "id": "de603205",
   "metadata": {},
   "source": [
    "<img src='problemOverview.jpg' >"
   ]
  },
  {
   "cell_type": "markdown",
   "id": "eed12f0c",
   "metadata": {},
   "source": [
    "## Dataset Analysis"
   ]
  },
  {
   "cell_type": "markdown",
   "id": "147b2039",
   "metadata": {},
   "source": [
    "En este caso de estudio, se ha obtenido un conjunto de datos de Road Safety Data de [Find Open Data](https://data.gov.uk/)  <br>\n",
    "\n",
    "Como se indica en el [Sitio web del Dataset](https://data.gov.uk/dataset/cb7ae6f0-4be6-4935-9277-47e5ce24a11f/road-safety-data) \n",
    "<em>Estos archivos proporcionan datos detallados de seguridad vial sobre las circunstancias de los accidentes de tráfico con lesiones personales en Gran Bretaña desde 1979 (aunque nosotros usaremos únicamente los más actuales disponibles, los de 2020) los tipos de vehículos implicados y las víctimas resultantes. Las estadísticas se refieren únicamente a los accidentes con lesiones personales en la vía pública que se notifican a la policía, y que posteriormente se registran, utilizando el formulario de notificación de accidentes STATS19.<br>Todas las variables de datos están codificadas en lugar de contener cadenas textuales. Las tablas de búsqueda están disponibles en la sección \"Recursos adicionales\" hacia la parte inferior de la tabla.También incluye: Los resultados de los datos de las pruebas de alcoholemia de los dispositivos digitales de pruebas de alcoholemia introducidos recientemente, proporcionados por las autoridades policiales de Inglaterra y Gales Los resultados de los niveles de alcohol en sangre (miligramos / 100 mililitros de sangre) proporcionados por el cotejo de los datos de los médicos forenses (proporcionados por los médicos forenses de Inglaterra y Gales y por los Procuradores Fiscales de Escocia) con los datos de víctimas mortales de los datos policiales STATS19 de accidentes de tráfico en Gran Bretaña. Los casos en los que los niveles de alcohol en sangre de una víctima mortal son \"desconocidos\" son consecuencia de una coincidencia infructuosa entre los dos conjuntos de datos.</em>\n"
   ]
  },
  {
   "cell_type": "markdown",
   "id": "d327fc63",
   "metadata": {},
   "source": [
    "### Importing Python libraries"
   ]
  },
  {
   "cell_type": "code",
   "execution_count": 46,
   "id": "bd1f1818",
   "metadata": {},
   "outputs": [],
   "source": [
    "import os\n",
    "import pandas as pd\n",
    "import numpy as np\n",
    "\n",
    "# importing libraries for data visualisations\n",
    "import seaborn as sns\n",
    "from matplotlib import pyplot\n",
    "import matplotlib.pyplot as plt\n",
    "import matplotlib.pylab as pylab\n",
    "from scipy.stats import norm\n",
    "import matplotlib\n",
    "%matplotlib inline\n",
    "color = sns.color_palette()\n",
    "from IPython.display import display\n",
    "from plotly.offline import download_plotlyjs, init_notebook_mode, plot, iplot\n",
    "pd.options.display.max_columns = None\n",
    "from sklearn.linear_model import LogisticRegression\n",
    "from sklearn.model_selection import train_test_split"
   ]
  },
  {
   "cell_type": "markdown",
   "id": "9053a81a",
   "metadata": {},
   "source": [
    "### Importing the data"
   ]
  },
  {
   "cell_type": "markdown",
   "id": "cd59fe08",
   "metadata": {},
   "source": [
    "Importamos el conjuntos de datos, contamos con 3 archivos CSV que previamente unificaremos en uno solo con las variables que nos \n",
    "interesen para proceder con el estudio."
   ]
  },
  {
   "cell_type": "code",
   "execution_count": 47,
   "id": "2697e1ed",
   "metadata": {
    "scrolled": true
   },
   "outputs": [
    {
     "name": "stderr",
     "output_type": "stream",
     "text": [
      "C:\\Users\\migue\\anaconda3\\lib\\site-packages\\IPython\\core\\interactiveshell.py:3146: DtypeWarning:\n",
      "\n",
      "Columns (0,2) have mixed types.Specify dtype option on import or set low_memory=False.\n",
      "\n"
     ]
    },
    {
     "name": "stdout",
     "output_type": "stream",
     "text": [
      "El primer CSV contiene: (167375, 27) (filas x columnas)\n",
      "El segundo CSV contiene: (91199, 36) (filas x columnas)\n",
      "El tercer CSV contiene: (115584, 18) (filas x columnas)\n"
     ]
    }
   ],
   "source": [
    "#Read csv file\n",
    "df_vehicles = pd.read_csv('data/dft-road-casualty-statistics-vehicle-2020.csv')\n",
    "df_accidents = pd.read_csv('data/dft-road-casualty-statistics-accident-2020.csv')\n",
    "df_casualties = pd.read_csv('data/dft-road-casualty-statistics-casualty-2020.csv')\n",
    "#Shape of CSV\n",
    "print(\"El primer CSV contiene: {} (filas x columnas)\".format(df_vehicles.shape))\n",
    "print(\"El segundo CSV contiene: {} (filas x columnas)\".format(df_accidents.shape))\n",
    "print(\"El tercer CSV contiene: {} (filas x columnas)\".format(df_casualties.shape))"
   ]
  },
  {
   "cell_type": "markdown",
   "id": "4f6b542d",
   "metadata": {},
   "source": [
    "Unificamos los 3 csv anteriores usando merge function con how='inner'. Dado el propio funcionamiento de la funcion lo deberemos hacer en dos partes (df_vehicles + df_accidents) + df_casualties"
   ]
  },
  {
   "cell_type": "code",
   "execution_count": 48,
   "id": "d314e014",
   "metadata": {},
   "outputs": [
    {
     "name": "stdout",
     "output_type": "stream",
     "text": [
      "El archivo CSV final contiene: (92450, 74) (filas x columnas)\n"
     ]
    }
   ],
   "source": [
    "#Unificamos df_accidents con df_vehicles\n",
    "df_traffic_accidents_v1 = pd.merge(df_accidents, df_vehicles, how='inner')\n",
    "\n",
    "#Unificamos df_traffic_accidents_v1 con df_casualties\n",
    "df_traffic_accidents = pd.merge(df_traffic_accidents_v1, df_casualties, how='inner')\n",
    "print(\"El archivo CSV final contiene: {} (filas x columnas)\".format(df_traffic_accidents.shape))"
   ]
  },
  {
   "cell_type": "markdown",
   "id": "1fdbc142",
   "metadata": {},
   "source": [
    "### Data Description and Exploratory Visualisations"
   ]
  },
  {
   "cell_type": "markdown",
   "id": "72732c2e",
   "metadata": {},
   "source": [
    "> En esta sección, proporcionaremos visualizaciones de datos que resumen o extraen características relevantes de los rasgos de nuestro conjunto de datos. Veamos cada columna en detalle, para comprender mejor el conjunto de datos y agruparlos cuando sea apropiado. Además\n",
    "de agrupaciones también se eliminarán aquellos cuya información no sea relevante o aporte interés en el caso de estudio."
   ]
  },
  {
   "cell_type": "markdown",
   "id": "a3685976",
   "metadata": {},
   "source": [
    "#### Overview"
   ]
  },
  {
   "cell_type": "code",
   "execution_count": 49,
   "id": "9385c9ba",
   "metadata": {},
   "outputs": [
    {
     "data": {
      "text/html": [
       "<div>\n",
       "<style scoped>\n",
       "    .dataframe tbody tr th:only-of-type {\n",
       "        vertical-align: middle;\n",
       "    }\n",
       "\n",
       "    .dataframe tbody tr th {\n",
       "        vertical-align: top;\n",
       "    }\n",
       "\n",
       "    .dataframe thead th {\n",
       "        text-align: right;\n",
       "    }\n",
       "</style>\n",
       "<table border=\"1\" class=\"dataframe\">\n",
       "  <thead>\n",
       "    <tr style=\"text-align: right;\">\n",
       "      <th></th>\n",
       "      <th>accident_index</th>\n",
       "      <th>accident_year</th>\n",
       "      <th>accident_reference</th>\n",
       "      <th>location_easting_osgr</th>\n",
       "      <th>location_northing_osgr</th>\n",
       "      <th>longitude</th>\n",
       "      <th>latitude</th>\n",
       "      <th>police_force</th>\n",
       "      <th>accident_severity</th>\n",
       "      <th>number_of_vehicles</th>\n",
       "      <th>number_of_casualties</th>\n",
       "      <th>date</th>\n",
       "      <th>day_of_week</th>\n",
       "      <th>time</th>\n",
       "      <th>local_authority_district</th>\n",
       "      <th>local_authority_ons_district</th>\n",
       "      <th>local_authority_highway</th>\n",
       "      <th>first_road_class</th>\n",
       "      <th>first_road_number</th>\n",
       "      <th>road_type</th>\n",
       "      <th>speed_limit</th>\n",
       "      <th>junction_detail</th>\n",
       "      <th>junction_control</th>\n",
       "      <th>second_road_class</th>\n",
       "      <th>second_road_number</th>\n",
       "      <th>pedestrian_crossing_human_control</th>\n",
       "      <th>pedestrian_crossing_physical_facilities</th>\n",
       "      <th>light_conditions</th>\n",
       "      <th>weather_conditions</th>\n",
       "      <th>road_surface_conditions</th>\n",
       "      <th>special_conditions_at_site</th>\n",
       "      <th>carriageway_hazards</th>\n",
       "      <th>urban_or_rural_area</th>\n",
       "      <th>did_police_officer_attend_scene_of_accident</th>\n",
       "      <th>trunk_road_flag</th>\n",
       "      <th>lsoa_of_accident_location</th>\n",
       "      <th>vehicle_reference</th>\n",
       "      <th>vehicle_type</th>\n",
       "      <th>towing_and_articulation</th>\n",
       "      <th>vehicle_manoeuvre</th>\n",
       "      <th>vehicle_direction_from</th>\n",
       "      <th>vehicle_direction_to</th>\n",
       "      <th>vehicle_location_restricted_lane</th>\n",
       "      <th>junction_location</th>\n",
       "      <th>skidding_and_overturning</th>\n",
       "      <th>hit_object_in_carriageway</th>\n",
       "      <th>vehicle_leaving_carriageway</th>\n",
       "      <th>hit_object_off_carriageway</th>\n",
       "      <th>first_point_of_impact</th>\n",
       "      <th>vehicle_left_hand_drive</th>\n",
       "      <th>journey_purpose_of_driver</th>\n",
       "      <th>sex_of_driver</th>\n",
       "      <th>age_of_driver</th>\n",
       "      <th>age_band_of_driver</th>\n",
       "      <th>engine_capacity_cc</th>\n",
       "      <th>propulsion_code</th>\n",
       "      <th>age_of_vehicle</th>\n",
       "      <th>generic_make_model</th>\n",
       "      <th>driver_imd_decile</th>\n",
       "      <th>driver_home_area_type</th>\n",
       "      <th>casualty_reference</th>\n",
       "      <th>casualty_class</th>\n",
       "      <th>sex_of_casualty</th>\n",
       "      <th>age_of_casualty</th>\n",
       "      <th>age_band_of_casualty</th>\n",
       "      <th>casualty_severity</th>\n",
       "      <th>pedestrian_location</th>\n",
       "      <th>pedestrian_movement</th>\n",
       "      <th>car_passenger</th>\n",
       "      <th>bus_or_coach_passenger</th>\n",
       "      <th>pedestrian_road_maintenance_worker</th>\n",
       "      <th>casualty_type</th>\n",
       "      <th>casualty_home_area_type</th>\n",
       "      <th>casualty_imd_decile</th>\n",
       "    </tr>\n",
       "  </thead>\n",
       "  <tbody>\n",
       "    <tr>\n",
       "      <th>0</th>\n",
       "      <td>2020010278554</td>\n",
       "      <td>2020</td>\n",
       "      <td>010278554</td>\n",
       "      <td>531639.0</td>\n",
       "      <td>168889.0</td>\n",
       "      <td>-0.108858</td>\n",
       "      <td>51.403761</td>\n",
       "      <td>1</td>\n",
       "      <td>2</td>\n",
       "      <td>2</td>\n",
       "      <td>1</td>\n",
       "      <td>09/11/2020</td>\n",
       "      <td>2</td>\n",
       "      <td>20:20</td>\n",
       "      <td>20</td>\n",
       "      <td>E09000008</td>\n",
       "      <td>E09000008</td>\n",
       "      <td>5</td>\n",
       "      <td>0</td>\n",
       "      <td>6</td>\n",
       "      <td>20</td>\n",
       "      <td>0</td>\n",
       "      <td>-1</td>\n",
       "      <td>6</td>\n",
       "      <td>0</td>\n",
       "      <td>0</td>\n",
       "      <td>0</td>\n",
       "      <td>4</td>\n",
       "      <td>1</td>\n",
       "      <td>2</td>\n",
       "      <td>0</td>\n",
       "      <td>0</td>\n",
       "      <td>1</td>\n",
       "      <td>1</td>\n",
       "      <td>2</td>\n",
       "      <td>E01000994</td>\n",
       "      <td>2</td>\n",
       "      <td>3</td>\n",
       "      <td>0</td>\n",
       "      <td>6</td>\n",
       "      <td>7</td>\n",
       "      <td>7</td>\n",
       "      <td>0</td>\n",
       "      <td>0</td>\n",
       "      <td>0</td>\n",
       "      <td>0</td>\n",
       "      <td>0</td>\n",
       "      <td>0</td>\n",
       "      <td>3</td>\n",
       "      <td>1</td>\n",
       "      <td>6</td>\n",
       "      <td>1</td>\n",
       "      <td>23</td>\n",
       "      <td>5</td>\n",
       "      <td>113</td>\n",
       "      <td>1</td>\n",
       "      <td>4</td>\n",
       "      <td>SUZUKI UK 110</td>\n",
       "      <td>-1</td>\n",
       "      <td>-1</td>\n",
       "      <td>1</td>\n",
       "      <td>1</td>\n",
       "      <td>1</td>\n",
       "      <td>23</td>\n",
       "      <td>5</td>\n",
       "      <td>2</td>\n",
       "      <td>0</td>\n",
       "      <td>0</td>\n",
       "      <td>0</td>\n",
       "      <td>0</td>\n",
       "      <td>0</td>\n",
       "      <td>3</td>\n",
       "      <td>-1</td>\n",
       "      <td>-1</td>\n",
       "    </tr>\n",
       "    <tr>\n",
       "      <th>1</th>\n",
       "      <td>2020010278556</td>\n",
       "      <td>2020</td>\n",
       "      <td>010278556</td>\n",
       "      <td>528687.0</td>\n",
       "      <td>184702.0</td>\n",
       "      <td>-0.145519</td>\n",
       "      <td>51.546549</td>\n",
       "      <td>1</td>\n",
       "      <td>2</td>\n",
       "      <td>2</td>\n",
       "      <td>1</td>\n",
       "      <td>04/11/2020</td>\n",
       "      <td>4</td>\n",
       "      <td>11:50</td>\n",
       "      <td>2</td>\n",
       "      <td>E09000007</td>\n",
       "      <td>E09000007</td>\n",
       "      <td>5</td>\n",
       "      <td>0</td>\n",
       "      <td>6</td>\n",
       "      <td>30</td>\n",
       "      <td>3</td>\n",
       "      <td>4</td>\n",
       "      <td>6</td>\n",
       "      <td>0</td>\n",
       "      <td>9</td>\n",
       "      <td>9</td>\n",
       "      <td>1</td>\n",
       "      <td>1</td>\n",
       "      <td>9</td>\n",
       "      <td>0</td>\n",
       "      <td>0</td>\n",
       "      <td>1</td>\n",
       "      <td>3</td>\n",
       "      <td>2</td>\n",
       "      <td>E01000927</td>\n",
       "      <td>1</td>\n",
       "      <td>3</td>\n",
       "      <td>0</td>\n",
       "      <td>99</td>\n",
       "      <td>9</td>\n",
       "      <td>9</td>\n",
       "      <td>99</td>\n",
       "      <td>9</td>\n",
       "      <td>9</td>\n",
       "      <td>99</td>\n",
       "      <td>9</td>\n",
       "      <td>99</td>\n",
       "      <td>9</td>\n",
       "      <td>1</td>\n",
       "      <td>6</td>\n",
       "      <td>1</td>\n",
       "      <td>17</td>\n",
       "      <td>4</td>\n",
       "      <td>125</td>\n",
       "      <td>1</td>\n",
       "      <td>4</td>\n",
       "      <td>HONDA CBR125R</td>\n",
       "      <td>1</td>\n",
       "      <td>1</td>\n",
       "      <td>1</td>\n",
       "      <td>1</td>\n",
       "      <td>1</td>\n",
       "      <td>17</td>\n",
       "      <td>4</td>\n",
       "      <td>2</td>\n",
       "      <td>0</td>\n",
       "      <td>0</td>\n",
       "      <td>0</td>\n",
       "      <td>0</td>\n",
       "      <td>0</td>\n",
       "      <td>3</td>\n",
       "      <td>1</td>\n",
       "      <td>1</td>\n",
       "    </tr>\n",
       "    <tr>\n",
       "      <th>2</th>\n",
       "      <td>2020010278558</td>\n",
       "      <td>2020</td>\n",
       "      <td>010278558</td>\n",
       "      <td>534296.0</td>\n",
       "      <td>179438.0</td>\n",
       "      <td>-0.066682</td>\n",
       "      <td>51.497938</td>\n",
       "      <td>1</td>\n",
       "      <td>3</td>\n",
       "      <td>2</td>\n",
       "      <td>1</td>\n",
       "      <td>09/11/2020</td>\n",
       "      <td>2</td>\n",
       "      <td>19:31</td>\n",
       "      <td>8</td>\n",
       "      <td>E09000028</td>\n",
       "      <td>E09000028</td>\n",
       "      <td>3</td>\n",
       "      <td>200</td>\n",
       "      <td>2</td>\n",
       "      <td>20</td>\n",
       "      <td>3</td>\n",
       "      <td>2</td>\n",
       "      <td>5</td>\n",
       "      <td>0</td>\n",
       "      <td>0</td>\n",
       "      <td>5</td>\n",
       "      <td>4</td>\n",
       "      <td>1</td>\n",
       "      <td>2</td>\n",
       "      <td>0</td>\n",
       "      <td>0</td>\n",
       "      <td>1</td>\n",
       "      <td>1</td>\n",
       "      <td>2</td>\n",
       "      <td>E01004022</td>\n",
       "      <td>1</td>\n",
       "      <td>3</td>\n",
       "      <td>0</td>\n",
       "      <td>15</td>\n",
       "      <td>3</td>\n",
       "      <td>7</td>\n",
       "      <td>0</td>\n",
       "      <td>2</td>\n",
       "      <td>0</td>\n",
       "      <td>0</td>\n",
       "      <td>0</td>\n",
       "      <td>0</td>\n",
       "      <td>2</td>\n",
       "      <td>1</td>\n",
       "      <td>1</td>\n",
       "      <td>1</td>\n",
       "      <td>45</td>\n",
       "      <td>7</td>\n",
       "      <td>125</td>\n",
       "      <td>1</td>\n",
       "      <td>0</td>\n",
       "      <td>YAMAHA GPD 125</td>\n",
       "      <td>3</td>\n",
       "      <td>1</td>\n",
       "      <td>1</td>\n",
       "      <td>1</td>\n",
       "      <td>1</td>\n",
       "      <td>45</td>\n",
       "      <td>7</td>\n",
       "      <td>3</td>\n",
       "      <td>0</td>\n",
       "      <td>0</td>\n",
       "      <td>0</td>\n",
       "      <td>0</td>\n",
       "      <td>0</td>\n",
       "      <td>3</td>\n",
       "      <td>1</td>\n",
       "      <td>3</td>\n",
       "    </tr>\n",
       "    <tr>\n",
       "      <th>3</th>\n",
       "      <td>2020010278559</td>\n",
       "      <td>2020</td>\n",
       "      <td>010278559</td>\n",
       "      <td>530354.0</td>\n",
       "      <td>172580.0</td>\n",
       "      <td>-0.125965</td>\n",
       "      <td>51.437228</td>\n",
       "      <td>1</td>\n",
       "      <td>3</td>\n",
       "      <td>2</td>\n",
       "      <td>1</td>\n",
       "      <td>09/11/2020</td>\n",
       "      <td>2</td>\n",
       "      <td>19:13</td>\n",
       "      <td>9</td>\n",
       "      <td>E09000022</td>\n",
       "      <td>E09000022</td>\n",
       "      <td>5</td>\n",
       "      <td>0</td>\n",
       "      <td>6</td>\n",
       "      <td>30</td>\n",
       "      <td>0</td>\n",
       "      <td>-1</td>\n",
       "      <td>6</td>\n",
       "      <td>0</td>\n",
       "      <td>0</td>\n",
       "      <td>5</td>\n",
       "      <td>4</td>\n",
       "      <td>1</td>\n",
       "      <td>2</td>\n",
       "      <td>0</td>\n",
       "      <td>0</td>\n",
       "      <td>1</td>\n",
       "      <td>1</td>\n",
       "      <td>2</td>\n",
       "      <td>E01003151</td>\n",
       "      <td>1</td>\n",
       "      <td>3</td>\n",
       "      <td>0</td>\n",
       "      <td>18</td>\n",
       "      <td>4</td>\n",
       "      <td>8</td>\n",
       "      <td>0</td>\n",
       "      <td>0</td>\n",
       "      <td>0</td>\n",
       "      <td>0</td>\n",
       "      <td>0</td>\n",
       "      <td>0</td>\n",
       "      <td>4</td>\n",
       "      <td>1</td>\n",
       "      <td>6</td>\n",
       "      <td>1</td>\n",
       "      <td>45</td>\n",
       "      <td>7</td>\n",
       "      <td>124</td>\n",
       "      <td>1</td>\n",
       "      <td>7</td>\n",
       "      <td>-1</td>\n",
       "      <td>6</td>\n",
       "      <td>1</td>\n",
       "      <td>1</td>\n",
       "      <td>1</td>\n",
       "      <td>1</td>\n",
       "      <td>45</td>\n",
       "      <td>7</td>\n",
       "      <td>3</td>\n",
       "      <td>0</td>\n",
       "      <td>0</td>\n",
       "      <td>0</td>\n",
       "      <td>0</td>\n",
       "      <td>0</td>\n",
       "      <td>3</td>\n",
       "      <td>1</td>\n",
       "      <td>6</td>\n",
       "    </tr>\n",
       "    <tr>\n",
       "      <th>4</th>\n",
       "      <td>2020010278561</td>\n",
       "      <td>2020</td>\n",
       "      <td>010278561</td>\n",
       "      <td>534946.0</td>\n",
       "      <td>184874.0</td>\n",
       "      <td>-0.055243</td>\n",
       "      <td>51.546633</td>\n",
       "      <td>1</td>\n",
       "      <td>2</td>\n",
       "      <td>1</td>\n",
       "      <td>1</td>\n",
       "      <td>09/11/2020</td>\n",
       "      <td>2</td>\n",
       "      <td>18:03</td>\n",
       "      <td>4</td>\n",
       "      <td>E09000012</td>\n",
       "      <td>E09000012</td>\n",
       "      <td>6</td>\n",
       "      <td>0</td>\n",
       "      <td>6</td>\n",
       "      <td>20</td>\n",
       "      <td>3</td>\n",
       "      <td>2</td>\n",
       "      <td>6</td>\n",
       "      <td>0</td>\n",
       "      <td>0</td>\n",
       "      <td>5</td>\n",
       "      <td>4</td>\n",
       "      <td>8</td>\n",
       "      <td>2</td>\n",
       "      <td>0</td>\n",
       "      <td>0</td>\n",
       "      <td>1</td>\n",
       "      <td>1</td>\n",
       "      <td>2</td>\n",
       "      <td>E01001762</td>\n",
       "      <td>1</td>\n",
       "      <td>11</td>\n",
       "      <td>0</td>\n",
       "      <td>7</td>\n",
       "      <td>5</td>\n",
       "      <td>7</td>\n",
       "      <td>0</td>\n",
       "      <td>2</td>\n",
       "      <td>0</td>\n",
       "      <td>0</td>\n",
       "      <td>0</td>\n",
       "      <td>0</td>\n",
       "      <td>4</td>\n",
       "      <td>1</td>\n",
       "      <td>1</td>\n",
       "      <td>1</td>\n",
       "      <td>52</td>\n",
       "      <td>8</td>\n",
       "      <td>6700</td>\n",
       "      <td>2</td>\n",
       "      <td>2</td>\n",
       "      <td>ALEXANDER DENNIS MODEL MISSING</td>\n",
       "      <td>3</td>\n",
       "      <td>1</td>\n",
       "      <td>1</td>\n",
       "      <td>3</td>\n",
       "      <td>1</td>\n",
       "      <td>42</td>\n",
       "      <td>7</td>\n",
       "      <td>2</td>\n",
       "      <td>1</td>\n",
       "      <td>1</td>\n",
       "      <td>0</td>\n",
       "      <td>0</td>\n",
       "      <td>0</td>\n",
       "      <td>0</td>\n",
       "      <td>1</td>\n",
       "      <td>2</td>\n",
       "    </tr>\n",
       "  </tbody>\n",
       "</table>\n",
       "</div>"
      ],
      "text/plain": [
       "  accident_index  accident_year accident_reference  location_easting_osgr  \\\n",
       "0  2020010278554           2020          010278554               531639.0   \n",
       "1  2020010278556           2020          010278556               528687.0   \n",
       "2  2020010278558           2020          010278558               534296.0   \n",
       "3  2020010278559           2020          010278559               530354.0   \n",
       "4  2020010278561           2020          010278561               534946.0   \n",
       "\n",
       "   location_northing_osgr  longitude   latitude  police_force  \\\n",
       "0                168889.0  -0.108858  51.403761             1   \n",
       "1                184702.0  -0.145519  51.546549             1   \n",
       "2                179438.0  -0.066682  51.497938             1   \n",
       "3                172580.0  -0.125965  51.437228             1   \n",
       "4                184874.0  -0.055243  51.546633             1   \n",
       "\n",
       "   accident_severity  number_of_vehicles  number_of_casualties        date  \\\n",
       "0                  2                   2                     1  09/11/2020   \n",
       "1                  2                   2                     1  04/11/2020   \n",
       "2                  3                   2                     1  09/11/2020   \n",
       "3                  3                   2                     1  09/11/2020   \n",
       "4                  2                   1                     1  09/11/2020   \n",
       "\n",
       "   day_of_week   time  local_authority_district local_authority_ons_district  \\\n",
       "0            2  20:20                        20                    E09000008   \n",
       "1            4  11:50                         2                    E09000007   \n",
       "2            2  19:31                         8                    E09000028   \n",
       "3            2  19:13                         9                    E09000022   \n",
       "4            2  18:03                         4                    E09000012   \n",
       "\n",
       "  local_authority_highway  first_road_class  first_road_number  road_type  \\\n",
       "0               E09000008                 5                  0          6   \n",
       "1               E09000007                 5                  0          6   \n",
       "2               E09000028                 3                200          2   \n",
       "3               E09000022                 5                  0          6   \n",
       "4               E09000012                 6                  0          6   \n",
       "\n",
       "   speed_limit  junction_detail  junction_control  second_road_class  \\\n",
       "0           20                0                -1                  6   \n",
       "1           30                3                 4                  6   \n",
       "2           20                3                 2                  5   \n",
       "3           30                0                -1                  6   \n",
       "4           20                3                 2                  6   \n",
       "\n",
       "   second_road_number  pedestrian_crossing_human_control  \\\n",
       "0                   0                                  0   \n",
       "1                   0                                  9   \n",
       "2                   0                                  0   \n",
       "3                   0                                  0   \n",
       "4                   0                                  0   \n",
       "\n",
       "   pedestrian_crossing_physical_facilities  light_conditions  \\\n",
       "0                                        0                 4   \n",
       "1                                        9                 1   \n",
       "2                                        5                 4   \n",
       "3                                        5                 4   \n",
       "4                                        5                 4   \n",
       "\n",
       "   weather_conditions  road_surface_conditions  special_conditions_at_site  \\\n",
       "0                   1                        2                           0   \n",
       "1                   1                        9                           0   \n",
       "2                   1                        2                           0   \n",
       "3                   1                        2                           0   \n",
       "4                   8                        2                           0   \n",
       "\n",
       "   carriageway_hazards  urban_or_rural_area  \\\n",
       "0                    0                    1   \n",
       "1                    0                    1   \n",
       "2                    0                    1   \n",
       "3                    0                    1   \n",
       "4                    0                    1   \n",
       "\n",
       "   did_police_officer_attend_scene_of_accident  trunk_road_flag  \\\n",
       "0                                            1                2   \n",
       "1                                            3                2   \n",
       "2                                            1                2   \n",
       "3                                            1                2   \n",
       "4                                            1                2   \n",
       "\n",
       "  lsoa_of_accident_location  vehicle_reference  vehicle_type  \\\n",
       "0                 E01000994                  2             3   \n",
       "1                 E01000927                  1             3   \n",
       "2                 E01004022                  1             3   \n",
       "3                 E01003151                  1             3   \n",
       "4                 E01001762                  1            11   \n",
       "\n",
       "   towing_and_articulation  vehicle_manoeuvre  vehicle_direction_from  \\\n",
       "0                        0                  6                       7   \n",
       "1                        0                 99                       9   \n",
       "2                        0                 15                       3   \n",
       "3                        0                 18                       4   \n",
       "4                        0                  7                       5   \n",
       "\n",
       "   vehicle_direction_to  vehicle_location_restricted_lane  junction_location  \\\n",
       "0                     7                                 0                  0   \n",
       "1                     9                                99                  9   \n",
       "2                     7                                 0                  2   \n",
       "3                     8                                 0                  0   \n",
       "4                     7                                 0                  2   \n",
       "\n",
       "   skidding_and_overturning  hit_object_in_carriageway  \\\n",
       "0                         0                          0   \n",
       "1                         9                         99   \n",
       "2                         0                          0   \n",
       "3                         0                          0   \n",
       "4                         0                          0   \n",
       "\n",
       "   vehicle_leaving_carriageway  hit_object_off_carriageway  \\\n",
       "0                            0                           0   \n",
       "1                            9                          99   \n",
       "2                            0                           0   \n",
       "3                            0                           0   \n",
       "4                            0                           0   \n",
       "\n",
       "   first_point_of_impact  vehicle_left_hand_drive  journey_purpose_of_driver  \\\n",
       "0                      3                        1                          6   \n",
       "1                      9                        1                          6   \n",
       "2                      2                        1                          1   \n",
       "3                      4                        1                          6   \n",
       "4                      4                        1                          1   \n",
       "\n",
       "   sex_of_driver  age_of_driver  age_band_of_driver  engine_capacity_cc  \\\n",
       "0              1             23                   5                 113   \n",
       "1              1             17                   4                 125   \n",
       "2              1             45                   7                 125   \n",
       "3              1             45                   7                 124   \n",
       "4              1             52                   8                6700   \n",
       "\n",
       "   propulsion_code  age_of_vehicle              generic_make_model  \\\n",
       "0                1               4                   SUZUKI UK 110   \n",
       "1                1               4                   HONDA CBR125R   \n",
       "2                1               0                  YAMAHA GPD 125   \n",
       "3                1               7                              -1   \n",
       "4                2               2  ALEXANDER DENNIS MODEL MISSING   \n",
       "\n",
       "   driver_imd_decile  driver_home_area_type  casualty_reference  \\\n",
       "0                 -1                     -1                   1   \n",
       "1                  1                      1                   1   \n",
       "2                  3                      1                   1   \n",
       "3                  6                      1                   1   \n",
       "4                  3                      1                   1   \n",
       "\n",
       "   casualty_class  sex_of_casualty  age_of_casualty  age_band_of_casualty  \\\n",
       "0               1                1               23                     5   \n",
       "1               1                1               17                     4   \n",
       "2               1                1               45                     7   \n",
       "3               1                1               45                     7   \n",
       "4               3                1               42                     7   \n",
       "\n",
       "   casualty_severity  pedestrian_location  pedestrian_movement  car_passenger  \\\n",
       "0                  2                    0                    0              0   \n",
       "1                  2                    0                    0              0   \n",
       "2                  3                    0                    0              0   \n",
       "3                  3                    0                    0              0   \n",
       "4                  2                    1                    1              0   \n",
       "\n",
       "   bus_or_coach_passenger  pedestrian_road_maintenance_worker  casualty_type  \\\n",
       "0                       0                                   0              3   \n",
       "1                       0                                   0              3   \n",
       "2                       0                                   0              3   \n",
       "3                       0                                   0              3   \n",
       "4                       0                                   0              0   \n",
       "\n",
       "   casualty_home_area_type  casualty_imd_decile  \n",
       "0                       -1                   -1  \n",
       "1                        1                    1  \n",
       "2                        1                    3  \n",
       "3                        1                    6  \n",
       "4                        1                    2  "
      ]
     },
     "execution_count": 49,
     "metadata": {},
     "output_type": "execute_result"
    }
   ],
   "source": [
    "#Visualizamos la cabecera del nuestro dataframe\n",
    "df_traffic_accidents.head()"
   ]
  },
  {
   "cell_type": "code",
   "execution_count": 50,
   "id": "aa9c501e",
   "metadata": {},
   "outputs": [
    {
     "data": {
      "text/plain": [
       "Index(['accident_index', 'accident_year', 'accident_reference',\n",
       "       'location_easting_osgr', 'location_northing_osgr', 'longitude',\n",
       "       'latitude', 'police_force', 'accident_severity', 'number_of_vehicles',\n",
       "       'number_of_casualties', 'date', 'day_of_week', 'time',\n",
       "       'local_authority_district', 'local_authority_ons_district',\n",
       "       'local_authority_highway', 'first_road_class', 'first_road_number',\n",
       "       'road_type', 'speed_limit', 'junction_detail', 'junction_control',\n",
       "       'second_road_class', 'second_road_number',\n",
       "       'pedestrian_crossing_human_control',\n",
       "       'pedestrian_crossing_physical_facilities', 'light_conditions',\n",
       "       'weather_conditions', 'road_surface_conditions',\n",
       "       'special_conditions_at_site', 'carriageway_hazards',\n",
       "       'urban_or_rural_area', 'did_police_officer_attend_scene_of_accident',\n",
       "       'trunk_road_flag', 'lsoa_of_accident_location', 'vehicle_reference',\n",
       "       'vehicle_type', 'towing_and_articulation', 'vehicle_manoeuvre',\n",
       "       'vehicle_direction_from', 'vehicle_direction_to',\n",
       "       'vehicle_location_restricted_lane', 'junction_location',\n",
       "       'skidding_and_overturning', 'hit_object_in_carriageway',\n",
       "       'vehicle_leaving_carriageway', 'hit_object_off_carriageway',\n",
       "       'first_point_of_impact', 'vehicle_left_hand_drive',\n",
       "       'journey_purpose_of_driver', 'sex_of_driver', 'age_of_driver',\n",
       "       'age_band_of_driver', 'engine_capacity_cc', 'propulsion_code',\n",
       "       'age_of_vehicle', 'generic_make_model', 'driver_imd_decile',\n",
       "       'driver_home_area_type', 'casualty_reference', 'casualty_class',\n",
       "       'sex_of_casualty', 'age_of_casualty', 'age_band_of_casualty',\n",
       "       'casualty_severity', 'pedestrian_location', 'pedestrian_movement',\n",
       "       'car_passenger', 'bus_or_coach_passenger',\n",
       "       'pedestrian_road_maintenance_worker', 'casualty_type',\n",
       "       'casualty_home_area_type', 'casualty_imd_decile'],\n",
       "      dtype='object')"
      ]
     },
     "execution_count": 50,
     "metadata": {},
     "output_type": "execute_result"
    }
   ],
   "source": [
    "# Dataset columns\n",
    "df_traffic_accidents.columns"
   ]
  },
  {
   "cell_type": "markdown",
   "id": "8bd50836",
   "metadata": {},
   "source": [
    "> El conjunto de datos contiene varias columnas numéricas y categóricas que proporcionan información variada sobre los datos de accidentes\n",
    "de seguridad vial sobre las circunstancias de los accidentes de tráfico con lesiones personales en Gran Bretaña desde 1979, los tipos de vehículos implicados y las víctimas resultantes. Las estadísticas se refieren únicamente a los accidentes con lesiones personales en la vía pública que se notifican a la policía, y que posteriormente se registran. "
   ]
  },
  {
   "cell_type": "code",
   "execution_count": 51,
   "id": "c3a55d95",
   "metadata": {},
   "outputs": [
    {
     "data": {
      "text/plain": [
       "{int64: ['accident_year', 'police_force', 'accident_severity', 'number_of_vehicles', 'number_of_casualties', 'day_of_week', 'local_authority_district', 'first_road_class', 'first_road_number', 'road_type', 'speed_limit', 'junction_detail', 'junction_control', 'second_road_class', 'second_road_number', 'pedestrian_crossing_human_control', 'pedestrian_crossing_physical_facilities', 'light_conditions', 'weather_conditions', 'road_surface_conditions', 'special_conditions_at_site', 'carriageway_hazards', 'urban_or_rural_area', 'did_police_officer_attend_scene_of_accident', 'trunk_road_flag', 'vehicle_reference', 'vehicle_type', 'towing_and_articulation', 'vehicle_manoeuvre', 'vehicle_direction_from', 'vehicle_direction_to', 'vehicle_location_restricted_lane', 'junction_location', 'skidding_and_overturning', 'hit_object_in_carriageway', 'vehicle_leaving_carriageway', 'hit_object_off_carriageway', 'first_point_of_impact', 'vehicle_left_hand_drive', 'journey_purpose_of_driver', 'sex_of_driver', 'age_of_driver', 'age_band_of_driver', 'engine_capacity_cc', 'propulsion_code', 'age_of_vehicle', 'driver_imd_decile', 'driver_home_area_type', 'casualty_reference', 'casualty_class', 'sex_of_casualty', 'age_of_casualty', 'age_band_of_casualty', 'casualty_severity', 'pedestrian_location', 'pedestrian_movement', 'car_passenger', 'bus_or_coach_passenger', 'pedestrian_road_maintenance_worker', 'casualty_type', 'casualty_home_area_type', 'casualty_imd_decile'], float64: ['location_easting_osgr', 'location_northing_osgr', 'longitude', 'latitude'], object: ['accident_index', 'accident_reference', 'date', 'time', 'local_authority_ons_district', 'local_authority_highway', 'lsoa_of_accident_location', 'generic_make_model']}"
      ]
     },
     "execution_count": 51,
     "metadata": {},
     "output_type": "execute_result"
    }
   ],
   "source": [
    "# desglosemos las columnas por su tipo (es decir, int64, float64, object)\n",
    "df_traffic_accidents.columns.to_series().groupby(df_traffic_accidents.dtypes).groups"
   ]
  },
  {
   "cell_type": "markdown",
   "id": "2de2e135",
   "metadata": {},
   "source": [
    "> Seguimos filtrando nuestros datos, para ello, eliminamos y agrupamos aquellos que nos interesan "
   ]
  },
  {
   "cell_type": "code",
   "execution_count": 52,
   "id": "fe12d3f2",
   "metadata": {},
   "outputs": [
    {
     "data": {
      "text/plain": [
       "[2, 3, 1]"
      ]
     },
     "execution_count": 52,
     "metadata": {},
     "output_type": "execute_result"
    }
   ],
   "source": [
    "df_traffic_accidents['accident_severity'].unique().tolist()"
   ]
  },
  {
   "cell_type": "code",
   "execution_count": 53,
   "id": "330289fa",
   "metadata": {},
   "outputs": [],
   "source": [
    "#Eliminamos columnas \n",
    "df_traffic_accidents.drop(df_traffic_accidents.columns.difference(['accident_index','accident_referene','accident_severity','number_of_vehicles',\n",
    "                                                                  'number_of_casualties','date','day_of_week','time', \n",
    "                                                                    'did_police_officer_attend_scene_of_accident','sex_of_driver',\n",
    "                                                                  'age_of_driver','age_of_vehicle','generic_make_model',\n",
    "                                                                  'sex_of_casualty','age_of_casualty','casualty_severity',\n",
    "                                                                   'car_passenger']), 1, inplace=True)"
   ]
  },
  {
   "cell_type": "code",
   "execution_count": 54,
   "id": "7a5659c9",
   "metadata": {},
   "outputs": [
    {
     "data": {
      "text/plain": [
       "{int64: ['accident_severity', 'number_of_vehicles', 'number_of_casualties', 'day_of_week', 'did_police_officer_attend_scene_of_accident', 'sex_of_driver', 'age_of_driver', 'age_of_vehicle', 'sex_of_casualty', 'age_of_casualty', 'casualty_severity', 'car_passenger'], object: ['accident_index', 'date', 'time', 'generic_make_model']}"
      ]
     },
     "execution_count": 54,
     "metadata": {},
     "output_type": "execute_result"
    }
   ],
   "source": [
    "#Comprobamos de nuevo nuestro dataframe y sus columnas por tipo de dato\n",
    "df_traffic_accidents.columns.to_series().groupby(df_traffic_accidents.dtypes).groups"
   ]
  },
  {
   "cell_type": "markdown",
   "id": "122317f9",
   "metadata": {},
   "source": [
    "> Se han reducido considerablemente el número de columnas"
   ]
  },
  {
   "cell_type": "code",
   "execution_count": 55,
   "id": "31c4ac15",
   "metadata": {},
   "outputs": [
    {
     "name": "stdout",
     "output_type": "stream",
     "text": [
      "<class 'pandas.core.frame.DataFrame'>\n",
      "Int64Index: 92450 entries, 0 to 92449\n",
      "Data columns (total 16 columns):\n",
      " #   Column                                       Non-Null Count  Dtype \n",
      "---  ------                                       --------------  ----- \n",
      " 0   accident_index                               92450 non-null  object\n",
      " 1   accident_severity                            92450 non-null  int64 \n",
      " 2   number_of_vehicles                           92450 non-null  int64 \n",
      " 3   number_of_casualties                         92450 non-null  int64 \n",
      " 4   date                                         92450 non-null  object\n",
      " 5   day_of_week                                  92450 non-null  int64 \n",
      " 6   time                                         92450 non-null  object\n",
      " 7   did_police_officer_attend_scene_of_accident  92450 non-null  int64 \n",
      " 8   sex_of_driver                                92450 non-null  int64 \n",
      " 9   age_of_driver                                92450 non-null  int64 \n",
      " 10  age_of_vehicle                               92450 non-null  int64 \n",
      " 11  generic_make_model                           92450 non-null  object\n",
      " 12  sex_of_casualty                              92450 non-null  int64 \n",
      " 13  age_of_casualty                              92450 non-null  int64 \n",
      " 14  casualty_severity                            92450 non-null  int64 \n",
      " 15  car_passenger                                92450 non-null  int64 \n",
      "dtypes: int64(12), object(4)\n",
      "memory usage: 12.0+ MB\n"
     ]
    }
   ],
   "source": [
    "# Columnas de tipos de datos y valores perdidos\n",
    "df_traffic_accidents.info()"
   ]
  },
  {
   "cell_type": "markdown",
   "id": "7b628a96",
   "metadata": {},
   "source": [
    "> Los datos proporcionados no tienen valores perdidos. En este tipo de análisis es poco problable que los datos de los accidentes presenten una gran proporción de valores perdidos, ya que los departamentos de policía o similiar a la DGT en Gran Bretaña suelen almacenar todos los datos archivados en excel, papel o similar. La pérdida de información es nula."
   ]
  },
  {
   "cell_type": "markdown",
   "id": "491d1b5b",
   "metadata": {},
   "source": [
    "#### Numerical features overview"
   ]
  },
  {
   "cell_type": "code",
   "execution_count": 56,
   "id": "a077a538",
   "metadata": {},
   "outputs": [
    {
     "data": {
      "text/html": [
       "<div>\n",
       "<style scoped>\n",
       "    .dataframe tbody tr th:only-of-type {\n",
       "        vertical-align: middle;\n",
       "    }\n",
       "\n",
       "    .dataframe tbody tr th {\n",
       "        vertical-align: top;\n",
       "    }\n",
       "\n",
       "    .dataframe thead th {\n",
       "        text-align: right;\n",
       "    }\n",
       "</style>\n",
       "<table border=\"1\" class=\"dataframe\">\n",
       "  <thead>\n",
       "    <tr style=\"text-align: right;\">\n",
       "      <th></th>\n",
       "      <th>accident_severity</th>\n",
       "      <th>number_of_vehicles</th>\n",
       "      <th>number_of_casualties</th>\n",
       "      <th>day_of_week</th>\n",
       "      <th>did_police_officer_attend_scene_of_accident</th>\n",
       "      <th>sex_of_driver</th>\n",
       "      <th>age_of_driver</th>\n",
       "      <th>age_of_vehicle</th>\n",
       "      <th>sex_of_casualty</th>\n",
       "      <th>age_of_casualty</th>\n",
       "      <th>casualty_severity</th>\n",
       "      <th>car_passenger</th>\n",
       "    </tr>\n",
       "  </thead>\n",
       "  <tbody>\n",
       "    <tr>\n",
       "      <th>count</th>\n",
       "      <td>92450.000000</td>\n",
       "      <td>92450.000000</td>\n",
       "      <td>92450.000000</td>\n",
       "      <td>92450.000000</td>\n",
       "      <td>92450.000000</td>\n",
       "      <td>92450.000000</td>\n",
       "      <td>92450.000000</td>\n",
       "      <td>92450.000000</td>\n",
       "      <td>92450.000000</td>\n",
       "      <td>92450.000000</td>\n",
       "      <td>92450.000000</td>\n",
       "      <td>92450.000000</td>\n",
       "    </tr>\n",
       "    <tr>\n",
       "      <th>mean</th>\n",
       "      <td>2.733196</td>\n",
       "      <td>1.914797</td>\n",
       "      <td>1.688956</td>\n",
       "      <td>4.121763</td>\n",
       "      <td>1.299557</td>\n",
       "      <td>1.359145</td>\n",
       "      <td>38.249811</td>\n",
       "      <td>6.226652</td>\n",
       "      <td>1.377307</td>\n",
       "      <td>37.012385</td>\n",
       "      <td>2.789919</td>\n",
       "      <td>0.230211</td>\n",
       "    </tr>\n",
       "    <tr>\n",
       "      <th>std</th>\n",
       "      <td>0.487699</td>\n",
       "      <td>0.753750</td>\n",
       "      <td>1.422487</td>\n",
       "      <td>1.950286</td>\n",
       "      <td>0.517392</td>\n",
       "      <td>0.531522</td>\n",
       "      <td>18.512320</td>\n",
       "      <td>6.563575</td>\n",
       "      <td>0.499984</td>\n",
       "      <td>19.382243</td>\n",
       "      <td>0.440414</td>\n",
       "      <td>0.571656</td>\n",
       "    </tr>\n",
       "    <tr>\n",
       "      <th>min</th>\n",
       "      <td>1.000000</td>\n",
       "      <td>1.000000</td>\n",
       "      <td>1.000000</td>\n",
       "      <td>1.000000</td>\n",
       "      <td>-1.000000</td>\n",
       "      <td>1.000000</td>\n",
       "      <td>-1.000000</td>\n",
       "      <td>-1.000000</td>\n",
       "      <td>-1.000000</td>\n",
       "      <td>-1.000000</td>\n",
       "      <td>1.000000</td>\n",
       "      <td>-1.000000</td>\n",
       "    </tr>\n",
       "    <tr>\n",
       "      <th>25%</th>\n",
       "      <td>3.000000</td>\n",
       "      <td>1.000000</td>\n",
       "      <td>1.000000</td>\n",
       "      <td>2.000000</td>\n",
       "      <td>1.000000</td>\n",
       "      <td>1.000000</td>\n",
       "      <td>25.000000</td>\n",
       "      <td>0.000000</td>\n",
       "      <td>1.000000</td>\n",
       "      <td>22.000000</td>\n",
       "      <td>3.000000</td>\n",
       "      <td>0.000000</td>\n",
       "    </tr>\n",
       "    <tr>\n",
       "      <th>50%</th>\n",
       "      <td>3.000000</td>\n",
       "      <td>2.000000</td>\n",
       "      <td>1.000000</td>\n",
       "      <td>4.000000</td>\n",
       "      <td>1.000000</td>\n",
       "      <td>1.000000</td>\n",
       "      <td>36.000000</td>\n",
       "      <td>5.000000</td>\n",
       "      <td>1.000000</td>\n",
       "      <td>34.000000</td>\n",
       "      <td>3.000000</td>\n",
       "      <td>0.000000</td>\n",
       "    </tr>\n",
       "    <tr>\n",
       "      <th>75%</th>\n",
       "      <td>3.000000</td>\n",
       "      <td>2.000000</td>\n",
       "      <td>2.000000</td>\n",
       "      <td>6.000000</td>\n",
       "      <td>2.000000</td>\n",
       "      <td>2.000000</td>\n",
       "      <td>51.000000</td>\n",
       "      <td>11.000000</td>\n",
       "      <td>2.000000</td>\n",
       "      <td>51.000000</td>\n",
       "      <td>3.000000</td>\n",
       "      <td>0.000000</td>\n",
       "    </tr>\n",
       "    <tr>\n",
       "      <th>max</th>\n",
       "      <td>3.000000</td>\n",
       "      <td>13.000000</td>\n",
       "      <td>41.000000</td>\n",
       "      <td>7.000000</td>\n",
       "      <td>3.000000</td>\n",
       "      <td>3.000000</td>\n",
       "      <td>99.000000</td>\n",
       "      <td>96.000000</td>\n",
       "      <td>9.000000</td>\n",
       "      <td>99.000000</td>\n",
       "      <td>3.000000</td>\n",
       "      <td>9.000000</td>\n",
       "    </tr>\n",
       "  </tbody>\n",
       "</table>\n",
       "</div>"
      ],
      "text/plain": [
       "       accident_severity  number_of_vehicles  number_of_casualties  \\\n",
       "count       92450.000000        92450.000000          92450.000000   \n",
       "mean            2.733196            1.914797              1.688956   \n",
       "std             0.487699            0.753750              1.422487   \n",
       "min             1.000000            1.000000              1.000000   \n",
       "25%             3.000000            1.000000              1.000000   \n",
       "50%             3.000000            2.000000              1.000000   \n",
       "75%             3.000000            2.000000              2.000000   \n",
       "max             3.000000           13.000000             41.000000   \n",
       "\n",
       "        day_of_week  did_police_officer_attend_scene_of_accident  \\\n",
       "count  92450.000000                                 92450.000000   \n",
       "mean       4.121763                                     1.299557   \n",
       "std        1.950286                                     0.517392   \n",
       "min        1.000000                                    -1.000000   \n",
       "25%        2.000000                                     1.000000   \n",
       "50%        4.000000                                     1.000000   \n",
       "75%        6.000000                                     2.000000   \n",
       "max        7.000000                                     3.000000   \n",
       "\n",
       "       sex_of_driver  age_of_driver  age_of_vehicle  sex_of_casualty  \\\n",
       "count   92450.000000   92450.000000    92450.000000     92450.000000   \n",
       "mean        1.359145      38.249811        6.226652         1.377307   \n",
       "std         0.531522      18.512320        6.563575         0.499984   \n",
       "min         1.000000      -1.000000       -1.000000        -1.000000   \n",
       "25%         1.000000      25.000000        0.000000         1.000000   \n",
       "50%         1.000000      36.000000        5.000000         1.000000   \n",
       "75%         2.000000      51.000000       11.000000         2.000000   \n",
       "max         3.000000      99.000000       96.000000         9.000000   \n",
       "\n",
       "       age_of_casualty  casualty_severity  car_passenger  \n",
       "count     92450.000000       92450.000000   92450.000000  \n",
       "mean         37.012385           2.789919       0.230211  \n",
       "std          19.382243           0.440414       0.571656  \n",
       "min          -1.000000           1.000000      -1.000000  \n",
       "25%          22.000000           3.000000       0.000000  \n",
       "50%          34.000000           3.000000       0.000000  \n",
       "75%          51.000000           3.000000       0.000000  \n",
       "max          99.000000           3.000000       9.000000  "
      ]
     },
     "execution_count": 56,
     "metadata": {},
     "output_type": "execute_result"
    }
   ],
   "source": [
    "df_traffic_accidents.describe()"
   ]
  },
  {
   "cell_type": "code",
   "execution_count": 57,
   "id": "768d289f",
   "metadata": {},
   "outputs": [
    {
     "data": {
      "image/png": "[encoded data removed]",
      "text/plain": [
       "<Figure size 1440x1440 with 12 Axes>"
      ]
     },
     "metadata": {
      "needs_background": "light"
     },
     "output_type": "display_data"
    }
   ],
   "source": [
    "df_traffic_accidents.hist(figsize=(20,20))\n",
    "plt.show()"
   ]
  },
  {
   "cell_type": "markdown",
   "id": "078cd7e4",
   "metadata": {},
   "source": [
    "> Añadir aquí las observaciones sobre los histogramas"
   ]
  },
  {
   "cell_type": "markdown",
   "id": "da6b81c9",
   "metadata": {},
   "source": [
    "### Feature distribution by target attribute"
   ]
  },
  {
   "cell_type": "markdown",
   "id": "f916288f",
   "metadata": {},
   "source": [
    "#### Accident severity"
   ]
  },
  {
   "cell_type": "markdown",
   "id": "67711549",
   "metadata": {},
   "source": [
    "> Indica la gravedad del accidente de una escala del 1 al 3."
   ]
  },
  {
   "cell_type": "code",
   "execution_count": 58,
   "id": "e66adad5",
   "metadata": {},
   "outputs": [
    {
     "data": {
      "text/plain": [
       "3    69736\n",
       "2    20762\n",
       "1     1952\n",
       "Name: accident_severity, dtype: int64"
      ]
     },
     "execution_count": 58,
     "metadata": {},
     "output_type": "execute_result"
    }
   ],
   "source": [
    "df_traffic_accidents['accident_severity'].value_counts()"
   ]
  },
  {
   "cell_type": "markdown",
   "id": "66d8be48",
   "metadata": {},
   "source": [
    "#### Number of vehicles"
   ]
  },
  {
   "cell_type": "markdown",
   "id": "8253b516",
   "metadata": {},
   "source": [
    "> Indica el numero de vehiculos involucrados en el accidente. Rango (1,12)"
   ]
  },
  {
   "cell_type": "code",
   "execution_count": 59,
   "id": "cb284a14",
   "metadata": {},
   "outputs": [
    {
     "data": {
      "text/plain": [
       "2     57178\n",
       "1     23738\n",
       "3      8620\n",
       "4      2075\n",
       "5       511\n",
       "6       208\n",
       "7        53\n",
       "8        40\n",
       "10        9\n",
       "9         9\n",
       "11        6\n",
       "13        2\n",
       "12        1\n",
       "Name: number_of_vehicles, dtype: int64"
      ]
     },
     "execution_count": 59,
     "metadata": {},
     "output_type": "execute_result"
    }
   ],
   "source": [
    "df_traffic_accidents['number_of_vehicles'].value_counts()"
   ]
  },
  {
   "cell_type": "markdown",
   "id": "8147c9e5",
   "metadata": {},
   "source": [
    "#### Number of casualties"
   ]
  },
  {
   "cell_type": "markdown",
   "id": "194b354f",
   "metadata": {},
   "source": [
    "> Indica el numero de victimas involucrados en el accidente. Rango (1,19)"
   ]
  },
  {
   "cell_type": "code",
   "execution_count": 60,
   "id": "e0f7eb64",
   "metadata": {},
   "outputs": [
    {
     "data": {
      "text/plain": [
       "1     56941\n",
       "2     20672\n",
       "3      8409\n",
       "4      3692\n",
       "5      1510\n",
       "6       624\n",
       "7       287\n",
       "8        96\n",
       "9        54\n",
       "41       41\n",
       "11       33\n",
       "10       30\n",
       "19       19\n",
       "17       17\n",
       "13       13\n",
       "12       12\n",
       "Name: number_of_casualties, dtype: int64"
      ]
     },
     "execution_count": 60,
     "metadata": {},
     "output_type": "execute_result"
    }
   ],
   "source": [
    "df_traffic_accidents['number_of_casualties'].value_counts()"
   ]
  },
  {
   "cell_type": "markdown",
   "id": "fd7d7d9c",
   "metadata": {},
   "source": [
    "#### Day of week"
   ]
  },
  {
   "cell_type": "markdown",
   "id": "53cde987",
   "metadata": {},
   "source": [
    "> Indica el día de la semana. Formato: de lunes (1) a domingo (7)"
   ]
  },
  {
   "cell_type": "code",
   "execution_count": 61,
   "id": "5406798b",
   "metadata": {},
   "outputs": [
    {
     "data": {
      "text/plain": [
       "6    14951\n",
       "5    14096\n",
       "4    13534\n",
       "3    13180\n",
       "7    12942\n",
       "2    12854\n",
       "1    10893\n",
       "Name: day_of_week, dtype: int64"
      ]
     },
     "execution_count": 61,
     "metadata": {},
     "output_type": "execute_result"
    }
   ],
   "source": [
    "df_traffic_accidents['day_of_week'].value_counts()"
   ]
  },
  {
   "cell_type": "markdown",
   "id": "3cfea432",
   "metadata": {},
   "source": [
    "#### Police office attend"
   ]
  },
  {
   "cell_type": "markdown",
   "id": "358cf155",
   "metadata": {},
   "source": [
    "> Indica si hubo asistencia policial durante el rescate. Valores: 1, 2, 3 (varian en funcion del tiempo de llegada)"
   ]
  },
  {
   "cell_type": "code",
   "execution_count": 62,
   "id": "cda35b31",
   "metadata": {},
   "outputs": [
    {
     "data": {
      "text/plain": [
       " 1    67425\n",
       " 2    22352\n",
       " 3     2672\n",
       "-1        1\n",
       "Name: did_police_officer_attend_scene_of_accident, dtype: int64"
      ]
     },
     "execution_count": 62,
     "metadata": {},
     "output_type": "execute_result"
    }
   ],
   "source": [
    "df_traffic_accidents['did_police_officer_attend_scene_of_accident'].value_counts()"
   ]
  },
  {
   "cell_type": "markdown",
   "id": "ac44f0be",
   "metadata": {},
   "source": [
    "#### Sex of driver"
   ]
  },
  {
   "cell_type": "markdown",
   "id": "90e1035b",
   "metadata": {},
   "source": [
    "> Indica el sexo del conductor. Formato : 1 Hombre, 2 Mujer, 3 Otro."
   ]
  },
  {
   "cell_type": "code",
   "execution_count": 63,
   "id": "c3646277",
   "metadata": {},
   "outputs": [
    {
     "data": {
      "text/plain": [
       "1    61667\n",
       "2    28363\n",
       "3     2420\n",
       "Name: sex_of_driver, dtype: int64"
      ]
     },
     "execution_count": 63,
     "metadata": {},
     "output_type": "execute_result"
    }
   ],
   "source": [
    "# Sex of drivers\n",
    "df_traffic_accidents['sex_of_driver'].value_counts()"
   ]
  },
  {
   "cell_type": "markdown",
   "id": "a5aeb417",
   "metadata": {},
   "source": [
    "#### Age of driver"
   ]
  },
  {
   "cell_type": "markdown",
   "id": "b4a8fcf3",
   "metadata": {},
   "source": [
    "> Indica la edad del conductor."
   ]
  },
  {
   "cell_type": "code",
   "execution_count": 64,
   "id": "ec73f126",
   "metadata": {},
   "outputs": [
    {
     "data": {
      "text/plain": [
       "-1     3770\n",
       " 30    2620\n",
       " 19    2290\n",
       " 29    2228\n",
       " 25    2220\n",
       "       ... \n",
       " 94       5\n",
       " 99       3\n",
       " 3        2\n",
       " 98       2\n",
       " 97       1\n",
       "Name: age_of_driver, Length: 98, dtype: int64"
      ]
     },
     "execution_count": 64,
     "metadata": {},
     "output_type": "execute_result"
    }
   ],
   "source": [
    "# Age of drivers\n",
    "df_traffic_accidents['age_of_driver'].value_counts()"
   ]
  },
  {
   "cell_type": "markdown",
   "id": "3c964921",
   "metadata": {},
   "source": [
    "#### Age of vehicle"
   ]
  },
  {
   "cell_type": "markdown",
   "id": "2809191b",
   "metadata": {},
   "source": [
    "> Indica la edad del vehículo."
   ]
  },
  {
   "cell_type": "code",
   "execution_count": 65,
   "id": "0d905808",
   "metadata": {},
   "outputs": [
    {
     "data": {
      "text/plain": [
       "-1     22903\n",
       " 4      4814\n",
       " 1      4705\n",
       " 5      4692\n",
       " 6      4366\n",
       "       ...  \n",
       " 78        1\n",
       " 84        1\n",
       " 37        1\n",
       " 92        1\n",
       " 63        1\n",
       "Name: age_of_vehicle, Length: 70, dtype: int64"
      ]
     },
     "execution_count": 65,
     "metadata": {},
     "output_type": "execute_result"
    }
   ],
   "source": [
    "df_traffic_accidents['age_of_vehicle'].value_counts()"
   ]
  },
  {
   "cell_type": "markdown",
   "id": "1890cad3",
   "metadata": {},
   "source": [
    "#### Sex of casualty"
   ]
  },
  {
   "cell_type": "markdown",
   "id": "ec9e99a1",
   "metadata": {},
   "source": [
    "> Indica el sexo de la víctima."
   ]
  },
  {
   "cell_type": "code",
   "execution_count": 66,
   "id": "7fcc944b",
   "metadata": {},
   "outputs": [
    {
     "data": {
      "text/plain": [
       " 1    57048\n",
       " 2    35212\n",
       "-1      185\n",
       " 9        5\n",
       "Name: sex_of_casualty, dtype: int64"
      ]
     },
     "execution_count": 66,
     "metadata": {},
     "output_type": "execute_result"
    }
   ],
   "source": [
    "df_traffic_accidents['sex_of_casualty'].value_counts()"
   ]
  },
  {
   "cell_type": "markdown",
   "id": "cd3cc02c",
   "metadata": {},
   "source": [
    "#### Age of casualty"
   ]
  },
  {
   "cell_type": "markdown",
   "id": "2f20b35b",
   "metadata": {},
   "source": [
    "> Indica la edad de la victima."
   ]
  },
  {
   "cell_type": "code",
   "execution_count": 67,
   "id": "72b667af",
   "metadata": {},
   "outputs": [
    {
     "data": {
      "text/plain": [
       "19    2426\n",
       "30    2377\n",
       "20    2306\n",
       "18    2299\n",
       "22    2204\n",
       "      ... \n",
       "94      14\n",
       "96      11\n",
       "98       7\n",
       "99       2\n",
       "97       2\n",
       "Name: age_of_casualty, Length: 101, dtype: int64"
      ]
     },
     "execution_count": 67,
     "metadata": {},
     "output_type": "execute_result"
    }
   ],
   "source": [
    "df_traffic_accidents['age_of_casualty'].value_counts()"
   ]
  },
  {
   "cell_type": "markdown",
   "id": "c80e86a3",
   "metadata": {},
   "source": [
    "#### Casualty severity"
   ]
  },
  {
   "cell_type": "markdown",
   "id": "886ff2ae",
   "metadata": {},
   "source": [
    "> Indica el estado de la victima tras el accidente."
   ]
  },
  {
   "cell_type": "code",
   "execution_count": 68,
   "id": "87c8820a",
   "metadata": {},
   "outputs": [
    {
     "data": {
      "text/plain": [
       "3    74323\n",
       "2    16832\n",
       "1     1295\n",
       "Name: casualty_severity, dtype: int64"
      ]
     },
     "execution_count": 68,
     "metadata": {},
     "output_type": "execute_result"
    }
   ],
   "source": [
    "df_traffic_accidents['casualty_severity'].value_counts()"
   ]
  },
  {
   "cell_type": "markdown",
   "id": "8e67846c",
   "metadata": {},
   "source": [
    "#### Car passenger"
   ]
  },
  {
   "cell_type": "markdown",
   "id": "3abfb293",
   "metadata": {},
   "source": [
    "> Indica el número de pasajeros en el coche en el momento del accidente."
   ]
  },
  {
   "cell_type": "code",
   "execution_count": 69,
   "id": "8ae62270",
   "metadata": {},
   "outputs": [
    {
     "data": {
      "text/plain": [
       " 0    76258\n",
       " 1    10398\n",
       " 2     5453\n",
       "-1      309\n",
       " 9       32\n",
       "Name: car_passenger, dtype: int64"
      ]
     },
     "execution_count": 69,
     "metadata": {},
     "output_type": "execute_result"
    }
   ],
   "source": [
    "df_traffic_accidents['car_passenger'].value_counts()"
   ]
  },
  {
   "cell_type": "markdown",
   "id": "a9b0022d",
   "metadata": {},
   "source": [
    "#### Generic_make_model"
   ]
  },
  {
   "cell_type": "markdown",
   "id": "886f59cd",
   "metadata": {},
   "source": [
    "Marca y modelo del vehiculo"
   ]
  },
  {
   "cell_type": "code",
   "execution_count": 70,
   "id": "a866e1c2",
   "metadata": {
    "scrolled": true
   },
   "outputs": [
    {
     "data": {
      "text/plain": [
       "-1                  26272\n",
       "FORD FIESTA          3207\n",
       "VAUXHALL CORSA       2685\n",
       "VAUXHALL ASTRA       2217\n",
       "FORD FOCUS           2111\n",
       "                    ...  \n",
       "PORSCHE PANAMERA        2\n",
       "YAMAHA X-MAX            1\n",
       "BYD ENVIRO              1\n",
       "NISSAN E-NV200          1\n",
       "IVECO STRALIS           1\n",
       "Name: generic_make_model, Length: 691, dtype: int64"
      ]
     },
     "execution_count": 70,
     "metadata": {},
     "output_type": "execute_result"
    }
   ],
   "source": [
    "df_traffic_accidents['generic_make_model'].value_counts()"
   ]
  },
  {
   "cell_type": "markdown",
   "id": "210cfc70",
   "metadata": {},
   "source": [
    "Obtenemos ahora una distribución normalizada por sexos de la severidad del accidente y sus niveles."
   ]
  },
  {
   "cell_type": "code",
   "execution_count": 71,
   "id": "163a3eeb",
   "metadata": {},
   "outputs": [
    {
     "name": "stdout",
     "output_type": "stream",
     "text": [
      "Distribución normalizada por sexos de la severidad del accidente baja(3) en el conjunto de datos: Hombre = 72.4%; Mujer 81.5%.\n",
      "Distribución normalizada por sexos de la severidad del accidente media(2) en el conjunto de datos: Hombre = 25.0%; Mujer 17.2%.\n",
      "Distribución normalizada por sexos de la severidad del accidente alta(1) en el conjunto de datos: Hombre = 2.6%; Mujer 1.3%.\n"
     ]
    }
   ],
   "source": [
    "print(\"Distribución normalizada por sexos de la severidad del accidente baja(3) en el conjunto de datos: Hombre = {:.1f}%; Mujer {:.1f}%.\".format((df_traffic_accidents[(df_traffic_accidents['accident_severity'] == 3) & (\n",
    "    df_traffic_accidents['sex_of_driver'] == 1)].shape[0] / df_traffic_accidents[df_traffic_accidents['sex_of_driver'] == 1].shape[0])*100, (df_traffic_accidents[(df_traffic_accidents['accident_severity'] == 3) & (df_traffic_accidents['sex_of_driver'] == 2)].shape[0] / df_traffic_accidents[df_traffic_accidents['sex_of_driver'] == 2].shape[0])*100))\n",
    "print(\"Distribución normalizada por sexos de la severidad del accidente media(2) en el conjunto de datos: Hombre = {:.1f}%; Mujer {:.1f}%.\".format((df_traffic_accidents[(df_traffic_accidents['accident_severity'] == 2) & (\n",
    "    df_traffic_accidents['sex_of_driver'] == 1)].shape[0] / df_traffic_accidents[df_traffic_accidents['sex_of_driver'] == 1].shape[0])*100, (df_traffic_accidents[(df_traffic_accidents['accident_severity'] == 2) & (df_traffic_accidents['sex_of_driver'] == 2)].shape[0] / df_traffic_accidents[df_traffic_accidents['sex_of_driver'] == 2].shape[0])*100))\n",
    "print(\"Distribución normalizada por sexos de la severidad del accidente alta(1) en el conjunto de datos: Hombre = {:.1f}%; Mujer {:.1f}%.\".format((df_traffic_accidents[(df_traffic_accidents['accident_severity'] == 1) & (\n",
    "    df_traffic_accidents['sex_of_driver'] == 1)].shape[0] / df_traffic_accidents[df_traffic_accidents['sex_of_driver'] == 1].shape[0])*100, (df_traffic_accidents[(df_traffic_accidents['accident_severity'] == 1) & (df_traffic_accidents['sex_of_driver'] == 2)].shape[0] / df_traffic_accidents[df_traffic_accidents['sex_of_driver'] == 2].shape[0])*100))"
   ]
  },
  {
   "cell_type": "code",
   "execution_count": 72,
   "id": "3acd3b37",
   "metadata": {},
   "outputs": [
    {
     "name": "stdout",
     "output_type": "stream",
     "text": [
      "Accidentados gravedad 1: edad media = 47.0 años y desviación estándar = 21.7\n",
      "Accidentados gravedad 2: edad media = 39.6 años y desviación estándar = 20.5\n",
      "Accidentados gravedad 3: edad media = 36.2 años y desviación estándar = 19.0\n"
     ]
    }
   ],
   "source": [
    "(mu, sigma) = norm.fit(df_traffic_accidents.loc[df_traffic_accidents['casualty_severity'] == 1, 'age_of_casualty'])\n",
    "print(\n",
    "    'Accidentados gravedad 1: edad media = {:.1f} años y desviación estándar = {:.1f}'.format(mu, sigma))\n",
    "(mu, sigma) = norm.fit(df_traffic_accidents.loc[df_traffic_accidents['casualty_severity'] == 2, 'age_of_casualty'])\n",
    "print('Accidentados gravedad 2: edad media = {:.1f} años y desviación estándar = {:.1f}'.format(\n",
    "    mu, sigma))\n",
    "(mu, sigma) = norm.fit(df_traffic_accidents.loc[df_traffic_accidents['casualty_severity'] == 3, 'age_of_casualty'])\n",
    "print(\n",
    "    'Accidentados gravedad 3: edad media = {:.1f} años y desviación estándar = {:.1f}'.format(mu, sigma))"
   ]
  },
  {
   "cell_type": "markdown",
   "id": "5738f587",
   "metadata": {},
   "source": [
    "Comparamos el sexo del conductor con la gravedad del accidente. **Nota**: nos acordamos que el sexo eran 3 valores (1 hombre 2 mujer 3 otro/no se tiene costancia) y  la gravedad del accidente (1 grave 2 hospitalizado y 3 accidente fortuito y normal)"
   ]
  },
  {
   "cell_type": "code",
   "execution_count": 73,
   "id": "54b0c44b",
   "metadata": {},
   "outputs": [
    {
     "data": {
      "text/html": [
       "        <script type=\"text/javascript\">\n",
       "        window.PlotlyConfig = {MathJaxConfig: 'local'};\n",
       "        if (window.MathJax) {MathJax.Hub.Config({SVG: {font: \"STIX-Web\"}});}\n",
       "        if (typeof require !== 'undefined') {\n",
       "        require.undef(\"plotly\");\n",
       "        requirejs.config({\n",
       "            paths: {\n",
       "                'plotly': ['https://cdn.plot.ly/plotly-2.6.3.min']\n",
       "            }\n",
       "        });\n",
       "        require(['plotly'], function(Plotly) {\n",
       "            window._Plotly = Plotly;\n",
       "        });\n",
       "        }\n",
       "        </script>\n",
       "        "
      ]
     },
     "metadata": {},
     "output_type": "display_data"
    }
   ],
   "source": [
    "import cufflinks as cf\n",
    "cf.go_offline()\n",
    "cf.set_config_file(offline=False, world_readable=True)"
   ]
  },
  {
   "cell_type": "code",
   "execution_count": 74,
   "id": "d0eec014",
   "metadata": {
    "scrolled": true
   },
   "outputs": [
    {
     "data": {
      "application/vnd.plotly.v1+json": {
       "config": {
        "linkText": "Export to plot.ly",
        "plotlyServerURL": "https://plot.ly",
        "showLink": true
       },
       "data": [
        {
         "marker": {
          "color": "rgba(255, 153, 51, 0.6)",
          "line": {
           "color": "rgba(255, 153, 51, 1.0)",
           "width": 1
          }
         },
         "name": "% accidente",
         "orientation": "v",
         "text": "",
         "type": "bar",
         "x": [
          1,
          2,
          3
         ],
         "y": [
          72.42771660693727,
          81.52522652751824,
          80.53719008264463
         ]
        }
       ],
       "layout": {
        "legend": {
         "bgcolor": "#F5F6F9",
         "font": {
          "color": "#4D5663"
         }
        },
        "paper_bgcolor": "#F5F6F9",
        "plot_bgcolor": "#F5F6F9",
        "template": {
         "data": {
          "bar": [
           {
            "error_x": {
             "color": "#2a3f5f"
            },
            "error_y": {
             "color": "#2a3f5f"
            },
            "marker": {
             "line": {
              "color": "#E5ECF6",
              "width": 0.5
             },
             "pattern": {
              "fillmode": "overlay",
              "size": 10,
              "solidity": 0.2
             }
            },
            "type": "bar"
           }
          ],
          "barpolar": [
           {
            "marker": {
             "line": {
              "color": "#E5ECF6",
              "width": 0.5
             },
             "pattern": {
              "fillmode": "overlay",
              "size": 10,
              "solidity": 0.2
             }
            },
            "type": "barpolar"
           }
          ],
          "carpet": [
           {
            "aaxis": {
             "endlinecolor": "#2a3f5f",
             "gridcolor": "white",
             "linecolor": "white",
             "minorgridcolor": "white",
             "startlinecolor": "#2a3f5f"
            },
            "baxis": {
             "endlinecolor": "#2a3f5f",
             "gridcolor": "white",
             "linecolor": "white",
             "minorgridcolor": "white",
             "startlinecolor": "#2a3f5f"
            },
            "type": "carpet"
           }
          ],
          "choropleth": [
           {
            "colorbar": {
             "outlinewidth": 0,
             "ticks": ""
            },
            "type": "choropleth"
           }
          ],
          "contour": [
           {
            "colorbar": {
             "outlinewidth": 0,
             "ticks": ""
            },
            "colorscale": [
             [
              0,
              "#0d0887"
             ],
             [
              0.1111111111111111,
              "#46039f"
             ],
             [
              0.2222222222222222,
              "#7201a8"
             ],
             [
              0.3333333333333333,
              "#9c179e"
             ],
             [
              0.4444444444444444,
              "#bd3786"
             ],
             [
              0.5555555555555556,
              "#d8576b"
             ],
             [
              0.6666666666666666,
              "#ed7953"
             ],
             [
              0.7777777777777778,
              "#fb9f3a"
             ],
             [
              0.8888888888888888,
              "#fdca26"
             ],
             [
              1,
              "#f0f921"
             ]
            ],
            "type": "contour"
           }
          ],
          "contourcarpet": [
           {
            "colorbar": {
             "outlinewidth": 0,
             "ticks": ""
            },
            "type": "contourcarpet"
           }
          ],
          "heatmap": [
           {
            "colorbar": {
             "outlinewidth": 0,
             "ticks": ""
            },
            "colorscale": [
             [
              0,
              "#0d0887"
             ],
             [
              0.1111111111111111,
              "#46039f"
             ],
             [
              0.2222222222222222,
              "#7201a8"
             ],
             [
              0.3333333333333333,
              "#9c179e"
             ],
             [
              0.4444444444444444,
              "#bd3786"
             ],
             [
              0.5555555555555556,
              "#d8576b"
             ],
             [
              0.6666666666666666,
              "#ed7953"
             ],
             [
              0.7777777777777778,
              "#fb9f3a"
             ],
             [
              0.8888888888888888,
              "#fdca26"
             ],
             [
              1,
              "#f0f921"
             ]
            ],
            "type": "heatmap"
           }
          ],
          "heatmapgl": [
           {
            "colorbar": {
             "outlinewidth": 0,
             "ticks": ""
            },
            "colorscale": [
             [
              0,
              "#0d0887"
             ],
             [
              0.1111111111111111,
              "#46039f"
             ],
             [
              0.2222222222222222,
              "#7201a8"
             ],
             [
              0.3333333333333333,
              "#9c179e"
             ],
             [
              0.4444444444444444,
              "#bd3786"
             ],
             [
              0.5555555555555556,
              "#d8576b"
             ],
             [
              0.6666666666666666,
              "#ed7953"
             ],
             [
              0.7777777777777778,
              "#fb9f3a"
             ],
             [
              0.8888888888888888,
              "#fdca26"
             ],
             [
              1,
              "#f0f921"
             ]
            ],
            "type": "heatmapgl"
           }
          ],
          "histogram": [
           {
            "marker": {
             "pattern": {
              "fillmode": "overlay",
              "size": 10,
              "solidity": 0.2
             }
            },
            "type": "histogram"
           }
          ],
          "histogram2d": [
           {
            "colorbar": {
             "outlinewidth": 0,
             "ticks": ""
            },
            "colorscale": [
             [
              0,
              "#0d0887"
             ],
             [
              0.1111111111111111,
              "#46039f"
             ],
             [
              0.2222222222222222,
              "#7201a8"
             ],
             [
              0.3333333333333333,
              "#9c179e"
             ],
             [
              0.4444444444444444,
              "#bd3786"
             ],
             [
              0.5555555555555556,
              "#d8576b"
             ],
             [
              0.6666666666666666,
              "#ed7953"
             ],
             [
              0.7777777777777778,
              "#fb9f3a"
             ],
             [
              0.8888888888888888,
              "#fdca26"
             ],
             [
              1,
              "#f0f921"
             ]
            ],
            "type": "histogram2d"
           }
          ],
          "histogram2dcontour": [
           {
            "colorbar": {
             "outlinewidth": 0,
             "ticks": ""
            },
            "colorscale": [
             [
              0,
              "#0d0887"
             ],
             [
              0.1111111111111111,
              "#46039f"
             ],
             [
              0.2222222222222222,
              "#7201a8"
             ],
             [
              0.3333333333333333,
              "#9c179e"
             ],
             [
              0.4444444444444444,
              "#bd3786"
             ],
             [
              0.5555555555555556,
              "#d8576b"
             ],
             [
              0.6666666666666666,
              "#ed7953"
             ],
             [
              0.7777777777777778,
              "#fb9f3a"
             ],
             [
              0.8888888888888888,
              "#fdca26"
             ],
             [
              1,
              "#f0f921"
             ]
            ],
            "type": "histogram2dcontour"
           }
          ],
          "mesh3d": [
           {
            "colorbar": {
             "outlinewidth": 0,
             "ticks": ""
            },
            "type": "mesh3d"
           }
          ],
          "parcoords": [
           {
            "line": {
             "colorbar": {
              "outlinewidth": 0,
              "ticks": ""
             }
            },
            "type": "parcoords"
           }
          ],
          "pie": [
           {
            "automargin": true,
            "type": "pie"
           }
          ],
          "scatter": [
           {
            "marker": {
             "colorbar": {
              "outlinewidth": 0,
              "ticks": ""
             }
            },
            "type": "scatter"
           }
          ],
          "scatter3d": [
           {
            "line": {
             "colorbar": {
              "outlinewidth": 0,
              "ticks": ""
             }
            },
            "marker": {
             "colorbar": {
              "outlinewidth": 0,
              "ticks": ""
             }
            },
            "type": "scatter3d"
           }
          ],
          "scattercarpet": [
           {
            "marker": {
             "colorbar": {
              "outlinewidth": 0,
              "ticks": ""
             }
            },
            "type": "scattercarpet"
           }
          ],
          "scattergeo": [
           {
            "marker": {
             "colorbar": {
              "outlinewidth": 0,
              "ticks": ""
             }
            },
            "type": "scattergeo"
           }
          ],
          "scattergl": [
           {
            "marker": {
             "colorbar": {
              "outlinewidth": 0,
              "ticks": ""
             }
            },
            "type": "scattergl"
           }
          ],
          "scattermapbox": [
           {
            "marker": {
             "colorbar": {
              "outlinewidth": 0,
              "ticks": ""
             }
            },
            "type": "scattermapbox"
           }
          ],
          "scatterpolar": [
           {
            "marker": {
             "colorbar": {
              "outlinewidth": 0,
              "ticks": ""
             }
            },
            "type": "scatterpolar"
           }
          ],
          "scatterpolargl": [
           {
            "marker": {
             "colorbar": {
              "outlinewidth": 0,
              "ticks": ""
             }
            },
            "type": "scatterpolargl"
           }
          ],
          "scatterternary": [
           {
            "marker": {
             "colorbar": {
              "outlinewidth": 0,
              "ticks": ""
             }
            },
            "type": "scatterternary"
           }
          ],
          "surface": [
           {
            "colorbar": {
             "outlinewidth": 0,
             "ticks": ""
            },
            "colorscale": [
             [
              0,
              "#0d0887"
             ],
             [
              0.1111111111111111,
              "#46039f"
             ],
             [
              0.2222222222222222,
              "#7201a8"
             ],
             [
              0.3333333333333333,
              "#9c179e"
             ],
             [
              0.4444444444444444,
              "#bd3786"
             ],
             [
              0.5555555555555556,
              "#d8576b"
             ],
             [
              0.6666666666666666,
              "#ed7953"
             ],
             [
              0.7777777777777778,
              "#fb9f3a"
             ],
             [
              0.8888888888888888,
              "#fdca26"
             ],
             [
              1,
              "#f0f921"
             ]
            ],
            "type": "surface"
           }
          ],
          "table": [
           {
            "cells": {
             "fill": {
              "color": "#EBF0F8"
             },
             "line": {
              "color": "white"
             }
            },
            "header": {
             "fill": {
              "color": "#C8D4E3"
             },
             "line": {
              "color": "white"
             }
            },
            "type": "table"
           }
          ]
         },
         "layout": {
          "annotationdefaults": {
           "arrowcolor": "#2a3f5f",
           "arrowhead": 0,
           "arrowwidth": 1
          },
          "autotypenumbers": "strict",
          "coloraxis": {
           "colorbar": {
            "outlinewidth": 0,
            "ticks": ""
           }
          },
          "colorscale": {
           "diverging": [
            [
             0,
             "#8e0152"
            ],
            [
             0.1,
             "#c51b7d"
            ],
            [
             0.2,
             "#de77ae"
            ],
            [
             0.3,
             "#f1b6da"
            ],
            [
             0.4,
             "#fde0ef"
            ],
            [
             0.5,
             "#f7f7f7"
            ],
            [
             0.6,
             "#e6f5d0"
            ],
            [
             0.7,
             "#b8e186"
            ],
            [
             0.8,
             "#7fbc41"
            ],
            [
             0.9,
             "#4d9221"
            ],
            [
             1,
             "#276419"
            ]
           ],
           "sequential": [
            [
             0,
             "#0d0887"
            ],
            [
             0.1111111111111111,
             "#46039f"
            ],
            [
             0.2222222222222222,
             "#7201a8"
            ],
            [
             0.3333333333333333,
             "#9c179e"
            ],
            [
             0.4444444444444444,
             "#bd3786"
            ],
            [
             0.5555555555555556,
             "#d8576b"
            ],
            [
             0.6666666666666666,
             "#ed7953"
            ],
            [
             0.7777777777777778,
             "#fb9f3a"
            ],
            [
             0.8888888888888888,
             "#fdca26"
            ],
            [
             1,
             "#f0f921"
            ]
           ],
           "sequentialminus": [
            [
             0,
             "#0d0887"
            ],
            [
             0.1111111111111111,
             "#46039f"
            ],
            [
             0.2222222222222222,
             "#7201a8"
            ],
            [
             0.3333333333333333,
             "#9c179e"
            ],
            [
             0.4444444444444444,
             "#bd3786"
            ],
            [
             0.5555555555555556,
             "#d8576b"
            ],
            [
             0.6666666666666666,
             "#ed7953"
            ],
            [
             0.7777777777777778,
             "#fb9f3a"
            ],
            [
             0.8888888888888888,
             "#fdca26"
            ],
            [
             1,
             "#f0f921"
            ]
           ]
          },
          "colorway": [
           "#636efa",
           "#EF553B",
           "#00cc96",
           "#ab63fa",
           "#FFA15A",
           "#19d3f3",
           "#FF6692",
           "#B6E880",
           "#FF97FF",
           "#FECB52"
          ],
          "font": {
           "color": "#2a3f5f"
          },
          "geo": {
           "bgcolor": "white",
           "lakecolor": "white",
           "landcolor": "#E5ECF6",
           "showlakes": true,
           "showland": true,
           "subunitcolor": "white"
          },
          "hoverlabel": {
           "align": "left"
          },
          "hovermode": "closest",
          "mapbox": {
           "style": "light"
          },
          "paper_bgcolor": "white",
          "plot_bgcolor": "#E5ECF6",
          "polar": {
           "angularaxis": {
            "gridcolor": "white",
            "linecolor": "white",
            "ticks": ""
           },
           "bgcolor": "#E5ECF6",
           "radialaxis": {
            "gridcolor": "white",
            "linecolor": "white",
            "ticks": ""
           }
          },
          "scene": {
           "xaxis": {
            "backgroundcolor": "#E5ECF6",
            "gridcolor": "white",
            "gridwidth": 2,
            "linecolor": "white",
            "showbackground": true,
            "ticks": "",
            "zerolinecolor": "white"
           },
           "yaxis": {
            "backgroundcolor": "#E5ECF6",
            "gridcolor": "white",
            "gridwidth": 2,
            "linecolor": "white",
            "showbackground": true,
            "ticks": "",
            "zerolinecolor": "white"
           },
           "zaxis": {
            "backgroundcolor": "#E5ECF6",
            "gridcolor": "white",
            "gridwidth": 2,
            "linecolor": "white",
            "showbackground": true,
            "ticks": "",
            "zerolinecolor": "white"
           }
          },
          "shapedefaults": {
           "line": {
            "color": "#2a3f5f"
           }
          },
          "ternary": {
           "aaxis": {
            "gridcolor": "white",
            "linecolor": "white",
            "ticks": ""
           },
           "baxis": {
            "gridcolor": "white",
            "linecolor": "white",
            "ticks": ""
           },
           "bgcolor": "#E5ECF6",
           "caxis": {
            "gridcolor": "white",
            "linecolor": "white",
            "ticks": ""
           }
          },
          "title": {
           "x": 0.05
          },
          "xaxis": {
           "automargin": true,
           "gridcolor": "white",
           "linecolor": "white",
           "ticks": "",
           "title": {
            "standoff": 15
           },
           "zerolinecolor": "white",
           "zerolinewidth": 2
          },
          "yaxis": {
           "automargin": true,
           "gridcolor": "white",
           "linecolor": "white",
           "ticks": "",
           "title": {
            "standoff": 15
           },
           "zerolinecolor": "white",
           "zerolinewidth": 2
          }
         }
        },
        "title": {
         "font": {
          "color": "#4D5663"
         },
         "text": "Sexo del conductor vs Gravedad del accidente (%)"
        },
        "xaxis": {
         "gridcolor": "#E1E5ED",
         "showgrid": true,
         "tickfont": {
          "color": "#4D5663"
         },
         "title": {
          "font": {
           "color": "#4D5663"
          },
          "text": ""
         },
         "zerolinecolor": "#E1E5ED"
        },
        "yaxis": {
         "gridcolor": "#E1E5ED",
         "showgrid": true,
         "tickfont": {
          "color": "#4D5663"
         },
         "title": {
          "font": {
           "color": "#4D5663"
          },
          "text": ""
         },
         "zerolinecolor": "#E1E5ED"
        }
       }
      },
      "text/html": [
       "<div>                            <div id=\"cdacd888-e2e0-4748-a6b1-bf7a7ebf9466\" class=\"plotly-graph-div\" style=\"height:525px; width:100%;\"></div>            <script type=\"text/javascript\">                require([\"plotly\"], function(Plotly) {                    window.PLOTLYENV=window.PLOTLYENV || {};\n",
       "                    window.PLOTLYENV.BASE_URL='https://plot.ly';                                    if (document.getElementById(\"cdacd888-e2e0-4748-a6b1-bf7a7ebf9466\")) {                    Plotly.newPlot(                        \"cdacd888-e2e0-4748-a6b1-bf7a7ebf9466\",                        [{\"marker\":{\"color\":\"rgba(255, 153, 51, 0.6)\",\"line\":{\"color\":\"rgba(255, 153, 51, 1.0)\",\"width\":1}},\"name\":\"% accidente\",\"orientation\":\"v\",\"text\":\"\",\"x\":[1.0,2.0,3.0],\"y\":[72.42771660693727,81.52522652751824,80.53719008264463],\"type\":\"bar\"}],                        {\"legend\":{\"bgcolor\":\"#F5F6F9\",\"font\":{\"color\":\"#4D5663\"}},\"paper_bgcolor\":\"#F5F6F9\",\"plot_bgcolor\":\"#F5F6F9\",\"template\":{\"data\":{\"barpolar\":[{\"marker\":{\"line\":{\"color\":\"#E5ECF6\",\"width\":0.5},\"pattern\":{\"fillmode\":\"overlay\",\"size\":10,\"solidity\":0.2}},\"type\":\"barpolar\"}],\"bar\":[{\"error_x\":{\"color\":\"#2a3f5f\"},\"error_y\":{\"color\":\"#2a3f5f\"},\"marker\":{\"line\":{\"color\":\"#E5ECF6\",\"width\":0.5},\"pattern\":{\"fillmode\":\"overlay\",\"size\":10,\"solidity\":0.2}},\"type\":\"bar\"}],\"carpet\":[{\"aaxis\":{\"endlinecolor\":\"#2a3f5f\",\"gridcolor\":\"white\",\"linecolor\":\"white\",\"minorgridcolor\":\"white\",\"startlinecolor\":\"#2a3f5f\"},\"baxis\":{\"endlinecolor\":\"#2a3f5f\",\"gridcolor\":\"white\",\"linecolor\":\"white\",\"minorgridcolor\":\"white\",\"startlinecolor\":\"#2a3f5f\"},\"type\":\"carpet\"}],\"choropleth\":[{\"colorbar\":{\"outlinewidth\":0,\"ticks\":\"\"},\"type\":\"choropleth\"}],\"contourcarpet\":[{\"colorbar\":{\"outlinewidth\":0,\"ticks\":\"\"},\"type\":\"contourcarpet\"}],\"contour\":[{\"colorbar\":{\"outlinewidth\":0,\"ticks\":\"\"},\"colorscale\":[[0.0,\"#0d0887\"],[0.1111111111111111,\"#46039f\"],[0.2222222222222222,\"#7201a8\"],[0.3333333333333333,\"#9c179e\"],[0.4444444444444444,\"#bd3786\"],[0.5555555555555556,\"#d8576b\"],[0.6666666666666666,\"#ed7953\"],[0.7777777777777778,\"#fb9f3a\"],[0.8888888888888888,\"#fdca26\"],[1.0,\"#f0f921\"]],\"type\":\"contour\"}],\"heatmapgl\":[{\"colorbar\":{\"outlinewidth\":0,\"ticks\":\"\"},\"colorscale\":[[0.0,\"#0d0887\"],[0.1111111111111111,\"#46039f\"],[0.2222222222222222,\"#7201a8\"],[0.3333333333333333,\"#9c179e\"],[0.4444444444444444,\"#bd3786\"],[0.5555555555555556,\"#d8576b\"],[0.6666666666666666,\"#ed7953\"],[0.7777777777777778,\"#fb9f3a\"],[0.8888888888888888,\"#fdca26\"],[1.0,\"#f0f921\"]],\"type\":\"heatmapgl\"}],\"heatmap\":[{\"colorbar\":{\"outlinewidth\":0,\"ticks\":\"\"},\"colorscale\":[[0.0,\"#0d0887\"],[0.1111111111111111,\"#46039f\"],[0.2222222222222222,\"#7201a8\"],[0.3333333333333333,\"#9c179e\"],[0.4444444444444444,\"#bd3786\"],[0.5555555555555556,\"#d8576b\"],[0.6666666666666666,\"#ed7953\"],[0.7777777777777778,\"#fb9f3a\"],[0.8888888888888888,\"#fdca26\"],[1.0,\"#f0f921\"]],\"type\":\"heatmap\"}],\"histogram2dcontour\":[{\"colorbar\":{\"outlinewidth\":0,\"ticks\":\"\"},\"colorscale\":[[0.0,\"#0d0887\"],[0.1111111111111111,\"#46039f\"],[0.2222222222222222,\"#7201a8\"],[0.3333333333333333,\"#9c179e\"],[0.4444444444444444,\"#bd3786\"],[0.5555555555555556,\"#d8576b\"],[0.6666666666666666,\"#ed7953\"],[0.7777777777777778,\"#fb9f3a\"],[0.8888888888888888,\"#fdca26\"],[1.0,\"#f0f921\"]],\"type\":\"histogram2dcontour\"}],\"histogram2d\":[{\"colorbar\":{\"outlinewidth\":0,\"ticks\":\"\"},\"colorscale\":[[0.0,\"#0d0887\"],[0.1111111111111111,\"#46039f\"],[0.2222222222222222,\"#7201a8\"],[0.3333333333333333,\"#9c179e\"],[0.4444444444444444,\"#bd3786\"],[0.5555555555555556,\"#d8576b\"],[0.6666666666666666,\"#ed7953\"],[0.7777777777777778,\"#fb9f3a\"],[0.8888888888888888,\"#fdca26\"],[1.0,\"#f0f921\"]],\"type\":\"histogram2d\"}],\"histogram\":[{\"marker\":{\"pattern\":{\"fillmode\":\"overlay\",\"size\":10,\"solidity\":0.2}},\"type\":\"histogram\"}],\"mesh3d\":[{\"colorbar\":{\"outlinewidth\":0,\"ticks\":\"\"},\"type\":\"mesh3d\"}],\"parcoords\":[{\"line\":{\"colorbar\":{\"outlinewidth\":0,\"ticks\":\"\"}},\"type\":\"parcoords\"}],\"pie\":[{\"automargin\":true,\"type\":\"pie\"}],\"scatter3d\":[{\"line\":{\"colorbar\":{\"outlinewidth\":0,\"ticks\":\"\"}},\"marker\":{\"colorbar\":{\"outlinewidth\":0,\"ticks\":\"\"}},\"type\":\"scatter3d\"}],\"scattercarpet\":[{\"marker\":{\"colorbar\":{\"outlinewidth\":0,\"ticks\":\"\"}},\"type\":\"scattercarpet\"}],\"scattergeo\":[{\"marker\":{\"colorbar\":{\"outlinewidth\":0,\"ticks\":\"\"}},\"type\":\"scattergeo\"}],\"scattergl\":[{\"marker\":{\"colorbar\":{\"outlinewidth\":0,\"ticks\":\"\"}},\"type\":\"scattergl\"}],\"scattermapbox\":[{\"marker\":{\"colorbar\":{\"outlinewidth\":0,\"ticks\":\"\"}},\"type\":\"scattermapbox\"}],\"scatterpolargl\":[{\"marker\":{\"colorbar\":{\"outlinewidth\":0,\"ticks\":\"\"}},\"type\":\"scatterpolargl\"}],\"scatterpolar\":[{\"marker\":{\"colorbar\":{\"outlinewidth\":0,\"ticks\":\"\"}},\"type\":\"scatterpolar\"}],\"scatter\":[{\"marker\":{\"colorbar\":{\"outlinewidth\":0,\"ticks\":\"\"}},\"type\":\"scatter\"}],\"scatterternary\":[{\"marker\":{\"colorbar\":{\"outlinewidth\":0,\"ticks\":\"\"}},\"type\":\"scatterternary\"}],\"surface\":[{\"colorbar\":{\"outlinewidth\":0,\"ticks\":\"\"},\"colorscale\":[[0.0,\"#0d0887\"],[0.1111111111111111,\"#46039f\"],[0.2222222222222222,\"#7201a8\"],[0.3333333333333333,\"#9c179e\"],[0.4444444444444444,\"#bd3786\"],[0.5555555555555556,\"#d8576b\"],[0.6666666666666666,\"#ed7953\"],[0.7777777777777778,\"#fb9f3a\"],[0.8888888888888888,\"#fdca26\"],[1.0,\"#f0f921\"]],\"type\":\"surface\"}],\"table\":[{\"cells\":{\"fill\":{\"color\":\"#EBF0F8\"},\"line\":{\"color\":\"white\"}},\"header\":{\"fill\":{\"color\":\"#C8D4E3\"},\"line\":{\"color\":\"white\"}},\"type\":\"table\"}]},\"layout\":{\"annotationdefaults\":{\"arrowcolor\":\"#2a3f5f\",\"arrowhead\":0,\"arrowwidth\":1},\"autotypenumbers\":\"strict\",\"coloraxis\":{\"colorbar\":{\"outlinewidth\":0,\"ticks\":\"\"}},\"colorscale\":{\"diverging\":[[0,\"#8e0152\"],[0.1,\"#c51b7d\"],[0.2,\"#de77ae\"],[0.3,\"#f1b6da\"],[0.4,\"#fde0ef\"],[0.5,\"#f7f7f7\"],[0.6,\"#e6f5d0\"],[0.7,\"#b8e186\"],[0.8,\"#7fbc41\"],[0.9,\"#4d9221\"],[1,\"#276419\"]],\"sequential\":[[0.0,\"#0d0887\"],[0.1111111111111111,\"#46039f\"],[0.2222222222222222,\"#7201a8\"],[0.3333333333333333,\"#9c179e\"],[0.4444444444444444,\"#bd3786\"],[0.5555555555555556,\"#d8576b\"],[0.6666666666666666,\"#ed7953\"],[0.7777777777777778,\"#fb9f3a\"],[0.8888888888888888,\"#fdca26\"],[1.0,\"#f0f921\"]],\"sequentialminus\":[[0.0,\"#0d0887\"],[0.1111111111111111,\"#46039f\"],[0.2222222222222222,\"#7201a8\"],[0.3333333333333333,\"#9c179e\"],[0.4444444444444444,\"#bd3786\"],[0.5555555555555556,\"#d8576b\"],[0.6666666666666666,\"#ed7953\"],[0.7777777777777778,\"#fb9f3a\"],[0.8888888888888888,\"#fdca26\"],[1.0,\"#f0f921\"]]},\"colorway\":[\"#636efa\",\"#EF553B\",\"#00cc96\",\"#ab63fa\",\"#FFA15A\",\"#19d3f3\",\"#FF6692\",\"#B6E880\",\"#FF97FF\",\"#FECB52\"],\"font\":{\"color\":\"#2a3f5f\"},\"geo\":{\"bgcolor\":\"white\",\"lakecolor\":\"white\",\"landcolor\":\"#E5ECF6\",\"showlakes\":true,\"showland\":true,\"subunitcolor\":\"white\"},\"hoverlabel\":{\"align\":\"left\"},\"hovermode\":\"closest\",\"mapbox\":{\"style\":\"light\"},\"paper_bgcolor\":\"white\",\"plot_bgcolor\":\"#E5ECF6\",\"polar\":{\"angularaxis\":{\"gridcolor\":\"white\",\"linecolor\":\"white\",\"ticks\":\"\"},\"bgcolor\":\"#E5ECF6\",\"radialaxis\":{\"gridcolor\":\"white\",\"linecolor\":\"white\",\"ticks\":\"\"}},\"scene\":{\"xaxis\":{\"backgroundcolor\":\"#E5ECF6\",\"gridcolor\":\"white\",\"gridwidth\":2,\"linecolor\":\"white\",\"showbackground\":true,\"ticks\":\"\",\"zerolinecolor\":\"white\"},\"yaxis\":{\"backgroundcolor\":\"#E5ECF6\",\"gridcolor\":\"white\",\"gridwidth\":2,\"linecolor\":\"white\",\"showbackground\":true,\"ticks\":\"\",\"zerolinecolor\":\"white\"},\"zaxis\":{\"backgroundcolor\":\"#E5ECF6\",\"gridcolor\":\"white\",\"gridwidth\":2,\"linecolor\":\"white\",\"showbackground\":true,\"ticks\":\"\",\"zerolinecolor\":\"white\"}},\"shapedefaults\":{\"line\":{\"color\":\"#2a3f5f\"}},\"ternary\":{\"aaxis\":{\"gridcolor\":\"white\",\"linecolor\":\"white\",\"ticks\":\"\"},\"baxis\":{\"gridcolor\":\"white\",\"linecolor\":\"white\",\"ticks\":\"\"},\"bgcolor\":\"#E5ECF6\",\"caxis\":{\"gridcolor\":\"white\",\"linecolor\":\"white\",\"ticks\":\"\"}},\"title\":{\"x\":0.05},\"xaxis\":{\"automargin\":true,\"gridcolor\":\"white\",\"linecolor\":\"white\",\"ticks\":\"\",\"title\":{\"standoff\":15},\"zerolinecolor\":\"white\",\"zerolinewidth\":2},\"yaxis\":{\"automargin\":true,\"gridcolor\":\"white\",\"linecolor\":\"white\",\"ticks\":\"\",\"title\":{\"standoff\":15},\"zerolinecolor\":\"white\",\"zerolinewidth\":2}}},\"title\":{\"font\":{\"color\":\"#4D5663\"},\"text\":\"Sexo del conductor vs Gravedad del accidente (%)\"},\"xaxis\":{\"gridcolor\":\"#E1E5ED\",\"showgrid\":true,\"tickfont\":{\"color\":\"#4D5663\"},\"title\":{\"font\":{\"color\":\"#4D5663\"},\"text\":\"\"},\"zerolinecolor\":\"#E1E5ED\"},\"yaxis\":{\"gridcolor\":\"#E1E5ED\",\"showgrid\":true,\"tickfont\":{\"color\":\"#4D5663\"},\"title\":{\"font\":{\"color\":\"#4D5663\"},\"text\":\"\"},\"zerolinecolor\":\"#E1E5ED\"}},                        {\"showLink\": true, \"linkText\": \"Export to plot.ly\", \"plotlyServerURL\": \"https://plot.ly\", \"responsive\": true}                    ).then(function(){\n",
       "                            \n",
       "var gd = document.getElementById('cdacd888-e2e0-4748-a6b1-bf7a7ebf9466');\n",
       "var x = new MutationObserver(function (mutations, observer) {{\n",
       "        var display = window.getComputedStyle(gd).display;\n",
       "        if (!display || display === 'none') {{\n",
       "            console.log([gd, 'removed!']);\n",
       "            Plotly.purge(gd);\n",
       "            observer.disconnect();\n",
       "        }}\n",
       "}});\n",
       "\n",
       "// Listen for the removal of the full notebook cells\n",
       "var notebookContainer = gd.closest('#notebook-container');\n",
       "if (notebookContainer) {{\n",
       "    x.observe(notebookContainer, {childList: true});\n",
       "}}\n",
       "\n",
       "// Listen for the clearing of the current output cell\n",
       "var outputEl = gd.closest('.output');\n",
       "if (outputEl) {{\n",
       "    x.observe(outputEl, {childList: true});\n",
       "}}\n",
       "\n",
       "                        })                };                });            </script>        </div>"
      ]
     },
     "metadata": {},
     "output_type": "display_data"
    }
   ],
   "source": [
    "df_Gender = pd.DataFrame(columns=[\"sex_of_driver\", \"% accidente\"])\n",
    "i=0\n",
    "for field in list(df_traffic_accidents['sex_of_driver'].unique()):\n",
    "    ratio = df_traffic_accidents[(df_traffic_accidents['sex_of_driver']==field)&(df_traffic_accidents['accident_severity']==3)].shape[0] / df_traffic_accidents[df_traffic_accidents['sex_of_driver']==field].shape[0]\n",
    "    df_Gender.loc[i] = (field, ratio*100)\n",
    "    i += 1 \n",
    "df_G = df_Gender.groupby(by=\"sex_of_driver\").sum()\n",
    "df_G.iplot(kind='bar',title='Sexo del conductor vs Gravedad del accidente (%)')"
   ]
  },
  {
   "cell_type": "markdown",
   "id": "6a4d2cfa",
   "metadata": {},
   "source": [
    "Ahora obtenemos un plot que representa la edad de la victima con la gravedad de daños causados a ella. "
   ]
  },
  {
   "cell_type": "code",
   "execution_count": 75,
   "id": "1f148ce2",
   "metadata": {},
   "outputs": [
    {
     "data": {
      "image/png": "[encoded data removed]",
      "text/plain": [
       "<Figure size 1080x432 with 1 Axes>"
      ]
     },
     "metadata": {
      "needs_background": "light"
     },
     "output_type": "display_data"
    }
   ],
   "source": [
    "plt.figure(figsize=(15,6))\n",
    "plt.style.use('seaborn-whitegrid')\n",
    "plt.grid(True, alpha=0.5)\n",
    "sns.kdeplot(df_traffic_accidents.loc[df_traffic_accidents['casualty_severity'] == 1, 'age_of_casualty'], label = 'Accidentados gravedad 1')\n",
    "sns.kdeplot(df_traffic_accidents.loc[df_traffic_accidents['casualty_severity'] == 2, 'age_of_casualty'], label = 'Accidentados gravedad 2')\n",
    "sns.kdeplot(df_traffic_accidents.loc[df_traffic_accidents['casualty_severity'] == 3, 'age_of_casualty'], label = 'Accidentados gravedad 3')\n",
    "plt.xlim(left=0, right=110)\n",
    "plt.xlabel('Edad (años)')\n",
    "plt.ylabel('Densidad')\n",
    "plt.title('Edad victima VS Gravedad daños de la victima');"
   ]
  },
  {
   "cell_type": "markdown",
   "id": "e47315ad",
   "metadata": {},
   "source": [
    "## Aplicación de modelos de machine learning"
   ]
  },
  {
   "cell_type": "markdown",
   "id": "9c2b2770",
   "metadata": {},
   "source": [
    "### Regresión logística"
   ]
  },
  {
   "cell_type": "markdown",
   "id": "c056fad3",
   "metadata": {},
   "source": [
    "La regresión logística, a pesar de su nombre, es un modelo lineal para clasificación en lugar de regresión. En este modelo, las probabilidades que describen los posibles resultados de un solo ensayo se modelan utilizando una función logística. Neustro objetivo será, crear un modelo que tras pasarle una serie de columnas (por ejemplo la gravedad del accidente o datos de la victima como edad y sexo) consiga predecir el resultado de otra (como la gravedad de los daños ocasionados a la victima.)"
   ]
  },
  {
   "cell_type": "markdown",
   "id": "af8f402e",
   "metadata": {},
   "source": [
    "Con el fin de usar solo un pequeño rango de campos para que la regresion logistica tenga el efecto que deseamos, eliminamos algunos valores \"inutiles\" para este caso (como la hora o el dia de la semana que no influyen para saber la gravedad de un accidente) y eliminamos tambien aquellos valores que no son cuantitativos. "
   ]
  },
  {
   "cell_type": "code",
   "execution_count": 76,
   "id": "c28616bf",
   "metadata": {},
   "outputs": [
    {
     "data": {
      "text/html": [
       "<div>\n",
       "<style scoped>\n",
       "    .dataframe tbody tr th:only-of-type {\n",
       "        vertical-align: middle;\n",
       "    }\n",
       "\n",
       "    .dataframe tbody tr th {\n",
       "        vertical-align: top;\n",
       "    }\n",
       "\n",
       "    .dataframe thead th {\n",
       "        text-align: right;\n",
       "    }\n",
       "</style>\n",
       "<table border=\"1\" class=\"dataframe\">\n",
       "  <thead>\n",
       "    <tr style=\"text-align: right;\">\n",
       "      <th></th>\n",
       "      <th>accident_index</th>\n",
       "      <th>accident_severity</th>\n",
       "      <th>number_of_vehicles</th>\n",
       "      <th>number_of_casualties</th>\n",
       "      <th>date</th>\n",
       "      <th>day_of_week</th>\n",
       "      <th>time</th>\n",
       "      <th>did_police_officer_attend_scene_of_accident</th>\n",
       "      <th>sex_of_driver</th>\n",
       "      <th>age_of_driver</th>\n",
       "      <th>age_of_vehicle</th>\n",
       "      <th>generic_make_model</th>\n",
       "      <th>sex_of_casualty</th>\n",
       "      <th>age_of_casualty</th>\n",
       "      <th>casualty_severity</th>\n",
       "      <th>car_passenger</th>\n",
       "    </tr>\n",
       "  </thead>\n",
       "  <tbody>\n",
       "    <tr>\n",
       "      <th>0</th>\n",
       "      <td>2020010278554</td>\n",
       "      <td>2</td>\n",
       "      <td>2</td>\n",
       "      <td>1</td>\n",
       "      <td>09/11/2020</td>\n",
       "      <td>2</td>\n",
       "      <td>20:20</td>\n",
       "      <td>1</td>\n",
       "      <td>1</td>\n",
       "      <td>23</td>\n",
       "      <td>4</td>\n",
       "      <td>SUZUKI UK 110</td>\n",
       "      <td>1</td>\n",
       "      <td>23</td>\n",
       "      <td>2</td>\n",
       "      <td>0</td>\n",
       "    </tr>\n",
       "    <tr>\n",
       "      <th>1</th>\n",
       "      <td>2020010278556</td>\n",
       "      <td>2</td>\n",
       "      <td>2</td>\n",
       "      <td>1</td>\n",
       "      <td>04/11/2020</td>\n",
       "      <td>4</td>\n",
       "      <td>11:50</td>\n",
       "      <td>3</td>\n",
       "      <td>1</td>\n",
       "      <td>17</td>\n",
       "      <td>4</td>\n",
       "      <td>HONDA CBR125R</td>\n",
       "      <td>1</td>\n",
       "      <td>17</td>\n",
       "      <td>2</td>\n",
       "      <td>0</td>\n",
       "    </tr>\n",
       "    <tr>\n",
       "      <th>2</th>\n",
       "      <td>2020010278558</td>\n",
       "      <td>3</td>\n",
       "      <td>2</td>\n",
       "      <td>1</td>\n",
       "      <td>09/11/2020</td>\n",
       "      <td>2</td>\n",
       "      <td>19:31</td>\n",
       "      <td>1</td>\n",
       "      <td>1</td>\n",
       "      <td>45</td>\n",
       "      <td>0</td>\n",
       "      <td>YAMAHA GPD 125</td>\n",
       "      <td>1</td>\n",
       "      <td>45</td>\n",
       "      <td>3</td>\n",
       "      <td>0</td>\n",
       "    </tr>\n",
       "    <tr>\n",
       "      <th>3</th>\n",
       "      <td>2020010278559</td>\n",
       "      <td>3</td>\n",
       "      <td>2</td>\n",
       "      <td>1</td>\n",
       "      <td>09/11/2020</td>\n",
       "      <td>2</td>\n",
       "      <td>19:13</td>\n",
       "      <td>1</td>\n",
       "      <td>1</td>\n",
       "      <td>45</td>\n",
       "      <td>7</td>\n",
       "      <td>-1</td>\n",
       "      <td>1</td>\n",
       "      <td>45</td>\n",
       "      <td>3</td>\n",
       "      <td>0</td>\n",
       "    </tr>\n",
       "    <tr>\n",
       "      <th>4</th>\n",
       "      <td>2020010278561</td>\n",
       "      <td>2</td>\n",
       "      <td>1</td>\n",
       "      <td>1</td>\n",
       "      <td>09/11/2020</td>\n",
       "      <td>2</td>\n",
       "      <td>18:03</td>\n",
       "      <td>1</td>\n",
       "      <td>1</td>\n",
       "      <td>52</td>\n",
       "      <td>2</td>\n",
       "      <td>ALEXANDER DENNIS MODEL MISSING</td>\n",
       "      <td>1</td>\n",
       "      <td>42</td>\n",
       "      <td>2</td>\n",
       "      <td>0</td>\n",
       "    </tr>\n",
       "    <tr>\n",
       "      <th>...</th>\n",
       "      <td>...</td>\n",
       "      <td>...</td>\n",
       "      <td>...</td>\n",
       "      <td>...</td>\n",
       "      <td>...</td>\n",
       "      <td>...</td>\n",
       "      <td>...</td>\n",
       "      <td>...</td>\n",
       "      <td>...</td>\n",
       "      <td>...</td>\n",
       "      <td>...</td>\n",
       "      <td>...</td>\n",
       "      <td>...</td>\n",
       "      <td>...</td>\n",
       "      <td>...</td>\n",
       "      <td>...</td>\n",
       "    </tr>\n",
       "    <tr>\n",
       "      <th>92445</th>\n",
       "      <td>2020990963785</td>\n",
       "      <td>2</td>\n",
       "      <td>1</td>\n",
       "      <td>1</td>\n",
       "      <td>11/07/2020</td>\n",
       "      <td>7</td>\n",
       "      <td>19:29</td>\n",
       "      <td>2</td>\n",
       "      <td>1</td>\n",
       "      <td>51</td>\n",
       "      <td>20</td>\n",
       "      <td>YAMAHA YZF R1</td>\n",
       "      <td>1</td>\n",
       "      <td>51</td>\n",
       "      <td>2</td>\n",
       "      <td>0</td>\n",
       "    </tr>\n",
       "    <tr>\n",
       "      <th>92446</th>\n",
       "      <td>2020990963795</td>\n",
       "      <td>3</td>\n",
       "      <td>2</td>\n",
       "      <td>1</td>\n",
       "      <td>27/05/2020</td>\n",
       "      <td>4</td>\n",
       "      <td>18:27</td>\n",
       "      <td>1</td>\n",
       "      <td>1</td>\n",
       "      <td>36</td>\n",
       "      <td>-1</td>\n",
       "      <td>-1</td>\n",
       "      <td>1</td>\n",
       "      <td>36</td>\n",
       "      <td>3</td>\n",
       "      <td>0</td>\n",
       "    </tr>\n",
       "    <tr>\n",
       "      <th>92447</th>\n",
       "      <td>2020990963798</td>\n",
       "      <td>3</td>\n",
       "      <td>1</td>\n",
       "      <td>1</td>\n",
       "      <td>11/07/2020</td>\n",
       "      <td>7</td>\n",
       "      <td>09:48</td>\n",
       "      <td>1</td>\n",
       "      <td>1</td>\n",
       "      <td>83</td>\n",
       "      <td>6</td>\n",
       "      <td>MITSUBISHI ASX</td>\n",
       "      <td>2</td>\n",
       "      <td>40</td>\n",
       "      <td>3</td>\n",
       "      <td>0</td>\n",
       "    </tr>\n",
       "    <tr>\n",
       "      <th>92448</th>\n",
       "      <td>2020990963826</td>\n",
       "      <td>2</td>\n",
       "      <td>3</td>\n",
       "      <td>1</td>\n",
       "      <td>11/07/2020</td>\n",
       "      <td>7</td>\n",
       "      <td>13:25</td>\n",
       "      <td>2</td>\n",
       "      <td>1</td>\n",
       "      <td>52</td>\n",
       "      <td>21</td>\n",
       "      <td>-1</td>\n",
       "      <td>1</td>\n",
       "      <td>52</td>\n",
       "      <td>2</td>\n",
       "      <td>0</td>\n",
       "    </tr>\n",
       "    <tr>\n",
       "      <th>92449</th>\n",
       "      <td>2020990963829</td>\n",
       "      <td>3</td>\n",
       "      <td>1</td>\n",
       "      <td>1</td>\n",
       "      <td>11/07/2020</td>\n",
       "      <td>7</td>\n",
       "      <td>18:05</td>\n",
       "      <td>2</td>\n",
       "      <td>1</td>\n",
       "      <td>30</td>\n",
       "      <td>-1</td>\n",
       "      <td>-1</td>\n",
       "      <td>2</td>\n",
       "      <td>79</td>\n",
       "      <td>3</td>\n",
       "      <td>0</td>\n",
       "    </tr>\n",
       "  </tbody>\n",
       "</table>\n",
       "<p>92450 rows × 16 columns</p>\n",
       "</div>"
      ],
      "text/plain": [
       "      accident_index  accident_severity  number_of_vehicles  \\\n",
       "0      2020010278554                  2                   2   \n",
       "1      2020010278556                  2                   2   \n",
       "2      2020010278558                  3                   2   \n",
       "3      2020010278559                  3                   2   \n",
       "4      2020010278561                  2                   1   \n",
       "...              ...                ...                 ...   \n",
       "92445  2020990963785                  2                   1   \n",
       "92446  2020990963795                  3                   2   \n",
       "92447  2020990963798                  3                   1   \n",
       "92448  2020990963826                  2                   3   \n",
       "92449  2020990963829                  3                   1   \n",
       "\n",
       "       number_of_casualties        date  day_of_week   time  \\\n",
       "0                         1  09/11/2020            2  20:20   \n",
       "1                         1  04/11/2020            4  11:50   \n",
       "2                         1  09/11/2020            2  19:31   \n",
       "3                         1  09/11/2020            2  19:13   \n",
       "4                         1  09/11/2020            2  18:03   \n",
       "...                     ...         ...          ...    ...   \n",
       "92445                     1  11/07/2020            7  19:29   \n",
       "92446                     1  27/05/2020            4  18:27   \n",
       "92447                     1  11/07/2020            7  09:48   \n",
       "92448                     1  11/07/2020            7  13:25   \n",
       "92449                     1  11/07/2020            7  18:05   \n",
       "\n",
       "       did_police_officer_attend_scene_of_accident  sex_of_driver  \\\n",
       "0                                                1              1   \n",
       "1                                                3              1   \n",
       "2                                                1              1   \n",
       "3                                                1              1   \n",
       "4                                                1              1   \n",
       "...                                            ...            ...   \n",
       "92445                                            2              1   \n",
       "92446                                            1              1   \n",
       "92447                                            1              1   \n",
       "92448                                            2              1   \n",
       "92449                                            2              1   \n",
       "\n",
       "       age_of_driver  age_of_vehicle              generic_make_model  \\\n",
       "0                 23               4                   SUZUKI UK 110   \n",
       "1                 17               4                   HONDA CBR125R   \n",
       "2                 45               0                  YAMAHA GPD 125   \n",
       "3                 45               7                              -1   \n",
       "4                 52               2  ALEXANDER DENNIS MODEL MISSING   \n",
       "...              ...             ...                             ...   \n",
       "92445             51              20                   YAMAHA YZF R1   \n",
       "92446             36              -1                              -1   \n",
       "92447             83               6                  MITSUBISHI ASX   \n",
       "92448             52              21                              -1   \n",
       "92449             30              -1                              -1   \n",
       "\n",
       "       sex_of_casualty  age_of_casualty  casualty_severity  car_passenger  \n",
       "0                    1               23                  2              0  \n",
       "1                    1               17                  2              0  \n",
       "2                    1               45                  3              0  \n",
       "3                    1               45                  3              0  \n",
       "4                    1               42                  2              0  \n",
       "...                ...              ...                ...            ...  \n",
       "92445                1               51                  2              0  \n",
       "92446                1               36                  3              0  \n",
       "92447                2               40                  3              0  \n",
       "92448                1               52                  2              0  \n",
       "92449                2               79                  3              0  \n",
       "\n",
       "[92450 rows x 16 columns]"
      ]
     },
     "execution_count": 76,
     "metadata": {},
     "output_type": "execute_result"
    }
   ],
   "source": [
    "df_traffic_accidents.dropna(['date', 'time', 'accident_index', 'day_of_week', 'generic_make_model', 'car_passenger','did_police_officer_attend_scene_of_accident','sex_of_casualty','age_of_vehicle','age_of_driver','generic_make_model'] == -1)"
   ]
  },
  {
   "cell_type": "code",
   "execution_count": 77,
   "id": "2b7a76ef",
   "metadata": {},
   "outputs": [],
   "source": [
    "df_traffic_accidents = df_traffic_accidents.reindex(columns = ['accident_severity', 'number_of_vehicles', 'number_of_casualties', 'day_of_week', 'did_police_officer_attend_scene_of_accident', 'sex_of_driver', 'age_of_driver', 'age_of_vehicle', 'sex_of_casualty', 'age_of_casualty', 'car_passenger', 'casualty_severity'])"
   ]
  },
  {
   "cell_type": "code",
   "execution_count": 78,
   "id": "6f54ee71",
   "metadata": {},
   "outputs": [
    {
     "data": {
      "text/html": [
       "<div>\n",
       "<style scoped>\n",
       "    .dataframe tbody tr th:only-of-type {\n",
       "        vertical-align: middle;\n",
       "    }\n",
       "\n",
       "    .dataframe tbody tr th {\n",
       "        vertical-align: top;\n",
       "    }\n",
       "\n",
       "    .dataframe thead th {\n",
       "        text-align: right;\n",
       "    }\n",
       "</style>\n",
       "<table border=\"1\" class=\"dataframe\">\n",
       "  <thead>\n",
       "    <tr style=\"text-align: right;\">\n",
       "      <th></th>\n",
       "      <th>accident_severity</th>\n",
       "      <th>number_of_vehicles</th>\n",
       "      <th>number_of_casualties</th>\n",
       "      <th>day_of_week</th>\n",
       "      <th>did_police_officer_attend_scene_of_accident</th>\n",
       "      <th>sex_of_driver</th>\n",
       "      <th>age_of_driver</th>\n",
       "      <th>age_of_vehicle</th>\n",
       "      <th>sex_of_casualty</th>\n",
       "      <th>age_of_casualty</th>\n",
       "      <th>car_passenger</th>\n",
       "      <th>casualty_severity</th>\n",
       "    </tr>\n",
       "  </thead>\n",
       "  <tbody>\n",
       "    <tr>\n",
       "      <th>0</th>\n",
       "      <td>2</td>\n",
       "      <td>2</td>\n",
       "      <td>1</td>\n",
       "      <td>2</td>\n",
       "      <td>1</td>\n",
       "      <td>1</td>\n",
       "      <td>23</td>\n",
       "      <td>4</td>\n",
       "      <td>1</td>\n",
       "      <td>23</td>\n",
       "      <td>0</td>\n",
       "      <td>2</td>\n",
       "    </tr>\n",
       "    <tr>\n",
       "      <th>1</th>\n",
       "      <td>2</td>\n",
       "      <td>2</td>\n",
       "      <td>1</td>\n",
       "      <td>4</td>\n",
       "      <td>3</td>\n",
       "      <td>1</td>\n",
       "      <td>17</td>\n",
       "      <td>4</td>\n",
       "      <td>1</td>\n",
       "      <td>17</td>\n",
       "      <td>0</td>\n",
       "      <td>2</td>\n",
       "    </tr>\n",
       "    <tr>\n",
       "      <th>2</th>\n",
       "      <td>3</td>\n",
       "      <td>2</td>\n",
       "      <td>1</td>\n",
       "      <td>2</td>\n",
       "      <td>1</td>\n",
       "      <td>1</td>\n",
       "      <td>45</td>\n",
       "      <td>0</td>\n",
       "      <td>1</td>\n",
       "      <td>45</td>\n",
       "      <td>0</td>\n",
       "      <td>3</td>\n",
       "    </tr>\n",
       "    <tr>\n",
       "      <th>3</th>\n",
       "      <td>3</td>\n",
       "      <td>2</td>\n",
       "      <td>1</td>\n",
       "      <td>2</td>\n",
       "      <td>1</td>\n",
       "      <td>1</td>\n",
       "      <td>45</td>\n",
       "      <td>7</td>\n",
       "      <td>1</td>\n",
       "      <td>45</td>\n",
       "      <td>0</td>\n",
       "      <td>3</td>\n",
       "    </tr>\n",
       "    <tr>\n",
       "      <th>4</th>\n",
       "      <td>2</td>\n",
       "      <td>1</td>\n",
       "      <td>1</td>\n",
       "      <td>2</td>\n",
       "      <td>1</td>\n",
       "      <td>1</td>\n",
       "      <td>52</td>\n",
       "      <td>2</td>\n",
       "      <td>1</td>\n",
       "      <td>42</td>\n",
       "      <td>0</td>\n",
       "      <td>2</td>\n",
       "    </tr>\n",
       "  </tbody>\n",
       "</table>\n",
       "</div>"
      ],
      "text/plain": [
       "   accident_severity  number_of_vehicles  number_of_casualties  day_of_week  \\\n",
       "0                  2                   2                     1            2   \n",
       "1                  2                   2                     1            4   \n",
       "2                  3                   2                     1            2   \n",
       "3                  3                   2                     1            2   \n",
       "4                  2                   1                     1            2   \n",
       "\n",
       "   did_police_officer_attend_scene_of_accident  sex_of_driver  age_of_driver  \\\n",
       "0                                            1              1             23   \n",
       "1                                            3              1             17   \n",
       "2                                            1              1             45   \n",
       "3                                            1              1             45   \n",
       "4                                            1              1             52   \n",
       "\n",
       "   age_of_vehicle  sex_of_casualty  age_of_casualty  car_passenger  \\\n",
       "0               4                1               23              0   \n",
       "1               4                1               17              0   \n",
       "2               0                1               45              0   \n",
       "3               7                1               45              0   \n",
       "4               2                1               42              0   \n",
       "\n",
       "   casualty_severity  \n",
       "0                  2  \n",
       "1                  2  \n",
       "2                  3  \n",
       "3                  3  \n",
       "4                  2  "
      ]
     },
     "execution_count": 78,
     "metadata": {},
     "output_type": "execute_result"
    }
   ],
   "source": [
    "df_traffic_accidents.head()"
   ]
  },
  {
   "cell_type": "code",
   "execution_count": 79,
   "id": "c9a4cbce",
   "metadata": {},
   "outputs": [],
   "source": [
    "df_traffic_accidents_lg = df_traffic_accidents.drop(['number_of_casualties','day_of_week', 'did_police_officer_attend_scene_of_accident',\n",
    "                                                    'sex_of_driver','age_of_vehicle', 'car_passenger'], axis=1)"
   ]
  },
  {
   "cell_type": "markdown",
   "id": "d4e39927",
   "metadata": {},
   "source": [
    "Estos seran las columnas usadas para llevar a cabo la regresion logistica mientras que la última (casualty_severity) sera la usada para predecir."
   ]
  },
  {
   "cell_type": "code",
   "execution_count": 80,
   "id": "ad872d74",
   "metadata": {},
   "outputs": [
    {
     "data": {
      "text/html": [
       "<div>\n",
       "<style scoped>\n",
       "    .dataframe tbody tr th:only-of-type {\n",
       "        vertical-align: middle;\n",
       "    }\n",
       "\n",
       "    .dataframe tbody tr th {\n",
       "        vertical-align: top;\n",
       "    }\n",
       "\n",
       "    .dataframe thead th {\n",
       "        text-align: right;\n",
       "    }\n",
       "</style>\n",
       "<table border=\"1\" class=\"dataframe\">\n",
       "  <thead>\n",
       "    <tr style=\"text-align: right;\">\n",
       "      <th></th>\n",
       "      <th>accident_severity</th>\n",
       "      <th>number_of_vehicles</th>\n",
       "      <th>age_of_driver</th>\n",
       "      <th>sex_of_casualty</th>\n",
       "      <th>age_of_casualty</th>\n",
       "      <th>casualty_severity</th>\n",
       "    </tr>\n",
       "  </thead>\n",
       "  <tbody>\n",
       "    <tr>\n",
       "      <th>0</th>\n",
       "      <td>2</td>\n",
       "      <td>2</td>\n",
       "      <td>23</td>\n",
       "      <td>1</td>\n",
       "      <td>23</td>\n",
       "      <td>2</td>\n",
       "    </tr>\n",
       "    <tr>\n",
       "      <th>1</th>\n",
       "      <td>2</td>\n",
       "      <td>2</td>\n",
       "      <td>17</td>\n",
       "      <td>1</td>\n",
       "      <td>17</td>\n",
       "      <td>2</td>\n",
       "    </tr>\n",
       "    <tr>\n",
       "      <th>2</th>\n",
       "      <td>3</td>\n",
       "      <td>2</td>\n",
       "      <td>45</td>\n",
       "      <td>1</td>\n",
       "      <td>45</td>\n",
       "      <td>3</td>\n",
       "    </tr>\n",
       "    <tr>\n",
       "      <th>3</th>\n",
       "      <td>3</td>\n",
       "      <td>2</td>\n",
       "      <td>45</td>\n",
       "      <td>1</td>\n",
       "      <td>45</td>\n",
       "      <td>3</td>\n",
       "    </tr>\n",
       "    <tr>\n",
       "      <th>4</th>\n",
       "      <td>2</td>\n",
       "      <td>1</td>\n",
       "      <td>52</td>\n",
       "      <td>1</td>\n",
       "      <td>42</td>\n",
       "      <td>2</td>\n",
       "    </tr>\n",
       "  </tbody>\n",
       "</table>\n",
       "</div>"
      ],
      "text/plain": [
       "   accident_severity  number_of_vehicles  age_of_driver  sex_of_casualty  \\\n",
       "0                  2                   2             23                1   \n",
       "1                  2                   2             17                1   \n",
       "2                  3                   2             45                1   \n",
       "3                  3                   2             45                1   \n",
       "4                  2                   1             52                1   \n",
       "\n",
       "   age_of_casualty  casualty_severity  \n",
       "0               23                  2  \n",
       "1               17                  2  \n",
       "2               45                  3  \n",
       "3               45                  3  \n",
       "4               42                  2  "
      ]
     },
     "execution_count": 80,
     "metadata": {},
     "output_type": "execute_result"
    }
   ],
   "source": [
    "df_traffic_accidents_lg.head()"
   ]
  },
  {
   "cell_type": "markdown",
   "id": "f89658ca",
   "metadata": {},
   "source": [
    "Hacemos las particiones testeo y entrenamiento y aplicamos el modelo."
   ]
  },
  {
   "cell_type": "code",
   "execution_count": 81,
   "id": "0a0eb77f",
   "metadata": {},
   "outputs": [],
   "source": [
    "X_train, X_test, y_train, y_test = train_test_split(df_traffic_accidents_lg.drop('casualty_severity', axis=1), df_traffic_accidents_lg['casualty_severity'])"
   ]
  },
  {
   "cell_type": "code",
   "execution_count": 82,
   "id": "c42325d4",
   "metadata": {},
   "outputs": [
    {
     "name": "stderr",
     "output_type": "stream",
     "text": [
      "C:\\Users\\migue\\anaconda3\\lib\\site-packages\\sklearn\\linear_model\\_logistic.py:762: ConvergenceWarning:\n",
      "\n",
      "lbfgs failed to converge (status=1):\n",
      "STOP: TOTAL NO. of ITERATIONS REACHED LIMIT.\n",
      "\n",
      "Increase the number of iterations (max_iter) or scale the data as shown in:\n",
      "    https://scikit-learn.org/stable/modules/preprocessing.html\n",
      "Please also refer to the documentation for alternative solver options:\n",
      "    https://scikit-learn.org/stable/modules/linear_model.html#logistic-regression\n",
      "\n"
     ]
    },
    {
     "data": {
      "text/plain": [
       "LogisticRegression()"
      ]
     },
     "execution_count": 82,
     "metadata": {},
     "output_type": "execute_result"
    }
   ],
   "source": [
    "lr = LogisticRegression(solver = 'lbfgs')\n",
    "lr.fit(X_train, y_train)"
   ]
  },
  {
   "cell_type": "code",
   "execution_count": 83,
   "id": "66c27b60",
   "metadata": {},
   "outputs": [
    {
     "data": {
      "text/plain": [
       "2"
      ]
     },
     "execution_count": 83,
     "metadata": {},
     "output_type": "execute_result"
    }
   ],
   "source": [
    "lr.predict(np.array([[1,1,20,2,65]]))[0]"
   ]
  },
  {
   "cell_type": "code",
   "execution_count": 84,
   "id": "b1724413",
   "metadata": {},
   "outputs": [
    {
     "data": {
      "text/plain": [
       "2"
      ]
     },
     "execution_count": 84,
     "metadata": {},
     "output_type": "execute_result"
    }
   ],
   "source": [
    "lr.predict(np.array([[1,6,50,1,12]]))[0]"
   ]
  },
  {
   "cell_type": "code",
   "execution_count": 85,
   "id": "c218a8a7",
   "metadata": {},
   "outputs": [
    {
     "data": {
      "text/plain": [
       "3"
      ]
     },
     "execution_count": 85,
     "metadata": {},
     "output_type": "execute_result"
    }
   ],
   "source": [
    "lr.predict(np.array([[3,2,16,1,65]]))[0]"
   ]
  },
  {
   "cell_type": "code",
   "execution_count": 86,
   "id": "f05e9bc1",
   "metadata": {},
   "outputs": [
    {
     "data": {
      "text/plain": [
       "2"
      ]
     },
     "execution_count": 86,
     "metadata": {},
     "output_type": "execute_result"
    }
   ],
   "source": [
    "lr.predict(np.array([[2,2,16,1,35]]))[0]"
   ]
  }
 ],
 "metadata": {
  "kernelspec": {
   "display_name": "Python 3",
   "language": "python",
   "name": "python3"
  },
  "language_info": {
   "codemirror_mode": {
    "name": "ipython",
    "version": 3
   },
   "file_extension": ".py",
   "mimetype": "text/x-python",
   "name": "python",
   "nbconvert_exporter": "python",
   "pygments_lexer": "ipython3",
   "version": "3.8.5"
  }
 },
 "nbformat": 4,
 "nbformat_minor": 5
}
