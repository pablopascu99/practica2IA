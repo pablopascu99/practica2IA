{
 "cells": [
  {
   "cell_type": "markdown",
   "metadata": {},
   "source": [
    "# UK Traffic Accidents Predictions (Datos de seguridad vial)"
   ]
  },
  {
   "cell_type": "markdown",
   "metadata": {},
   "source": [
    "<h1>Tabla de Contenidos<span class=\"tocSkip\"></span></h1>\n",
    "<div class=\"toc\">\n",
    "   <ul class=\"toc-item\">\n",
    "      <li>\n",
    "         <span><a href=\"#Problem-Definition\" data-toc-modified-id=\"Problem-Definition-1\"><span class=\"toc-item-num\">1&nbsp;&nbsp;</span>Problem Definition</a></span>\n",
    "         <ul class=\"toc-item\">\n",
    "            <li><span><a href=\"#Project-Overview\" data-toc-modified-id=\"Project-Overview-1.1\"><span class=\"toc-item-num\">1.1&nbsp;&nbsp;</span>Project Overview</a></span></li>\n",
    "            <li><span><a href=\"#Problem-Statement\" data-toc-modified-id=\"Problem-Statement-1.2\"><span class=\"toc-item-num\">1.2&nbsp;&nbsp;</span>Problem Statement</a></span></li>\n",
    "         </ul>\n",
    "      </li>\n",
    "      <li>\n",
    "         <span><a href=\"#Dataset-Analysis\" data-toc-modified-id=\"Dataset-Analysis-2\"><span class=\"toc-item-num\">2&nbsp;&nbsp;</span>Dataset Analysis</a></span>\n",
    "         <ul class=\"toc-item\">\n",
    "            <li><span><a href=\"#Importing-Python-libraries\" data-toc-modified-id=\"Importing-Python-libraries-2.1\"><span class=\"toc-item-num\">2.1&nbsp;&nbsp;</span>Importing Python libraries</a></span></li>\n",
    "            <li><span><a href=\"#Importing-the-data\" data-toc-modified-id=\"Importing-the-data-2.2\"><span class=\"toc-item-num\">2.2&nbsp;&nbsp;</span>Importing the data</a></span></li>\n",
    "            <li>\n",
    "               <span><a href=\"#Data-Description-and-Exploratory-Visualisations\" data-toc-modified-id=\"Data-Description-and-Exploratory-Visualisations-2.3\"><span class=\"toc-item-num\">2.3&nbsp;&nbsp;</span>Data Description and Exploratory Visualisations</a></span>\n",
    "               <ul class=\"toc-item\">\n",
    "                  <li><span><a href=\"#Overview\" data-toc-modified-id=\"Overview-2.3.1\"><span class=\"toc-item-num\">2.3.1&nbsp;&nbsp;</span>Overview</a></span></li>\n",
    "                  <li><span><a href=\"#Numerical-features-overview\" data-toc-modified-id=\"Numerical-features-overview-2.3.2\"><span class=\"toc-item-num\">2.3.2&nbsp;&nbsp;</span>Numerical features overview</a></span></li>\n",
    "               </ul>\n",
    "            </li>\n",
    "            <li>\n",
    "               <span><a href=\"#Feature-distribution-by-target-attribute\" data-toc-modified-id=\"Feature-distribution-by-target-attribute-2.4\"><span class=\"toc-item-num\">2.4&nbsp;&nbsp;</span>Feature distribution by target attribute</a></span>\n",
    "               <ul class=\"toc-item\">\n",
    "                  <li><span><a href=\"#Accident-severity\" data-toc-modified-id=\"Age-2.4.1\"><span class=\"toc-item-num\">2.4.1&nbsp;&nbsp;</span>Accident severity</a></span></li>\n",
    "                  <li><span><a href=\"#Number-of-vehicles\" data-toc-modified-id=\"Education-2.4.2\"><span class=\"toc-item-num\">2.4.2&nbsp;&nbsp;</span>Number of vehicles</a></span></li>\n",
    "                  <li><span><a href=\"#Number-of-casualties\" data-toc-modified-id=\"Gender-2.4.3\"><span class=\"toc-item-num\">2.4.3&nbsp;&nbsp;</span>Number of casualties</a></span></li>\n",
    "                  <li><span><a href=\"#Day-of-week\" data-toc-modified-id=\"Marital-Status-2.4.4\"><span class=\"toc-item-num\">2.4.4&nbsp;&nbsp;</span>Day of week</a></span></li>\n",
    "                  <li><span><a href=\"#Police-office-attend\" data-toc-modified-id=\"Distance-from-Home-2.4.5\"><span class=\"toc-item-num\">2.4.5&nbsp;&nbsp;</span>Police office attend</a></span></li>\n",
    "                  <li><span><a href=\"#Sex-of-driver\" data-toc-modified-id=\"Department-2.4.6\"><span class=\"toc-item-num\">2.4.6&nbsp;&nbsp;</span>Sex of driver</a></span></li>\n",
    "                  <li><span><a href=\"#Age-of-driver\" data-toc-modified-id=\"Role-and-Work-Conditions-2.4.7\"><span class=\"toc-item-num\">2.4.7&nbsp;&nbsp;</span>Age of driver</a></span></li>\n",
    "                  <li><span><a href=\"#Age-of-vehicle\" data-toc-modified-id=\"Years-at-the-Company-2.4.8\"><span class=\"toc-item-num\">2.4.8&nbsp;&nbsp;</span>Age of vehicle</a></span></li>\n",
    "                  <li><span><a href=\"#Sex-of-casualty\" data-toc-modified-id=\"Years-With-Current-Manager-2.4.9\"><span class=\"toc-item-num\">2.4.9&nbsp;&nbsp;</span>Sex of casualty</a></span></li>\n",
    "                  <li><span><a href=\"#Age-of-casualty\" data-toc-modified-id=\"Work-Life-Balance-Score-2.4.10\"><span class=\"toc-item-num\">2.4.10&nbsp;&nbsp;</span>Age of casualty</a></span></li>\n",
    "                  <li><span><a href=\"#Casualty-severity\" data-toc-modified-id=\"Pay/Salary-Employee-Information-2.4.11\"><span class=\"toc-item-num\">2.4.11&nbsp;&nbsp;</span>Casualty severity</a></span></li>\n",
    "                  <li><span><a href=\"#Car-passenger\" data-toc-modified-id=\"Employee-Satisfaction-and-Performance-Information-2.4.12\"><span class=\"toc-item-num\">2.4.12&nbsp;&nbsp;</span>Car passenger</a></span></li>\n",
    "               </ul>\n",
    "            </li>\n",
    "            <li><span><a href=\"#Target-Variable:-Attrition\" data-toc-modified-id=\"Target-Variable:-Attrition-2.5\"><span class=\"toc-item-num\">2.5&nbsp;&nbsp;</span>Target Variable: Attrition</a></span></li>\n",
    "            <li><span><a href=\"#Correlation\" data-toc-modified-id=\"Correlation-2.6\"><span class=\"toc-item-num\">2.6&nbsp;&nbsp;</span>Correlation</a></span></li>\n",
    "            <li><span><a href=\"#EDA-Concluding-Remarks\" data-toc-modified-id=\"EDA-Concluding-Remarks-2.7\"><span class=\"toc-item-num\">2.7&nbsp;&nbsp;</span>EDA Concluding Remarks</a></span></li>\n",
    "         </ul>\n",
    "      </li>\n",
    "      <li>\n",
    "         <span><a href=\"#Pre-processing-Pipeline\" data-toc-modified-id=\"Pre-processing-Pipeline-3\"><span class=\"toc-item-num\">3&nbsp;&nbsp;</span>Pre-processing Pipeline</a></span>\n",
    "         <ul class=\"toc-item\">\n",
    "            <li><span><a href=\"#Encoding\" data-toc-modified-id=\"Encoding-3.1\"><span class=\"toc-item-num\">3.1&nbsp;&nbsp;</span>Encoding</a></span></li>\n",
    "            <li><span><a href=\"#Feature-Scaling\" data-toc-modified-id=\"Feature-Scaling-3.2\"><span class=\"toc-item-num\">3.2&nbsp;&nbsp;</span>Feature Scaling</a></span></li>\n",
    "            <li><span><a href=\"#Splitting-data-into-training-and-testing-sets\" data-toc-modified-id=\"Splitting-data-into-training-and-testing-sets-3.3\"><span class=\"toc-item-num\">3.3&nbsp;&nbsp;</span>Splitting data into training and testing sets</a></span></li>\n",
    "         </ul>\n",
    "      </li>\n",
    "      <li>\n",
    "         <span><a href=\"#Building-Machine-Learning-Models\" data-toc-modified-id=\"Building-Machine-Learning-Models-4\"><span class=\"toc-item-num\">4&nbsp;&nbsp;</span>Building Machine Learning Models</a></span>\n",
    "         <ul class=\"toc-item\">\n",
    "            <li><span><a href=\"#Baseline-Algorithms\" data-toc-modified-id=\"Baseline-Algorithms-4.1\"><span class=\"toc-item-num\">4.1&nbsp;&nbsp;</span>Baseline Algorithms</a></span></li>\n",
    "            <li>\n",
    "               <span><a href=\"#Logistic-Regression\" data-toc-modified-id=\"Logistic-Regression-4.2\"><span class=\"toc-item-num\">4.2&nbsp;&nbsp;</span>Logistic Regression</a></span>\n",
    "               <ul class=\"toc-item\">\n",
    "                  <li><span><a href=\"#Fine-tuning\" data-toc-modified-id=\"Fine-tuning-4.2.1\"><span class=\"toc-item-num\">4.2.1&nbsp;&nbsp;</span>Fine-tuning</a></span></li>\n",
    "                  <li><span><a href=\"#Evaluation\" data-toc-modified-id=\"Evaluation-4.2.2\"><span class=\"toc-item-num\">4.2.2&nbsp;&nbsp;</span>Evaluation</a></span></li>\n",
    "               </ul>\n",
    "            </li>\n",
    "            <li>\n",
    "               <span><a href=\"#Random-Forest-Classifier\" data-toc-modified-id=\"Random-Forest-Classifier-4.3\"><span class=\"toc-item-num\">4.3&nbsp;&nbsp;</span>Random Forest Classifier</a></span>\n",
    "               <ul class=\"toc-item\">\n",
    "                  <li><span><a href=\"#Fine-tuning\" data-toc-modified-id=\"Fine-tuning-4.3.1\"><span class=\"toc-item-num\">4.3.1&nbsp;&nbsp;</span>Fine-tuning</a></span></li>\n",
    "                  <li><span><a href=\"#Evaluation\" data-toc-modified-id=\"Evaluation-4.3.2\"><span class=\"toc-item-num\">4.3.2&nbsp;&nbsp;</span>Evaluation</a></span></li>\n",
    "               </ul>\n",
    "            </li>\n",
    "            <li><span><a href=\"#ROC-Graphs\" data-toc-modified-id=\"ROC-Graphs-4.4\"><span class=\"toc-item-num\">4.4&nbsp;&nbsp;</span>ROC Graphs</a></span></li>\n",
    "         </ul>\n",
    "      </li>\n",
    "      <li>\n",
    "         <span><a href=\"#Concluding-Remarks\" data-toc-modified-id=\"Concluding-Remarks-5\"><span class=\"toc-item-num\">5&nbsp;&nbsp;</span>Concluding Remarks</a></span>\n",
    "         <ul class=\"toc-item\">\n",
    "            <li><span><a href=\"#Risk-Category\" data-toc-modified-id=\"Risk-Category-5.1\"><span class=\"toc-item-num\">5.1&nbsp;&nbsp;</span>Risk Category</a></span></li>\n",
    "            <li><span><a href=\"#Strategic-Retention-Plan\" data-toc-modified-id=\"Strategic-Retention-Plan-5.2\"><span class=\"toc-item-num\">5.2&nbsp;&nbsp;</span>Strategic Retention Plan</a></span></li>\n",
    "         </ul>\n",
    "      </li>\n",
    "   </ul>\n",
    "</div>"
   ]
  },
  {
   "cell_type": "markdown",
   "metadata": {},
   "source": [
    "## Problem Definition"
   ]
  },
  {
   "cell_type": "markdown",
   "metadata": {},
   "source": [
    "Partimos de 3 .csv que guardan los datos de los accidentes, victimas y vehiculos de UK del año 2020. Fueron descargados desde la pagina oficial del gobierno de Gran Bretaña https://data.gov.uk/dataset/cb7ae6f0-4be6-4935-9277-47e5ce24a11f/road-safety-data"
   ]
  },
  {
   "cell_type": "markdown",
   "metadata": {},
   "source": [
    "De esos 3 .csv iniciales, los unificamos en uno solo mediante el identificador del accidente y después (ya solo con un .csv) filtramos y obtenemos los datos que nos interesan para luego implementar los modelos. "
   ]
  },
  {
   "cell_type": "markdown",
   "metadata": {},
   "source": [
    "<img src='problemOverview.jpg' >"
   ]
  },
  {
   "cell_type": "markdown",
   "metadata": {},
   "source": [
    "## Dataset Analysis"
   ]
  },
  {
   "cell_type": "markdown",
   "metadata": {},
   "source": [
    "En este caso de estudio, se ha obtenido un conjunto de datos de Road Safety Data de [Find Open Data](https://data.gov.uk/)  <br>\n",
    "\n",
    "Como se indica en el [Sitio web del Dataset](https://data.gov.uk/dataset/cb7ae6f0-4be6-4935-9277-47e5ce24a11f/road-safety-data) \n",
    "<em>Estos archivos proporcionan datos detallados de seguridad vial sobre las circunstancias de los accidentes de tráfico con lesiones personales en Gran Bretaña desde 1979, los tipos de vehículos implicados y las víctimas resultantes. Las estadísticas se refieren únicamente a los accidentes con lesiones personales en la vía pública que se notifican a la policía, y que posteriormente se registran, utilizando el formulario de notificación de accidentes STATS19.<br>Todas las variables de datos están codificadas en lugar de contener cadenas textuales. Las tablas de búsqueda están disponibles en la sección \"Recursos adicionales\" hacia la parte inferior de la tabla.También incluye: Los resultados de los datos de las pruebas de alcoholemia de los dispositivos digitales de pruebas de alcoholemia introducidos recientemente, proporcionados por las autoridades policiales de Inglaterra y Gales Los resultados de los niveles de alcohol en sangre (miligramos / 100 mililitros de sangre) proporcionados por el cotejo de los datos de los médicos forenses (proporcionados por los médicos forenses de Inglaterra y Gales y por los Procuradores Fiscales de Escocia) con los datos de víctimas mortales de los datos policiales STATS19 de accidentes de tráfico en Gran Bretaña. Los casos en los que los niveles de alcohol en sangre de una víctima mortal son \"desconocidos\" son consecuencia de una coincidencia infructuosa entre los dos conjuntos de datos.</em>\n"
   ]
  },
  {
   "cell_type": "markdown",
   "metadata": {},
   "source": [
    "### Importing Python libraries"
   ]
  },
  {
   "cell_type": "code",
<<<<<<< HEAD
   "execution_count": 3,
=======
   "execution_count": 88,
>>>>>>> 602ff74d33bf130460ce1cd5ed2ba91348276f41
   "metadata": {},
   "outputs": [
    {
     "ename": "ModuleNotFoundError",
     "evalue": "No module named 'plotly'",
     "output_type": "error",
     "traceback": [
      "\u001b[1;31m---------------------------------------------------------------------------\u001b[0m",
      "\u001b[1;31mModuleNotFoundError\u001b[0m                       Traceback (most recent call last)",
      "\u001b[1;32mC:\\Users\\PABLO2~1\\AppData\\Local\\Temp/ipykernel_16112/1795799637.py\u001b[0m in \u001b[0;36m<module>\u001b[1;34m\u001b[0m\n\u001b[0;32m     11\u001b[0m \u001b[0mget_ipython\u001b[0m\u001b[1;33m(\u001b[0m\u001b[1;33m)\u001b[0m\u001b[1;33m.\u001b[0m\u001b[0mrun_line_magic\u001b[0m\u001b[1;33m(\u001b[0m\u001b[1;34m'matplotlib'\u001b[0m\u001b[1;33m,\u001b[0m \u001b[1;34m'inline'\u001b[0m\u001b[1;33m)\u001b[0m\u001b[1;33m\u001b[0m\u001b[1;33m\u001b[0m\u001b[0m\n\u001b[0;32m     12\u001b[0m \u001b[0mcolor\u001b[0m \u001b[1;33m=\u001b[0m \u001b[0msns\u001b[0m\u001b[1;33m.\u001b[0m\u001b[0mcolor_palette\u001b[0m\u001b[1;33m(\u001b[0m\u001b[1;33m)\u001b[0m\u001b[1;33m\u001b[0m\u001b[1;33m\u001b[0m\u001b[0m\n\u001b[1;32m---> 13\u001b[1;33m \u001b[1;32mimport\u001b[0m \u001b[0mplotly\u001b[0m \u001b[1;32mas\u001b[0m \u001b[0mpy\u001b[0m\u001b[1;33m\u001b[0m\u001b[1;33m\u001b[0m\u001b[0m\n\u001b[0m\u001b[0;32m     14\u001b[0m \u001b[1;32mfrom\u001b[0m \u001b[0mIPython\u001b[0m\u001b[1;33m.\u001b[0m\u001b[0mdisplay\u001b[0m \u001b[1;32mimport\u001b[0m \u001b[0mdisplay\u001b[0m\u001b[1;33m\u001b[0m\u001b[1;33m\u001b[0m\u001b[0m\n\u001b[0;32m     15\u001b[0m \u001b[1;32mfrom\u001b[0m \u001b[0mplotly\u001b[0m\u001b[1;33m.\u001b[0m\u001b[0moffline\u001b[0m \u001b[1;32mimport\u001b[0m \u001b[0mdownload_plotlyjs\u001b[0m\u001b[1;33m,\u001b[0m \u001b[0minit_notebook_mode\u001b[0m\u001b[1;33m,\u001b[0m \u001b[0mplot\u001b[0m\u001b[1;33m,\u001b[0m \u001b[0miplot\u001b[0m\u001b[1;33m\u001b[0m\u001b[1;33m\u001b[0m\u001b[0m\n",
      "\u001b[1;31mModuleNotFoundError\u001b[0m: No module named 'plotly'"
     ]
    }
   ],
   "source": [
    "import os\n",
    "import pandas as pd\n",
    "import numpy as np\n",
    "\n",
    "# importing libraries for data visualisations\n",
    "import seaborn as sns\n",
    "from matplotlib import pyplot\n",
    "import matplotlib.pyplot as plt\n",
    "import matplotlib.pylab as pylab\n",
    "from scipy.stats import norm\n",
    "import matplotlib\n",
    "%matplotlib inline\n",
    "color = sns.color_palette()\n",
    "from IPython.display import display\n",
<<<<<<< HEAD
    "from plotly.offline import download_plotlyjs, init_notebook_mode, plot, iplot\n",
    "pd.options.display.max_columns = None"
=======
    "pd.options.display.max_columns = None\n",
    "from sklearn.linear_model import LogisticRegression\n",
    "from sklearn.model_selection import train_test_split"
>>>>>>> 602ff74d33bf130460ce1cd5ed2ba91348276f41
   ]
  },
  {
   "cell_type": "markdown",
   "metadata": {},
   "source": [
    "### Importing the data"
   ]
  },
  {
   "cell_type": "markdown",
   "metadata": {},
   "source": [
    "Importamos el conjuntos de datos, contamos con 3 archivos CSV que previamente unificaremos en uno solo con las variables que nos \n",
    "interesen para proceder con el estudio."
   ]
  },
  {
   "cell_type": "code",
<<<<<<< HEAD
   "execution_count": null,
=======
   "execution_count": 51,
>>>>>>> 602ff74d33bf130460ce1cd5ed2ba91348276f41
   "metadata": {
    "scrolled": true
   },
   "outputs": [
    {
     "name": "stderr",
     "output_type": "stream",
     "text": [
      "C:\\Users\\pablo 2\\AppData\\Local\\Programs\\Python\\Python310\\lib\\site-packages\\IPython\\core\\interactiveshell.py:3444: DtypeWarning: Columns (0,2) have mixed types.Specify dtype option on import or set low_memory=False.\n",
      "  exec(code_obj, self.user_global_ns, self.user_ns)\n"
     ]
    },
    {
     "name": "stdout",
     "output_type": "stream",
     "text": [
      "El primer CSV contiene: (167375, 27) (filas x columnas)\n",
      "El segundo CSV contiene: (91199, 36) (filas x columnas)\n",
      "El tercer CSV contiene: (115584, 18) (filas x columnas)\n"
     ]
    }
   ],
   "source": [
    "#Read csv file\n",
    "df_vehicles = pd.read_csv('data/dft-road-casualty-statistics-vehicle-2020.csv')\n",
    "df_accidents = pd.read_csv('data/dft-road-casualty-statistics-accident-2020.csv')\n",
    "df_casualties = pd.read_csv('data/dft-road-casualty-statistics-casualty-2020.csv')\n",
    "#Shape of CSV\n",
    "print(\"El primer CSV contiene: {} (filas x columnas)\".format(df_vehicles.shape))\n",
    "print(\"El segundo CSV contiene: {} (filas x columnas)\".format(df_accidents.shape))\n",
    "print(\"El tercer CSV contiene: {} (filas x columnas)\".format(df_casualties.shape))"
   ]
  },
  {
   "cell_type": "markdown",
   "metadata": {},
   "source": [
    "Unificamos los 3 csv anteriores usando merge function con how='inner'. Dado el propio funcionamiento de la funcion lo deberemos hacer en dos partes (df_vehicles + df_accidents) + df_casualties"
   ]
  },
  {
   "cell_type": "code",
<<<<<<< HEAD
   "execution_count": null,
=======
   "execution_count": 52,
>>>>>>> 602ff74d33bf130460ce1cd5ed2ba91348276f41
   "metadata": {},
   "outputs": [
    {
     "name": "stdout",
     "output_type": "stream",
     "text": [
      "El archivo CSV final contiene: (92450, 74) (filas x columnas)\n"
     ]
    }
   ],
   "source": [
    "#Unificamos df_accidents con df_vehicles\n",
    "df_traffic_accidents_v1 = pd.merge(df_accidents, df_vehicles, how='inner')\n",
    "\n",
    "#Unificamos df_traffic_accidents_v1 con df_casualties\n",
    "df_traffic_accidents = pd.merge(df_traffic_accidents_v1, df_casualties, how='inner')\n",
    "print(\"El archivo CSV final contiene: {} (filas x columnas)\".format(df_traffic_accidents.shape))"
   ]
  },
  {
   "cell_type": "markdown",
   "metadata": {},
   "source": [
    "### Data Description and Exploratory Visualisations"
   ]
  },
  {
   "cell_type": "markdown",
   "metadata": {},
   "source": [
    "> En esta sección, proporcionaremos visualizaciones de datos que resumen o extraen características relevantes de los rasgos de nuestro conjunto de datos. Veamos cada columna en detalle, para comprender mejor el conjunto de datos y agruparlos cuando sea apropiado. Además\n",
    "de agrupaciones también se eliminarán aquellos cuya información no sea relevante o aporte interés en el caso de estudio."
   ]
  },
  {
   "cell_type": "markdown",
   "metadata": {},
   "source": [
    "#### Overview"
   ]
  },
  {
   "cell_type": "code",
<<<<<<< HEAD
   "execution_count": null,
=======
   "execution_count": 53,
>>>>>>> 602ff74d33bf130460ce1cd5ed2ba91348276f41
   "metadata": {},
   "outputs": [
    {
     "data": {
      "text/html": [
       "<div>\n",
       "<style scoped>\n",
       "    .dataframe tbody tr th:only-of-type {\n",
       "        vertical-align: middle;\n",
       "    }\n",
       "\n",
       "    .dataframe tbody tr th {\n",
       "        vertical-align: top;\n",
       "    }\n",
       "\n",
       "    .dataframe thead th {\n",
       "        text-align: right;\n",
       "    }\n",
       "</style>\n",
       "<table border=\"1\" class=\"dataframe\">\n",
       "  <thead>\n",
       "    <tr style=\"text-align: right;\">\n",
       "      <th></th>\n",
       "      <th>accident_index</th>\n",
       "      <th>accident_year</th>\n",
       "      <th>accident_reference</th>\n",
       "      <th>location_easting_osgr</th>\n",
       "      <th>location_northing_osgr</th>\n",
       "      <th>longitude</th>\n",
       "      <th>latitude</th>\n",
       "      <th>police_force</th>\n",
       "      <th>accident_severity</th>\n",
       "      <th>number_of_vehicles</th>\n",
       "      <th>number_of_casualties</th>\n",
       "      <th>date</th>\n",
       "      <th>day_of_week</th>\n",
       "      <th>time</th>\n",
       "      <th>local_authority_district</th>\n",
       "      <th>local_authority_ons_district</th>\n",
       "      <th>local_authority_highway</th>\n",
       "      <th>first_road_class</th>\n",
       "      <th>first_road_number</th>\n",
       "      <th>road_type</th>\n",
       "      <th>speed_limit</th>\n",
       "      <th>junction_detail</th>\n",
       "      <th>junction_control</th>\n",
       "      <th>second_road_class</th>\n",
       "      <th>second_road_number</th>\n",
       "      <th>pedestrian_crossing_human_control</th>\n",
       "      <th>pedestrian_crossing_physical_facilities</th>\n",
       "      <th>light_conditions</th>\n",
       "      <th>weather_conditions</th>\n",
       "      <th>road_surface_conditions</th>\n",
       "      <th>special_conditions_at_site</th>\n",
       "      <th>carriageway_hazards</th>\n",
       "      <th>urban_or_rural_area</th>\n",
       "      <th>did_police_officer_attend_scene_of_accident</th>\n",
       "      <th>trunk_road_flag</th>\n",
       "      <th>lsoa_of_accident_location</th>\n",
       "      <th>vehicle_reference</th>\n",
       "      <th>vehicle_type</th>\n",
       "      <th>towing_and_articulation</th>\n",
       "      <th>vehicle_manoeuvre</th>\n",
       "      <th>vehicle_direction_from</th>\n",
       "      <th>vehicle_direction_to</th>\n",
       "      <th>vehicle_location_restricted_lane</th>\n",
       "      <th>junction_location</th>\n",
       "      <th>skidding_and_overturning</th>\n",
       "      <th>hit_object_in_carriageway</th>\n",
       "      <th>vehicle_leaving_carriageway</th>\n",
       "      <th>hit_object_off_carriageway</th>\n",
       "      <th>first_point_of_impact</th>\n",
       "      <th>vehicle_left_hand_drive</th>\n",
       "      <th>journey_purpose_of_driver</th>\n",
       "      <th>sex_of_driver</th>\n",
       "      <th>age_of_driver</th>\n",
       "      <th>age_band_of_driver</th>\n",
       "      <th>engine_capacity_cc</th>\n",
       "      <th>propulsion_code</th>\n",
       "      <th>age_of_vehicle</th>\n",
       "      <th>generic_make_model</th>\n",
       "      <th>driver_imd_decile</th>\n",
       "      <th>driver_home_area_type</th>\n",
       "      <th>casualty_reference</th>\n",
       "      <th>casualty_class</th>\n",
       "      <th>sex_of_casualty</th>\n",
       "      <th>age_of_casualty</th>\n",
       "      <th>age_band_of_casualty</th>\n",
       "      <th>casualty_severity</th>\n",
       "      <th>pedestrian_location</th>\n",
       "      <th>pedestrian_movement</th>\n",
       "      <th>car_passenger</th>\n",
       "      <th>bus_or_coach_passenger</th>\n",
       "      <th>pedestrian_road_maintenance_worker</th>\n",
       "      <th>casualty_type</th>\n",
       "      <th>casualty_home_area_type</th>\n",
       "      <th>casualty_imd_decile</th>\n",
       "    </tr>\n",
       "  </thead>\n",
       "  <tbody>\n",
       "    <tr>\n",
       "      <th>0</th>\n",
       "      <td>2020010278554</td>\n",
       "      <td>2020</td>\n",
       "      <td>010278554</td>\n",
       "      <td>531639.0</td>\n",
       "      <td>168889.0</td>\n",
       "      <td>-0.108858</td>\n",
       "      <td>51.403761</td>\n",
       "      <td>1</td>\n",
       "      <td>2</td>\n",
       "      <td>2</td>\n",
       "      <td>1</td>\n",
       "      <td>09/11/2020</td>\n",
       "      <td>2</td>\n",
       "      <td>20:20</td>\n",
       "      <td>20</td>\n",
       "      <td>E09000008</td>\n",
       "      <td>E09000008</td>\n",
       "      <td>5</td>\n",
       "      <td>0</td>\n",
       "      <td>6</td>\n",
       "      <td>20</td>\n",
       "      <td>0</td>\n",
       "      <td>-1</td>\n",
       "      <td>6</td>\n",
       "      <td>0</td>\n",
       "      <td>0</td>\n",
       "      <td>0</td>\n",
       "      <td>4</td>\n",
       "      <td>1</td>\n",
       "      <td>2</td>\n",
       "      <td>0</td>\n",
       "      <td>0</td>\n",
       "      <td>1</td>\n",
       "      <td>1</td>\n",
       "      <td>2</td>\n",
       "      <td>E01000994</td>\n",
       "      <td>2</td>\n",
       "      <td>3</td>\n",
       "      <td>0</td>\n",
       "      <td>6</td>\n",
       "      <td>7</td>\n",
       "      <td>7</td>\n",
       "      <td>0</td>\n",
       "      <td>0</td>\n",
       "      <td>0</td>\n",
       "      <td>0</td>\n",
       "      <td>0</td>\n",
       "      <td>0</td>\n",
       "      <td>3</td>\n",
       "      <td>1</td>\n",
       "      <td>6</td>\n",
       "      <td>1</td>\n",
       "      <td>23</td>\n",
       "      <td>5</td>\n",
       "      <td>113</td>\n",
       "      <td>1</td>\n",
       "      <td>4</td>\n",
       "      <td>SUZUKI UK 110</td>\n",
       "      <td>-1</td>\n",
       "      <td>-1</td>\n",
       "      <td>1</td>\n",
       "      <td>1</td>\n",
       "      <td>1</td>\n",
       "      <td>23</td>\n",
       "      <td>5</td>\n",
       "      <td>2</td>\n",
       "      <td>0</td>\n",
       "      <td>0</td>\n",
       "      <td>0</td>\n",
       "      <td>0</td>\n",
       "      <td>0</td>\n",
       "      <td>3</td>\n",
       "      <td>-1</td>\n",
       "      <td>-1</td>\n",
       "    </tr>\n",
       "    <tr>\n",
       "      <th>1</th>\n",
       "      <td>2020010278556</td>\n",
       "      <td>2020</td>\n",
       "      <td>010278556</td>\n",
       "      <td>528687.0</td>\n",
       "      <td>184702.0</td>\n",
       "      <td>-0.145519</td>\n",
       "      <td>51.546549</td>\n",
       "      <td>1</td>\n",
       "      <td>2</td>\n",
       "      <td>2</td>\n",
       "      <td>1</td>\n",
       "      <td>04/11/2020</td>\n",
       "      <td>4</td>\n",
       "      <td>11:50</td>\n",
       "      <td>2</td>\n",
       "      <td>E09000007</td>\n",
       "      <td>E09000007</td>\n",
       "      <td>5</td>\n",
       "      <td>0</td>\n",
       "      <td>6</td>\n",
       "      <td>30</td>\n",
       "      <td>3</td>\n",
       "      <td>4</td>\n",
       "      <td>6</td>\n",
       "      <td>0</td>\n",
       "      <td>9</td>\n",
       "      <td>9</td>\n",
       "      <td>1</td>\n",
       "      <td>1</td>\n",
       "      <td>9</td>\n",
       "      <td>0</td>\n",
       "      <td>0</td>\n",
       "      <td>1</td>\n",
       "      <td>3</td>\n",
       "      <td>2</td>\n",
       "      <td>E01000927</td>\n",
       "      <td>1</td>\n",
       "      <td>3</td>\n",
       "      <td>0</td>\n",
       "      <td>99</td>\n",
       "      <td>9</td>\n",
       "      <td>9</td>\n",
       "      <td>99</td>\n",
       "      <td>9</td>\n",
       "      <td>9</td>\n",
       "      <td>99</td>\n",
       "      <td>9</td>\n",
       "      <td>99</td>\n",
       "      <td>9</td>\n",
       "      <td>1</td>\n",
       "      <td>6</td>\n",
       "      <td>1</td>\n",
       "      <td>17</td>\n",
       "      <td>4</td>\n",
       "      <td>125</td>\n",
       "      <td>1</td>\n",
       "      <td>4</td>\n",
       "      <td>HONDA CBR125R</td>\n",
       "      <td>1</td>\n",
       "      <td>1</td>\n",
       "      <td>1</td>\n",
       "      <td>1</td>\n",
       "      <td>1</td>\n",
       "      <td>17</td>\n",
       "      <td>4</td>\n",
       "      <td>2</td>\n",
       "      <td>0</td>\n",
       "      <td>0</td>\n",
       "      <td>0</td>\n",
       "      <td>0</td>\n",
       "      <td>0</td>\n",
       "      <td>3</td>\n",
       "      <td>1</td>\n",
       "      <td>1</td>\n",
       "    </tr>\n",
       "    <tr>\n",
       "      <th>2</th>\n",
       "      <td>2020010278558</td>\n",
       "      <td>2020</td>\n",
       "      <td>010278558</td>\n",
       "      <td>534296.0</td>\n",
       "      <td>179438.0</td>\n",
       "      <td>-0.066682</td>\n",
       "      <td>51.497938</td>\n",
       "      <td>1</td>\n",
       "      <td>3</td>\n",
       "      <td>2</td>\n",
       "      <td>1</td>\n",
       "      <td>09/11/2020</td>\n",
       "      <td>2</td>\n",
       "      <td>19:31</td>\n",
       "      <td>8</td>\n",
       "      <td>E09000028</td>\n",
       "      <td>E09000028</td>\n",
       "      <td>3</td>\n",
       "      <td>200</td>\n",
       "      <td>2</td>\n",
       "      <td>20</td>\n",
       "      <td>3</td>\n",
       "      <td>2</td>\n",
       "      <td>5</td>\n",
       "      <td>0</td>\n",
       "      <td>0</td>\n",
       "      <td>5</td>\n",
       "      <td>4</td>\n",
       "      <td>1</td>\n",
       "      <td>2</td>\n",
       "      <td>0</td>\n",
       "      <td>0</td>\n",
       "      <td>1</td>\n",
       "      <td>1</td>\n",
       "      <td>2</td>\n",
       "      <td>E01004022</td>\n",
       "      <td>1</td>\n",
       "      <td>3</td>\n",
       "      <td>0</td>\n",
       "      <td>15</td>\n",
       "      <td>3</td>\n",
       "      <td>7</td>\n",
       "      <td>0</td>\n",
       "      <td>2</td>\n",
       "      <td>0</td>\n",
       "      <td>0</td>\n",
       "      <td>0</td>\n",
       "      <td>0</td>\n",
       "      <td>2</td>\n",
       "      <td>1</td>\n",
       "      <td>1</td>\n",
       "      <td>1</td>\n",
       "      <td>45</td>\n",
       "      <td>7</td>\n",
       "      <td>125</td>\n",
       "      <td>1</td>\n",
       "      <td>0</td>\n",
       "      <td>YAMAHA GPD 125</td>\n",
       "      <td>3</td>\n",
       "      <td>1</td>\n",
       "      <td>1</td>\n",
       "      <td>1</td>\n",
       "      <td>1</td>\n",
       "      <td>45</td>\n",
       "      <td>7</td>\n",
       "      <td>3</td>\n",
       "      <td>0</td>\n",
       "      <td>0</td>\n",
       "      <td>0</td>\n",
       "      <td>0</td>\n",
       "      <td>0</td>\n",
       "      <td>3</td>\n",
       "      <td>1</td>\n",
       "      <td>3</td>\n",
       "    </tr>\n",
       "    <tr>\n",
       "      <th>3</th>\n",
       "      <td>2020010278559</td>\n",
       "      <td>2020</td>\n",
       "      <td>010278559</td>\n",
       "      <td>530354.0</td>\n",
       "      <td>172580.0</td>\n",
       "      <td>-0.125965</td>\n",
       "      <td>51.437228</td>\n",
       "      <td>1</td>\n",
       "      <td>3</td>\n",
       "      <td>2</td>\n",
       "      <td>1</td>\n",
       "      <td>09/11/2020</td>\n",
       "      <td>2</td>\n",
       "      <td>19:13</td>\n",
       "      <td>9</td>\n",
       "      <td>E09000022</td>\n",
       "      <td>E09000022</td>\n",
       "      <td>5</td>\n",
       "      <td>0</td>\n",
       "      <td>6</td>\n",
       "      <td>30</td>\n",
       "      <td>0</td>\n",
       "      <td>-1</td>\n",
       "      <td>6</td>\n",
       "      <td>0</td>\n",
       "      <td>0</td>\n",
       "      <td>5</td>\n",
       "      <td>4</td>\n",
       "      <td>1</td>\n",
       "      <td>2</td>\n",
       "      <td>0</td>\n",
       "      <td>0</td>\n",
       "      <td>1</td>\n",
       "      <td>1</td>\n",
       "      <td>2</td>\n",
       "      <td>E01003151</td>\n",
       "      <td>1</td>\n",
       "      <td>3</td>\n",
       "      <td>0</td>\n",
       "      <td>18</td>\n",
       "      <td>4</td>\n",
       "      <td>8</td>\n",
       "      <td>0</td>\n",
       "      <td>0</td>\n",
       "      <td>0</td>\n",
       "      <td>0</td>\n",
       "      <td>0</td>\n",
       "      <td>0</td>\n",
       "      <td>4</td>\n",
       "      <td>1</td>\n",
       "      <td>6</td>\n",
       "      <td>1</td>\n",
       "      <td>45</td>\n",
       "      <td>7</td>\n",
       "      <td>124</td>\n",
       "      <td>1</td>\n",
       "      <td>7</td>\n",
       "      <td>-1</td>\n",
       "      <td>6</td>\n",
       "      <td>1</td>\n",
       "      <td>1</td>\n",
       "      <td>1</td>\n",
       "      <td>1</td>\n",
       "      <td>45</td>\n",
       "      <td>7</td>\n",
       "      <td>3</td>\n",
       "      <td>0</td>\n",
       "      <td>0</td>\n",
       "      <td>0</td>\n",
       "      <td>0</td>\n",
       "      <td>0</td>\n",
       "      <td>3</td>\n",
       "      <td>1</td>\n",
       "      <td>6</td>\n",
       "    </tr>\n",
       "    <tr>\n",
       "      <th>4</th>\n",
       "      <td>2020010278561</td>\n",
       "      <td>2020</td>\n",
       "      <td>010278561</td>\n",
       "      <td>534946.0</td>\n",
       "      <td>184874.0</td>\n",
       "      <td>-0.055243</td>\n",
       "      <td>51.546633</td>\n",
       "      <td>1</td>\n",
       "      <td>2</td>\n",
       "      <td>1</td>\n",
       "      <td>1</td>\n",
       "      <td>09/11/2020</td>\n",
       "      <td>2</td>\n",
       "      <td>18:03</td>\n",
       "      <td>4</td>\n",
       "      <td>E09000012</td>\n",
       "      <td>E09000012</td>\n",
       "      <td>6</td>\n",
       "      <td>0</td>\n",
       "      <td>6</td>\n",
       "      <td>20</td>\n",
       "      <td>3</td>\n",
       "      <td>2</td>\n",
       "      <td>6</td>\n",
       "      <td>0</td>\n",
       "      <td>0</td>\n",
       "      <td>5</td>\n",
       "      <td>4</td>\n",
       "      <td>8</td>\n",
       "      <td>2</td>\n",
       "      <td>0</td>\n",
       "      <td>0</td>\n",
       "      <td>1</td>\n",
       "      <td>1</td>\n",
       "      <td>2</td>\n",
       "      <td>E01001762</td>\n",
       "      <td>1</td>\n",
       "      <td>11</td>\n",
       "      <td>0</td>\n",
       "      <td>7</td>\n",
       "      <td>5</td>\n",
       "      <td>7</td>\n",
       "      <td>0</td>\n",
       "      <td>2</td>\n",
       "      <td>0</td>\n",
       "      <td>0</td>\n",
       "      <td>0</td>\n",
       "      <td>0</td>\n",
       "      <td>4</td>\n",
       "      <td>1</td>\n",
       "      <td>1</td>\n",
       "      <td>1</td>\n",
       "      <td>52</td>\n",
       "      <td>8</td>\n",
       "      <td>6700</td>\n",
       "      <td>2</td>\n",
       "      <td>2</td>\n",
       "      <td>ALEXANDER DENNIS MODEL MISSING</td>\n",
       "      <td>3</td>\n",
       "      <td>1</td>\n",
       "      <td>1</td>\n",
       "      <td>3</td>\n",
       "      <td>1</td>\n",
       "      <td>42</td>\n",
       "      <td>7</td>\n",
       "      <td>2</td>\n",
       "      <td>1</td>\n",
       "      <td>1</td>\n",
       "      <td>0</td>\n",
       "      <td>0</td>\n",
       "      <td>0</td>\n",
       "      <td>0</td>\n",
       "      <td>1</td>\n",
       "      <td>2</td>\n",
       "    </tr>\n",
       "  </tbody>\n",
       "</table>\n",
       "</div>"
      ],
      "text/plain": [
       "  accident_index  accident_year accident_reference  location_easting_osgr  \\\n",
       "0  2020010278554           2020          010278554               531639.0   \n",
       "1  2020010278556           2020          010278556               528687.0   \n",
       "2  2020010278558           2020          010278558               534296.0   \n",
       "3  2020010278559           2020          010278559               530354.0   \n",
       "4  2020010278561           2020          010278561               534946.0   \n",
       "\n",
       "   location_northing_osgr  longitude   latitude  police_force  \\\n",
       "0                168889.0  -0.108858  51.403761             1   \n",
       "1                184702.0  -0.145519  51.546549             1   \n",
       "2                179438.0  -0.066682  51.497938             1   \n",
       "3                172580.0  -0.125965  51.437228             1   \n",
       "4                184874.0  -0.055243  51.546633             1   \n",
       "\n",
       "   accident_severity  number_of_vehicles  number_of_casualties        date  \\\n",
       "0                  2                   2                     1  09/11/2020   \n",
       "1                  2                   2                     1  04/11/2020   \n",
       "2                  3                   2                     1  09/11/2020   \n",
       "3                  3                   2                     1  09/11/2020   \n",
       "4                  2                   1                     1  09/11/2020   \n",
       "\n",
       "   day_of_week   time  local_authority_district local_authority_ons_district  \\\n",
       "0            2  20:20                        20                    E09000008   \n",
       "1            4  11:50                         2                    E09000007   \n",
       "2            2  19:31                         8                    E09000028   \n",
       "3            2  19:13                         9                    E09000022   \n",
       "4            2  18:03                         4                    E09000012   \n",
       "\n",
       "  local_authority_highway  first_road_class  first_road_number  road_type  \\\n",
       "0               E09000008                 5                  0          6   \n",
       "1               E09000007                 5                  0          6   \n",
       "2               E09000028                 3                200          2   \n",
       "3               E09000022                 5                  0          6   \n",
       "4               E09000012                 6                  0          6   \n",
       "\n",
       "   speed_limit  junction_detail  junction_control  second_road_class  \\\n",
       "0           20                0                -1                  6   \n",
       "1           30                3                 4                  6   \n",
       "2           20                3                 2                  5   \n",
       "3           30                0                -1                  6   \n",
       "4           20                3                 2                  6   \n",
       "\n",
       "   second_road_number  pedestrian_crossing_human_control  \\\n",
       "0                   0                                  0   \n",
       "1                   0                                  9   \n",
       "2                   0                                  0   \n",
       "3                   0                                  0   \n",
       "4                   0                                  0   \n",
       "\n",
       "   pedestrian_crossing_physical_facilities  light_conditions  \\\n",
       "0                                        0                 4   \n",
       "1                                        9                 1   \n",
       "2                                        5                 4   \n",
       "3                                        5                 4   \n",
       "4                                        5                 4   \n",
       "\n",
       "   weather_conditions  road_surface_conditions  special_conditions_at_site  \\\n",
       "0                   1                        2                           0   \n",
       "1                   1                        9                           0   \n",
       "2                   1                        2                           0   \n",
       "3                   1                        2                           0   \n",
       "4                   8                        2                           0   \n",
       "\n",
       "   carriageway_hazards  urban_or_rural_area  \\\n",
       "0                    0                    1   \n",
       "1                    0                    1   \n",
       "2                    0                    1   \n",
       "3                    0                    1   \n",
       "4                    0                    1   \n",
       "\n",
       "   did_police_officer_attend_scene_of_accident  trunk_road_flag  \\\n",
       "0                                            1                2   \n",
       "1                                            3                2   \n",
       "2                                            1                2   \n",
       "3                                            1                2   \n",
       "4                                            1                2   \n",
       "\n",
       "  lsoa_of_accident_location  vehicle_reference  vehicle_type  \\\n",
       "0                 E01000994                  2             3   \n",
       "1                 E01000927                  1             3   \n",
       "2                 E01004022                  1             3   \n",
       "3                 E01003151                  1             3   \n",
       "4                 E01001762                  1            11   \n",
       "\n",
       "   towing_and_articulation  vehicle_manoeuvre  vehicle_direction_from  \\\n",
       "0                        0                  6                       7   \n",
       "1                        0                 99                       9   \n",
       "2                        0                 15                       3   \n",
       "3                        0                 18                       4   \n",
       "4                        0                  7                       5   \n",
       "\n",
       "   vehicle_direction_to  vehicle_location_restricted_lane  junction_location  \\\n",
       "0                     7                                 0                  0   \n",
       "1                     9                                99                  9   \n",
       "2                     7                                 0                  2   \n",
       "3                     8                                 0                  0   \n",
       "4                     7                                 0                  2   \n",
       "\n",
       "   skidding_and_overturning  hit_object_in_carriageway  \\\n",
       "0                         0                          0   \n",
       "1                         9                         99   \n",
       "2                         0                          0   \n",
       "3                         0                          0   \n",
       "4                         0                          0   \n",
       "\n",
       "   vehicle_leaving_carriageway  hit_object_off_carriageway  \\\n",
       "0                            0                           0   \n",
       "1                            9                          99   \n",
       "2                            0                           0   \n",
       "3                            0                           0   \n",
       "4                            0                           0   \n",
       "\n",
       "   first_point_of_impact  vehicle_left_hand_drive  journey_purpose_of_driver  \\\n",
       "0                      3                        1                          6   \n",
       "1                      9                        1                          6   \n",
       "2                      2                        1                          1   \n",
       "3                      4                        1                          6   \n",
       "4                      4                        1                          1   \n",
       "\n",
       "   sex_of_driver  age_of_driver  age_band_of_driver  engine_capacity_cc  \\\n",
       "0              1             23                   5                 113   \n",
       "1              1             17                   4                 125   \n",
       "2              1             45                   7                 125   \n",
       "3              1             45                   7                 124   \n",
       "4              1             52                   8                6700   \n",
       "\n",
       "   propulsion_code  age_of_vehicle              generic_make_model  \\\n",
       "0                1               4                   SUZUKI UK 110   \n",
       "1                1               4                   HONDA CBR125R   \n",
       "2                1               0                  YAMAHA GPD 125   \n",
       "3                1               7                              -1   \n",
       "4                2               2  ALEXANDER DENNIS MODEL MISSING   \n",
       "\n",
       "   driver_imd_decile  driver_home_area_type  casualty_reference  \\\n",
       "0                 -1                     -1                   1   \n",
       "1                  1                      1                   1   \n",
       "2                  3                      1                   1   \n",
       "3                  6                      1                   1   \n",
       "4                  3                      1                   1   \n",
       "\n",
       "   casualty_class  sex_of_casualty  age_of_casualty  age_band_of_casualty  \\\n",
       "0               1                1               23                     5   \n",
       "1               1                1               17                     4   \n",
       "2               1                1               45                     7   \n",
       "3               1                1               45                     7   \n",
       "4               3                1               42                     7   \n",
       "\n",
       "   casualty_severity  pedestrian_location  pedestrian_movement  car_passenger  \\\n",
       "0                  2                    0                    0              0   \n",
       "1                  2                    0                    0              0   \n",
       "2                  3                    0                    0              0   \n",
       "3                  3                    0                    0              0   \n",
       "4                  2                    1                    1              0   \n",
       "\n",
       "   bus_or_coach_passenger  pedestrian_road_maintenance_worker  casualty_type  \\\n",
       "0                       0                                   0              3   \n",
       "1                       0                                   0              3   \n",
       "2                       0                                   0              3   \n",
       "3                       0                                   0              3   \n",
       "4                       0                                   0              0   \n",
       "\n",
       "   casualty_home_area_type  casualty_imd_decile  \n",
       "0                       -1                   -1  \n",
       "1                        1                    1  \n",
       "2                        1                    3  \n",
       "3                        1                    6  \n",
       "4                        1                    2  "
      ]
     },
<<<<<<< HEAD
     "execution_count": 6,
=======
     "execution_count": 53,
>>>>>>> 602ff74d33bf130460ce1cd5ed2ba91348276f41
     "metadata": {},
     "output_type": "execute_result"
    }
   ],
   "source": [
    "#Visualizamos la cabecera del nuestro dataframe\n",
    "df_traffic_accidents.head()"
   ]
  },
  {
   "cell_type": "code",
<<<<<<< HEAD
   "execution_count": null,
=======
   "execution_count": 54,
>>>>>>> 602ff74d33bf130460ce1cd5ed2ba91348276f41
   "metadata": {},
   "outputs": [
    {
     "data": {
      "text/plain": [
       "Index(['accident_index', 'accident_year', 'accident_reference',\n",
       "       'location_easting_osgr', 'location_northing_osgr', 'longitude',\n",
       "       'latitude', 'police_force', 'accident_severity', 'number_of_vehicles',\n",
       "       'number_of_casualties', 'date', 'day_of_week', 'time',\n",
       "       'local_authority_district', 'local_authority_ons_district',\n",
       "       'local_authority_highway', 'first_road_class', 'first_road_number',\n",
       "       'road_type', 'speed_limit', 'junction_detail', 'junction_control',\n",
       "       'second_road_class', 'second_road_number',\n",
       "       'pedestrian_crossing_human_control',\n",
       "       'pedestrian_crossing_physical_facilities', 'light_conditions',\n",
       "       'weather_conditions', 'road_surface_conditions',\n",
       "       'special_conditions_at_site', 'carriageway_hazards',\n",
       "       'urban_or_rural_area', 'did_police_officer_attend_scene_of_accident',\n",
       "       'trunk_road_flag', 'lsoa_of_accident_location', 'vehicle_reference',\n",
       "       'vehicle_type', 'towing_and_articulation', 'vehicle_manoeuvre',\n",
       "       'vehicle_direction_from', 'vehicle_direction_to',\n",
       "       'vehicle_location_restricted_lane', 'junction_location',\n",
       "       'skidding_and_overturning', 'hit_object_in_carriageway',\n",
       "       'vehicle_leaving_carriageway', 'hit_object_off_carriageway',\n",
       "       'first_point_of_impact', 'vehicle_left_hand_drive',\n",
       "       'journey_purpose_of_driver', 'sex_of_driver', 'age_of_driver',\n",
       "       'age_band_of_driver', 'engine_capacity_cc', 'propulsion_code',\n",
       "       'age_of_vehicle', 'generic_make_model', 'driver_imd_decile',\n",
       "       'driver_home_area_type', 'casualty_reference', 'casualty_class',\n",
       "       'sex_of_casualty', 'age_of_casualty', 'age_band_of_casualty',\n",
       "       'casualty_severity', 'pedestrian_location', 'pedestrian_movement',\n",
       "       'car_passenger', 'bus_or_coach_passenger',\n",
       "       'pedestrian_road_maintenance_worker', 'casualty_type',\n",
       "       'casualty_home_area_type', 'casualty_imd_decile'],\n",
       "      dtype='object')"
      ]
     },
<<<<<<< HEAD
     "execution_count": 7,
=======
     "execution_count": 54,
>>>>>>> 602ff74d33bf130460ce1cd5ed2ba91348276f41
     "metadata": {},
     "output_type": "execute_result"
    }
   ],
   "source": [
    "# Dataset columns\n",
    "df_traffic_accidents.columns"
   ]
  },
  {
   "cell_type": "markdown",
   "metadata": {},
   "source": [
    "> El conjunto de datos contiene varias columnas numéricas y categóricas que proporcionan información variada sobre los datos de accidentes\n",
    "de seguridad vial sobre las circunstancias de los accidentes de tráfico con lesiones personales en Gran Bretaña desde 1979, los tipos de vehículos implicados y las víctimas resultantes. Las estadísticas se refieren únicamente a los accidentes con lesiones personales en la vía pública que se notifican a la policía, y que posteriormente se registran. "
   ]
  },
  {
   "cell_type": "code",
<<<<<<< HEAD
   "execution_count": null,
=======
   "execution_count": 55,
>>>>>>> 602ff74d33bf130460ce1cd5ed2ba91348276f41
   "metadata": {},
   "outputs": [
    {
     "data": {
      "text/plain": [
       "{int64: ['accident_year', 'police_force', 'accident_severity', 'number_of_vehicles', 'number_of_casualties', 'day_of_week', 'local_authority_district', 'first_road_class', 'first_road_number', 'road_type', 'speed_limit', 'junction_detail', 'junction_control', 'second_road_class', 'second_road_number', 'pedestrian_crossing_human_control', 'pedestrian_crossing_physical_facilities', 'light_conditions', 'weather_conditions', 'road_surface_conditions', 'special_conditions_at_site', 'carriageway_hazards', 'urban_or_rural_area', 'did_police_officer_attend_scene_of_accident', 'trunk_road_flag', 'vehicle_reference', 'vehicle_type', 'towing_and_articulation', 'vehicle_manoeuvre', 'vehicle_direction_from', 'vehicle_direction_to', 'vehicle_location_restricted_lane', 'junction_location', 'skidding_and_overturning', 'hit_object_in_carriageway', 'vehicle_leaving_carriageway', 'hit_object_off_carriageway', 'first_point_of_impact', 'vehicle_left_hand_drive', 'journey_purpose_of_driver', 'sex_of_driver', 'age_of_driver', 'age_band_of_driver', 'engine_capacity_cc', 'propulsion_code', 'age_of_vehicle', 'driver_imd_decile', 'driver_home_area_type', 'casualty_reference', 'casualty_class', 'sex_of_casualty', 'age_of_casualty', 'age_band_of_casualty', 'casualty_severity', 'pedestrian_location', 'pedestrian_movement', 'car_passenger', 'bus_or_coach_passenger', 'pedestrian_road_maintenance_worker', 'casualty_type', 'casualty_home_area_type', 'casualty_imd_decile'], float64: ['location_easting_osgr', 'location_northing_osgr', 'longitude', 'latitude'], object: ['accident_index', 'accident_reference', 'date', 'time', 'local_authority_ons_district', 'local_authority_highway', 'lsoa_of_accident_location', 'generic_make_model']}"
      ]
     },
<<<<<<< HEAD
     "execution_count": 8,
=======
     "execution_count": 55,
>>>>>>> 602ff74d33bf130460ce1cd5ed2ba91348276f41
     "metadata": {},
     "output_type": "execute_result"
    }
   ],
   "source": [
    "# desglosemos las columnas por su tipo (es decir, int64, float64, object)\n",
    "df_traffic_accidents.columns.to_series().groupby(df_traffic_accidents.dtypes).groups"
   ]
  },
  {
   "cell_type": "markdown",
   "metadata": {},
   "source": [
    "> Seguimos filtrando nuestros datos, para ello, eliminamos y agrupamos aquellos que nos interesan "
   ]
  },
  {
   "cell_type": "code",
<<<<<<< HEAD
   "execution_count": null,
=======
   "execution_count": 56,
>>>>>>> 602ff74d33bf130460ce1cd5ed2ba91348276f41
   "metadata": {},
   "outputs": [
    {
     "data": {
      "text/plain": [
       "[2, 3, 1]"
      ]
     },
<<<<<<< HEAD
     "execution_count": 9,
=======
     "execution_count": 56,
>>>>>>> 602ff74d33bf130460ce1cd5ed2ba91348276f41
     "metadata": {},
     "output_type": "execute_result"
    }
   ],
   "source": [
    "df_traffic_accidents['accident_severity'].unique().tolist()"
   ]
  },
  {
   "cell_type": "code",
<<<<<<< HEAD
   "execution_count": null,
=======
   "execution_count": 57,
>>>>>>> 602ff74d33bf130460ce1cd5ed2ba91348276f41
   "metadata": {},
   "outputs": [
    {
     "name": "stderr",
     "output_type": "stream",
     "text": [
      "C:\\Users\\PABLO2~1\\AppData\\Local\\Temp/ipykernel_36292/4238924359.py:2: FutureWarning: In a future version of pandas all arguments of DataFrame.drop except for the argument 'labels' will be keyword-only\n",
      "  df_traffic_accidents.drop(df_traffic_accidents.columns.difference(['accident_index','accident_referene','accident_severity','number_of_vehicles',\n"
     ]
    }
   ],
   "source": [
    "#Eliminamos columnas \n",
    "df_traffic_accidents.drop(df_traffic_accidents.columns.difference(['accident_index','accident_referene','accident_severity','number_of_vehicles',\n",
    "                                                                  'number_of_casualties','date','day_of_week','time', \n",
    "                                                                    'did_police_officer_attend_scene_of_accident','sex_of_driver',\n",
    "                                                                  'age_of_driver','age_of_vehicle','generic_make_model',\n",
    "                                                                  'sex_of_casualty','age_of_casualty','casualty_severity',\n",
    "                                                                   'car_passenger']), 1, inplace=True)"
   ]
  },
  {
   "cell_type": "code",
<<<<<<< HEAD
   "execution_count": null,
=======
   "execution_count": 58,
>>>>>>> 602ff74d33bf130460ce1cd5ed2ba91348276f41
   "metadata": {},
   "outputs": [
    {
     "data": {
      "text/plain": [
       "{int64: ['accident_severity', 'number_of_vehicles', 'number_of_casualties', 'day_of_week', 'did_police_officer_attend_scene_of_accident', 'sex_of_driver', 'age_of_driver', 'age_of_vehicle', 'sex_of_casualty', 'age_of_casualty', 'casualty_severity', 'car_passenger'], object: ['accident_index', 'date', 'time', 'generic_make_model']}"
      ]
     },
<<<<<<< HEAD
     "execution_count": 11,
=======
     "execution_count": 58,
>>>>>>> 602ff74d33bf130460ce1cd5ed2ba91348276f41
     "metadata": {},
     "output_type": "execute_result"
    }
   ],
   "source": [
    "#Comprobamos de nuevo nuestro dataframe y sus columnas por tipo de dato\n",
    "df_traffic_accidents.columns.to_series().groupby(df_traffic_accidents.dtypes).groups"
   ]
  },
  {
   "cell_type": "markdown",
   "metadata": {},
   "source": [
    "> Se han reducido considerablemente el número de columnas"
   ]
  },
  {
   "cell_type": "code",
<<<<<<< HEAD
   "execution_count": null,
=======
   "execution_count": 59,
>>>>>>> 602ff74d33bf130460ce1cd5ed2ba91348276f41
   "metadata": {},
   "outputs": [
    {
     "name": "stdout",
     "output_type": "stream",
     "text": [
      "<class 'pandas.core.frame.DataFrame'>\n",
      "Int64Index: 92450 entries, 0 to 92449\n",
      "Data columns (total 16 columns):\n",
      " #   Column                                       Non-Null Count  Dtype \n",
      "---  ------                                       --------------  ----- \n",
      " 0   accident_index                               92450 non-null  object\n",
      " 1   accident_severity                            92450 non-null  int64 \n",
      " 2   number_of_vehicles                           92450 non-null  int64 \n",
      " 3   number_of_casualties                         92450 non-null  int64 \n",
      " 4   date                                         92450 non-null  object\n",
      " 5   day_of_week                                  92450 non-null  int64 \n",
      " 6   time                                         92450 non-null  object\n",
      " 7   did_police_officer_attend_scene_of_accident  92450 non-null  int64 \n",
      " 8   sex_of_driver                                92450 non-null  int64 \n",
      " 9   age_of_driver                                92450 non-null  int64 \n",
      " 10  age_of_vehicle                               92450 non-null  int64 \n",
      " 11  generic_make_model                           92450 non-null  object\n",
      " 12  sex_of_casualty                              92450 non-null  int64 \n",
      " 13  age_of_casualty                              92450 non-null  int64 \n",
      " 14  casualty_severity                            92450 non-null  int64 \n",
      " 15  car_passenger                                92450 non-null  int64 \n",
      "dtypes: int64(12), object(4)\n",
      "memory usage: 12.0+ MB\n"
     ]
    }
   ],
   "source": [
    "# Columnas de tipos de datos y valores perdidos\n",
    "df_traffic_accidents.info()"
   ]
  },
  {
   "cell_type": "markdown",
   "metadata": {},
   "source": [
    "> Los datos proporcionados no tienen valores perdidos. En este tipo de análisis es poco problable que los datos de los accidentes presenten una gran proporción de valores perdidos, ya que los departamentos de policía o similiar a la DGT en Gran Bretaña suelen almacenar todos los datos archivados en excel, papel o similar. La pérdida de información es nula."
   ]
  },
  {
   "cell_type": "markdown",
   "metadata": {},
   "source": [
    "#### Numerical features overview"
   ]
  },
  {
   "cell_type": "code",
<<<<<<< HEAD
   "execution_count": null,
=======
   "execution_count": 60,
>>>>>>> 602ff74d33bf130460ce1cd5ed2ba91348276f41
   "metadata": {},
   "outputs": [
    {
     "data": {
      "text/html": [
       "<div>\n",
       "<style scoped>\n",
       "    .dataframe tbody tr th:only-of-type {\n",
       "        vertical-align: middle;\n",
       "    }\n",
       "\n",
       "    .dataframe tbody tr th {\n",
       "        vertical-align: top;\n",
       "    }\n",
       "\n",
       "    .dataframe thead th {\n",
       "        text-align: right;\n",
       "    }\n",
       "</style>\n",
       "<table border=\"1\" class=\"dataframe\">\n",
       "  <thead>\n",
       "    <tr style=\"text-align: right;\">\n",
       "      <th></th>\n",
       "      <th>accident_severity</th>\n",
       "      <th>number_of_vehicles</th>\n",
       "      <th>number_of_casualties</th>\n",
       "      <th>day_of_week</th>\n",
       "      <th>did_police_officer_attend_scene_of_accident</th>\n",
       "      <th>sex_of_driver</th>\n",
       "      <th>age_of_driver</th>\n",
       "      <th>age_of_vehicle</th>\n",
       "      <th>sex_of_casualty</th>\n",
       "      <th>age_of_casualty</th>\n",
       "      <th>casualty_severity</th>\n",
       "      <th>car_passenger</th>\n",
       "    </tr>\n",
       "  </thead>\n",
       "  <tbody>\n",
       "    <tr>\n",
       "      <th>count</th>\n",
       "      <td>92450.000000</td>\n",
       "      <td>92450.000000</td>\n",
       "      <td>92450.000000</td>\n",
       "      <td>92450.000000</td>\n",
       "      <td>92450.000000</td>\n",
       "      <td>92450.000000</td>\n",
       "      <td>92450.000000</td>\n",
       "      <td>92450.000000</td>\n",
       "      <td>92450.000000</td>\n",
       "      <td>92450.000000</td>\n",
       "      <td>92450.000000</td>\n",
       "      <td>92450.000000</td>\n",
       "    </tr>\n",
       "    <tr>\n",
       "      <th>mean</th>\n",
       "      <td>2.733196</td>\n",
       "      <td>1.914797</td>\n",
       "      <td>1.688956</td>\n",
       "      <td>4.121763</td>\n",
       "      <td>1.299557</td>\n",
       "      <td>1.359145</td>\n",
       "      <td>38.249811</td>\n",
       "      <td>6.226652</td>\n",
       "      <td>1.377307</td>\n",
       "      <td>37.012385</td>\n",
       "      <td>2.789919</td>\n",
       "      <td>0.230211</td>\n",
       "    </tr>\n",
       "    <tr>\n",
       "      <th>std</th>\n",
       "      <td>0.487699</td>\n",
       "      <td>0.753750</td>\n",
       "      <td>1.422487</td>\n",
       "      <td>1.950286</td>\n",
       "      <td>0.517392</td>\n",
       "      <td>0.531522</td>\n",
       "      <td>18.512320</td>\n",
       "      <td>6.563575</td>\n",
       "      <td>0.499984</td>\n",
       "      <td>19.382243</td>\n",
       "      <td>0.440414</td>\n",
       "      <td>0.571656</td>\n",
       "    </tr>\n",
       "    <tr>\n",
       "      <th>min</th>\n",
       "      <td>1.000000</td>\n",
       "      <td>1.000000</td>\n",
       "      <td>1.000000</td>\n",
       "      <td>1.000000</td>\n",
       "      <td>-1.000000</td>\n",
       "      <td>1.000000</td>\n",
       "      <td>-1.000000</td>\n",
       "      <td>-1.000000</td>\n",
       "      <td>-1.000000</td>\n",
       "      <td>-1.000000</td>\n",
       "      <td>1.000000</td>\n",
       "      <td>-1.000000</td>\n",
       "    </tr>\n",
       "    <tr>\n",
       "      <th>25%</th>\n",
       "      <td>3.000000</td>\n",
       "      <td>1.000000</td>\n",
       "      <td>1.000000</td>\n",
       "      <td>2.000000</td>\n",
       "      <td>1.000000</td>\n",
       "      <td>1.000000</td>\n",
       "      <td>25.000000</td>\n",
       "      <td>0.000000</td>\n",
       "      <td>1.000000</td>\n",
       "      <td>22.000000</td>\n",
       "      <td>3.000000</td>\n",
       "      <td>0.000000</td>\n",
       "    </tr>\n",
       "    <tr>\n",
       "      <th>50%</th>\n",
       "      <td>3.000000</td>\n",
       "      <td>2.000000</td>\n",
       "      <td>1.000000</td>\n",
       "      <td>4.000000</td>\n",
       "      <td>1.000000</td>\n",
       "      <td>1.000000</td>\n",
       "      <td>36.000000</td>\n",
       "      <td>5.000000</td>\n",
       "      <td>1.000000</td>\n",
       "      <td>34.000000</td>\n",
       "      <td>3.000000</td>\n",
       "      <td>0.000000</td>\n",
       "    </tr>\n",
       "    <tr>\n",
       "      <th>75%</th>\n",
       "      <td>3.000000</td>\n",
       "      <td>2.000000</td>\n",
       "      <td>2.000000</td>\n",
       "      <td>6.000000</td>\n",
       "      <td>2.000000</td>\n",
       "      <td>2.000000</td>\n",
       "      <td>51.000000</td>\n",
       "      <td>11.000000</td>\n",
       "      <td>2.000000</td>\n",
       "      <td>51.000000</td>\n",
       "      <td>3.000000</td>\n",
       "      <td>0.000000</td>\n",
       "    </tr>\n",
       "    <tr>\n",
       "      <th>max</th>\n",
       "      <td>3.000000</td>\n",
       "      <td>13.000000</td>\n",
       "      <td>41.000000</td>\n",
       "      <td>7.000000</td>\n",
       "      <td>3.000000</td>\n",
       "      <td>3.000000</td>\n",
       "      <td>99.000000</td>\n",
       "      <td>96.000000</td>\n",
       "      <td>9.000000</td>\n",
       "      <td>99.000000</td>\n",
       "      <td>3.000000</td>\n",
       "      <td>9.000000</td>\n",
       "    </tr>\n",
       "  </tbody>\n",
       "</table>\n",
       "</div>"
      ],
      "text/plain": [
       "       accident_severity  number_of_vehicles  number_of_casualties  \\\n",
       "count       92450.000000        92450.000000          92450.000000   \n",
       "mean            2.733196            1.914797              1.688956   \n",
       "std             0.487699            0.753750              1.422487   \n",
       "min             1.000000            1.000000              1.000000   \n",
       "25%             3.000000            1.000000              1.000000   \n",
       "50%             3.000000            2.000000              1.000000   \n",
       "75%             3.000000            2.000000              2.000000   \n",
       "max             3.000000           13.000000             41.000000   \n",
       "\n",
       "        day_of_week  did_police_officer_attend_scene_of_accident  \\\n",
       "count  92450.000000                                 92450.000000   \n",
       "mean       4.121763                                     1.299557   \n",
       "std        1.950286                                     0.517392   \n",
       "min        1.000000                                    -1.000000   \n",
       "25%        2.000000                                     1.000000   \n",
       "50%        4.000000                                     1.000000   \n",
       "75%        6.000000                                     2.000000   \n",
       "max        7.000000                                     3.000000   \n",
       "\n",
       "       sex_of_driver  age_of_driver  age_of_vehicle  sex_of_casualty  \\\n",
       "count   92450.000000   92450.000000    92450.000000     92450.000000   \n",
       "mean        1.359145      38.249811        6.226652         1.377307   \n",
       "std         0.531522      18.512320        6.563575         0.499984   \n",
       "min         1.000000      -1.000000       -1.000000        -1.000000   \n",
       "25%         1.000000      25.000000        0.000000         1.000000   \n",
       "50%         1.000000      36.000000        5.000000         1.000000   \n",
       "75%         2.000000      51.000000       11.000000         2.000000   \n",
       "max         3.000000      99.000000       96.000000         9.000000   \n",
       "\n",
       "       age_of_casualty  casualty_severity  car_passenger  \n",
       "count     92450.000000       92450.000000   92450.000000  \n",
       "mean         37.012385           2.789919       0.230211  \n",
       "std          19.382243           0.440414       0.571656  \n",
       "min          -1.000000           1.000000      -1.000000  \n",
       "25%          22.000000           3.000000       0.000000  \n",
       "50%          34.000000           3.000000       0.000000  \n",
       "75%          51.000000           3.000000       0.000000  \n",
       "max          99.000000           3.000000       9.000000  "
      ]
     },
<<<<<<< HEAD
     "execution_count": 13,
=======
     "execution_count": 60,
>>>>>>> 602ff74d33bf130460ce1cd5ed2ba91348276f41
     "metadata": {},
     "output_type": "execute_result"
    }
   ],
   "source": [
    "df_traffic_accidents.describe()"
   ]
  },
  {
   "cell_type": "code",
<<<<<<< HEAD
   "execution_count": null,
=======
   "execution_count": 61,
>>>>>>> 602ff74d33bf130460ce1cd5ed2ba91348276f41
   "metadata": {},
   "outputs": [
    {
     "data": {
      "image/png": "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",
      "text/plain": [
       "<Figure size 1440x1440 with 12 Axes>"
      ]
     },
     "metadata": {
      "needs_background": "light"
     },
     "output_type": "display_data"
    }
   ],
   "source": [
    "df_traffic_accidents.hist(figsize=(20,20))\n",
    "plt.show()"
   ]
  },
  {
   "cell_type": "markdown",
   "metadata": {},
   "source": [
    "> Añadir aquí las observaciones sobre los histogramas"
   ]
  },
  {
   "cell_type": "markdown",
   "metadata": {},
   "source": [
    "### Feature distribution by target attribute"
   ]
  },
  {
   "cell_type": "markdown",
   "metadata": {},
   "source": [
    "#### Accident severity"
   ]
  },
  {
   "cell_type": "markdown",
   "metadata": {},
   "source": [
    "> Indica la gravedad del accidente de una escala del 1 al 3."
   ]
  },
  {
   "cell_type": "code",
<<<<<<< HEAD
   "execution_count": null,
=======
   "execution_count": 62,
>>>>>>> 602ff74d33bf130460ce1cd5ed2ba91348276f41
   "metadata": {},
   "outputs": [
    {
     "data": {
      "text/plain": [
       "3    69736\n",
       "2    20762\n",
       "1     1952\n",
       "Name: accident_severity, dtype: int64"
      ]
     },
     "execution_count": 62,
     "metadata": {},
     "output_type": "execute_result"
    }
   ],
   "source": [
    "df_traffic_accidents['accident_severity'].value_counts()"
   ]
  },
  {
   "cell_type": "markdown",
   "metadata": {},
   "source": [
    "#### Number of vehicles"
   ]
  },
  {
   "cell_type": "markdown",
   "metadata": {},
   "source": [
    "> Indica el numero de vehiculos involucrados en el accidente. Rango (1,12)"
   ]
  },
  {
   "cell_type": "code",
<<<<<<< HEAD
   "execution_count": null,
=======
   "execution_count": 63,
>>>>>>> 602ff74d33bf130460ce1cd5ed2ba91348276f41
   "metadata": {},
   "outputs": [
    {
     "data": {
      "text/plain": [
       "2     57178\n",
       "1     23738\n",
       "3      8620\n",
       "4      2075\n",
       "5       511\n",
       "6       208\n",
       "7        53\n",
       "8        40\n",
       "10        9\n",
       "9         9\n",
       "11        6\n",
       "13        2\n",
       "12        1\n",
       "Name: number_of_vehicles, dtype: int64"
      ]
     },
<<<<<<< HEAD
     "execution_count": 16,
=======
     "execution_count": 63,
>>>>>>> 602ff74d33bf130460ce1cd5ed2ba91348276f41
     "metadata": {},
     "output_type": "execute_result"
    }
   ],
   "source": [
    "df_traffic_accidents['number_of_vehicles'].value_counts()"
   ]
  },
  {
   "cell_type": "markdown",
   "metadata": {},
   "source": [
    "#### Number of casualties"
   ]
  },
  {
   "cell_type": "markdown",
   "metadata": {},
   "source": [
    "> Indica el numero de victimas involucrados en el accidente. Rango (1,19)"
   ]
  },
  {
   "cell_type": "code",
<<<<<<< HEAD
   "execution_count": null,
=======
   "execution_count": 64,
>>>>>>> 602ff74d33bf130460ce1cd5ed2ba91348276f41
   "metadata": {},
   "outputs": [
    {
     "data": {
      "text/plain": [
       "1     56941\n",
       "2     20672\n",
       "3      8409\n",
       "4      3692\n",
       "5      1510\n",
       "6       624\n",
       "7       287\n",
       "8        96\n",
       "9        54\n",
       "41       41\n",
       "11       33\n",
       "10       30\n",
       "19       19\n",
       "17       17\n",
       "13       13\n",
       "12       12\n",
       "Name: number_of_casualties, dtype: int64"
      ]
     },
<<<<<<< HEAD
     "execution_count": 17,
=======
     "execution_count": 64,
>>>>>>> 602ff74d33bf130460ce1cd5ed2ba91348276f41
     "metadata": {},
     "output_type": "execute_result"
    }
   ],
   "source": [
    "df_traffic_accidents['number_of_casualties'].value_counts()"
   ]
  },
  {
   "cell_type": "markdown",
   "metadata": {},
   "source": [
    "#### Day of week"
   ]
  },
  {
   "cell_type": "markdown",
   "metadata": {},
   "source": [
    "> Indica el día de la semana. Formato: de lunes (1) a domingo (7)"
   ]
  },
  {
   "cell_type": "code",
<<<<<<< HEAD
   "execution_count": null,
=======
   "execution_count": 65,
>>>>>>> 602ff74d33bf130460ce1cd5ed2ba91348276f41
   "metadata": {},
   "outputs": [
    {
     "data": {
      "text/plain": [
       "6    14951\n",
       "5    14096\n",
       "4    13534\n",
       "3    13180\n",
       "7    12942\n",
       "2    12854\n",
       "1    10893\n",
       "Name: day_of_week, dtype: int64"
      ]
     },
<<<<<<< HEAD
     "execution_count": 18,
=======
     "execution_count": 65,
>>>>>>> 602ff74d33bf130460ce1cd5ed2ba91348276f41
     "metadata": {},
     "output_type": "execute_result"
    }
   ],
   "source": [
    "df_traffic_accidents['day_of_week'].value_counts()"
   ]
  },
  {
   "cell_type": "markdown",
   "metadata": {},
   "source": [
    "#### Police office attend"
   ]
  },
  {
   "cell_type": "markdown",
   "metadata": {},
   "source": [
    "> Indica si hubo asistencia policial durante el rescate. Valores: 1, 2, 3 (varian en funcion del tiempo de llegada)"
   ]
  },
  {
   "cell_type": "code",
<<<<<<< HEAD
   "execution_count": null,
=======
   "execution_count": 66,
>>>>>>> 602ff74d33bf130460ce1cd5ed2ba91348276f41
   "metadata": {},
   "outputs": [
    {
     "data": {
      "text/plain": [
       " 1    67425\n",
       " 2    22352\n",
       " 3     2672\n",
       "-1        1\n",
       "Name: did_police_officer_attend_scene_of_accident, dtype: int64"
      ]
     },
<<<<<<< HEAD
     "execution_count": 19,
=======
     "execution_count": 66,
>>>>>>> 602ff74d33bf130460ce1cd5ed2ba91348276f41
     "metadata": {},
     "output_type": "execute_result"
    }
   ],
   "source": [
    "df_traffic_accidents['did_police_officer_attend_scene_of_accident'].value_counts()"
   ]
  },
  {
   "cell_type": "markdown",
   "metadata": {},
   "source": [
    "#### Sex of driver"
   ]
  },
  {
   "cell_type": "markdown",
   "metadata": {},
   "source": [
    "> Indica el sexo del conductor. Formato : 1 Hombre, 2 Mujer, 3 Otro."
   ]
  },
  {
   "cell_type": "code",
<<<<<<< HEAD
   "execution_count": null,
=======
   "execution_count": 67,
>>>>>>> 602ff74d33bf130460ce1cd5ed2ba91348276f41
   "metadata": {},
   "outputs": [
    {
     "data": {
      "text/plain": [
       "1    61667\n",
       "2    28363\n",
       "3     2420\n",
       "Name: sex_of_driver, dtype: int64"
      ]
     },
<<<<<<< HEAD
     "execution_count": 20,
=======
     "execution_count": 67,
>>>>>>> 602ff74d33bf130460ce1cd5ed2ba91348276f41
     "metadata": {},
     "output_type": "execute_result"
    }
   ],
   "source": [
    "# Sex of drivers\n",
    "df_traffic_accidents['sex_of_driver'].value_counts()"
   ]
  },
  {
   "cell_type": "code",
   "execution_count": null,
   "id": "878a69a6",
   "metadata": {},
   "outputs": [
    {
     "name": "stdout",
     "output_type": "stream",
     "text": [
      "Distribución normalizada por sexos de la severidad del accidente baja(3) en el conjunto de datos: Hombre = 72.4%; Mujer 81.5%.\n",
      "Distribución normalizada por sexos de la severidad del accidente media(2) en el conjunto de datos: Hombre = 25.0%; Mujer 17.2%.\n",
      "Distribución normalizada por sexos de la severidad del accidente alta(1) en el conjunto de datos: Hombre = 2.6%; Mujer 1.3%.\n"
     ]
    }
   ],
   "source": [
    "print(\"Distribución normalizada por sexos de la severidad del accidente baja(3) en el conjunto de datos: Hombre = {:.1f}%; Mujer {:.1f}%.\".format((df_traffic_accidents[(df_traffic_accidents['accident_severity'] == 3) & (\n",
    "    df_traffic_accidents['sex_of_driver'] == 1)].shape[0] / df_traffic_accidents[df_traffic_accidents['sex_of_driver'] == 1].shape[0])*100, (df_traffic_accidents[(df_traffic_accidents['accident_severity'] == 3) & (df_traffic_accidents['sex_of_driver'] == 2)].shape[0] / df_traffic_accidents[df_traffic_accidents['sex_of_driver'] == 2].shape[0])*100))\n",
    "print(\"Distribución normalizada por sexos de la severidad del accidente media(2) en el conjunto de datos: Hombre = {:.1f}%; Mujer {:.1f}%.\".format((df_traffic_accidents[(df_traffic_accidents['accident_severity'] == 2) & (\n",
    "    df_traffic_accidents['sex_of_driver'] == 1)].shape[0] / df_traffic_accidents[df_traffic_accidents['sex_of_driver'] == 1].shape[0])*100, (df_traffic_accidents[(df_traffic_accidents['accident_severity'] == 2) & (df_traffic_accidents['sex_of_driver'] == 2)].shape[0] / df_traffic_accidents[df_traffic_accidents['sex_of_driver'] == 2].shape[0])*100))\n",
    "print(\"Distribución normalizada por sexos de la severidad del accidente alta(1) en el conjunto de datos: Hombre = {:.1f}%; Mujer {:.1f}%.\".format((df_traffic_accidents[(df_traffic_accidents['accident_severity'] == 1) & (\n",
    "    df_traffic_accidents['sex_of_driver'] == 1)].shape[0] / df_traffic_accidents[df_traffic_accidents['sex_of_driver'] == 1].shape[0])*100, (df_traffic_accidents[(df_traffic_accidents['accident_severity'] == 1) & (df_traffic_accidents['sex_of_driver'] == 2)].shape[0] / df_traffic_accidents[df_traffic_accidents['sex_of_driver'] == 2].shape[0])*100))"
   ]
  },
  {
   "cell_type": "code",
   "execution_count": null,
   "id": "47d30b62",
   "metadata": {},
   "outputs": [
    {
     "ename": "AttributeError",
     "evalue": "'DataFrame' object has no attribute 'iplot'",
     "output_type": "error",
     "traceback": [
      "\u001b[1;31m---------------------------------------------------------------------------\u001b[0m",
      "\u001b[1;31mAttributeError\u001b[0m                            Traceback (most recent call last)",
      "\u001b[1;32mC:\\Users\\PABLO2~1\\AppData\\Local\\Temp/ipykernel_36292/3510861497.py\u001b[0m in \u001b[0;36m<module>\u001b[1;34m\u001b[0m\n\u001b[0;32m      7\u001b[0m     \u001b[1;31m#print(\"In {}, the ratio of leavers is {:.2f}%\".format(field, ratio*100))\u001b[0m\u001b[1;33m\u001b[0m\u001b[1;33m\u001b[0m\u001b[0m\n\u001b[0;32m      8\u001b[0m \u001b[0mdf_G\u001b[0m \u001b[1;33m=\u001b[0m \u001b[0mdf_Gender\u001b[0m\u001b[1;33m.\u001b[0m\u001b[0mgroupby\u001b[0m\u001b[1;33m(\u001b[0m\u001b[0mby\u001b[0m\u001b[1;33m=\u001b[0m\u001b[1;34m\"Genero\"\u001b[0m\u001b[1;33m)\u001b[0m\u001b[1;33m.\u001b[0m\u001b[0msum\u001b[0m\u001b[1;33m(\u001b[0m\u001b[1;33m)\u001b[0m\u001b[1;33m\u001b[0m\u001b[1;33m\u001b[0m\u001b[0m\n\u001b[1;32m----> 9\u001b[1;33m \u001b[0mdf_G\u001b[0m\u001b[1;33m.\u001b[0m\u001b[0miplot\u001b[0m\u001b[1;33m(\u001b[0m\u001b[0mkind\u001b[0m\u001b[1;33m=\u001b[0m\u001b[1;34m'bar'\u001b[0m\u001b[1;33m,\u001b[0m\u001b[0mtitle\u001b[0m\u001b[1;33m=\u001b[0m\u001b[1;34m'Sexo vs salidas (%)'\u001b[0m\u001b[1;33m)\u001b[0m\u001b[1;33m\u001b[0m\u001b[1;33m\u001b[0m\u001b[0m\n\u001b[0m",
      "\u001b[1;32m~\\AppData\\Local\\Programs\\Python\\Python310\\lib\\site-packages\\pandas\\core\\generic.py\u001b[0m in \u001b[0;36m__getattr__\u001b[1;34m(self, name)\u001b[0m\n\u001b[0;32m   5485\u001b[0m         ):\n\u001b[0;32m   5486\u001b[0m             \u001b[1;32mreturn\u001b[0m \u001b[0mself\u001b[0m\u001b[1;33m[\u001b[0m\u001b[0mname\u001b[0m\u001b[1;33m]\u001b[0m\u001b[1;33m\u001b[0m\u001b[1;33m\u001b[0m\u001b[0m\n\u001b[1;32m-> 5487\u001b[1;33m         \u001b[1;32mreturn\u001b[0m \u001b[0mobject\u001b[0m\u001b[1;33m.\u001b[0m\u001b[0m__getattribute__\u001b[0m\u001b[1;33m(\u001b[0m\u001b[0mself\u001b[0m\u001b[1;33m,\u001b[0m \u001b[0mname\u001b[0m\u001b[1;33m)\u001b[0m\u001b[1;33m\u001b[0m\u001b[1;33m\u001b[0m\u001b[0m\n\u001b[0m\u001b[0;32m   5488\u001b[0m \u001b[1;33m\u001b[0m\u001b[0m\n\u001b[0;32m   5489\u001b[0m     \u001b[1;32mdef\u001b[0m \u001b[0m__setattr__\u001b[0m\u001b[1;33m(\u001b[0m\u001b[0mself\u001b[0m\u001b[1;33m,\u001b[0m \u001b[0mname\u001b[0m\u001b[1;33m:\u001b[0m \u001b[0mstr\u001b[0m\u001b[1;33m,\u001b[0m \u001b[0mvalue\u001b[0m\u001b[1;33m)\u001b[0m \u001b[1;33m->\u001b[0m \u001b[1;32mNone\u001b[0m\u001b[1;33m:\u001b[0m\u001b[1;33m\u001b[0m\u001b[1;33m\u001b[0m\u001b[0m\n",
      "\u001b[1;31mAttributeError\u001b[0m: 'DataFrame' object has no attribute 'iplot'"
     ]
    }
   ],
   "source": [
    "df_Gender = pd.DataFrame(columns=[\"Genero\", \"% accidente\"])\n",
    "i=0\n",
    "for field in list(df_traffic_accidents['sex_of_driver'].unique()):\n",
    "    ratio = df_traffic_accidents[(df_traffic_accidents['sex_of_driver']==field)&(df_traffic_accidents['accident_severity']==3)].shape[0] / df_traffic_accidents[df_traffic_accidents['sex_of_driver']==field].shape[0]\n",
    "    df_Gender.loc[i] = (field, ratio*100)\n",
    "    i += 1\n",
    "    #print(\"In {}, the ratio of leavers is {:.2f}%\".format(field, ratio*100))    \n",
    "df_G = df_Gender.groupby(by=\"Genero\").sum()\n",
    "df_G.iplot(kind='bar',title='Sexo vs salidas (%)')"
   ]
  },
  {
   "cell_type": "markdown",
   "metadata": {},
   "source": [
    "#### Age of driver"
   ]
  },
  {
   "cell_type": "markdown",
   "metadata": {},
   "source": [
    "> Indica la edad del conductor."
   ]
  },
  {
   "cell_type": "code",
<<<<<<< HEAD
   "execution_count": null,
=======
   "execution_count": 68,
>>>>>>> 602ff74d33bf130460ce1cd5ed2ba91348276f41
   "metadata": {},
   "outputs": [
    {
     "data": {
      "text/plain": [
       "-1     3770\n",
       " 30    2620\n",
       " 19    2290\n",
       " 29    2228\n",
       " 25    2220\n",
       "       ... \n",
       " 94       5\n",
       " 99       3\n",
       " 3        2\n",
       " 98       2\n",
       " 97       1\n",
       "Name: age_of_driver, Length: 98, dtype: int64"
      ]
     },
<<<<<<< HEAD
     "execution_count": 21,
=======
     "execution_count": 68,
>>>>>>> 602ff74d33bf130460ce1cd5ed2ba91348276f41
     "metadata": {},
     "output_type": "execute_result"
    }
   ],
   "source": [
    "# Age of drivers\n",
    "df_traffic_accidents['age_of_driver'].value_counts()"
   ]
  },
  {
   "cell_type": "markdown",
   "metadata": {},
   "source": [
    "#### Age of vehicle"
   ]
  },
  {
   "cell_type": "markdown",
   "metadata": {},
   "source": [
    "> Indica la edad del vehículo."
   ]
  },
  {
   "cell_type": "code",
<<<<<<< HEAD
   "execution_count": null,
=======
   "execution_count": 69,
>>>>>>> 602ff74d33bf130460ce1cd5ed2ba91348276f41
   "metadata": {},
   "outputs": [
    {
     "data": {
      "text/plain": [
       "-1     22903\n",
       " 4      4814\n",
       " 1      4705\n",
       " 5      4692\n",
       " 6      4366\n",
       "       ...  \n",
       " 54        1\n",
       " 84        1\n",
       " 92        1\n",
       " 64        1\n",
       " 63        1\n",
       "Name: age_of_vehicle, Length: 70, dtype: int64"
      ]
     },
<<<<<<< HEAD
     "execution_count": 22,
=======
     "execution_count": 69,
>>>>>>> 602ff74d33bf130460ce1cd5ed2ba91348276f41
     "metadata": {},
     "output_type": "execute_result"
    }
   ],
   "source": [
    "df_traffic_accidents['age_of_vehicle'].value_counts()"
   ]
  },
  {
   "cell_type": "markdown",
   "metadata": {},
   "source": [
    "#### Sex of casualty"
   ]
  },
  {
   "cell_type": "markdown",
   "metadata": {},
   "source": [
    "> Indica el sexo de la víctima."
   ]
  },
  {
   "cell_type": "code",
<<<<<<< HEAD
   "execution_count": null,
=======
   "execution_count": 70,
>>>>>>> 602ff74d33bf130460ce1cd5ed2ba91348276f41
   "metadata": {},
   "outputs": [
    {
     "data": {
      "text/plain": [
       " 1    57048\n",
       " 2    35212\n",
       "-1      185\n",
       " 9        5\n",
       "Name: sex_of_casualty, dtype: int64"
      ]
     },
<<<<<<< HEAD
     "execution_count": 23,
=======
     "execution_count": 70,
>>>>>>> 602ff74d33bf130460ce1cd5ed2ba91348276f41
     "metadata": {},
     "output_type": "execute_result"
    }
   ],
   "source": [
    "df_traffic_accidents['sex_of_casualty'].value_counts()"
   ]
  },
  {
   "cell_type": "markdown",
   "metadata": {},
   "source": [
    "#### Age of casualty"
   ]
  },
  {
   "cell_type": "markdown",
   "metadata": {},
   "source": [
    "> Indica la edad de la victima."
   ]
  },
  {
   "cell_type": "code",
<<<<<<< HEAD
   "execution_count": null,
   "id": "86bff1fe",
   "metadata": {},
   "outputs": [
    {
     "name": "stdout",
     "output_type": "stream",
     "text": [
      "Accidentados gravedad 1: edad media = 47.0 años y desviación estándar = 21.7\n",
      "Accidentados gravedad 2: edad media = 39.6 años y desviación estándar = 20.5\n",
      "Accidentados gravedad 3: edad media = 36.2 años y desviación estándar = 19.0\n"
     ]
    }
   ],
   "source": [
    "(mu, sigma) = norm.fit(df_traffic_accidents.loc[df_traffic_accidents['casualty_severity'] == 1, 'age_of_casualty'])\n",
    "print(\n",
    "    'Accidentados gravedad 1: edad media = {:.1f} años y desviación estándar = {:.1f}'.format(mu, sigma))\n",
    "(mu, sigma) = norm.fit(df_traffic_accidents.loc[df_traffic_accidents['casualty_severity'] == 2, 'age_of_casualty'])\n",
    "print('Accidentados gravedad 2: edad media = {:.1f} años y desviación estándar = {:.1f}'.format(\n",
    "    mu, sigma))\n",
    "(mu, sigma) = norm.fit(df_traffic_accidents.loc[df_traffic_accidents['casualty_severity'] == 3, 'age_of_casualty'])\n",
    "print(\n",
    "    'Accidentados gravedad 3: edad media = {:.1f} años y desviación estándar = {:.1f}'.format(mu, sigma))"
   ]
  },
  {
   "cell_type": "code",
   "execution_count": null,
   "id": "09a5896e",
   "metadata": {},
   "outputs": [
    {
     "data": {
      "image/png": "iVBORw0KGgoAAAANSUhEUgAAA/MAAAGlCAYAAAC2tKZgAAAAOXRFWHRTb2Z0d2FyZQBNYXRwbG90bGliIHZlcnNpb24zLjUuMCwgaHR0cHM6Ly9tYXRwbG90bGliLm9yZy8/fFQqAAAACXBIWXMAAAsTAAALEwEAmpwYAAD9cElEQVR4nOzdd3gU1dfA8e/MZje9J4QiHRJ6Cx1EQARERexdUEFFwS6CogJWFAtgAxWs6M+C+KqAovQuHWnSOyG9J1vmvn9EEiabQAJJNoHzeZ48MPfemTmbDEvO3qYppRRCCCGEEEIIIYSoMnRPByCEEEIIIYQQQojSkWReCCGEEEIIIYSoYiSZF0IIIYQQQgghqhhJ5oUQQgghhBBCiCpGknkhhBBCCCGEEKKKkWReCCGEEEIIIYSoYiSZF0IIUaTZs2cTExNToq+0tLSzXm/06NHExMSwY8eOMo1zzZo1xMTE8Morr5Tpdc/X0aNHmTBhAn379qVVq1a0b9+e6667jqlTp5bo+1WZlOZnV5l/zlOnTiUmJoY///yzzOI6cuQIMTExPPTQQ2V2zdI4n9fkcrn46quvyMrKyi879e/+s88+K8MohRBClAcvTwcghBCicuvYsSMdO3Y8Yxtvb+8KiqZqWLduHUOHDsXpdNKrVy8uv/xycnJy2Lp1K++99x7/+9//+Prrr6lbt66nQy2RPn36UKtWLSIiIjwdiiikY8eOjBgxgvr165f63CeffJJ58+YxcODA/LKmTZsyYsQI2rRpU4ZRCiGEKA+SzAshhDijjh07MnLkSE+HUWUYhsHo0aPx9vbmp59+ckuyPvvsM1577TXGjh3Ll19+6aEoS6dPnz706dPH02GIInTq1IlOnTqd07mJiYluZU2bNqVp06bnG5YQQogKIMPshRBCiDK0Z88eDh8+TK9evYrsLR0yZAj169dn7dq1pKameiBCIYQQQlwIJJkXQghRpgzDYMaMGVx55ZW0atWKAQMGMGfOnGLbz5kzh7vvvpuOHTvSvHlzunXrxmOPPcbevXvd2q5fv5577rmH2NhYOnfuzPjx48nMzDxrTA6Hg06dOtGtWzcMw3CrnzRpEjExMSxfvhyAhIQEnnvuOa644gpatmxJ9+7deeKJJ9izZ89Z7+V0OgH4999/i7wXwCuvvML06dPdpifs2LGDESNG0KlTJ1q2bMk111zD559/brrOgw8+SExMDLt373a77tKlS4mJieHtt9/OL8vIyODtt9/miiuuoEWLFnTv3p1nn32WuLg407mn5l6vWLGCW265hRYtWnDFFVeQmppa5Dz4yvhzPt3s2bMZNGgQrVu35vLLL2fmzJkopYpse/jwYUaNGkW3bt1o0aIF/fr147333iM3N7dU9zzd0aNHGTduXP4z1KZNG6699lo+++yzYuM45eWXXyYmJobFixe71e3du5eYmBiefPJJoPg58+vWrePBBx+kc+fOxMbGcvPNNzN37tz8+piYGNauXQtAhw4d6N27N1D0nPnevXtz1113sXv3boYNG0bbtm3p2LEjo0aNIj09naSkJMaMGZM/SuDBBx/kyJEjbrGX5hkQQghxdjLMXgghRJkaM2YMc+bMoUGDBtxyyy0cPnyY0aNHFznfeuLEicyYMYOYmBgGDRqEruts2LCBefPmsXr1aubPn09ISAgAy5YtY/jw4VitVvr27Yu3tzfz589nwYIFZ43JarVy5ZVX8s0337B27Vo6d+6cX6eUYu7cuURGRtKlSxdyc3MZNmwY//77L5dffjn9+/fn6NGj/PHHHyxdupRff/2V6tWrF3uvxo0bExkZybZt27jjjju44447uPTSSwkODs5vExsb63be8uXLGT58OF5eXvTt25eIiAhWrFjBq6++ysaNG3n33XcBGDhwIIsWLWLevHk0btzYdI3ffvstvw3kJfJ33HEHO3fupFOnTlxxxRUcO3aMOXPmsHTpUr755htq165tusaoUaOoV68ed911FykpKaa4T1cZf86nTJkyhffff58aNWpwww03kJyczFtvvZV/j9Pt2LGDwYMHk5WVRZ8+fbjkkkvYtGkTU6dOZeXKlXz22WfYbLYS3xvyFsW78cYbyc7Opk+fPvTv35/4+Hj++OMPXnvtNTIyMhgxYkSx5w8cOJAvv/ySefPm0bNnT1Nd4Z9xUX799VdGjRqFt7c3l19+OeHh4SxYsIDHH3+c+Ph4Bg8ezIgRI/jpp584evQow4YNO+t6CMeOHePWW2+lefPm3HbbbaxcuZKff/6ZlJQUjh49ipeXF9dffz27du1i0aJFnDx5kh9//BFN04DSPQNCCCFKSAkhhBBF+PHHH1V0dLS688471ZQpU4r9Wr16df45q1atUtHR0eqee+5R2dnZ+eWzZ89W0dHRKjo6Wm3fvl0ppdSJEydUkyZN1K233qocDofp3k888YSKjo5W//d//6eUUsrpdKrevXurNm3aqB07duS3O3bsmOrZs6eKjo5WL7/88hlfz4YNG1R0dLR6/vnnTeXr169X0dHR6tVXX1VKKbVw4UIVHR2t3n33XVO7WbNmqejoaPXBBx+c9Xu3cuVK1aZNm/zX3KRJEzVw4ED16quvqtWrVyvDMEzts7OzVZcuXVSnTp3UoUOH8ssNw1CjRo0yfS9ycnJUbGys6tevn+kaOTk5ql27dmrQoEH5ZRMmTFDR0dHq888/N7VdsWKFiomJUffcc09+2ZQpU1R0dLQaNGiQcjqdpvbPPPOM6WdXmX/O+/fvV82aNVPXXHONSk5Ozi9fuXKlatasmYqOjlYLFizIL7/66qtVixYt1ObNm03Xeeedd1R0dLT68MMPz3i/w4cPq+joaDV8+PD8sueff15FR0erJUuWmNru2bNHxcTEqL59+57xmkop1bdvXxUbG6tyc3Pdyrt06ZL/vTz1czv1mtLS0lSHDh1Uly5d1N69e/PPS01NVb169VJt2rRRmZmZSiml7rzzThUdHa1SU1Pz2536dz9z5sz8sl69eqno6Gg1bty4/LLMzEzVsWPH/Ofg9J/tqevu2bNHKVW6Z0AIIUTJyTB7IYQQZ7R27Vree++9Yr9ODdWFgl7Dxx57DB8fn/zy6667jlatWpmua7PZeOONN3j++efx8jIPFDu1ev6pOeWbN2/myJEjXHvttTRp0iS/XY0aNRg2bFiJXkfbtm2pU6cOf/zxR/5Q+NNjPtXTqf4bAr19+3ays7Pz291www0sWrSIBx544Kz36tKlC7/++it33nknkZGRGIbBzp07+eyzz7j77ru56aabTEOLFy5cSGJiIvfee6+pp1zTtPzh1LNnzwbydg7o27cv+/fvZ+fOnfltFy9eTEZGRv7rcDqdzJ49m/r163P33Xeb4uvatSvdunVjxYoVnDhxwlR3xRVXYLFYzvj6KvPPef78+TidTh588EFTT2+XLl244oorTG03b97Mv//+W2TcDz30EAEBAfnf99IYOHAgL7/8Mj169DCVN2zYkIiICFJSUkp0jfT0dJYuXZpf9s8//3DgwAEGDBjg9r08ZcmSJaSmpnL33XfToEGD/PKgoCCeffZZhg8fbnquS+Pee+/N/7ufn1/+QnmDBw82xdO6dWuA/KH2pXkGhBBClJwMsxdCCHFGI0aMKPFq9jt37sRisdCsWTO3unbt2rFly5b849DQUK655hqUUuzevZt9+/Zx+PBhdu3axapVq4C8fbBPXRdwS7hOXbekrrnmGt5//31Wr15N9+7dcblczJ8/n4YNG9K8eXMgL9GtV68eixcvplu3bnTt2pVLL72Unj17UrNmzRLfq1atWjz//POMHTuWXbt2sXr1apYvX86qVavYunUrgwcP5tdffyUkJIStW7cCeR8gTJ061e1aPj4+pvnqAwcO5Mcff2Tu3Ln5Se9vv/2GxWLhqquuAmD//v1kZWWhlCrymqfmoO/cudM0baDwsPuiVOaf89muMW/evPzjf/75B8ib317U98jX15eDBw+SmZmJv79/ie4P0L59e9q3b09qaio7duzg8OHD7N+/ny1btpCYmEhAQMBZrzFw4ECmTJnCvHnz8ncSKMkQ+1PPSVFby53PjgReXl5uz4afnx/g/sycWgvC4XAApXsGhBBClJwk80IIIcpMWloa3t7eRfYaFjX3+s8//2TSpEns378fKOjta9asGUuWLMnvJU9LSwMoMqEqzTzbgQMH8v777zN37ly6d+/O6tWrSUhI4K677spv4+PjwzfffMO0adOYN28eCxYsYMGCBWiaRs+ePZkwYQLVqlUr8T01TaNJkyY0adKEIUOGcOjQIR566CF2797NnDlzGDJkCOnp6QCmRLMwu92e//dOnTpRo0YN5s2bxxNPPEFGRgaLFy+mc+fO+bGd+p4dOHCA9957r9jrFu4l9vX1Petrqsw/5zNdo3Bsp9ouX748f/HD4q5ZmmQ+LS2N1157jV9++SU/oa1VqxYdO3Y848KIp6tduzbt2rVj4cKF5OTk4O3tzdy5c6lXr16RH1SccqqHuyQfGJTGmZ6LkqwpUNJnQAghRMlJMi+EEKLMBAUFcejQIRwOB1ar1VRXeGjv5s2bGTlyJFFRUUyaNIlWrVpRu3ZtdF3n22+/ZcmSJabrAvlJ7+mysrJKHF+9evVo3bo1f/75J+PHj+fXX39F0zSuueYaU7uwsDDGjBnDmDFj+Pfff1mxYgVz5sxh0aJFjBkzhk8//bTYe0yYMIF58+bxww8/UKtWLbf6OnXq8PTTT3P//fdz4MABoKCH87PPPqNLly5nfR2apnH11Vfz8ccfs3XrVvbu3Utubq6px/ZU8jlw4EDefPPNs16zNCrzz/nUNTIyMggNDT1jbKe+7y+//DI33XRTia5fEk8//TSLFy/m5ptvZtCgQURHRxMYGAhA9+7dycnJKdF1Bg4cyIYNG1i8eDHh4eGcOHHirKNkTr2mjIwMtzq73Y6u68UO0S8vpXkGhBBClJzMmRdCCFFmmjdvjmEYbNq0ya3u9KHXkDdk2DAMXnnlFa655hrq1q2Lruf9t1R4q6oWLVoAeVuWne26ZzNw4EBSU1NZtWoVf/31F7Gxsaake82aNbz88sscOnQIgOjoaO655x6+//57IiMjWbdu3Rmv7+vrS1JSEn/88UexbU6t8H2qF/3UUPlTw+1Pl5mZySuvvMJ3333n9joA/vrrL+bPn4+vr69pTnj9+vWx2Wxs27atyF7PWbNm8d5773Hy5Mkzvp6iVOaf86npEiW5xpm+74Zh8OabbzJjxoxS9RqnpaWxePFi2rZty0svvURsbGx+Ip+cnExiYmKJr3fllVditVrzf8YA11577RnPiY6OBor+fn3zzTe0atWKhQsXlvj1lIXSPANCCCFKTpJ5IYQQZea6665D0zQmTZpk6hlcuHAha9asMbU9Na/22LFjpvINGzbkJ66nhii3bNmSRo0a8csvv5iS6aSkJKZPn16qGAcMGIDVauXtt98mNTXVbf5xfHw8X375JTNmzDCVp6SkkJGRcdZ587feeis2m43JkycXuU94SkoKU6ZMwcvLK39EwBVXXEFgYCCffPKJW3Lzzjvv8MUXX7jtKx8dHU3Tpk2ZP38+K1eu5PLLLzcNBff29uaqq65i7969fPzxx6ZzN2/ezKuvvsqsWbPOaTuwyvxzHjBgAN7e3rz//vvExcXll2/ZsoVff/3V1LZ9+/bUqVOH2bNnu31I88UXX/DJJ5+wbt26/A9fSsJqtaLrOgkJCaapEXa7nXHjxmEYhmkBxjMJCQnhsssuY+nSpfz111+0bdv2rGsa9OnTBz8/P7744gsOHz6cX56RkcHXX3+N1WqlQ4cO+bGeiq08leYZEEIIUXIyzF4IIcQZrV27tsjFwU7Xp08fmjZtSuvWrbnvvvv45JNPGDhwIL179+bkyZMsWLCA2rVr5/d2A1x11VXMnDmTCRMm8Pfff1OtWjX27NnDsmXLCA4OJicnJ38+t6ZpvPbaawwZMoQhQ4bQr18/goKC+PPPP02rqZdEWFgY3bt3Z9GiRdhsNvr372+q79u3L23atOGbb75h165dtG3blqysLBYsWEBOTg6PPfbYGa9fu3Zt3nzzTUaNGsUDDzxA8+bNadeuHX5+fhw9epQlS5aQnZ3NSy+9lJ+YBQYG8uqrr/L4449z/fXX06dPH6KiotiwYQMbN26kcePGPPzww273GjhwIBMnTsz/e2GjRo1i48aNvPXWWyxatIg2bdrk73eulOKVV14p9R7qQKX+OdeqVYtnnnmGCRMmcN1113HFFVeQnZ3N/PnziYqKMsVmsViYOHEi9913H3fffTe9e/emTp067Nq1i+XLlxMZGcmYMWNK9b3x9fWlX79+zJs3jxtuuIHu3buTm5vL4sWLOX78OCEhIaSkpJCTk1Oi1zRw4ED+/PNPUlJSSrSif0hICC+++CJjxozJf5b8/f35888/OX78OBMnTswfKVCjRg0AnnnmGdq1a1fkM1YWSvMMCCGEKDlJ5oUQQpzR2rVrTdvPFaVWrVr521Q9/fTTNGjQgC+++ILvvvuOyMhInnvuOZKTk00LsTVp0oSPP/6YqVOnsnDhQjRNo1atWjzwwAPcfffd+T2STz/9NJC3Ovm3337Lu+++y9KlSzEMg169ejFkyBBuuOGGUr2mgQMHsmjRIi677DK3RdFsNhvTp0/nk08+YcGCBcyaNQur1UqrVq0YOnRoiea09+/fn+bNm/PFF1+wevVq5syZQ05ODpGRkfTp04chQ4aYtl6DvA8RZs2axbRp01i+fDnZ2dn5W7INHTq0yB70q6++mkmTJhESEkK3bt3c6sPCwvjuu++YNm0aCxYs4Msvv8xvO3z48DMupHY2lfnnfMcdd1C9enWmT5/Ozz//TGBgIMOGDaN69eqMHTvW1LZdu3b88MMPfPjhh6xatYrFixdTvXp1br31VoYPH25a6b+kXn75ZapXr84ff/zB119/TUREBNHR0bzxxhusXr2aqVOnsmTJEvr163fWa/Xq1YugoCCys7MZMGBAie4/aNAgoqKimDZtGr///jsOh4OmTZsyduxY04r2Dz74IHv37mXt2rX8888/3HPPPaV+rSVR2mdACCFEyWhKlg8VQgghhBBCCCGqFJkzL4QQQgghhBBCVDGSzAshhBBCCCGEEFWMJPNCCCGEEEIIIUQVI8m8EEIIIYQQQghRxchq9sD69es9HYIQQgghhBBCCOEmNja2yHJJ5v9T3DdIiMrk2LFj1KxZ09NhCHFG8pyKqkKeVVFVyLMqqgp5VsvemTqeK3yYvd1u5/nnn6dDhw5069aNjz/+uNi2O3fu5JZbbqF169Zcf/31bNmyJb/O6XQyefJkevfuTbt27RgyZAh79+7Nr9+4cSMxMTGmr2uvvbZcX5sQQgghhBBCCFERKjyZf+ONN9i0aRMzZ85k/PjxfPjhh/z2229u7bKyshg6dCitW7dm9uzZxMbG8sADD5CRkQHA9OnT+fHHH5kwYQI//PAD1atXZ+jQoWRlZQGwZ88eWrRowfLly/O/Pvvss4p8qUIIIYQQQgghRLmo0GQ+KyuL7777jjFjxtCiRQv69OnD0KFD+eqrr9zazp07F6vVyujRo2nYsCHPPvssgYGBzJs3D4CffvqJhx56iO7du9OgQQMmTJhASkoK69atA/KS+caNGxMZGZn/FRoaWpEvVwghhBBCCCGEKBcVmszv3LkTu91ump8eGxvL1q1bcblcprabN2+mXbt26HpeiJqm0a5dOzZu3AjAhAkT6NOnT357XddRSpGeng7kJfP169cv75ckhBBCCCGEEEJUuApdAC8+Pp7g4GC8vb3zyyIiInA4HCQmJlKtWjVT28LJeHh4ODt37gSgS5cuprrvv/8ep9NJ+/btAdi7dy++vr5cffXVZGRk0KNHD55++mkCAwOLjO3YsWNl8hqFKE/p6enyrIpKT55TUVXIsyqqCnlWRVUhz2rFqtBkPjs7G5vNZio7dWy320vUtnA7yFvhb+LEidx///1ERUWRmZnJ8ePHadasGa+//jopKSm8/vrrPPnkk0yfPr3I2GTVRVEVyAqhoiqQ51RUFfKsiqpCnlVRVcizWvaOHz9ebF2FJvPe3t5uyfipY19f3xK19fHxMZWtWbOG4cOH06tXL0aOHAmAv78/f//9N/7+/lgsFgBef/11brjhBnnAhBBCCCGEEEJUeRU6Zz4qKoq0tDRTkh4fH4/NZiM4ONitbXx8vKksISGByMjI/OMlS5YwbNgwLrvsMt588000TcuvCwoKyk/kARo2bAhAXFxcmb4mIYQQQgghhBCiolVoMt+0aVOsVmv+InaQN0S+efPmeHmZBwm0bt2ajRs3opQCQCnFhg0baNOmDZC3QN7IkSPp378/kyZNMp2/ZcsW2rZta0rct2/fjsVioW7duuX4CoUQQgghhBBCiPJXocm8r68vgwYNYvz48WzZsoW//vqLGTNmcPfddwN5vfQ5OTkA9O/fn6ysLF566SX27NnDa6+9RmZmJgMGDEApxbPPPkujRo148sknSUpKIj4+Pv/8Jk2aEBUVxXPPPcfu3bv5+++/GTt2LDfccANhYWEV+ZKFEEIIIYQQQogyV6HJPMCYMWNo2bIlgwcP5sUXX+Thhx9mwIABAHTv3p25c+cCEBAQwLRp09i4cSPXXXcdGzZsYPr06QQEBLB792727NnDtm3b6NGjB927d8//+uWXX7DZbHz88cd4eXlx2223MWLECLp168bzzz9f0S9XCCGEEEIIIYQoc5o6NY79IrZ+/XpiY2M9HYYQZyULOIqqQJ5TUVXIsyqqCnlWRVUhz2rZO1OuWuE980IIIYQQQgghhDg/Fbo1nRCi7Chl4Mw4hDN1D47UPThSd+NM24dSLqwh0djCWmALa4E1pCm61d/T4QohhBBCCCHKkCTzQlRBufEbSNn4Oq7Mw0XXn4gn98SK/440rCFN8G94I76X9EXT5Z+9EEIIIYQQVZ0MsxeiKlEG6bs+I3H5yGIT+SJOwpGyg5T1L3HyjxvJ2PM/DGd2uYYphBBCCCGEKF+SzAtRRRi5qbDrVdK3TwOMc7qGKzuOtK3vEjd/EOk7PpWkXgghhBBCiCpKxtsKUQXYk7aRvPY5yI4rVKNhi2yHNTgaa3AjrMGNAQ170j/Yk/7BkbwNZ/oBt+spRxrpOz8h8+D/EdxiJD61LkfTtIp4KUIIIYQQQogyIMm8EJWcPWkbCcseAsNuKtdtwYS0fxGfqC5u51iDG+FffxAAzsyjZOyeRdbBX92uYWSfJPnv57Ht/4ngVo9jDW5Ubq9DCCGEEEIIUXZkmL0QlZhy5ZCyfoJbEm4Na0Fkr8+LTOQL8/KvRUibp4nq/xMBMUPQrIFubewJG4hfNITULe9gODLLLH4hhBBCCCFE+ZBkXohKLH3HpzgzDpnK/BveSsSlH2LxiyrVtSzeYQQ1e4Cofj8R0PhO0AoNzFEuMvd+x8k/byX76F8opc43fCGEEEIIIUQ5kWReiErKnrSNjN2zzIWRfQhu9eh5bS+nW/0JavEw1S7/Cu9qndzqjZwEkteOJWnVkzgzj57zfYQQQgghhBDlR5J5ISoh5colZcMrnL5qvcU3CuoMLrN7eAXWJazrO4R2mojFr6ZbfW7cKk7+eTvpuz5DGY4yu68QQgghhBDi/EkyL0QllL5zBs70/aay4LajwcuvTO+jaRq+NXsQefnXBEQPdh96b9hJ3z6N+IV3k5uwsUzvLYQQQgghhDh3kswLUcnYk3eQsftrU5lf3avxiepcbvfUvXwIav4gkb2/wBbexq3emX6AxGUPkbz+ZVy5KeUWhxBCCCGEEKJkJJkXohJRhpOUDS+DcuWX6T6RBLV4pELubw2qT/ilHxDSbiy6LditPvvQb5xccAuZ+35EGc4KiUkIIYQQQgjhTpJ5ISqR7CMLcKbtM5WFtB2NbnPfTq68aJqGX92rqNbnf/jVvcatXjnSSN08iZN/3k720YWy6r0QQgghhBAeIMm8EJVI5r4fTMe+tfvjU72rR2LRvYMJafcs4Zd+hFdgA7d6V+Zhktc+R8KSoeQmbPBAhEIIIYQQQly8JJkXopKwJ23DkbzdVBbY5F4PRVPAO6I1kb0/I7D5Q2gWH7d6R/J2Epc9TMKSB8g+thh12hQBIYQQQgghRPk4982qhRBlKnPfj6Zj76gueAXU9lA0ZppuJTD6Lvxq9yd956dkHfzVNK8fwJ60BfuaLVj8LyGg0S341rkK3cvXQxELIYQQQghxYZOeeSEqAVduMtlH/zKV+Te4wUPRFM/iG0lI29FEXv4VPjV6FNnGlXmE1M1vETfvGpLXjSfnxArZp14IIYQQQogyJj3zQlQCWQd+AcOef2zxr4V3OW5Fd76sgfUI6zwRe+IW0nd+Su7JtW5tlDOT7MPzyT48H80aiE+NHvhU74ItrCUW32oeiFoIIYQQQogLhyTzQniYMpxk7f/JVOZf/3o0zeKhiErOFt6K8G6TcaTuIWPPt2Qf/h2U+5Z1ypFO9qHfyD70G5C33Z4trAW20GZYAi7B4lsNi28UuncomiYDhoQQQgghhDgbSeaF8LCcEytwZZ8oKNBt+NW9ynMBnQNrcCNCY8cS1PxBMvf+QNbBXzByk4ptb+TEk3NsETnHFpkrdCsW7zA0iw+axRss3mgW7/xj7bRj3Rb034cA1bD4VEP3rYbu5b5AnxBCCCGEEBciSeaF8LDCC9/51e6Hbgv2UDTnx+ITQVDzBwlsNgx7wiayj/5FztHFGPbkkl3AcODKjjvn+3sF1MU7qjPeUV3wjmiT94GAEEIIIYQQFyBJ5oXwIEfaAezxf5vKKuPCd6WlaRa8I2PxjoxFtXoCe8IGcuJW40jahj1lp2l9gLLkzDiIM+MgmXv/h2bxwRYZi1+dAfjU7CnD94UQQgghxAVFknkhPChrv7lX3hbWCmtIjIeiKR+a7oV3tY54V+sIgDIcOFL3YE/6B2faXlzZJ3Flx+HKjkc50svsvsqVQ+6JFeSeWIE1pClBLR7GOzK2zK4vhBBCCCGEJ0kyL4SHGM4csg7NNZX5XQC98mej6VZsoU2xhTZ1qzOcWRi5qShXLsqVk/enkYty5oCRW1DuzMGVm4QrOx4j+ySunJO4suNBuYq8pyNlB4nLR+Ad1ZWg5sOxBjcq75cphBBCCCFEuZJkXggPyT25FuXMyj/WvcPwrdXLgxF5nu7lh+7ld07nGo5McuP/JvfEKnLiVmHkxLu1yY1bSXzcKvwb3kxQixFourwFCiGEEEKIqkl+kxXCQ3JPLDMd+17SB023eiiaqk+3+uNbsye+NXuilMKZ+i/puz53XzEfRebe/+FMP0Boh5fQbYEeiVcIIYQQQojzIStCCeEBSrnIOb7CVOZTvbuHornwaJqGNSSGsE6vEtFjOrbw1m5tck+uIWHp/Tgzj3ogQiGEEEIIIc6PJPNCeIAjaZtpuzbNGoAtoq0HI7pw2cJbEn7ph4R2mojFt7qpzpl+gITFQ8lN3Oyh6IQQQgghhDg3kswL4QE5x5ebjn2iusj87XKkaRq+NXsQ0fMTrKHNTXWGPYXE5SPJPvqXh6ITQgghhBCi9CSZF8IDcgrNl/epcamHIrm4WHzCibj0PXxq9TFXGA6S/36RnJNrPROYEEIIIYQQpSTJvBAVzJlxGGf6gYICzYJ3tc4ei+dio1l8CO0wnoAm95orlIvkNWNwpO72TGBCCCGEEEKUgiTzQlSwnOPmXnlbRDtZUb2CaZpOUNNhhLQbaypXziwSVz6BM+uEhyITQgghhBCiZCSZF6KCFU7mZYi95/jVvYqgFo+YyoycBJJWPoFhT/NQVEIIIYQQQpydJPNCVCBXbgr2xC2mMtmSzrP8G92Kf8ObTWXO9P0krRmNctk9FJUQQgghhBBnJstnC1GBcuNWAkb+sVdQI7z8a5zz9dTxw7BvJ8qeC07Hf19O0DS0+tHQuAWazbsMIr9waZpGUMtHcGXHk3NsUX65PWEjKZveIDR27BnOFkIIIYQQwjMkmReiArltSXcOQ+xVZjpqxQLUwv+DncXvj64AvKx5CX2ztmjN20GL9pLcF0HTLIS2f4HE5YnYkwpGTmQf+g3vyFj86lzpweiEEEIIIYRwJ8m8EBVEuXLJjVttKitNMq92bCLox88wtqwGe27JTnI6YMdG1I6NqB9nQGAw2uWD0K68CS2qVmnCv+BpFh/COr9B/NL7cWUcyi9P3fQmttBmeAXW9WB0QgghhBBCmMmceSEqSG78BpQrO/9Y94nAGhJz1vOUy4Xx5VSMMffgu25JyRP5oqSnouZ8jvHgNbhefgS1fjnKMM5+3kVC9w4mrOMroNvyy5Qrm6S/n0e5zuP7LoQQQgghRBmTnnkhKkjOCfdV7DXtzJ+nqYw0jLfHwIaVxTdq0hot6hLw8gKrFSxekJGO2rERTh4r5sIK1i3DWLcMajdAv+Nh6NQLTdNK+7IuONbgRgS3epzUTRPzy5ypu0n9ZyohrZ/yYGRCCCGEEEIUkGReiAqglCLnxApTmU/1Mw+xVwd2Y7z2BMQdca+sVhOt19VoPa9Gq1G7+GvEn0Bt3wj/rEOt+hMyithu7fA+jNefhMbN0e8YAa07XfRJvV+9a8mNX0fO0b/yy7L2/Yh3RCy+tXp5MDIhhBBCCCHySDIvRAVwZR7ByD6Zf6xZvPGObFdse7ViAcaUFyA3x3ydoFCsj70Ebbqg6WefJaNFVke77Eq47ErU0KdQy35Hzf0O9u1wb7x7G8a44dCiPfpdI9FiWpX8BV5gNE0jpO1o4lN24so8ml+esvFVrCFNzmsHAiGEEEIIIcqCzJkXogLkJmw0HVvDWqFZil5V3lg6D+PNUW6JPDGtSBo9Ga1dtxIl8oVp3r7ofQahv/U1+sTP0S7tD0X1wP+zDuOZwRhvP4tKiCv1fS4UujWA0A4vgVbwmadyZJCyfgJKuTwYmRBCCCGEEJLMC1Eh7IWSee+INkW2Uwf+Rb03wa1c63cD+ssfY4SEn3csmqahxbRCf/I19MnfQ+feRceydB7GQ4Mwvp2Gys0uss2FzhbalKAWD5nK7ImbyNzzPw9FJIQQQgghRB5J5oWoAPaETaZjW0RbtzYqIx3j9afAflqPvJcX2kPPow8fi2a1uZ1zvrQ6DbGMfgv9za+gTRf3BvYc1LcfYTx8PcbSeSilyjyGys6/4a14R3U2laVtn4YjbZ+HIhJCCCGEEEKSeSHKnTPzOK7sEwUFug1baDNTG2UYGO+OhROHTeXa8LHofa8v9xi1xs2xjPsAfcI0qBft3iDhBOrtZzHG3IPava3c46lM8ubPj0GzBhYUGva84faG03OBCSGEEEKIi5ok80KUM3vCBtOxLay523x59cOnsG6pqUzrewP65deWe3yme7bqiP7WLLThYyE41L3Bzs0YT9+JMfkFVNJJ9/oLlMW3GsGFtqVzpOwifddMD0UkhBBCCCEudpLMC1HOCi9+V3iIvdqwAvXNh+aTGjdHGzaqvEMrkmaxoPe7Af2Dn9EG3Z23f30hatEvefPpv/8UZc/1QJQVz/eSK/CpZV5fIGPX59iTt3soIiGEEEIIcTGTZF6IcmZP3GQ69j4tmVcnj2G8/SycPhc9KAR91KRymSNfGpp/IPqQx9Gn/AAdL3NvkJON+vo9jBHXo1YuuODn02uaRnDrp9G9T1uEULlIWTcB5cop/kQhhBBCCCHKgSTzQpQjV/ZJ0z7laF5YQ1vkHxoz3oKMtIJ6XUd/8nW0yOoVGOWZaTXrYnn2XfRxH0Kdhu4NTh7DeGMUxtihqH07Kzy+imTxDiGk3RhTmTPjIGnbPvJQREIIIYQQ4mIlybwQ5chtiH1oM3QvHwDU1nWweqGpXrtzBFrrThUWX2lobTqjv/Mt2v1jIDDEvcG2DRhP3o7x/gRUSmKFx1dRfKp3w6/uNaayzL3/Izd+vYciEkIIIYQQFyNJ5oUoR4X3lz81X14ZBsbMt8yNG7dAGzS4okI7J5rFC33Azegf/ox29e1gKTSfXinUgp8whl+L8dPnKIfdM4GWs6CWj2Lxq2EqS9nwMoYj00MRCSGEEEKIi40k80KUo+IWv1OLfoVCQ9L1+55E06vGP0ktIAh96NPok7+Ddt3cG2Rnoj5/F2PkjajViy64+fS61Z+Q2LGAll/myjpB2tZ3PRaTEEIIIYS4uFSNzEGIKsiVk4Ar41BBgWbBFt4SlZON+mqqqa3WvS9akzYVG2AZ0C6pj+WF99CfnwqX1HdvcOIwxutPYLz4IOrA7ooPsBx5R7TDv+EtprKsg7+Sc3yZhyISQgghhBAXE0nmhSgn9oRNpmNrSBN0Lz/UT59BcsJpFTa0ux6t0NjKmhbbHf3d/6Hd9zT4B7o32LIW44lbMT56BZWaVPEBlpOg5g/gFVjPVJay8XVcuSkeiUcIIYQQQlw8KjyZt9vtPP/883To0IFu3brx8ccfF9t2586d3HLLLbRu3Zrrr7+eLVu25Nc5nU4mT55M7969adeuHUOGDGHv3r359Uop3nnnHbp06UKHDh2YOHEiLperXF+bEKcrPMTeO6ItKiEO9dMXpnJt4B1oUTUrMrRyoXlZ0a+5PW8+/ZU3Q+EpA4aBmv9D3nz6//sa5XR4JtAypFl8CIl9ATRLfpmRm0TqpjcuuKkFQgghhBCicqnwZP6NN95g06ZNzJw5k/Hjx/Phhx/y22+/ubXLyspi6NChtG7dmtmzZxMbG8sDDzxARkYGANOnT+fHH39kwoQJ/PDDD1SvXp2hQ4eSlZUFwGeffcZPP/3ElClTeO+99/j111/59NNPK/S1ioub++J3bfKG19tP25M8OBTthnsrOLLypQWFoj8wBv2d/0FRK/NnZaBmTMJ49GbUuqo/JN0W2pTAmHtMZTnHFpF95A8PRSSEEEIIIS4GFZrMZ2Vl8d133zFmzBhatGhBnz59GDp0KF999ZVb27lz52K1Whk9ejQNGzbk2WefJTAwkHnz5gHw008/8dBDD9G9e3caNGjAhAkTSElJYd26dQB8/vnnjBw5kg4dOtCpUyeeeuopvv7664p8ueIi5spNxpm+/7QSHWuqDbXY/MGVdvtDaH4BFRtcBdHqNkIf9yH6s+9CjdruDY4ewHj5EVwTHkYd3lfR4ZWpgJjBWEOamMpSN7+FK/ukhyISQgghhBAXugpN5nfu3Indbic2Nja/LDY2lq1bt7oNgd+8eTPt2rVD/2+orqZptGvXjo0b83o7J0yYQJ8+ffLb67qOUor09HTi4uI4fvw47du3N93nxIkTHD9+vDxfohBAUfPlG8Psb8yN6jRC6zOowmLyBE3T0Dpehj7lR7Qhj0NRH1xsWInx6M0YH09EpadWfJBlQNO98obb67b8MuVIJ2XDqzLcXgghhBBClIsKTebj4+MJDg7G29s7vywiIgKHw0FiYqJb22rVqpnKwsPDiYuLA6BLly5ERETk133//fc4nU7at29PfHw8gOn8U21PnDhRti9KiCK4DbH3aQRrF5vK9CGPoRXep/0CpVmt6IPuRv/gZ7S+N4CmmRsYLtRv32I8dC3Gb9+iXE7PBHoerEH1CWr+oKks9+Qasvb/5KGIhBBCCCHEhaxCM4ns7GxsNpup7NSx3W4vUdvC7QDWr1/PxIkTuf/++4mKiuLw4cOma5/pPqccO3aslK9GiDM4sd506Np8GE7roXXUbkhSVD0o5XOXnp5e9Z/VQffi1b4ngd9Px7Z7q7kuPRX18UQcv35D+g3DsDdr55kYz5XvpRD4F6Rvyy9K3TqFVOqCTw0PBlaxLojnVFwU5FkVVYU8q6KqkGe1YlVoMu/t7e2WTJ869vX1LVFbHx8fU9maNWsYPnw4vXr1YuTIkYA5cbdarWe8zyk1a1b91cRF5aBcuRxfe9BUFrhqi+nYdv0QataqVeprHzt27MJ4VmvWRHXoBqsXYnz2DsQdNVV7HT9E6HvPQ/se6Pc8gVarrocCLT1nyATiF96FcuYtxomRi/XwNCJ6fIh22qr3F7IL5jkVFzx5VkVVIc+qqCrkWS17Z5omXqHD7KOiokhLSzMl6fHx8dhsNoKDg93anhouf0pCQgKRkZH5x0uWLGHYsGFcdtllvPnmm2j/Dd2NiorKb3/6fQDT+UKUB0fqblAFa0BYVCB66mkr2IdGoHXv54HIKhdN09C6XI4+9Ue0u0aCj597o3VLMR69CePbaShH0aNqKhsv/5oEtXzUVOZI2krG7lkeikgIIYQQQlyIKjSZb9q0KVarNX8RO8gbIt+8eXO8vMyDBFq3bs3GjRvzF49SSrFhwwbatGkD5C2QN3LkSPr378+kSZNM50dFRVGzZk3Wr19vuk+1atWoUePiGeoqPMOevMN07HU823SsXXUr2n8jRgRoNm/0G+5F/2AO2uXXus+ndzpQ336Ut5Xd1r89E2Qp+dW9Bu+orqay9O3TsCdtK+YMIYQQQgghSqdCk3lfX18GDRrE+PHj2bJlC3/99RczZszg7rvvBvJ6z3Ny8now+/fvT1ZWFi+99BJ79uzhtddeIzMzkwEDBqCU4tlnn6VRo0Y8+eSTJCUlER8fbzr/tttu4+2332bVqlWsXbuWt99+O/8+QpQnR/J207H12GnJvLcPWr8bKziiqkELi0QfOQ79za+gaRv3BscOYjx/P8bk51GpSRUeX2lomkZIuzFo1qCCQuUiee1YDHvVXLFfCCGEEEJULhWazAOMGTOGli1bMnjwYF588UUefvhhBgwYAED37t2ZO3cuAAEBAUybNo2NGzdy3XXXsWHDBqZPn05AQAC7d+9mz549bNu2jR49etC9e/f8r19++QWA++67j6uvvppHHnmEkSNHctVVV3HfffdV9MsVFyG3ZD7ByP+71nsgWmBw4VPEabRGzdBfnYH2+KsQEu5Wrxb9ijHyBtSKBR6IruQsPhGEtBtjKnNlnyB5/cuyXZ0QQgghhDhvmpLfKlm/fj2xsbGeDkNcAAx7Oid+63tagSLym1x0J6Bp6O/9dF6LuV1si4qojDTUl1NQv/9YZL3WrS/aA6PRgkIrOLKSS93yDpl7vzOVBbUYQUDjOzwUUfm72J5TUXXJsyqqCnlWRVUhz2rZO1OuWuE980JcyBwpO03HllSVl8gDtL+0Sq3KXhloAUHow8eivz4T6jRyq1cr/sAYeSNq9UIPRFcyQS1GYA1tZipL2/Yh9sQtxZwhhBBCCCHE2UkyL0QZKrz4nTWxYIi9PvCuig7ngqE1aYP+9iy0O0ZAocUySU3CeP1JjHeeQ2WmeybAM9B0K6EdXkazBhYUKhdJfz+PKzfFY3EJIYQQQoiqTZJ5IcqQ+3z5/2axNGgCLWQqx/nQvKzoN92HPmkWNGjqVq+WzMV44jbUv1s9EN2ZefnXIDT2eVOZkX2SlHXjUKdtYyiEEEIIIURJSTIvRBmypxTqmf9v8TvtmjvQCm+5Js6JVq8x+hufo902HCyFeunjjmKMuRdj9kyUYRR9AQ/xqXEp/o1uN5XlnlxD2j8feCgiIYQQQghRlUkyL0QZceUkYGSfPK1A4ZWswC8ArdsVngvsAqR5WdFvuR990ldQr7G50uVEfTEFY/xDqKR4zwRYjKDmw7GGtTSVZe6ZRdah+R6KSAghhBBCVFWSzAtRRhyF5st7JSk0A7Qe/dFs3h6K6sKm1Y9Bf+NLtKtuda/cvAbj8VtR/6yr+MCKoelehHV6Fd0n0lSesvE17IWmaAghhBBCCHEmkswLUUYKJ2OnFr/Teg/0RDgXDc3mjT7sGfRn34HAYHNlahLGCw9i/DKr0uztbvGJIKzz66DbCgoNO0mrn8GVk+C5wIQQQgghRJUiybwQZaRwz7w13oBL6kPjFh6K6OKideyJ/u530LzQQoOGC/Xpm6h3x6Jysz0TXCG20GaEtB1jKjNyEkhaMwblsnsoKiGEEEIIUZVIMi9EGVBKFbEtnULrfY0sfFeBtPBq6BOmod08zK1OLZmL8cwQ1IkjHojMnV+d/m4L4jmS/iFl42uVZhSBEEIIIYSovCSZF6IMuDKPohxp+ceaXWFJ19B6XuW5oC5SmsWCfvtD6M++C34B5soD/2I8fSdq23qPxFZYUIuH8I7qbCrLPjyf9B3TPRSREEIIIYSoKiSZF6IMFJ4v75VooLXpghZWzUMRCa3jZehvfgW1G5gr0lMxXnwQY9EvngnsNJpmIbT9eCwBdUzlGbs+I+uA5+MTQgghhBCVlyTzQpQBR+I207E1QcnCd5WAVqsu+htfQNc+5gqnEzX5BYxZH3h8SLtuCyK8y1vothBTecqmieTErfFMUEIIIYQQotKTZF6IMmA/Yk66rBneaB0v81A04nSarz/602+g3f6QW5367mPU22NQ9lwPRFbAK+ASwrq8aV7hXrlIXvssjtTdngtMCCGEEEJUWpLMC3GelOHEkXvYVGZr1FP2lq9ENE1Dv3kY2hOvgtVmqlPLfsd44QFUeqqHostjC2tBaPvxQMGCicqZReLKJ3FlxXkuMCGEEEIIUSlJMi/EeXIc2wy6kX+sZyssl93iwYhEcfQeV6K/NA2CQswVOzdjPHsvKsGzSbNvrZ4EtRxpKjNy4klc8Siu3BTPBCWEEEIIISolSeaFOE/2dT+ajr0yfNCiZW/5ykpr0gb9jS/hkvrmisP7MEYPQR3e55nA/uPf8Fb8G9xoKnNmHCRp1ZMYziwPRSWEEEIIISobSeaFOE+OE+ZtzmyRLWVv+UpOq34J+uufQ/NYc0XCibwe+n+3eiYw8qYEBLV6DJ+aPU3ljuTtJK8Zg3LZPROYEEIIIYSoVCSZF+I8qLhjOLxSTGXW5ld6JhhRKlpAIPqL70Pn3uaK9FSM5+9HbVjhmcA4tWXdOGwR5g8bck+uJXn9BJRyeSgyIYQQQghRWUgyL8R5MFbOxxlq7oW31e3qoWhEaWk277yV7q+43lyRm4PxymOolX96JjBAs3gT1nki1pAYU3nO0b9I3fyWx7fUE0IIIYQQniXJvBDnwb5lLugFybyFICzeIZ4LSJSaZrGgPTQW7aah5gqXE2PSaIwl8zwTGKBb/Qnr+jaWgDqm8qz9P5G27X1J6IUQQgghLmKSzAtxjlTcMZzZB0xl1siWnglGnBdN09DveBht6Cg4fb0Dw4V69zmMP+d4LDaLdxjh3d5F94k0lWfu/pr0nZ94KCohhBBCCOFpkswLcY7UygU4Isz/hGxR7TwUjSgL+tW3oT0yHvTTfq5Kod4bjzH3O4/F5eVXg/Buk9FtwabyjJ0zSN/1hYeiEkIIIYQQniTJvBDnSK34A0eEeb68NbSph6IRZUXvdQ3aE6+CbjGVq+mvYfz8pYeiAmtQfcK6TUazBpjK07d/SMaebz0UlRBCCCGE8BRJ5oU4B+rEEYyD23EFn/5PSHdbrExUTXr3fuij3gQvL1O5mvk2xveeG9puC4khvOs7aF5+pvK0rZPJ3D/bQ1EJIYQQQghPkGReiHNQ1BB7r6B66IWSLFF1aZ17oY95B2zepnL19fsYX3tu8TlbWAvCukxCs5jjSt30Jpn7fvRITEIIIYQQouJJMi/EOVDLF+AMLzTEPkSG2F9otNju6GOngLePqVx9/wnq83c9ltB7R7QlrPMboNtM5ambJ8mQeyGEEEKIi4TX2ZsIIU6njh+CfTtw9LKaym1hzTwUUeWV6zTYn+YgPttJQrar4CvHiQYEWHUCbRYCbToBVp0Qb51GITYaBNvw0rWzXr8iaK06or/4AcZLIyE7M79czfkC7LkwdBSaXvGfi3pX60hYp9dIWjMaDEd+edrWyWA4CYi+s8JjEkIIIYQQFUeSeSFKSa1YAIAj3JzAWUMkmT+c7mDV8SxWHc9m9fFsNsTnYHeVvvfaqkPjEG+ahtloEuZNm0gfetTyo5qfZ96ytGZt0cd/hDH+IchMzy9Xc/8HDjs8+ByaxXKGK5QPn+pdCes8kaTVo8Gw55fn7UHvJDBmSIXHJIQQQgghKoYk80KUklr5Jy5fMPxP6znWrViDG3ouKA/anpjLzO0p/O/fVA6nO8vkmg4Dtiflsj0pFyhInpuHe9PrEj96XuLPZZf4EeFbcW9hWnQL9JemY7w4HNJT8svVgp/yEvqR49AsFf+W6hPVhfAub5K0ehTKlZtfnr59GsqVS2DT+9G0yjHKQQghhBBClB1J5oUoBXXsIOzbiaN2oV754Gg03VrMWReelBwX3+xKZeb2FP6Oy6mw+25LzGVbYi7vbU4GoHN1X25sHMQNjQKpF2w7y9nnT2vQBP3ljzFefBBSEvPL1eLfwOmAx15G86r458C7WkfCurxN0qqnUK7s/PKMXZ9h5CYT3PopNF3e7oUQQgghLiTy250QpaBW/AmAs9BK9raLZH/5/al2xq+O59t/08gt4fD5WgFe1A6wEuFrIdLXiwhfC+E+FnQN0h0GGXYj/88TWU52Jtk5kVWyHv7VJ7JZfSKbp5bFEVvNhxsaBXFTdBCNQsovsdfqNkJ/5ROMFx6AxJP55Wr5HyiHA/2p19Gs5f/BQmHeke0I6/oOSaueQDmz8suzDvyMkZNEaMcJaBafM1xBCCGEEEJUJZLMC1EKas1CAByFV7IPvbDnyydmO3n17wTe25x8xjnw3haN9lE+dK7uS5cafnSp4UvNgNL3VKfkuNiRlMuO5Fz+Schl6dEsNsbnYJzh84P1J3NYfzKHZ1eepHtNX+5tHspNjYMIsJX94nRarXroL3+C8cL9EH+ioGLNIozXn0R/ZhJaoS3tKoJ3RGvCu00hadWTGPbU/PKcE8tIXPEYYZ3fQLcFVXhcQgghhBCi7EkyL0QJqcSTsGc7Ctz2mLdeoD3z2U6DqZuSeHVtAql2o9h2vWv7cU+zEK5vFISf9fyT5xAfC11q+tGlpl9+WUqOi2XHslh0OJNFR7LYFF/88P7lx7JZfiybkYuPc0t0MPc1D6FLDd8ynTuu1aiN/sqnGM8/AHFHCirWL8d45TH0Z99G8/Yts/uVlC2sOeE9PiJpxeO4sgs+aLAnbiZh6XDCu76NxS+qwuMSQgghhBBlS/aZF6KE1NrFALgCNZR3QVKoefnjFVDHQ1GVnzl70oj5fA/PLD9ZZCJfP8jK+M6RHLi3EX/dUI87m4aUSSJfnBAfC9c0COTty6qz8Y4GHLy3Me/0iKJ7TV+KS9EzHYoZ21Lo9t0BWn61j4+2JJFxhg8lSkurVhP91U+hZl1zxebVGBNGorKzij6xnFkD6xFx2TS8ghqYyp3p+4hffC/2xK0eiUsIIYQQQpQdSeaFKCG1dgkAjojCQ+yboGkXzj+lLIfBg38d57pfjxS5On3tQC8+71uT3UMa8ULnSOoGVfz8cIA6QVYeaxfOspvrc3RYY97vVZ3uNYvvCd+WmMvwhSeo9cm/PLb4BP8m5xbbtjS08Gror3wCtc2JM9vWY4x/CHXaVnYVyeJbjYhLP8QW3sZUbuQmkbD8YbIO/uaRuIQQQgghRNm4cDIQIcqRysqArWuBIha/u4D2l98Sn0OHb/YzbWuyW12wTWdi92rsGtyIu5uFYNErz3ZnNfytPNQ6jGU312fX4IaM6RBODf+iZxGl2Q0mb0oi5vO99P/pIL8fyECpki3mVxwtNAL95Y+hXrS5YudmjHHDURlp53X9c6Xbggjv9g4+NS4zVxgOUja8TOrWKSjl8khsQgghhBDi/EgyL0QJqA0rwZnXS+0Iv/DmyyulmLopiY7f7v9vb/cCXjo83jaMvfc0YlT7CHy9KvfbRnSoN692i+LQfY357draXN8oEEsxnzv8fjCT/nMO0eLLfXz6TzI5znMfgq8Fh6G/NB0aFfpwZ/c2jOfvR6W5f0BSETSLD6GdXiUgerBbXeaeb0ha9ZRpsTwhhBBCCFE1VO7fyoWoLNYsAkBp7ivZ26r4SvapuS6u/eUwjyw+4bbdXKMQG6tuqc/bl1Un3LdqrZfppWsMqB/Ij1fX5sC9jRnbMYJqfpYi225PymXon8ep8+luxq+O52QJt8YrTAsMRh//EcS0Mlfs34Uxdhgq6WTRJ5YzTdMJav4gIe3Hg26eFpEbt5r4hUOwJ/3jkdiEEEIIIcS5kWReiLNQTgdq/XIAnCEaeBUk87p3GLpvNU+Fdt5OZDrp+cNBftmX4VY3uGkwG26vT/uoil+RvaxdEmjlpa7VOHRvY77qX4vO1Yt+TfHZLsatjqfOp7sZ9ucxtiUWv2J+cTT/QPRxH0DzduaKQ3sxxtyLOn7oHF5B2fCr3ZeIHh+i+0SYyl3ZJ0hY+iAZe7457ykHQgghhBCiYkgyL8TZbFsPWXnJrvuWdM3KdLuzirQ7OZeu/9vvtsVbkE1nVv9afNavFoG2onuyqypvL507mgSz6tb6rL6lHrdEBxU5BD/XpfjknxRafLmPK386yB8HSzevXvP1R3/+PWjV0VwRdzQvod+/6zxfybmzhTYjstdMrKEtzBXKRdrWKSSvGY1h98wcfyGEEEIIUXKSzAtxFmrN4vy/OyMKD7GvmvPl18Vl0+27A+xPc5jKO0T5sOmOBtzWJNhDkVWcTjX8+HbAJey9pxFPtgsjyFb02+H8g5n0++kQrb7ax4xtJZ9Xr/n4oj83Gdr3MFekJGI8NxS1bcP5voRzZvGJIKLHB/g3vNWtLuf4UuIXDSY3cbMHIhNCCCGEECUlybwQZ6CUyt+SDi6Mxe/+OJhBzx8OEJ9tXsX8qvoBLLqxHvWDPbPVnKfUDbIxqUd1Dt+Xt2993UBrke3+SczlvgXHqTtjNxNWxxNfgnn1mrcP+uhJaD2vMldkZeRtW/f30jJ4BedG060Et3qU0E6vo1kDTHWurBMkLn2ItB2foIxzWz9ACCGEEEKUL0nmhTiT/bsg4QQAygLO0Kq9Ld23u1K56udDZDrMQ8aHNAvmp6tr42+9eN8SgrwtPNYunD33NOL7qy6hS42i59WfzHLx4n/z6u//8xg7ks68X73mZUV7ZALaNXeYK+y5GK89gfHH7LJ6CefEt+ZlRPb6HGtI4Q+mDDJ2fkrCsodwZh73SGxCCCGEEKJ4F+9v7kKUgPpvFXsAR5hm+hdj8a+F7l11hqP/si+dO+cfpfAo8TEdwplxRU2sxe3fdpHx0jVubBzEylvqs/LmetzUOAi9iG9Njkvx8T8pNPtiLwPmHOKvQ8XPq9d0He3eJ9HueNhcYbhQH7yE8dV7Hl14zsu/JhE9PsK/4S1udY6krcQvvIusw797IDIhhBBCCFEcSeaFOAPzfPlCQ+zdejIrr6VHMrn5tyMU2nmOdy+L4tVuUVV2Eb/y1qWmH99ddQl7hzTi8bZhBBYzr37egQz6zD5Em6/38fn2FHKLmFevaRr6TUPRHnwWCn2/1Q+fot55DuWwl8vrKAnNYiO41WOEdX0b3TvMVKecmaSsG0fyuvEYjkwPRSiEEEIIIU4nybwQxVBxx+DAv/nHjshCQ+yryP7ym07mcM3/HSbntExe1+Dr/rV4tG24ByOrOuoF23j7srx59W/1iKJOMfPqtyTkMuSPY9SbsYdX1saTkO0+31zvfxP6M5PA5m0qV0vnYYx7CJXh2ZXkfaK6EHn5l3hHdXWryz48n/iFd2NP3OqByIQQQgghxOkkmReiGOrvxaZjR6E51FVh8bvdybn0m3OQNLu5p/ij3jW4/SJYsb6sBXtbeKJdOHvvacT/BtSiY5RPke1OZDkZuzJvXv3wv46zq9C8eq1zb/SXpkNQiPnEbesxRg9BHTtYTq+gZCzeYYR1mURwqydANy+I6Mo6RsKy4aTvnIFSrmKuIIQQQgghypsk80IUQ60pWMXesIHL5/Qh0DrWkJiKD6oUjmU46PvTIU5mmROuV7tWY1jLUA9FdWHw0jVujg5m9a31WXFzPW5oFFjkvPpsp+Kjrck0+WIvV/98iN8PZGD8Nzdei2mFPvELqFnHfNKR/RhP34XatLoCXknxNE3Dv+FNRPaagVdQA3OlcpG+42MSl4/ElZPomQCFEEIIIS5ykswLUQSVkQbb1ucfF96SziuoPrpX0audVwbJOS76/XSIA4X2kX+iXRijO8jQ+rKiaRpda/rxw9W12T2kEY+2CSOgmB0BftufQf85h2g4M28I/rEMB1qN2uivfw5N25gbZ6ZjTHgY4/++8ujCeADWoIZE9pyBf8Ob3ersCRuJXziY3ISNHohMCCGEEOLiJsm8EEVQ65aBUdCj7WxoToBtlXiIvctQ3DH/KP8kmod2D24azJuXymJ35aVBsI13e+bNq3/z0mrUDvQqst2BNEf+EPzrfjnM/EQLvPghWo8rzQ0NAzXjLdTUcR5dGA9As3gT3Opxwrq8he5tHtVh5CaSuHwk6f96/oMHIYQQQoiLiSTzQhRBrV1sOnbUNc8vt1bixe/Gr4ln3oEMU9nABgF8ckVNdEnky12Ij4WnYiPYO6Qx31xZi/bFzKt3KZizN50BPx+mwdeHeaXrY6TfOsJ9pfuF/4fx3FBU/ImKCP+MfKp3JbL3V9giY80VykX6tvdJXv0Mhj3dM8EJIYQQQlxkJJkXohDlsMOGlaYyh485Oa6syfzPe9N5aU2CqaxTdV++HXAJXkVN6hblxmrRuDUmmLW31mf5zfW4q2kw3paifwaH0h28sDqB8LguvNxnLA4ff3ODf7diPHEbauPKIs+vSBafMMK7TSYgZohbXc6JZSQsGQY5nv/gQQghhBDiQifJvBCFbVkLOVn5h64aYRjOlIJ63YY1qGHFx3UWu5Jyuev3o6ayan4Wfrz6Eny95J+6p2iaRreafnzRrxbHhkUz+bIomod7F9nWUDDO0YQ2Lcex17+GuTI9BWPCCIxZH6Bcnl1FXtMsBDV7gLAub6FZA011zoyDsG20zKMXQgghhChn8hu+EIUUHmLvbG+eH28NjkbTi54P7SnpdhfX/XqY9NO2oPPS4fsBl1AroOg90UXFC/Ox8EjbcLbe2YAVN9djSLNgfL3ce+t3+dekY5vxzA1rY65QCvXdxxjjH0KlJFVM0GeQN+z+c/dtGp3pJC5/hKwDv3gmMCGEEEKIi4Ak80KcRhkGau0SU1nh+fKVbfE7pRT3/HGMHUnmRdLeujSKHpf4F3OW8KRTq+DP7FuLY0Ojea9XdVpFmHvrU63+XNvySZ6rfzMuCiX8W9bifPwW1OY1FRh10bz8ahBx6Yf4XtLXXKGcpGx8ldStU2U/eiGEEEKIciDJvBCn27Mdkk+bc+7jh8M7zdSkss2Xf3N9Ij/uMS86dmeTYEa2CfNQRKI0QnwsPNw6jE13NGDNrfW5r3kIgba8t2al6Uysey39Wo/hhNX8oZKenIDzxeHsmfImzlzPr3Yf0n4cgU3vd6vL3DOL5L/HoQxHEWcKIYQQQohzJcm8EKdRaxaZj9t1wZG6y1RWmXrm157I5tkVJ01lbSJ9mHZ5DdmCrorRNI2O1X355IqanBgWzTdX1mJAvQAsGiwObU779q+wJNj87Oko6i+cxZZhtzFh9t+sOpblse3hNE0jsMk9hHZ8GXSbqS7n6J8krXoKw5lVzNlCCCGEEKK0KjyZt9vtPP/883To0IFu3brx8ccfF9t2586d3HLLLbRu3Zrrr7+eLVu2FNnuww8/5KmnnjKVnTx5kpiYGNNX+/bty/S1iAtP4fnyRmxrlKOg11vz8scSULuCoypapsPgzvlHcZ2Wu4X5WJh99SX4WeVzuqrMz6pza0wwvw2qw9Gh0bx7WRS1ategb+sxvFrnWoxCw+5bp+3j0a9GMn3yZzSYsZtnV8TxT0KOR2L3rXU5NH0J3SfCVJ57ci2Jy0fiyk3xSFxCCCGEEBeaCv+N/4033mDTpk3MnDmT8ePH8+GHH/Lbb7+5tcvKymLo0KG0bt2a2bNnExsbywMPPEBGhnmLsF9//ZWpU6e6nb9nzx4iIiJYvnx5/tfvv/9ebq9LVH3q+CE4vK+gQLfgrB1gamMNbYqmVY5E+ellcexOMQ+v/rxvTeoH24o5Q1RFUf5ePNo2nHW3N2DrkGiybxnO7V1e5LC3eRpFgJHLJ7s+5p2VE5mxfC8tv9pHq6/28vrfCRxIreBh+AGNiOgxHYu/+YMvR/J2Epc+iCsrrmLjEUIIIYS4AFVoVpKVlcV3333HmDFjaNGiBX369GHo0KF89dVXbm3nzp2L1Wpl9OjRNGzYkGeffZbAwEDmzZsHgNPp5MUXX+TZZ5+ldm33ntI9e/bQoEEDIiMj87/Cw8PL/TWKqkutWWwuaN4OR84BU1FlGWI/d386H25JNpU90DKUqxsEFnOGuBA0DfPm1W5R/G/UQI6M/4r1Dbu5tbkmcQNb/n6Gm06uYmtCLmNWnKT+zD10+99+3t+cxMksZ4XE6uVfg4jLPsIaEmMqd2YcJGHpAzjSD1RIHEIIIYQQF6oKTeZ37tyJ3W4nNjY2vyw2NpatW7fiKrRv8ubNm2nXrh26nheipmm0a9eOjRvz9i7Oyspi165dfPfdd7Rt29btXnv27KF+/frl+GrEhabwEHutY0/syTtMZdYQzy9+l5Dt5N4Fx0xljUJsTLo0ykMRiYqmaxrdm9Sgw6SpuIY/j9PqY6oPd2bwzfb3+GbbFMLtedNEVh7PZsSiE9T8+F+u/OkgX2xPIS23fFeZt3iHEd79fWyRsaZyV3YciUsfxJ60rVzvL4QQQghxIavQZD4+Pp7g4GC8vQu2YIqIiMDhcJCYmOjWtlq1aqay8PBw4uLyhmcGBQXx7bff0qRJkyLvtXfvXo4ePcr111/PpZdeyuOPP55/rhCFqdQk2LnZXNi+O46UQovfhXk2mVdKcf+fx4nLKkjCLBp81a8mAbbKMfxfVBxN07D1ux7b5G+hSWu3+pvi17Dl71Fck7Auv8ylYP7BTAb/cYyo6f9y829HmLMnjVynUS4x6lZ/wru8hU/NnqZyw55K4vKR5JxcWy73FUIIIYS40HlV5M2ys7Ox2czzeU8d2+32ErUt3K44e/fupX79+owdOxbDMHj77be5//77+fHHH/Hycn/Zx44dK+Iq4mLhs2oBwUZBMuO4pD5JGYfAOO15s4YQl+QAzXPPyhc70/hpr3m18keaelNbpXDsWIpnghKVgBVGvITfX3MI+OULNGfBUPooRxo//fMOX0RdyuON7iLV6p9fl+NSfL87je93pxFkhQGX2BhUx0rXSC8s+rnvhpCenu7+nnrJQ+Dwgvg/84uUK5uklU9Cw0cg3H3KgBDlrchnVYhKSJ5VUVXIs1qxzpjM33333aW62BdffHHGem9vb7dk/NSxr69vidr6+JiHkxbnr7/+wmq15n8gMHXqVLp3787GjRvp0KGDW/uaNWuW6LriwuTatcl0bOt2BcGWOFJPK/MJb0lYrVoVGtfpDqTaeXVHiqmsQ5QPEy+vj9Ui29AJYPBIVK8BGJOfh73mKSJ3xy2jX9o27mk8jD/CWrmdmuaAb/fb+Xa/nep+XtwaE8RtMcF0iPIp9TaHx44dK/I9VdWcQPr2WmT8+/lphU7Y8w7B/jr+DW4o1X2EOF/FPatCVDbyrIqqQp7Vsnf8+PFi6844LtfhcOB0OvO/NmzYwIYNG3A6nYSGhgKwdetWtm7dSkhIyFkDiYqKIi0tzZSkx8fHY7PZCA4OdmsbHx9vKktISCAyMvKs9wHw9/c39eyHh4cTEhIiQ+2FG5WbDZtWm8q0jj2xJ/1jKrOGt6zIsEyUUjzw13EyTlu7zNdL48t+tSSRFyZanYboEz9Hu+1BsJg/r43KTmLulomsSvqK5n7FL4R3IsvJuxuT6PTtfhp/tocXVp1kR1Lu+cemaQQ1f5Cglo8WqlGkbp5E+o5PUUoVea4QQgghhDA7YzL/zTffMGvWLGbNmkW/fv2oW7cuCxYsYNasWUyePJkvvviCBQsWUL9+/RItNte0aVOsVmv+InYA69evp3nz5m5D31u3bs3GjRvzf7FTSrFhwwbatGlz1vvEx8cTGxtrus+JEydITk6mQYMGZz1fXGQ2rwH7aXtyR1SHBk2wJ201NbOFeS6Z/3ZXGn8cyjSVTbo0ipgw72LOEBczzcuKfssD6G98AXUautV32DKPzX+PZmvrREa0DiXS11LstfamOnhpTQLNvthLu6/38ea6BA6nO84rvoBGtxIS+yJo5vum7/yE1C1voVT5zN8XZ6cMA5Wbg8pIR6UkopJOohwVvLWhEEIIIUqkxHPmP/74Y1544QVq1KhhKo+IiOChhx5i7NixPP7442e8hq+vL4MGDWL8+PG8/vrrxMfHM2PGDF566SUgLwkPDAzEx8eH/v3789Zbb/HSSy9x++23891335GZmcmAAQPOGmtkZCTNmzfn5ZdfZvz48SileOWVV+jatSvNmnl+NXJRuRTekk7reBlGbjKuzKOnFVqwhRa92GJ5S8px8djSE6aynpf4MbxVqEfiEVWH1rAp+luzUN9+hPrpczhtXQjij9N08iNMvvJm3rnzERYmKGbtTGX23nTS7UUn0xvjc9gYn8Oo5SfpUcuP22OCubFxIOG+pV9+xa9Of3RbEMlrn0W5Cnr9s/b9iJGbSmj7F9B0a6mvK85O5WbDvl2oI/vh6EHU0f1w9ACcPA7OYj6oCQiC0AgIjUALjYS6jdCiW0DDZmi+fhUavxBCCCHylPg3sJycHAyj6F/wMjMzi60rbMyYMYwbN47Bgwfj7+/Pww8/nJ+gd+/enddee43rr7+egIAApk2bxosvvsj3339PTEwM06dPJyAgoET3effdd3n11Ve57777cDqdXH755Tz33HMle7HioqFcLtS6paYyrVNPcgv1yltDotEsJVuvoaw9szyOk6etXm+zaHzUu0ap5zGLi5NmtaHd9QiqY0+MyS/AsYOmejXvO7QNK7hi5Dj69mvPh06D3/ZnMGtnKr8dyMDuKnrY+9KjWSw9msWIxcfpVzeAO5sEc23DQHy9Sr6rgk/1roR1m0zSqqdRjvT88pyjf5LkSCe006voXpIoni+lFBzZh9q4CrVhJWxbD6Xtbc9Iy/s6vI9TT4QC0HWo3TAvsW/dCS22O5qv/xkuJIQQQoiyoqkSTlB8+OGH2b17N++//z6NGzfOL9+yZQuPPPII7du3Z9KkSeUWaHlav349sbGxZ28oLjhq+0aMZ+8tKPALQP9iIWk7p5G5++v8Yv+GNxPc6swjT8rDsqOZ9PjenHyN6xzJi51LtnaEEKdTudmor99H/TILinjr166+De3OkWg+eQuSpuS4+GlvOrN2pbLwcCbGWf63CLLp3Ng4iAGRTq5rXRu9hB84OVL3kLjycYycBFO5NSSGsE4TsfhFlewFChN1eB9qwWzUqr8g/sTZTygLVhu07ozWpTdah8vQgkIq5r7nSBZqElWFPKuiqpBnteydKVctcTJ/9OhR7rzzTuLi4qhZsyahoaEkJiZy/PhxGjVqxOeff05YWFiZBl5RJJm/eBmfvYOaU7ALg3Zpf/QnXyNh6YPYEwv2nQ/t8BK+l/Sp0NhynQZtZ+1jR1JBD1qjQJ1/BkfjXYreTyEKU9s2YEwdBycOu1dWr43+yHi0Zm1NxcczHXz3bxqzdqayNi7H/bxC6gZaubNpMHc1CS7R2g7OzOMkrngEV+YRU7nuHUZYp9ewhbuvwC/cKXsuauWfqD9+hO0bz35CUay2/76sgAbpKeYpGiWlW6BtF/Qrb4Z23dD0yve+Jb90iqpCnlVRVcizWvbKJJmHvL3fZ8+ezfr160lNTSUkJIQuXbpw7bXXYrVW3bmNksxfnJRSGA8PgmOH8su0p15H69qb47/0Me0xH9VvToX3Dr60Jp4XVpl3dPixVwDXt65ToXGIC5PKyUZ9NRX16zfulZqGds3taHc8jObt61a9J8XOt7tS+XpnKjuTzz5cu2OUD3c3C+GW6CAizjC/3pWbRNLKJ3Ck7DJX6FZCWj+NX71rznqvi5VKSUL9/CVqwey84fBnE1kDrXELqFUXLqmPVqse1KwDvv5uU3iUy5WX0CclQHI86sQR2P0Pave2vLn2JRFVC63/TWiXX1upeuvll05RVcizKqoKeVbLXpkl8xcqSeYvTurwPoyRp+1r7eWF/sUiHDkHSVgyNL9Y94mk+pX/V6Gx/ZucS6uv9pF72nzl+5qHMKE58gYpypT6Z11eL33cUffKmnXzeumbtC76XKXYFJ/DVztTmbUzjRNZxW93B2DVYUC9QO5uFsxV9QKKHGFiODJJXjeO3BPL3er8G95MUIuRaHrpF9y7UKnUJNScL1Fzv4XcM4yYsHlDi1i0tt3Q2nWFmnXLZN0NlZEGu7ehNq/JG84fd+TMJ9i80S67Cu2m+9Cqef69TH7pFFWFPKuiqpBnteyVWTJ//Phx1q1bh91uN20Zl5WVxfr165kyZUrZRFzBJJm/OBk/zkB9ObWgoE0XLOM+IGPPt6RtnZxf7FOrN2EdX6mwuJRS9Jl9kIWHs/LLIn0t7BzciJykOHmDFGVOZWehvpyCmvs/90pdRxt4J9ptw9G8i18E0mko/jyUyZc7Upi9J40cV7FNAQj11rklOpi7mwbTuYavKbFUyiB9+3Qy/v3c7TxraDNCYp/HGlivpC/vgqTSUlA/f4H67VvIyS6+YfNYtL43oHXudcafX5nEpBQc+Be1emFeYn9ob/GNvbzQ+gxCu+E+tMjq5RrXmcgvnaKqkGdVVBXyrJa9M+WqJe7emDt3LqNGjcLpdOb/0qWUyv+77N8uqhq1drHpWOvUEwB70j+mcltYiwqKKM/sPemmRB7gncuqE+Zj4ViFRiIuFpqvH9r9o1Gde+f10scfL6g0DNScL1DrluX10ke3LPIaXrpG/3oB9K8XwK6DR1mZ4c+XO1JYdCSryPbJuQYfbU3mo63JNAqxcWeTYG6LCSI61BtN0wlq/iDW4IakbHjFtHWdI3k78QsHE9R8OP4Nb0bTKt887JJQhhNH6m6c6QdxZh7GlXEYZ8ZhXFnHUYYDlAulDFB5c9UtvlF4BVyCxbcmlkPxWJatwno4C72oWQ6BIWi9rkbrez3aJfUr7DVpmgb1Y9Dqx6BufTCvx37e/1DL/3BfPd/pRM3/AfXnz3lx3ngvWli1CotVCCGEuBCUuGd+0KBB+Pj48MILL/D111/jdDq5//77WbJkCW+//TbTpk2jW7du5R1vuZCe+YuPSorHuK+faUVv/dPf0cKrcWL+tRjZJ/PLIy77BFtY8wqJK9tp0OyLvRxIK9jruU8df/64rg6apsmnnaLcqexM1GfvoH7/0b1S19GuG4x264NoVlux1zj9OT2U5uDrnal8sSOlRPPr21Xz4dboIG6JDqZOkBV7yi6SVo8y/Zs8xRbRlpB2Y/Hyr/z/JgxnDo7kf7AnbCY3cSOOpG0o19kXEjzzRRXWeIXtqAvvowZeKgz9+nvzkuNy7oUvDZWWjPpzDmre9+YPik7n7YN241C0QXed8dkqa/KeKqoKeVZFVSHPatkrk575/fv389Zbb9GsWTM6derEjBkzaNiwIQ0bNiQxMZGPPvqoyibz4uKj/l5q3pqrUTO08Gq4suLMSYNuwxoSXWFxvb0h0ZTIWzSY0rO67CkvKozm6482fCyqSx+M98ZDwmlbmhkG6seZqL+XoT/2MlqDmLNer06QlTEdIxjdIZx1cTl8uTOVb3alkpBd9Dj8DSdz2HAyh1HLT9Ktpi83N47g+g4f47f7LXKOLzW1tSdsJP6vO/BveAsBjW9DtwWf12svS0opnOkHyY1bRU7cKuyJm8BwnPW8UtE1HFEajiidzHage3vjWycJf0c8Xt61y/Ze50ELCkW7/h7UtXehFs9FfTfdfY2G3BzU1++hFv6Mft/TaO0v9UywQgghRBVS4vGJuq4THJz3i1LdunXZt28fLlfeL2OXXnope/bsKZ8IhSgHbkPsO/YEwJ601VRuC2mCplfMTg1HMxy89rd5n+0RrcNoWoJtvYQoa1qbzuiTv0O74jr3ykN7MJ6+E+O7j1GuMy96l389TaNDdV+m9KzO0aHR/HxNbW5sHIjNUvwHVSuOZfPokjhqf5nAlfvvZ0XY4yivAFMb5coh49/Pifv9BtJ3forhyCzV6yxLhjOLnOPLSNn0Bif/uJ74v24j7Z8p2OP/LvtEvqj75yaRuftrTi64mYRlI8g+sgDlOvtoiIqiWbzQLx+I/v5PaA8/D0XNlT9+GOPlR3C9/Ajq+CH3eiGEEELkK3HPfIMGDVi/fj0dOnSgQYMG2O12du7cSfPmzUlLS8Nurzy/MAhxJio7C7asNZUVJPPm+fLWCpwvP2bFSTIdBaMFwn0svNg5ssLuL0Rhmn8g2sMvoLpcjvH+BEg8bdSKy4ma9QHq76Xoj04o1dxsm0VjYMNABjYMJDnHxQ+70/j231QWHc6iuHlfa+NyuTmuBTUsLzKt+hfEepk/eFPOTNJ3fELGnu/wb3gjfpf0xSuw7jm86pJTysCZto/ck2v/633fXKqkXfeJwBbSFEtAbbwCauMVUAevgEvQvPxRx4+gPnoVdmwBC7gCNJyBGq4gDVeghqNBCE5rRrHXtiesx56wHt0Wgn/DG/FvcGOlGbmgeVnRrrge1fMa1ILZqG8+hPRUc6N1yzC2rEW7cwTaVbehWSyeCVYIIYSoxEqczN966628+OKLZGRk8NRTT9G5c2dGjx7NDTfcwDfffEPz5hUzp1iI87ZxpXkxpqhaULcRUETPfHjRi32VtdXHs/hyh/mX2Ze6RBLqI7/ACs/T2nVDn/wD6pOJqMW/mSt3/4PxxG1od45Eu/o2NL10C9KF+lgY1jKUYS1DOZ7p4Lt/0/hmVxprThS9QvtxVxgDjz7KHQFLeTpkDpEW857qypFGxs4ZZOycgVdwY3xr9cH3kj5lMq9euew40vZgT9iEPWETuYmbUI70Ep9v8auJLaIt3hFtsIW3xuJ/SZF7uqtfvoZZH6DZ/1v4zwleKQqvFAWNW6Bf/wxadAucWSfIjVtDbtwqcuP/RjndFxs07Cl5H3LsnoVfvUEENL4Ni0/EeX0fyopmtaINuAV1af+8D4Z+/wEMo6CBPRc14y3Uqr/QR45Dq1m+H84IIYQQVU2ptqb7+uuvOXLkCM888wyHDx9m2LBhHDhwgFq1avHBBx8QE3P2+ZOVkSyAd3Ex3hmLWlKQkGgD70C/9ymUK4fjv1wBqmDYcNSVv2LxCS/feJSi6/8OmJKXlhHebLi9AV66+Rd9WVREeJpavRDjw5chNdm9snks+iMTOO7ivJ/T/al2ftyTxo+701ldTGLvq+VyT+BfPBQ0j1BL0avmn6L7VsMa1AhrcCOswY3xCqyL5uWHZvFF8/JBs/iA4cCwp2LY0zDsKRi5yTjSD+JM25f3lXkE1Fn23DPd1IZ3RFu8o7rgE9UFS0DtM65/oQ7vw3hvHOza6l7pF4B2z+Nolw8q8gMTw5lDzrGFZO3/GXvSljPEZMWv7tUExgzB4lu5Vo9X+3ZhfDwRdmx0r7T5oN09Em3AraX+wOhM5D1VVBXyrIqqQp7Vsldm+8wXppQiOTmZsLCwcw6uMpBk/uKhHA6Mwb0hq2B4qv7yx2gt2pObsJnEZQ/ml1v8ahLVr4gVvcvYlztSuPt386Zzf91Ql961/d3ayhukqAxUShLGR6/A6oXulT5+pN0wlJAbh5TZwo1H0h3M2ZvOj3vSWHo0C6PQ/1qBWhZDgxZwf9ACgvQz7LleASz+tfCJ6oJ3VBdsEe3Qvc6+qrxyOVE/f4n65iP3LdwA2l+KPnwsWnjJkm9H2j6yDvxM1sHfUM5i1hDQbfjXv46AmLuxeFee/8OVUqjFv6I+eRMyixj10DwW/YlXS/y9OBt5TxVVhTyroqqQZ7XslVsyf6GQZP7ioTauxBj/cEFBcCj6jAVoFgvp/35F+rb386t8a/cjtP24co0nw24Q/fkejmcWjAa4rmEgs68peiVqeYMUlUVe0vUb6uOJpg/H8rW/FP2h59HCynbdh8RsJ78fzGTugQzmH8ggMaegpzxIy+Jq/78Z6Pc3XX12YtHK/783zRqILawl3tU64lO9K14BpVtFXh3aizH1Rdi9za3O6RfI7usfYWerK0jKNUjKcZm+0h0GGXaDTGfenxkOgyyngcMAh0sRoGVxd+BihgUtcJuOcEqW8ub/HP34U78GL+8gQrwtVPO1UCvASq0Ar7w//b2oGWA942KFZU0lncT44GVYt8y9MigE/fFX0Np2Pe/7yHuqqCrkWRVVhTyrZe+ck/kmTZqUqmdlx44dpY+uEpBk/uJhfPAy6o+C3nbtiuvQH34BgKTVz5i2vgpu/ST+DW4s13heXHWSCWsKVrC3WTR23N2QBsFF77Msb5CislEJcXlb2G1a5V4ZEIT2wBj0S/uXy71dhmLtiWx+O5DBwsOZ/B2XjfO/KdeReioD/NYz0H8t7bz3YdNKMTz+DJzeUajAGAhtA6Gt0QMboOsWLJqGQpHrVOS6zF/pdhcpuQYpuQV/pmXlcunf33P9hm+xGu47AvxfeDseir6XE96h5x2zj2bnFv/lDA+eT22vxCLbJLv8mJp6NTPTe2PHfQcPDagXZCUm1EZMqDdNwvL+bBHuTaRfiZffKRWlFGrhL6hP3yzyAyPtxvvQbnsQzXLu95f3VFFVyLMqqgp5VsveOSfz77zzTn4yn5uby5dffkndunW54ooriIyMJDk5mUWLFrF3714eeOABhg8fXj6voJxJMn9xUC4Xxr19ITUpv0x/4T20dt1QShE37yqM3IJ5wJG9PsMaUn7rQJzIdNLos92mFezHdAjn1W5RxZ4jb5CiMlJKoX7/ATXzbcjNcavXuvVFe2A0WtD5J6ZnkmE3WHEsi8VHMll8JIu/47JxKbDipJH1OE1tR2hmPUwz22GqW1Lw1e34abl5X7odh7KQbPiT7ArI+9MI4KgznB2OS9hlr8W/jhpkKt/zjrNlxiE+2TmN2IwDbnWJXgE82vhuvq3WFcpomsIpXji5OWAFjwf/Qk2vItY8AA45I3g9+Xr+L6sDqoS719YO9CK2mi/to3yIreZLbDWfMk3wVUIcxtRxsHm1e2XzduhPvoYWdm7D7uU9VVQV8qyKqkKe1bJXJsPsx44dS0pKClOnTnXrrX/yySdxOp1Mnjz5/KP1AEnmLw5q2waM5+4rKPALQP98IZrViiPtAPF/3ZZfpVl8qX71H2h6+fQ4ATy08DgfbjntwwNfC3vvaUSgrfgV7OUNUlRm6vhhjCkvwI5N7pUh4XnD7jteVmHxZDkMNsXnsC4um3Unc/j7RDa7ku1Fbn+nYaDQyOuDLh9Ww8noQz8z5uDP2IpYSG92RAdGRN/DyTLcQs5LBy9NQwEOQ2Eo8MbBnYGLGRk8t9jh95ty6zEh+WbW5J7bB5oxoTYuq+VHj0v8uayWH5cEuvf2l4YyDNSPM/K2sTt9xXvImy71zFtozdqW+rryniqqCnlWRVUhz2rZO1OuWuJMZd68ebz77rtFDru/7rrrGDly5LlHKEQFUIUW69I69ECz5v2CaY//21Rni2hdron8v8m5TN9q7hl7oVPkGRN5ISo7rUZt9Jc/IfWrDwj85UtwnrbnekoixquPoV3aD+2+UWgh5b/omp9Vp2tNP7rW9MsvS8t1sT0pl13Jdnb+9+euZDt7Uu3YXeU3x75N+gE+2TmNNpmH3OrirYGMbDyEHyI7gabh66UR5mPJ+/K2EHrq7/8dh/lYCPXRCbZZCLDpBFgLvny9NGwWDS9dw6Lh9n+2oRROAxxGS7Jz7iFz3/dYDn6D7jIvlNfG+wCzq7/BUmcXXku9mS0ZQaV6vae+r9P/SQGgQbCVXpf4c2W9APrU8SfYu3TvdZquo900FNW0DcZbYyC5YHoSqckYL9yPNnws+uXXluq6QgghRFVW4mzF19eXgwcPcumll7rVbd++naCg0v1HL0RFUkqhVv9lKtM6987/e278elOdd2T7co1n7Mp4Ts8bGgZbub9l+Q5BFqIiaBYLWVfcQHCvARjvPg/7zGupqGW/ozatRrv3SbSeV5fZivclFeRtoXMNPzrX8DOVG0oRn+XiWKaDoxlOjmU6OZbh4GS2i3S7QZrdRZrdyP9y/tfL7VJ5fxpKoQBvi4a3Rf/vT40gZeeBHd9z/bY5WJThFs+JNr04dtuTTIiMYLJNJ9THgq9X2W29Vpiuadgseetz+FuDiGh9H64m15OxcyaZ+2e7bb3Xw2sVl1XbiHe3wRwOu55dqSr/g5AdSXb+SczB4f6y3OxLdbAvNYVPt6XgpUO3Gn5cWS+AK+sF0DLCu8TPgdaiPfo7/8N45znzsHunEzV1HMbBPWiDH0OzyAejQgghLnwlTuavvPJK3n77bXRdp1evXoSGhpKQkMD8+fN5//33ue+++85+ESE8Ze8OiD9RcGzzgf9WQlbKRW7CBlPz8kzm157I5vvd5qGtr3StVqErRQtR3rQ6DdHf+Bz1/aeo7z8B47QkMT0VNfkF1OK56A+NRYuq5blA/6NrGlH+XkT5e9G2jLZfV5tWY3z4CsQdca8MDkN/8FlqdbkcT796i3cowa2fwL/hTaRt+5CcY4tM9cqVQ87OaVT3/5WY1k/hE905vy7XafBPYi7r4nJYfzKb9Sdz2Byfw5kGOTgNWHI0iyVHsxi94iQNgq1c3yiIGxoF0rG6L/pZEnstJAz9xfdR/5uG+t90c6z/9xXq6IG87ev8A0v/zRBCCCGqkBLPmc/NzeWpp55iwYIFpk/QlVLcdNNNjB8/Hl0vv96E8iRz5i98xlfvoX74tKCgc28so98CwJ68g4TF9+ZXadYgql81D00r++dZKUXvHw+y+EhWfllsNR/W3lb/rL/AgsxDElVD4edU7d2B8f4E2LfTvbHNG+36e9CuG4zmffY92asClZaMmvEWavFvRdZrPa5EGzoKLSikYgMrodzEzaRufgtn6u4i633rDCC45SPoxcztT7e7WHU8myVHslhyNJO1J7JL1HsPUCvAi+sbBXFT40C61fQ76/uisfwP1JQXwJ5rrqjdIG+B08gaZzxf3lNFVSHPqqgq5Fkte2UyZ97b25upU6eye/du1q1bR1paGqGhoXTu3Jk6deqUWbBClAe3+fKmIfbrTHXekbHlksgD/H4w05TIA0zsXq1EibwQVZXWsCn6m1+ifv4K9e1H5sTLnov69iPUXz+j3/MEdLm8wofelxXldKB+/zHvNaanujcIj0J/YEyFLgJ4LrzDWxPZayZZB/6PtG0foRzmkUTZh+aSG7ea4NZP4Vurl9v5gTYLfesG0LduQF57Z94uA/MOZDB3fwY7k+3F3vtohpOpm5KYuimJuoFWbm8SxJ1NQmgW7l1ke717X1T1WhivPg5J8QUVh/dhjB6C/uIHaHUansN3QQghhKj8StwzfyGTnvkLmzq8D2PkDQUFFq+8VewD8oZgJq54jNyTa/Krg1s/jX+D68s8DkMp2n69jy0JBYlM3zr+/H593RJfQz7tFFXBmZ5TdfwQxgcvw9a/i6ynVUf0+55Gq9uoHCMse2rDCowZb8GR/e6VmoY24Ba0O0eg+fpXfHDnwbCnkrZ9Oln75wDu3es+NXsR3OYpLN4lX9Bwf6o9L7E/kMGfhzLJLcHCg20jfbizaTC3xwRT3d+9H0IlncR47QnYvc1c4R+IPnYKWtM2RV5X3lNFVSHPqqgq5Fkte+fcM3/HHXcwYcIEGjZsyB133HHGm2iaxldffXXuUQpRTgr3ytOqY34ir1x27ImbTNXekeXzwc7XO1NNiTzA693LaHKuEFWEVqMO+oRpqIX/h/piCqQmmRtsWYvx2M15Q9FvuR+tZsk/7PIEdXgfxsy3YcOKohvUbYz+8PNo0S0rNrAyotuCCWnzNH51BpCy8VWcaftM9TnHFmFP3EJoh3ElXmukfrCNh1qH8VDrMNLtLn7bn8GPe9KYuz+DLGfRif3G+Bw2xucwalkcV9cP5L4WIVxZLwAvPW8UhxZWDf3lTzAmPw8r/yw4MTMd48UH0Z+aWOlHRAghhBCldcaxxKfPgdd1/YxfVXVYpLjwqVXFD7G3J/+DchUk2LpPJJaAsp82kus0eH5lvKns9pgg2lbzLfN7CVHZaZqGfvm16O/PQRt4B+iFVh5XCrVkLsaIGzCmjkPFHfVMoGeg9u/CeGMUxiM3Fp3I+/ih3f0I+ltfV9lE/nS2sOZE9vqMgCb3gWbuBzByE0lc/ghp26ehDGeprhtos3BrTDDfX1Wb+Adi+PHqS7i5cRA+xSwI6lLw8750Bv7fYWp/spvRy+P4NznvPVzz9kF/8nW0K282n2TPxXj9SYy/fi5VbEIIIURlJ8PskWH2FzIVdwzjgasKCjQNfeYCtJBwANJ2fEzGzhn51b61ryS0/QtlHscHm5N4eFHBavpWHXYObkSDYFupriNDl0RVUNrnVB3ei/HxG7BlbdENLF5oPa9Cu/JmtEbNyibIc6R2bcH4/lNYt7ToBpqG1nsg2h0Po4VFVmxwFcSRuoeUja/iSN7hVmcLb01o+/FY/KLO6x5puS5+2pvOVztT+etQJmf7ReWKOv481CqUqxsEYtFAffcx6psP3dppQ0ehX31b/rG8p4qqQp5VUVXIs1r2ymQBvFOysrLw88vbn/f333/n+PHjXH755dSuXfv8ohSiHKg1hYbYN22Tn8gD2E8WWvyuWtlvSZftNHhlbYKp7IGWoaVO5IW4UGm1G6KP/wjWLMaY9QEc2mNu4HKi/voZ9dfP0LgF2pU3oXXrW2Gr36usDNTKP1EL/w+2byy+YbO2efP9GzatkLg8xRrciIge00nfOYOMXZ/Baam2PXEzJxfeTVjHl/Cu1vGc7xHkbWFwsxAGNwvhWIaDb3alMWNbCtuTcotsv+BQJgsOZVI70IsHWoYy9Op7iQwJR017FYyCuf7qkzcwXE70a+8659iEEEKIyqLES3YfOHCAfv36MX163p6uU6dO5dFHH+X111/nmmuuYdOmTeUVoxDnTK34w3Ssdb48/++GMwt7snmxpPLYX/6jLckcyywYeupj0Xi2Y0SZ30eIqkzTNLTOvdDf/R/ak69BrXpFN9z9D2rKixhD+2N89Apq3TJUbk6Zx6Ncrrx94t95DmPIFaj3xhefyNdrjP7MJPRXPr3gE/lTNN2LoGb3E959Crp3uKlOOdJIXPkEmftml8m9agZYeTI2nH/uasCqW+oxrEUIAdaif305nO5k7Mp4an/6L3candh130tgNX9wqma+jTF7ZpnEJoQQQnhSiXvm3377bQzDoGfPnjidTr766iv69u3L+PHjGTNmDO+++y6fffZZOYYqROmok8dg11ZTmdbltPnyCZtBufKPLQF1sPiW7YJ0mQ6D19eZe+VHtAmjhr+1TO8jxIVC03W0S/ujuvZBLZ2H+nY6xB1xb5ieipr/A2r+D2DzgdYd0dr3QItpCbXqoVlLN/JFuZywfxfqn/Wof9bD9g2QlXHmk6Jbot80FNpfetGuG+Md2Z7Iy78gZd0E064gKBepm9/EmX6AoJaPoOmlHgjoRtM0Otfwo3MNP965rDrf/5vG9H+SWXU8262tw4BvdqXxDfW4v9Mopqx+Ay9nwZZ46ospGE4ndL/K7VwhhBCiqijx/65r1qxh/PjxtGnThtWrV5Oamsqtt95KaGgot99+O48//nh5xilEqakVC8wFTVqjRdbIP8yNN2+NVR698u9tSuJkVsEHBv5WjVGx4Wc4QwgBoFm80Hpdg+oxANYvw5j3PWxcWXRjew78vRT199K8Ad+6BWrUhtoN0Go3AL+AvN5Zqw1s/yX5yQmQEIdKPAmJcXD0IGRnliy4lh3Qb7wvb2eMizSJP53FO4ywrm+T8e+XpG+fxunD7jP3fY8z8zChHV5CtwaU2T39rTpDmocwpHkIG05m8+GWZL7emUp2EavhT/dqyp7mTzJn61v4Gacl9LM+wD8lGTXsafk5CiGEqJJKnMzn5uYSHp6XhCxbtgwfHx/at89LfiwWy5lOFcIj1PLfTcda976m49z4QvPly3hLurRcF2+sTzSVPdomnEi/8++hEuJioVks0LEnlo49UccPoX7/MW/ufHpq8ScZLjh6AI4ecN+a8lxFVkfreTVar6sr/XZ5nqBpOoExg/EKrE/KunEoV0FveW7cahKW3E9413fOe2G8orSr5svHfXx5o3sUn29P4YMtyexOsZvaLAxtwdWtRvF/W94kwCiYdx8w9xtUaBjaTUPLPC4hhBCivJV4zny9evVYs2YNdrudBQsW0KlTJ2z/9XDMmTOH+vXrl1uQQpSWOn4I9p620rKmoXXtk39o5KbiTN192hka3hFlm8y/uzGJpJyCXvlgm85T0isvxDnTatRBH/I4+qe/o4+dgtb/JoioXn43DAhC63U1+oRp6NN+Q7/jYUnkz8K3Zg8ienyExdectDvT95Ow9EGcGYfL7d6hPhYeaxfOzsEN+eO6OgxqGIh+Wof70pCmDGj9DGkW88KJ6uv3yZnzVbnFJYQQQpSXEncRDhs2jFGjRjFz5kyys7OZMGECADfeeCPbt29n0qRJ5RakEKWllpsXvqN5LFpYwXz43IT1pmprcGN07+Ayu39Sjou3Nph75Z9oF06oj4xiEeJ8aTbvvHnq7S9FKQUHd+cNsd+xEQ7tg4QTZ79IUYJDoVk7tOaxaC1ioU4jNL3En3mL/1hDoono+SlJq0fhSN6eX+7KPkHC0gcJ7zYZa3Cjcru/rmlcUTeAK+oGcDjdwbStyXz8TzIns1ysDI7hylajmbtlIsGnjR6wfvYW3x910OHOO6gnO40IIYSoIkqczF911VVUr16dDRs20KlTJ1q1agVAhw4dGDlyJJdddlm5BSlEaRVO5s82xN5WxvPl31qfSJq9YDukMB8Lj7UNK9N7CCHyFkWjXjRavej8MpWVAYf3oQ7thZPHwJ4LDnvel90OhhOCwyEiCiKi0MKjILwaRNaQudNlxOITTsSl75O8bjw5xxbnlxu5SSQse4jwru9gC2te7nHUDrTyctdqvNApku93pzF5YyJraMw1rZ5m3uaJ+J825H7Qgqnce8RBZtcreaRNGJdd4ifPgxBCiEqtVJN3Y2Nj3Tasf+aZZ8o0ICHOlzq8Dw6eNoRet6B1KdiSTilFbtwa0zllufhdfJaTyZvMvfKjYsMJ8pZeeSEqguYXADGt0GJaeTqUi5pm8SG0w0ukbHyd7EO/5ZcrRzqJKx4hrPMbZb5WSXFsFo07mgRze0wQa05kM3ljEDeqJ/hp8yR8lAMAHcUnO6Zxq+5Nr70daBXhzSNtwri9STC+XjJCQwghROVTqmR+2bJlLFy4kOzsbAzDMNVpmsbEiRPLNDghzoXbEPuWHdCCC3rFnam7cWUdK6jXbdgi2pTZ/SetTyTTUbCicjU/CyPaSK+8EOLio+lehLR7Ft3qT+be7/LLlTOLxJVPEN5lEt7VOlRcPKdtb3e0x3V89bVi8Pw3sf63TakXBrO2T2Vgy6f5k5YM/fM4zyw/yQMtQxneKpRLAmVbUSGEEJVHiZP5mTNnMnHiRLy9vQkLC3MbeiZD0URloJRCrTjzEPvs04Z8AvhEdUb38i2T+ydkO3l/S5KpbHT7CPyt0qsjhLg4aZpOUMvH0Lz8yNj1WUGFYSdp9SjCur6Ddxl+oFpStQKsXHPNpdA0BOOdZ9FVXieFTbn4ftu79G4zlo2B9UnMcfHq3wlMXJfAjY2DeKRNGF1q+MrvPUIIITyuxMn8l19+yVVXXcVrr72Wv4q9EJXOwd1wZH/BscULrXNvU5OcY0tMxz41epTZ7d/dmGTqlY/ys/Bgq9Ayu74QQlRFmqYR1OwBdC9/0ra9n1+uXDkkrXqS8G6TsYW18EhsPj36YThzUVNezC8LdOXw65Y3uLTdOPb9tzK/S8H//k3jf/+m0T7Kh0fahHFz4yC8ZQi+EEIIDynx/0AJCQncfPPNksiLSs1tiH2bzmiBBavUO9MP4UzfV1CvWfCp0b1M7p2c42LKJnOv/NOxETLXUggh/hMQfSdBLR4xleUNuX8ce/JOD0UFeu+BaPc+aSqLcqQxf+sbRNpT3dqvi8vh7t+PUXfGbsavjudEprOiQhVCCCHylTjLaNSoEYcOHSrPWIQ4L0qpIlax72c6zj5u7pW3RbRFt5XNlnRTNiWRftoK9hG+0isvhBCFBTS+jcBmD5jKlCODxBWP4kjdXcxZ5U8feCfaoLtNZQ2yTrDlwGTaBbmKPCcuy8W41fHU+fRfbp17hMWHM/O2SxRCCCEqQImT+SeeeIIPP/yQ5cuXk5mZiWEYbl9CeNTe7XDicMGx1YbWqaepSU6h+fK+Nc315yot18W7G80r2D/ZLlzmygshRBECY4YQ0OReU5lypJG4/FGcGYeLOav8aXc/inbZAFNZ5LFdrD38IQsG1uSq+gFFnucw8obg9/rxIM2+2MvkjYkk5xT9AYAQQghRVko8Z37ChAkkJyczbNiwIus1TWP79u1lFpgQpaWW/W4uaNctb4uq/7iyT+JINj+jZTVf/r3NSaTkFnygFeqt83Br6ZUXQojiBDYZCi4HGbu/zC8z7MkkrniUiB7TsPhGVnhMmq7DiHGolCTYvLqgYuMqeoe8xeWPTGBPip33Niczc3uKaTTWKTuT7Ty2JI4xK05yY+Mg7mseQo9asme9EEKIslfiZH7gwIHlGYcQ50W5nKil80xlhVexL7zwnTW0RZn8sphhN3h7g3mu/OPtwgm0yb7yQghRHE3TCGw+HGXkmratc2UdJ3Hl40Rc+iG6LbDi47Ja0UdPwnhuGOzbkV+uFv0KYZE0vusRJveszktdIvlsewrvb0nm32S723WynYovd6Ty5Y5UGoXYuKdZMIObhVArQLa3E0IIUTZKnMyPGDGiPOMQ4vxsWQvJCQXHvv5oHS8zNckulMz71jTXn6uPtiaReNpwyiCbzsjWsq+8EEKcjaZpBLV8DMORQfahufnlzrS9JK1+mvBu76JZfCo+Ll9/9BemYjwzBOKO5JerH2dihEagX307Qd4WHmkbzsg2YSw6ksVHW5L5aW8aziJmHe5JsfPcynieXxVPv7oB3NkkmGsbBspULCGEEOel1P+LbN68mffff58XX3yRY8eOsWzZMpKSks5+ohDlSC361XSsde2D5l2wd7wrNwV7wkZTG58ySOazHAZvrjfPlX+kTRghPtIrL4QQJaFpGiFtx+BdvZup3J64maS1z6MMz6wUr4WEo497H4LNU6bUp5MwTltsVdM0etf257urLuHwfdG83DWSOoFF974bCuYdyOCO+UeJmr6LO+cfZf6BDJyGLJonhBCi9EqczDscDh5//HFuueUW3n//fb777juSk5P59NNPufbaazl82HML1oiLm8rKQK1eZCrTel1tOs49sRwo6C7xCmqIV0Dt8773x/8kczKroFc+wKrzWFvplRdCiNLQdC9CO7yMLby1qTz3xHJSN0302ArxWo066M9PBZ+CD4dRCvXuWNTWv93aV/f34rmOkey7pxG/X1eHW6KDsFmKniuf6VB8vTOVK+ccotYn/zL8r+P8eSgDh0sSeyGEECVT4mR+6tSpLF68mHfeeYe1a9fm/8c6btw4/Pz8ePfdd8srRiHOSK36C+w5BQWRNaBZO1Ob7EKr2PuUwSr2OU6DN9aZe+Ufbh1KuG+JZ68IIYT4j+7lQ1jnN/AKamgqzzr4Kxm7ZngoKtAaNUd/ZhJYTntvdzowXnsCdeDfIs+x6Bp96wbw7YBLODa0MVN6Vqd1hHex9ziZ5eKjrclcMfsQ1T/+l3v/OMZv+9PJLWrMvhBCCPGfEifzP//8M48++ihXXnklvr4Fn1DXq1ePESNGsGbNmnIJUIizUQt/MR1rPa/KW5H4P4Yjk9yTa01tymK+/IxtKRzLLBj+6eul8US78PO+rhBCXKx0WxDhXd/B4lfDVJ6+4xOyDv7moahAa9sVbcSL5sKsDIwJI1DxJ854brivFyPbhLHxjgZsuqMBT8eGUyug+A99k3JczNyewtU/HyZ82i6u/b9DTNuSzKE0R1m8FCGEEBeQEifzSUlJREdHF1kXERFBWlpamQUlREmpuGOwbb2pTOtZaIh93CowCn4JsvjXwiuo0Xnd1+5SvL4uwVQ2vFUo1fykV14IIc6HxTeS8K7volmDTOUpG18jp9AHsxVJ73U12t2PmguT4jFeGoHKSD/r+Zqm0TrShzcujeLgvY1ZeENd7mseQpCt+F/FMh2K/9uXwYMLj1N3xm5afLmXp5fFMW9/Omm5so+9EEJc7EqczNerV4+FCxcWWbd69Wrq1q1bZkEJUVJqSaGempiWaLXMz2L24T9Mxz41Ljvv/X4/357C4fSCXnlvi8ZTsdIrL4QQZcErsA5hXd4A3VZQqFwkrxmDI3W3x+LSrhuMdtWt5sJDezFefwLlcN+erjgWXaNXbX8+uaImJ++P5tdra3NPsxDCzrJ46rbEXCatT2TAz4cJ+2gXHb/Zx6hlcfy2P52UHEnuhRDiYlPibsQhQ4bw3HPPkZubS+/evdE0jX379rFixQpmzpzJs88+W55xCuFGKYVaXGgV+0K98s6sE+ScWGEq863V+7zu63ApXvvb3Cs/rEUINfxl72AhhCgr3uGtCW3/IslrxwJ56/QoZxaJK58ksucnWHyrVXhMmqbBvU+hEk/C6tM6OP5Zh5ryIjz+immaV0l4e+lcVT+Qq+oH4nAplhzNZPaedObsTed4ZvEr+bsU/B2Xw99xOfm7qjQOsdGxui8donzoEOVL22o++HrJ9ndCCHGhKnEyf8MNN5CcnMz777/P999/D8DTTz+N1Wpl6NCh3HrrrWe5ghBl7N+tcOxQwbGXF1r3fqYmWQf+D9Mq9sGNsYY2O6/bztqVyv7T5i7aLBrPtI84r2sKIYRw51urN66WI0nbOiW/zMiJJ3Hl40T0mIZuDajwmDSLBf3xVzBeeAB2bckvV8vmQ2R196H4pWC1aPSpE0CfOgG836s6WxJymbs/g7kH0ll1PJuzLXS/O8XO7hQ7X+9MBUDX8hL85uHetAj3/u9PHxqF2IpdZV8IIUTVUaoJvvf+f3v3HR5VsT5w/HvOluym94TQu/QOShVUQEBBFHvFXq8VsQIXEcWCV8X+U696LYiKDRDsSBEI1QLSA6SQXjfZcub3RyCwpAJJNkvez/PkCTtnzp5JeBn2PXNmZvJkxowZw8aNGzEMg5CQEHr06EF4eHgdNU+Iyh27tzx9h6KFhB05brgp2uu9OF5Q6wkn9Yi9x1DMWuM9Kn9d53CaVbKnsBBCiJMT1PZSPEWpFO6cX1bmzttF1u8PETXweTS9/vtfLcCG/sgLGFOvg+S9ZeXq83cxouPRx1xy8tc4NMe+R4yNh/pHk13sYVlSAT/tK+Ln/YVsza7+sX5DwbZsJ9uynXy+48i8fg1oHmKhTZiFNmFW2oRZaBVqpWmQmYRgMwlBFoKrmMsvhBCiYahRMv/NN9/w8ccfs2nTJtzu0ke+bDYbvXv35rLLLuPss8+u00YKcSzlcqJ++86rTD9mb/nilOUYxUcSb80ciL2Z98j98frknzy25xz5AGXWYWpfmSsvhBB1RdM0QrvdhacojeKUX8rKnenryFk/m/A+j530Oign1K7QCPTHX8Z48BrIzSorV2/NQUXFog0YXqvXi7CZuLhDGBd3KL1pnVro5tcDhfy8v4jlB4r4K6sEo4Zb1CsgKd9FUr6Ln/cXVVgnxKqTEGQm2m4iIsBEhO3Q9wD9yJ/LvutEBJgItZoIsmg++fsQQojGqMpk3uPxcN9997FkyRLi4uIYO3Ys0dGljxOnpaWxdu1a7rzzTsaPH89TTz1VLw0WAoB1y6HgqB0UQsKh92CvKoW7v/B6bW8+Ct0SdMKXNJTiiTXpXmVXdwqnVZi1kjOEEELUBk0zEdFvOhnL78SV/UdZuWPfYkyB8YR2vsk37Ypvhv7YixiP3AAlxaWFhoHx3MPoM19H69i9zq4dH2T2Su4LnAYb0h2sSS1mbZqDtWkOduWe+HZ2+U6DbU4n27KP7zwNCLLohFh1gi2lX4f/XN33UKtO5KEbBJE2EyFWXW4MCCFEFapM5j/88EOWLl3Ko48+yhVXXFGuQzUMg48//phZs2bRt29fLrroojptrBCHGd8v9HqtDRmFZjnyqKW7YB/O9LVedYJaX3BS1/xsez5/Zx0Zldc1eKifzJUXQoj6oJlsRJ4xh4xfbsJTuL+svGDbO5gC4wlqdb5v2tWuC/oDczCevAeMQyvKO4sxZv0L/al30RLqZ7efYKvOkKZBDGl65KZ1vtPDX5kl/JFZwp+Hvv7KKmF/QeUL650sBRS4DApcRrV1q2PSSp9IiLWbiQ8yERdoJj7QTFygmSZBZlqGWmgZYqFZiAWzLkm/EKLxqTKZX7hwIZdffjlXXnllhcd1Xefyyy9n+/btfPHFF5LMi3qhDibDeu8V6rUR3h/iCncv9HptieyKJaz9CV+zolH5yzuG0S5cRuWFEKK+mAIiiBr4PBm/3IThzCkrz904B5M9BlvcGT5pl9Z3CNotD6NemXmkMC8H4993lib04ZE+aVeI1cSAJoEMaBLoVV7sNtib52JnrpNduaXf9+W7SCl0k3zoy1ndanv1wKMgw+Ehw+Hhr6zK6+kaNA020zLEQrtwK6dFBNAxwkrHyADahslif0KIU1eVyfzu3bu56667qn2TIUOG8M0331RbT4jaoL5fCOqoDxltOqG1O7JCvfKU4Ejy3n/+ZEflv95VwOaMkrLXGvBIfxmVF0KI+mYObk7kGc+Qsfx2MA49LaU8ZK95lOghr2AJ7+iTdukjJ2Kkp6A+fetIYeo+jFl3oc98E81m90m7KmIz63SMDKBjZECFx5VSZBV7SC50k1XsIbvYQ3aJQXbJ4T8fVXb4dYmHAqdBkbv+bwIYCvblu9mX7+a3ZIfXMZMGbcOt9Iy20TPGRq9YG71ibMQFHdca0EII0SBV2ZM5HA5CQ0OrfZOIiAgKCwtrdEGn08nMmTNZsmQJVquVa6+9lhtvvLHCulu3bmXatGls3bqVtm3bMn36dLp3Lz//7NVXX2Xnzp08++yzXuXvv/8+b775Jvn5+YwePZrHHnuMwMDAcucL/6E87tJk/ijaqIlerx0HfsJw5h45bgk5qb3llVL8+3fvUfmLO4RyWiUfgoQQQtQta2RXIvrNIPv3h/Hag37V/UQPexNzYLxP2qVdfhtkpHrvtrL9T4w596M/9ILXdLCGTNM0ouxmouzHn/B6DFX2mH2+s/Lv+U6Pd5nLIPfQDYPDNxBq48aAR8E/2U7+yXYyf/uRtXbiA830i7cxqEkgAxPs9I2zYzfLCv5CCP9SZS+tlMJkMlX7Jrquo1TNOtw5c+awceNG3nnnHVJTU5kyZQoJCQmMHTvWq15RURE33HADY8aM4cknn+Tjjz/m5ptvZtmyZQQHH9lX9ptvvuGll15izJgxXucvXbqUF154gTlz5hAbG8tDDz3EU089xb///e8atVM0UGuXQ9ZRibXNjjb0XK8qRccsfBfYchyayXbCl1y8p4D1B4u9ymRUXgghfMuecCae7neTt3luWZlRnEHWyvuIHvoaujWk3tukaRrc9jgqKwM2rT5yYP1K1IuPwz2z0PRTO2E06RphASbCAqr//FidYrdBVrGHg0UeUovcpBW5SS10k1rkZn+Bi715LvbmuzhY5Dnu904tcvP1rgK+3lUAlO5O0zvGxqCEQEY0D2JYs0BCrCf/MwghRF2q12eMioqKmD9/Pq+99hpdu3ala9eu3HDDDXzwwQflkvlFixZhsViYOnUquq7z8MMP88svv7B48WImTZqE2+1m5syZfPHFFzRv3rzctf773/9y5ZVXctZZZwEwffp0rrvuOh588EGCgk58RXPhW8bSz7xea0PORbMf+ft05e7AmbXZq05Qq/EnfL3SUXnvfeUntguhW/SJ3xwQQghRO4LbXoynMIXCnR+XlbnzD+1BP2iub/agt1jQH3wG49EbYdfWsnK1fAmEhsMNU2SF9hqymXUSgnUSgqv+e3S4Dfblu9id6+KfHCdbs0rYml3CtmwnB2q42J/bgDVpxaxJK2buhizMOvSPs3N2iyDObhHEgPhAmXsvhGhwqk3mH3/88WqT35o+Yr9161acTid9+vQpK+vTpw+vvPIKHo/H6ymATZs20bt3b/RDd7A1TaN3795s2LCBSZMmUVRUxLZt25g/fz7vvvsubveRztrj8bBlyxZuvfXWsrKePXvi8Xj4+++/6du3b43aKxoWlZYMG1Z6lWmjLvR6nb/1/7xeW2P6YA458ZWEv08q5PdU7/l3j8qovBBCNBih3e7E40ijOPmnsjJnRiI5658kvM/jvtmDPjC4dA/6h66DlH1l5erbjyE0Au0S32yld6qym3U6RATQISKAUcccy3d62JJRwsb0YjakF7PhYDF/ZJZQUs0Cf24DVqY4WJni4N+/ZxBq1RnVMpjz2gQzplXwCU1BEEKI2lZlT9SvX78avUlISEiNEuT09HTCwsIICDgy1zg6OhqXy0VmZiaxsbFedVu3bu11flRUFFu3lt7lDg0N5eOPP6YieXl5lJSUeL2f2WwmPDyc1NTUGv1MouFR339R5cJ3zuy/KE7+2eucoDaTTvx6FcyVP69NML1iG84iRkII0dhpmk5E38fJ+C0DV9aWsnLHviWH9qC/2TftCo9Cn/4qxtRrIfvIE17qo1cxQsPRz73YJ+1qbEKsJgYmBDIw4ciaSS6P4s/MElalFLEyxcGK5CJ257mqfJ88p8Gn2/P4dHseugZnNLFzXusQLmwfKjvbCCF8pspk/v3336/VizkcDqxW7w7v8Gun01mjusfWq0hxcbHXe9fk/OTk5GrfV/iQx0300s85evZa3uln4Tj67+3v/3ifE9SObNWO7BP8u1150FVuVdxb2vg2VvLz8yVWRYMncSp8otW9UPQwFKeUFRVse5cCpw1iz6nwlLqPVQ3zbTOIeH4KuuPIU4zGG0+RU+KiuP/wOry2qEosMD4Gxsdo0D2INIfBukw3Kw+6WZ7mZme+Uem5hoIVyQ5WJDuYuuIgXcNNnNfcwrjmFloF1808e+lXhb+QWK1f9fqMUEBAQLlk+vBru91eo7o2W/VzlQ+P/B/P+QkJCdW+r/AdtfpHjNyjNpm1BRJ+3qVEHJovX3JwLZl53nPlo3reSUBs0xO+5qur9ni9HtUyiDFdW5zw+9WG5ORkiVXR4EmcCt9IwB314qE96LOPFO95k8j4Dtjiy+9BXy+xmpCAevxljGm3grN0sEFTirD35hIRG4s2sOIbDaJ+JQC92sLh/ZX257v4YV8hP+wr5Lu9BVUusvdHjoc/cjzM3lJM71gbl3QI5YrTwmhazVz/4yH9qvAXEqu1LyUlpdJj9bqkalxcHHl5eV5Jdnp6OlarlbCwsHJ109O9H3HOyMggJiam2uuEh4cTEBBARsaRx9rcbjc5OTlej94L/1Fu4buhRxa+U0qR99drXsetMX0IiO1/wtdbkVzEj/uKvMoeH1B97AkhhPAdc3AzIs94Bs101NahykP2mkdw5mzzWbu0Tj3Rp8wB01FjKIYH47mHUWt+8Vm7ROWahVi4pnM4741qSsqNHVh9SSse6R9Nj+iqt6Vdf7CYB387SPO3tjPy87188HcOha7KR/mFEOJk1Gsy36lTJywWCxs2bCgrS0xMpEuXLpjN3g8J9OjRgw0bNpRteaeUYv369fTs2bPa6+i6Trdu3UhMTCwr27hxIyaTiU6dOtXODyPqTenCd6u8yo5e+K445Rdc2X95HQ/tfCsnY+Yxc+VHNPeebyeEEKJhskZ2IbzvDODIwnfK4yBr5X24iyof3ahrWt8haPc8AUdvTedxY8x5AHXM4q6iYdE1jQFNAnliYCwbr2zL3snteXl4PGc2C6Sy5RUVsCypkKu+SybujW1c890Bft1fWOOtnIUQoibqNZm32+1MmDCBGTNmsHnzZn744Qfefvttrr76aqB0lP7wfPfRo0dTVFTEzJkz2bFjB7Nnz6awsLDcfvKVufzyy3n77bdZunQpW7ZsYcaMGVx44YWyLZ0fUks/8174rm0ntLalN2WU8pD/1xte9W1NhmKN7HLC11uT6uC7vd47NDzWX0blhRDCX9gThhHa/R6vMqMkk6yV92E4833UKtAHj0K7cwYcvcK+24Ux+17UlrU+a5c4Pi1CLdzeI5KfLmpF8o0dmDc8nmFNK0/sC12K9/7OZdiCvXR+byfPr88kw1GzLfOEEKIq9ZrMAzz00EN069aNa665hmnTpnH77beXJeiDBw9m0aJFAAQHB/P666+zYcMGLrjgAtavX88bb7xBcHBwja4zduxYbr311rL95bt27crUqVPr7OcSdUOVOFBLP/cq00YeGZV3JC3Bnb/7qKM6ISe5cvETa7xH5Yc0DWRYMxmVF0IIfxLcdhJB7S7zKnPn7ybr96koT/WL6dYVffg4tFsf9S50lmA8cZck9H4oPsjMbT0i+XlSKw7c2J4XhsXRO7by9Z22Zju579c0mr61ncsX7+cXGa0XQpwETUkPQmJiIn369PF1M0QFjO8+Q736xJGCoBD0//sOzWZHeYo5+P1leIqObDdobzGGiD6PnfD1Nhx00PvD3V5lSy9owTkta3YTqa7JoiLCH0icioZCKYPsNY967UEPYG82kvC+00lJSfFZrBrffox682nvQmsA+tTn0HoP8kmbRO35I6OY9//O5YOtuSQXVj0K3y06gDt7RHLFaWEEWioeZ5N+VfgLidXaV1WuWu8j80LUlFIK9fX/vMq0kRei2Up3Psj7+y2vRB7NTMhpN5zUNZ9Yk+H1ekC8nbNbyNQMIYTwR6V70E/DGtndq9yxfyn5f73uo1aV0sdeinat91QAnCUYT96NWv1TxScJv9E12sbTQ+JIur49313Qgovah2Cu5FP3lowSbvohhWZv/cOU5WnsyfXdkyNCCP8iybxouDauhv1HjZLrJrQxlwDgzPqTwu0feVUPajMRc1CTE77cloxiPt/hPZfy8QHRaFpls+CEEEI0dJopgMjT52AKau5VXvDPf+HgUh+1qpQ+4eryCb27dFE849fFvmmUqFUmXWNky2A+Hduc/dd34OnBsbQNq3jLuuwSg2cSM2n77g4u+mYfv6cUVVhPCCEOk2ReNFjGsaPyA89Ci4lHeUrIWf8EcGSrF5M9jpBON53U9WYdMyrfJ9bGua0axuP1QgghTpweEEbUwOfRrRHeB3a/SXGqb1eS1ydcjXbTMWv6GB7U3Ecwvl/okzaJuhEXZGZK32j+ubYdP1zYkgvbhaBXMF5gKPhsRz6nf7KHYZ/u4Ztd+RgyK1YIUQFJ5kWDpPbtgvUrvMq0864AIH/r/+HO3+N1LKzXVHTLiT8OvzWrhPn/5HmVPdpfRuWFEOJUUeEe9Bile9Bn/emzdgHoYy5Bu2Oa9yr3SqFenoHx2duyQNopRtc0RjQPYsG45uy+rj1T+0YRaTNVWPfXA0Wc99U+RnyXzzt/5uDySCwIIY6QZF40SOpb70fo6dANrWN3nNl/UfCP94h9YMvzsMWdflLXm7Umg6P/e+weHcD5bUNO6j2FEEI0LKV70P8b7z3oi8lceS+uvD0+axeAfvYEtHtmge6d1Kn3X0K9/iTKI1uZnYpahFqYPTiO/Te05//OaUK36IAK623PM5i8LJn27+7gtc1ZlLiNCusJIRoXSeZFg6Pyc1E/fuNVpp1/BcrjJCdxFkc/Xq/bYgjtdtdJXW9HjpMPt+V6lT3aPwZdRuWFEOKUY08YSliPe73KlCuPrJV343Ec9FGrSulDz0V/8Bkwe8+pVksWlO5F75A51Kcqu1lncpcINl3Rhu8uaFHp4rt7813c+mMqbd7ZwX82ZFLkkqReiMZMknnR4Khln4Oz+EhBVBza6SPI3/o27vxdXnXDe01Ft5zcvPbZazMwjhqW7xRp5cL2MiovhBCnqqA2FxHc8VqvMo8jjcwVd2M4cys+qZ5oA4ajT3sFAo/5v23dcoxHb0BlZ1R8ojglaFrpgnnLJrZk/eWtubxjKKYKxhaSC93c/Usard/Zztz1mRTLSL0QjZIk86JBUW4X6tuPvcq0sZdQkrGOgn/e8yq3txiLLX7gSV1vT66T9/7O8SqTUXkhhDj1hXS6CWLP8Spz5+8mc9UDGO7iSs6qH1q3vuhPvQsx8d4Hdv6NMeVq1K5tPmmXqF+9Yu3879xm7LyuHde0tRJQQVZ/sMjDvb+m0e7dHby+OVvm1AvRyEgyLxoUtfJ7yDzqMccAG55Bp5O9bhocNatdt0UTdpKP1wM8tS6To29mtw+3ckmH0JN+XyGEEA2bpmnQ6kZsTYZ5lbuytpC95hGU4ds56lqLtuhP/xfanOZ9ID0FY+o1GD997ZuGiXrXMtTKk30C2XVdO+7pFYndXD6pP1Dg5pYfUzjtvR28/3cOHkOSeiEaA0nmRYOhlEJ9/q532fBzyf7jSZTr6P3fdSL6PI5uPbmke1++i7f/zPYqe7hfNKaK9okRQghx6tFMRPSbgTW6l1dxSdpKcjbM9vkq8lpkLPqst6D3MU+hOUtQ/3kc4/XZKJfLN40T9S4h2MLzw+LZM7k9D/aNIthS/mP8rlwXV3+XTI//7WLR7nyfx7AQom5JMi8ajnXLYc8/ZS+VppHXOQ933g6vaqFdbiUgtt9JX+7pdRkcvW5M61ALV5wWdtLvK4QQwn9opgAiT5+DOay9V7kjaRF5f87zUauO0OxB6I/8B23MJeWOqcXzS+fRZ/p24T5Rv2IDzTw1OI5d17Xjvt6RFT5+/2dmCWO/3Mc5nyex8aBvp40IIeqOJPOiQVBKYSx4y6vMcW4nijO995q3NR1BUPsrTvp6+/JdvPlHjlfZQ/2isVS0yowQQohTmm4JJmrg85gCE7zKC7f/j4LtH/qoVUdoJjP6TVPR/vVvsB6zddm2zRj3XoZa+6tvGid8JibQzLND49l5XTtu6RaBuYJP9T/sK6T3h7u49rsD7M+XpziEONVIMi8ahi1rYduWspfOOI38mD1eVcwhrQnv/UjpPMeTNHttBs6jFolpGWLhms7hJ/2+Qggh/JPJFk3UoBfQAyK8yvP+eImipEU+apU3ffh5pQvjxXrfdCA3C2PWvzBeeUK2r2uEmgZbePWsJmy7ph1XdQrj2E9JCvjv37l0+O8Opq86iENWvhfilCHJvGgQjE//r+zPnkDIPTuIo/eT18xBRA54Ct0ceNLXSspz8dYf3nPlHx0QjVVG5YUQolEzBzcncuBctGP+r8lZ/yTFKb/5qFXetDanoT/3Yfl59IBa+hnGPZeitm7yQcuEr7UJs/LeqKasv7wNZzUvv0+9w62Y8XsGnd/byRc78mQ+vRCnAEnmhc+pbZthy5rSP+uQc6YVw+y9inBE3+mYQ1rUyvWeXOs9V75VqIVrOoXXynsLIYTwb9bwjkSe/jToliOFykPWmkcoSV/nu4YdRQsJQ3/kRbTLbgXd5H0wdR/Gw5Mx3n8JVSJzpRujnrE2lk1swaLxzekcGVDu+J48FxO/2c/oL5LYllXigxYKIWqLJPPC544elc8fYMYd4x2Wwaddj63J4Fq51t48Z7kV7B/tL3PlhRBCHBEQ05eIvtPh6AeWDSdZq6bgzNxS2Wn1SjOZ0C+5qXT7uoSW3gcNA/XZ2xh3XYRat9w3DRQ+pWka57YOYdOVbXjjrCbEBprK1VmaVEi3D3by4PI0Cl3y6L0Q/kiSeeFTavc2WFe6aE9RexOODmav4wFxAwk5bXKtXW/WGu9R+TZhFq6WUXkhhBDHsDcdQVjPB73KlMdB5qp7ceVs81GrytPad0Gf+1GFq92TdgDjibvwPHkP6mBy/TdO+JxZ17ixWwT/XNOOu3tFcuzYhcuAOYmZdHt/J9/tKfBNI4UQJ0ySeeFTasHbALiiNfIHeCfypqCmRPSdjqbVTpjuznXyzl85XmWP9o+RUXkhhBAVCmo9ntCud3mVKVcBmSvuxpW3xzeNqoAWYEe/aSr6tHkQEV2+wpqfMe64EGP+m6hiR/03UPhcWICJucPi2XhFG4Y3K7/+0O48F6MXJnHlkgMcLHJX8A5CiIZIknnhM+rAHtTKZXhspfPkj75drJlsRJ7+NLo1pNauN2tNBkcv4No2zMJVnWRfeSGEEJULbn8Zwadd71VmOHPIXHEn7oL9PmpVxbReA9Ff/hxt3GWgH/MRz1mM+vAVjFvOw/j2Y5TL6ZtGCp/qGm3jhwtb8smYpjQLNpc7/r+tuXR6byfv/pkjC+QJ4QckmRc+o+a/hUKRO8yKEeQ9Oh7e+xEsoW1r7Vq7cp28e8yo/GMDYjDrMiovhBCiaiGnXU9Qu8u8yoziDDJ/uwN3YcN6fF0LCkG/YQr6s/+Djt3KV8jJRL35NMZtEzB+/Arl8dR/I4VPaZrGxR3C+Pvq0kfvj/0olFXs4bplyYz6Iol9sje9EA2aJPPCJ9Se7ahfF1HQ14wr3jsMg9pdhr3Z2bV6vVlrMjhqW3nah1u54jQZlRdCCFE9TdMI7Xonga3Ge5V7HGlk/nY77qIUH7Wsclqb09Bnv4t2++MQEl6+QnoK6sVpGHdeiPHdZ7LyfSMUbNWZOyye1Ze0pkd0+VXvlyUV0vV9GaUXoiGTZF74hPHhKzhaaRR19n7Eyxrdh9Aut9Xqtf7JLuG/5Ublo2VUXgghRI1pmkZYzwewNx/tVe4pSiVz+R14itJ81LLKabqOfs4F6K9+iXbR9RBgK18peS/q1ScwbhqD8cnrqLzs8nXEKa1fvJ21l7XhqUGx2I5ZRyjPaXDdsmTGf72P1EKZSy9EQyPJvKh3attmXNt/IW+gxavcZI8jov9MNL38HK6TMW1VuteofIcIK5d1lFF5IYQQx0fTTIT3eRR7s5Fe5Z6iZDJ+ux2P46CPWlY1LTgU/co70F/7Gm3spWCu4P/Z3GzUR69h3DAGY95M1PY/ZTS2EbGYNB7sF80fV7XlzAoWyPt6VwFd3t/Jx9tyfdA6IURlJJkX9c790X/IHW4B81F3f3UrEQNmYwqIqNVrbUov5uN/8rzK/n26zJUXQghxYkoT+sewNfWeDuYpPEDG8jsabEIPoEVEo9/4IPq8L9HOGg+mCpJ6ZzFq2ecYD1yJcc+lGIs+QRXk139jhU+0Dbfyw4Ut+c+wOOxm789KWcUeLlt8gKu/O0C+U9ZaEKIhkGRe1Ctj40pyo7bgCfEOvfCeD2CN6FTr13t0pfeHqh7RAUzqEFrr1xFCCNF4aLqZiL7TsCUM9yr3FO4jY/ltDXIO/dG0uAT0O6ejv/4N2oRrIDC44op7/kG98RTG5HMwnn8YtfZXlEsWRDvV6ZrGXb2i2HhFG85oYi93/P2/c+n1v12sSZVtDoXwNUnmRb1RSpH/6xM4m5m8ygNbX0Bgy3G1fr2VyUV8s7vAq2zWoFh0TUblhRBCnBxNNxPR79/YmgzzKvcUHiDz19twFx7wUctqTouOQ7/2bvS3FqNddy9Ex1dc0VmC+nUxxqx/lSb2rzyB2rIOZRgV1xenhA4RASyf1Io5g2OxHjOXfmeui0Hzd/PU2gwMmY4hhM9IMi/qTfEvr1HYLMurzGJvQ1j3e2r9WkopHl7hPSo/sImdMa0qGX0QQgghjpOmm4noP7N8Qu9IJePXW3EX7PNRy46PFhiMPv4q9Ne/Rn/oeeg7pPw+9Yfl56KWfobx2I0Y14/CeG0WasMqlFtG7E9FJl3jgb7RJF7Wmi5R3iveuw14aMVBzvl8L8kF8vcvhC9IMi/qhSt/PzkH34ejRsV1t4XIYXPRdEsVZ56Y75MK+eVAkVfZk4Ni0WRUXgghRC3SdAsR/Z8oN4feKE4n49dbceXt8U3DToBmMqMNGI7p0RfR31iEdtktEFPJaD1AdgZqyQKMGbdhXHMWxguPolb/hCqRx69PNV2jbay9rDW3dS+/ttGP+4ro9eEuftxX6IOWCdG4STIv6pzyOMn+6U6U5ajHsAxFeOcHMNlja/96SvHwMXPlR7YIYlizoFq/lhBCCHF4Dv2x29YZJZlkLr8VZ842H7XsxGnRceiX3Iz++rfoT7yJNvJCCKliJ5jCfNTP32I8dS/GVSPwPHUfxs/fyuJ5pxC7WWfeiCYsPK85kTbvKZMHizyc8/lenlyTLo/dC1GPancPMCEqkLvhWdyeVK+y4Nz22LqcVyfXW7gzn3VpxV5lswbV/k0DIYQQ4jBNNxPe51HQTDiSvi0rN5w5ZC6/ncgzniEgupcPW3hiNF2Hrn3RuvZF3fggbFqNWr4EteYXcFQyEusshtU/olb/iDKZoXt/tNOHo/U/Ey0iun5/AFHrxrcNYXNcG65acoCf9h95CtJQ8MjKdFamOHhvVNNyCb8QovbJyLyoU0VJiyja97VXWcA+RfCY2XVyPY+heHRlulfZxHYh9I0rvxqrEEIIUZs0zUR474cJbH2BV7lyF5K54m6KU1f4qGW1Q7NY0PoOQb9nFvp7P6I/+iLa2RMgNLzykzxu2LAS9eosjMkj8Tw0GePL91FpDX+BQFG5psEWlk1syfTTYzh2AuO3uwvo8+Eu1qXJdAsh6pok86LOuHJ3kLPhaa8yU55BWMQk9PhmdXLN/23N5a+skrLXugYzz5BReSGEEPVD03TCejxAcPsrvQ8YTrJWP0jRvqW+aVgt0yzW0sT+jmno7ywrfRR/3GWVr4gPoBT8vQH1zvMYN4/Dc8+lGJ+8gUraiZJHs/2OSdeYdnoMiye0IOqYUfg9eS4Gzd/Du3/m+KZxQjQSksyLOmG4Csj6/WEwnEcK3Yqw9UGYLrqlTq7pcBs8usp7rvxVp4XR+ZjVV4UQQoi6pGkaoV1vJ6Tzrd4HlIecddMp3LXANw2rI5rJjNa1L/oNU9DfXIT+7AdoF06Gpq2qPnH3NtRHr2LcdRHG7RMw/jcPdWBPfTRZ1KJRrYJZf3kbBsR7PwXp9CiuW5bM3T+n4jbkZo0QdUGSeVHrlFLkJD6Bp9B7S57Q1W6s59+NZq+bhej+syGLffnustdWU+kdYyGEEMIXQjpeTVjPB8DrQWRF7qbnyPvztVNyNFrTNLR2XdCvuhPTvC/QX/oM7YrboU2nqk9MTkJ9+hbG7RfgmXI1xuL5qPzc+mm0OGktQi38OqkVd/aMLHfsPxuzGP1FEpkOdwVnCiFOhiTzotYV7viQ4pRfvMrs/7ixax3Rho+rk2umF7l5cm2GV9mdPSJoHWatk+sJIYQQNRHUeiLhfaeD5v0YcsE//yVn/RMo49ROcLTmbdAn3YDp+Q/RX/8WbfL90LmX11a15fyzBfX6bIzrzsaYMwW1ec0peePjVGM1abx4Zjz/G90Um8n77/eHfYX0/3g3f2QUV3K2EOJESDIvalVJxgby/nzVq8ycaRDyuxv9hgdKV8WtA//+PZ18p1H2OiJA55H+MiovhBDC9wKbjyTy9DloJptXuSNpEVmrH8BwF1Vy5qlFi0tAP/8KTE++jf7OMrTbHoPeA8FcyeZKbjdq5TKMx2/GuGMixlf/QxXk1W+jxXG7/LQwfru4Fc2Cvf9ed+W6OOOTPXy5U7YrFKK2SDIvao2nOIPsNY+B8pSVaSWK8J9d6INGo53Ws06u+092Ca9tyfYqe2xADBGyJYoQQogGwhY/kKjBL6Nbw73KS9JWk7n8djzFWb5pmI9o4VHoIydienwe+n9/RLtzOnTpU/kJB/ag3n4WY/IojHn/Ru3fXW9tFcevT5yddZe1YVCC9zz6ApfBBV/v4/n1mfK0hRC1QJJ5USuU4SZ7zWMYJZle5WHLXZicAWhX/6vOrj31t4O4jwzK0zrUwm3dI+rsekIIIcSJsEZ2IXrYG5gCE7zKXTlbyfjlelx5u3zUMt/SgkLQzxqPadZbpY/iX34bJLSouLKzGLXsC4w7JuJ58m7UXxskKWyg4oLM/HhhK27sGu5VroD7fk3j1h9lYTwhTpYk86JW5G15EWfmRq+yoE1uAg4YaBOvRYupYquak/DbgSK+OOZxrdmDYgkwS2gLIYRoeMzBzYke9iaW8I5e5Z6iVDJ+uYnitN991LKGQYtLQL/4RvR5C9Fnvok2aCSYKnkMf80vGA9Pxph6DWr1T5LUN0BWk8brZzVh3vB4jplGz+tbshn3ZRJ5JZ6KTxZCVEsyHnHSivZ+S+GuT73KrMkegja5Ia4p2gVX18l1lVLcvzzNq2xAvJ2LO4TWyfWEEEKI2mCyRRI1eB4BsQO8ypW7kKxV91G4+wsftazh0DQNrVtf9AeeRn9rcemK+JXtYb9tC8ZT92Lcdzlqzc+S1DcwmqZxW49IFk1oQajVO/X4bm8hg+bvYW+es5KzhRBVkWRenBRn9l/kbJzjVaYXKMJ+daEp0G95GC3AXsnZJ+fT7Xn8nurwKnt2SBxaVSvkCiGEEA2Abgki8oxnCWx9gfcB5SF34xxyt7yIUjJiCaBFRKNPugH99a/R7n8a2layzd2urRhP3oNx/xWotb9KUt/AjGwZzIqLW9EyxOJV/kdmCQM+3k1imqOSM4UQlZFkXpwwT0kWWb8/BMZRd1PdivCfnOgloA0bg9ZrYJ1cu9htMPW3g15lE9qGMLhpYJ1cTwghhKhtmm4mrMcDhHa7C++96KFwx0dkrbofwymrtx+mmczog0eiP/s/9JlvQO9BFVfc+TfGrH9hPHgN6s/19dtIUaWu0TZWX9qafnHeOzukFXk4c8Felu4t8FHLhPBPksyLE6IMN9m/P4Lh8E6oQ1e6sGQpCAlDu+6+Orv+s4mZ7M5zlb026/D04Ng6u54QQghRFzRNI7jdZUQMeKrc1nUlaatJ//l6XHmycvvRSh/B74fp8ZfRX5iPNvCciiv+swXjkevxPHmPrH7fgMQHmfn5olZc2C7Eq7zAZTD2yyQ++DvHNw0Twg9JMi+Om1KK3M1zyy14F/inG/vu0mXltWvvRQuPrJPr781z8uTaDK+yW7tH0iEioE6uJ4QQQtQ1e8JQooa+hm6L9ir3FO4n45cbcCT/6qOWNWxaq/boU+agv/AJnD6i4kprfsa4axLGa7NQOZkV1xH1KtCiM39sM+7vE+VV7jbgqu+SmbMuQ6ZJCFEDksyL41a482OKdn/uVWZN8RCc6C590a0f2ojz6uz69y9Pw+E+0sFH203MOD2mzq4nhBBC1AdreEdiznwbS0RXr3LlLiL79wfJ//v/UMqo5OzGTWvVAdPU59Cf/xj6n1m+guFBLVmAcet4jIXvoVyu8nVEvdI1jWeGxDF3aFy5Yw/+dpC7f0nDI1vXCVElSebFcXEk/0zelpe8yvQCRdgvpQveYbGi3/pInS1C90NSAQu2l9+KLsJmqpPrCSGEEPXJZI8hesg8AluOK3csf+tbZK28F09Jtg9a5h+0Nh0xPTwX/cm3oWO38hUchah352LcfTFq/Yr6b6Ao5+7eUXx8blOsx+xd9+LGLC5ffACnRxJ6ISojybyoMWfWn+Ssmw4c6VQ1pyL8h9IF7wC0i29CS2hZJ9d3eRR3/ey9FV3fOBuTu4TXyfWEEEIIX9BMVsJ6PUxYj/tA875ZXXLwd9J/vIaSjE0+ap1/0Dr3Qn/qv+hT5kB88/IVDuzB+PcdeGb9C5Wyr/4bKLxc0jGMJRVsXTd/ex4Tvt5HkUueSBGiIpLMixpxFyaTtfoBlKfkSKEBYb+4sOQcSu7bnIY2oW72lAd4eVMWf2WVeJedGY8uW9EJIYQ4xWiaRlCbi4ga/CK6NcLrmFGcTuZvt5P/z/vy2H0VNE1DG3gO+kufod3wAASFlK+09leMuy7C+OQNlEv2Ovel4c2DWD6pFU2CzF7li/cUcO7CJPJKZKtGIY4lybyoluHMI2vlvRjHPNYXstpFQPKhDxHWAPR7ZqFZLBW8w8lLK3QzfXW6V9l1ncMZ0ES2ohNCCHHqCojuTcyId7FG9fQ+oDzk//lK6WP3x+wsI7xpFgv6uMvRX1mINvJCOHYQwOVEffQqxt2XoLas800jBQDdY2ysuqQV7cOtXuW/HihixGd7yXC4fdQyIRomSeZFlQxXIZkr78FdsNerPHCzm8DtR+6Qatfcjda8TZ21Y+qKNPKcR0YfQq06swfJVnRCCCFOfSZ7LFGDXyK4w1XljpUc/J2DP1yJY/8yH7TMv2hhkei3PYr+7P/gtB7lKxzYg/HYjRj/eRyVJ+sS+ErLUCvLJ7Wie7T3LkWJB4sZ9uleDhTI4oVCHCbJvKiU4S4ia+W9uLL/8ioP2GMQvOGoO6O9BqKNuaTO2rEquYh3/8r1Kvv3GTHEHfMYlhBCCHGq0nQzoV1uI/KM59AsoV7HlCuf7LWPk732cQxnbiXvIA7T2nZCn/0O2r9mQlhEuePqp68xbp+I8cOXsj2aj8Qd2ov+9Hi7V/lfWSUMmb+HXbkyJUIIkGReVMJwF5O16gGcWZu9yi3ZVsKWOyl7QC0kHP3OaXW2er3To7jxhxSvsi5RAdzWvW72sBdCCCEaMlv8QGJHvFf+sXvAsX9Z6Sh98i+ShFZD0zT04ePQX/4C7ZyJ5Svk56Bemo7x6A2ofbvqv4GCCJuJZRNbclbzIK/y3XkuBs/fw5+ZxT5qmRANhyTzohzlKSH79wdxZqz3Krc4wwhflId21Fo7+m2PokXW3ePuT6/L4M9M70XvXjozHotJFr0TQgjROJkC44gaMo/QrneC7r1WjVGcQfbvU8ladT/uwgM+aqH/0ELC0G9/DH32O9CibfkKf67HuOcSjP/NQ5VI8ljfgq0634xvzvg23osXphS6GfrpXtamOnzUMiEaBknmhRflKSHr94cpObjGq9ysxxG+IA39qKfrtbPGo51xVp215e+sEp5Yk+FVdm3nMIYfc4dWCCGEaGw0TSe4/eXEDH8Hc1j7csdL0lZy8PvLyd/6tvdONKJCWqee6M99hHbVnWC1eR90u1GfvoXxr4tRm1b7poGNmM2s8+nYZlx5WphXeVaxh7M+38sv+wt91DIhfE+SeVHGcOaTueJuStJWepWbbc2I+CQZ/ej1RhJalG7zUldtUYobv0/G6TnymGBsoIlnh8TV2TWFEEIIf2MJbUvMmf9HcMdry+1Jj+Ek/+83Dy2Q971sY1cNzWJBv3Ay+ksLoPfA8hVS92FMuxXjhUdRuVn138BGzGLS+O+oBG7r7r3GQb7TYPQXSXy7O99HLRPCtySZFwB4HAfJWH4LzsyNXuXmoJZEfJWLXnRUJm+zoz/4HJq97kbIX9+czYpk70enXhwWT5RdFr0TQgghjqbpFkI730zM8HexRpVfpd1TuJ/stY+R/tO1FKf8JvPpq6HFNUV/7GW0+5+GiOhyx9XP32LccSHGT1/L77Ie6ZrGy8Pjebif999JsUcx4et9fLJNFn8UjY8k8wJX3i7Sf7kRd573Ai/m4JaEr7Shp3jv767dMR2tZbs6a8/+fBcPrvDeM3ds62Au7hBayRlCCCGEsIS1I2rIq4T3fhTdWn6VdnfudrJWP0DGLzdRfHCNJKJV0DQNffBI9Jc/L92x59iFfvNzUP95HGPaLaiUJN80shHSNI1Zg2J5erD3ek1uAy5fcoD3/srxTcOE8JF6T+adTiePPfYY/fr1Y9CgQbz55puV1t26dSuXXHIJPXr0YOLEiWze7L2y+qJFizjnnHPo0aMHt956K5mZmWXHNmzYQMeOHb2+xo8fX2c/l78qydhExq+3YDi8k2dLZDciD/TEtHGTV7k2/ir0wSPrrD1KKW77KYX8o/aUD7bovDK8SZ2tmC+EEEKcKjRNI7DlWGLP+ZjA1hOp6KOeK/sPslb8i/QfrqRw90IMtyzsVhktKAT9pqnoT70LLSoYyNi8BuNfF2Ms+D+UW/Y/ry9T+kbz6oh4jv5kaCi4dmkyb27J9lm7hKhv9Z7Mz5kzh40bN/LOO+8wY8YMXn31Vb799tty9YqKirjhhhvo0aMHn3/+OX369OHmm2+moKAAgM2bNzN16lRuvfVWPvnkEwoKCpgyZUrZ+Tt27KBr16789ttvZV/vvvtuff2YDZ5SisLdn5O54k6Uy3ueka3JUCI956It/MT7pK590a6+q07btWB7Pl/vKvAqmz0olhahlkrOEEIIIcSxdGso4T0fIPbsD7E1PbvCOu78XeRufJq0JeeT98c8Wf2+ClrH7ujPf3hogbwA74POEtQHL2Pcezlq66aK30DUulu6R/LB6KYcvcGRAm76IYWXN8qaBqJxqNdkvqioiPnz5/PQQw/RtWtXzj77bG644QY++OCDcnUXLVqExWJh6tSptG3blocffpiQkBAWL14MwAcffMDIkSOZOHEip512GnPmzOG3335j7969QGky3759e2JiYsq+IiLKP3LWGBnuYnLWP0HuxmfA8L6LHNj6AsKt58O8J71PiopDv/9pNFPdzVk/WOTmjp+995Q/o4mdW7vL35sQQghxIswhLYnsP5OYEe8RED+4wjrKlU/B9g84uPQi0n++gYKd8/EUZ1ZYtzHTzIcWyPvPfOjev3yFpB0YD12H8fpsVEFe/TewEbr8tDDmj22G5ZiM5s6fU3k2MaPik4Q4hdRrMr9161acTid9+vQpK+vTpw9btmzB4/F41d20aRO9e/dG10ubqGkavXv3ZsOGDWXH+/XrV1a/SZMmNG3atOz4jh07aN26dV3/SH7HXbCfjF9vwpG0qNyxkE43ERo8DjVnCniO2oPObEF/8Bm08Mg6a5dSihu+T+Zg0ZE4sOjw5tlNMOnyeL0QQghxMixh7Yk64xmih72JLWE4lX0EdGX/Sd7muaQtPp+M3+6kYOenuAv21W9jGzitSQv0Ga+h/WsmhIR7H1QKtXg+xu0TML5fiDJkB4G6NrFdKJ+Pa47V5P158YHlB3ni9/RKzhLi1FCvS4Onp6cTFhZGQMCRx5Oio6NxuVxkZmYSGxvrVffYZDwqKoqtW7cCcPDgQa/6h4+npaUBsHPnTux2O+PGjaOgoIChQ4fywAMPEBISUlc/XoPnSP6VnPUzUS7vx9g1k53w3g9jM5+G8eA1UFzkffzumWgdutVp2978I6fc4/WP9o+hS5StkjOEEEIIcbyskV2JHPAk7qJUinZ9TuGeL1GuikaRDZzp63CmryMPMAU1wxZ3OgFxp2ON7IZubdyL0mqahjZ8HKrPINQ7c1E/fe1dITcb9fIM1LLP0W96CK1tJ980tJEY1yaEr89vzviv9lF81LbGj61Kp9ijmHlGjKy9JE5J9ZrMOxwOrFarV9nh106ns0Z1D9crLi6u9HhhYSEpKSl07tyZp556ipycHJ566inuu+8+3njjjQrblpycfFI/W4PmLoKkdyD9x/LHbE1R7R8gpzCUyGdvxnzMvqn5F91IUZtuUIe/n535Hu7+2Xvefu8oE9c2c57afy8nID8/X34nosGTOBX+otHHauQECDsXMpdDxs+Q/3elVT2F+ynctYDCXQtKC+zNIbgjhHSE4NPA1qT8iu+NxaRbsHY7nZCP5mFOPyaetm3Bc/8VOAafS8H5V6OCTmxQqdHHag10tcD7QwK55rdCio56wHTWmgwyc/N5tLtNEvp6ILFav+o1mQ8ICCiXtB9+bbfba1TXZrNVezwoKIi1a9cSFBSEyWQC4KmnnuLCCy8kOTmZhISEcm2rqOxUUJKxnpwtT+ApSil3zJYwnPDej6C5NYzHb4Zj/gPSJlxN+JW3EV6H7XN5FBN+2Y3jqFkWQRaN+ee1pkW4tfITG6nK4leIhkTiVPgLidVDmrcGrsZdlErx/u8p2r8Ud+72qs9x7Cv9Sv8eAN0ajjWyG5aoblgju2GNOA3N1IierktIQA0+C7XwPdSCt8F5ZIcATSkCly8icONKtKvvRDtrApp+fDNdJVZr5qIEaBJbxLkLk7x2RnptWwlmWyD/OTMeXRL6OiWxWvtSUsrncYfVazIfFxdHXl4eTqezbFQ9PT0dq9VKWFhYubrp6d7zXDIyMoiJiSk7npGRUenx0FDvx7/atm0LQFpaWqMIMOUpIe+v1ync8TGla3seRTMR2uV2gtpdCo5CjJl3wPY/vKsMG4N29b/qvJ1PrElnbZr3ljgvnhlPW0nkhRBCiHplDownuMOVBHe4Elf+HkpSV1CctgpnxiZQ7irPNZw5FKcupzh1eWmBZsIS1gFrZFcskV2xRnbDFBh/So+MatYAtItvRA0bi/H2s/D7T94V8nNQ82ailn6BfvNUtHZdfNPQU9yghEC+n9iSUV/sJafkSEL/8qZsSjyK185qIgm9OGXU6wJ4nTp1wmKxlC1SB5CYmEiXLl0wm73vK/To0YMNGzagVGkiqpRi/fr19OzZs+x4YmJiWf2UlBSSk5Pp2bMnmzdvplevXmXz5wH++usvTCYTLVu2rMOfsGEoObiWgz9cSeGOjzg2kTeHtCJ62JsEt78MCvMxpt0Kf2/0foMeA9DumH7cd42P16rkIp5Y431D5oK2IVzXObxOryuEEEKIqllCWhHc/gqiB79M/NglRJ4+h8DWEzGHtgVqkAgpD66cvync9Sk566ZxcOlE0hafR9bqqRT88wElGZtQnlNzf3stLgHTQ8+jP/4yNGlevsL2PzAeuApj3kxUjuwaUBf6x9v56cJWRNlMXuVv/pHDdUuT8RiqkjOF8C/1OjJvt9uZMGECM2bM4KmnniI9PZ23336bmTNnAqWj9CEhIdhsNkaPHs1zzz3HzJkzufzyy5k/fz6FhYWMGTMGgMsuu4yrrrqK3r1706NHD2bNmsXQoUNp1aoVTqeTuLg4HnnkER588EFycnJ4/PHHufDCC4mMrHhFdqWU398t9pRkk7flRRz7llR4PKjtpYR2uRnNZEPl5WBMvxV2bfWu1LYT+oPPolnqdl/3fKeHK787wNF9aXygmTfObuL3fw9CCCHEqUS3BGFrMgRbkyEAGK4CnFl/4szagjNzM67sP1HuomreBYySTIpTfqE45ZfSAs2MNbIrATF9scb0xRrZBU2v14+mdUrrPQj9xQWohe+jPn3L69F7lEIt+xy1fAnahdehnX8FWoC98jcTx61nrI2fL2rJ2Z/vJe2o3ZLe+zuXEo/i/VFNsZjkM6fwb5o6PPRdTxwOB9OnT2fp0qUEBQUxefJkJk+eDEDHjh2ZPXs2EydOBGDz5s1MmzaNHTt20LFjR6ZPn07Xrl3L3uuLL77gxRdfJCcnh4EDBzJz5syyZH3fvn3MmjWLdevWYTKZOO+885gyZUq5RfOg9OmAZpmzsTUZRnC7SzDZY8vVaciUMnDs/ZbcP16ucEVakz2e8D6PEhBTuiWgysnCmHYL7D1mPlzHbuiPzUMLrtsV/5VSXLroAPO3e7d1yYQWjGoVXKfX9ncyD0n4A4lT4S8kVmuHUh7cebtwZm4pTfCztuApPHDc76OZ7Fije2GLH0hA/CDMgfF10FrfUOkpGG8/B6t+qLhCVCzaFbejnTmuwicjJVZP3LasEkZ8tpfkQu+pIhPahvDxuU0JMNfrg8qnPInV2peYmOi1tfvR6j2Zb4gSExNpknQHAJo5kNAutxLYeiKa1vD/cTuz/iR381xc2X9WcFQjsPUFhHa5Fd1SmiSr9BSMGbfD/t3eVTv3Qn/sJTR7UJ23ee76TO79Nc2r7I4eEbw0vEmdX9vfSQcp/IHEqfAXEqt1x1OchTNrC66sP3Bm/YEr52+Up+S43sMc2g5bk8HY4gdjieh8Sjy5pzaswnhrDhzYU3GFVh3Qr7wD+gz2+nklVk/OzhwnIz7bS1K+y6t8TKtgPhvXDJsk9LVGYrX2STJfjaOT+cMskV0J7/UQltA2PmpV1TzFGeT9+SqOpEUVHjeHtiW811SskUeeZFDbNmPMvheOnZ/VrT/6Iy+g2er+8a5f9xcy4rO9HLUFKN2jA1h1SWsCLdKRVkc6SOEPJE6Fv5BYrT/KcOPK3V6a2GdtwZn1R4U77VTGZI/DljAce9MRWCK7+MWAS2WUy4X6bgHqkzcgP6fiSh27o195J1q3voDEam3Ym1ea0O/K9U7oz24RxJfnNZfPobVEYrX2STJfjYqSeQA0M8EdriKk47VopoaxurrylFCwcz4F296tcH6aZgog+LQbCG53qde8M+PXxaiXpoPLezs/eg9Ef/A5tIC63z4mucBF7w93ec1bCrPqJF7eRlavryHpIIU/kDgV/kJi1bfcRSk4D66jJL30yyjJqtF5uj0We9OzCGw+CnNYB78dsVcF+ajP3kZ9/T9wuyqu1GMA+hW3kxIcJbFaCw4UuBjx2V7+yfb+PDy0aSDfjG9OiNVUyZmipqRfrX2SzFcjMTGRjuG7yP/rtQoTZHNYeyL6TvfpKL1SHhxJS8j/+008jrQK69iaDCO0212Yg478A1KGgfr4NdT8N8ufcPoI9Ptmo1nqPpF2ehTDF+xhZYrDq/zr85szrk3dztE/lUgHKfyBxKnwFxKrDYdSCnf+LopTV1GS+hvOzC2AUe155tA22JufS2DzkX635tFhKi0Z9b+XUb8urrROSafe2K+6A61zr3ps2akptdDN2Z/v5c9M72kfZzSxs3hCC8ICJKE/GdKv1j5J5qtx+BfkcRwkd+OzR/ZIPZpuJbTrHQS1uahe7wArpShJW0Xen6/gzttZYR1zSBvCut9NQGw/73MdhaiXZqBWLit3jnbh5NKFVup4+7nD/vVzKi9u9L7j/mj/aGYO9M//eH1FOkjhDyROhb+QWG24jJJcitNWUZzyKyVpq2qwjZ2GNaYPgc1HY0s4E91S92sA1Ta1exvGh6/A2l8rr9StH/rFN0LXvn77REJDkOFwc87nSWxM946rvnE2vrugJZE2SehPlPSrtU+S+Woc/QtSSlGc/BO5m57HKCm/92dA3OmE934Uky2qTtuklKLk4BoKtr2LM3NjhXU0SwghnW4kqPUF5bZyUdv/xHj+IUjZ532S2YJ2++Pow8fVUcvL+3BrLlcs8V7VdmSLIBZNaIFJl/+Ijod0kMIfSJwKfyGx6h8Mt4OStJU4DvxISerKahN7zRSArckw7C1GExDTz++2u1PbNmN88DJsWVt5pdN6oF9wDfQbVm8DM6earGIPo7/Yy9o073jqER3AsoktiQn0r7hpKKRfrX2SzFejol+Q4cwjd9OzOPaXH9XWrWGEdLqJwFbn1/p/EEoZlKSuIH/bO7iy/664km4hqPWFhHS8Fj0gzPt8w0At/C/qf6+Ax3sLDsIi0Kc+j9apZ622uSork4s467O9FB+14l3LEAuJl7cmyi6d5PGSDlL4A4lT4S8kVv2P4XZQkvobRUlLKDn4OyhPlfX1gCjszUcS2GIMlrB29dTK2qE2/Y7xyevw14bKKzVthTbhKrRhY9GsAfXXuFNEbomHMQuTyk0D7RwZwA8XtiQ+SD6rHi/pV2ufJPPVqOoXVLTvO3I3PoNyF5Y7Zg5pTWjXO7HFn3HSbTBchRQf+JGCnfNx5+2opJaGvfkoQjrdhDmo/DZuKusgxtzHYMua8qe2aIf+yH/Q4urvH9c/2SUM/GQPmcVH/qO1mjRWXNyKvnF1v3L+qUg6SOEPJE6Fv5BY9W+e4iwc+5fh2LcEV87WauubQ9sR2OJc7M1HYrJF10MLa4f6Yx2O918mYNumyitFRKONuRRt5AVoYZH117hTQIHT4Lyvkvh5v/e6WR0irPwwsSXNQiw+apl/kn619kkyX42qfkFQutpqzrp/V/q4e0DsAEI63XBoD9SaP+qklMKZuZmivV9TfOBHlMdRad2A2AGEdrkNS3iHCt9H/fg16t3nIT+33HFt9CS06+5BC6i/BPpgkZszPtldbvuPd85J4Nou4fXWjlONdJDCH0icCn8hsXrqcOXtxrFvMY59SytdKPgInYC4/tibj8bWZBi6ue539DlZycnJNMk7iDH/TVi/svKKZgvakFGliX37LvXXQD9X5DKY8PU+liV5D961DrXw44UtaRUmuy7VlPSrtU+S+WpUl8xD6WryBds/omDr/1U6V0u3RWOLH4StyRACYvqgmbz/c1CGG3feLpzZf+LM+hNn5kY8hQcqfK/DbE2GEtzxGqwRnStu1/7dGK/Ogj8Tyx8MCUO/YxragOFVXqO2FboMRizYw5pj5iA9PiCaGWfIgncnQzpI4Q8kToW/kFg99Shl4MzYQFHSYoqTf6pwl6KjaeZAbAnDCWwxBmt0zwa7f/3Rsap2b0MtfB+1fAkYVUwz6NANbcwlaIPOqZedi/xdsdvgom/38+3uAq/yZsFmlk1syWmRMo2hJqRfrX2SzFejJsn8YR5HOnl/vY4jaRFQxa9OM6OZ7Wi6BU23gG7GKM6swWqsABq2pmcR0vGaSud3KWdJ6d6kn71T8d6k3fqh3/0EWlT9Js8eQzHxm318tcu7I7y2cxhvn5MgK6+eJOkghT+QOBX+QmL11Ga4iylO+RXHvsWUpK2huq3uTPZ47M1HYW8xGktIq3ppY01VFKsqPQX19f9QS7+A4ipuWoRFoo2ciDbqIrTouDpuqX9zehSXLd7P5zvyvcqj7Sa+u6AFvWNlmmh1pF+tfZLMV+N4kvnDnDnbyNvyH5wZVSxKcpx0WwyBLccS2GIs5uBmFdZRSsHqHzHe+0/5leoBrAFol96CNv4qNFP9bquhlOLOn1OZtynbq/ycFkF8O74FFpMk8idLOkjhDyROhb+QWG08PMUZOPYto2jfYty526utb4nohL3ZSOzNzm4Q8+urilVVkIf64UvUovmQtr/yN9FNcPpw9HMvga59ZIClEm5DcfV3B/hoW55XeahV55vxzRnS1P+2PaxP0q/WPknmq3EiyTwc2j4udQVFSYsoSVtd5Zz3SmlmbAlDCWw5joDY/mha5Qm4+nsjxrtzYdvmiiv0Goh+01S0Js2Pvx0nSSnF46vSeWJNhld59+gAlk9qRWiA7NdZG6SDFP5A4lT4C4nVxsmVu52ipNL59RVtQ+xNP7R//chD+9cH10sbj1WTWFUeD2xYibHo46rn1UPpKvgjJ6INPw8tNLz2GnqK8BiKW39M4c0/crzKbSaNz8c149zWIb5pmB+QfrX2STJfjRNN5o+mPCWUZKynOOU3ilN/w3AcrLCeHhCBNaIrlsjOWCO6YInojG6p+g6fOrAH4/2XYPWPFVcIj0K7/n60waN8cpdVKcW01enM/N07kW8WbGb1pa1pGiyrgNYW6SCFP5A4Ff5CYrVxU4abkvR1OJIWU5zyC8pTUvUJuhVb/EDszUZiix+IZqq/OdTHG6vqwF7U4vmoH7+CooLKK5otaAPPRht1IXTuLaP1R1FK8eBvB3km0fuGj1mHD0Y15ZKOYZWc2bhJv1r7JJmvRm0k80dTSqHcRSjDBcpd+t1wo5kC0G0xNe4o1b6dqE//D/Xbd2BUMM9L19FGXoh25Z1owb67Qzht1UH+fUwiH2bVWX5xK7pFN/wVYv2JdJDCH0icCn8hsSoOM1yFFCf/TFHSYpwZFSwqfAzNHIQt4UzszUcSEN0bTa/b/chPNFaVowj18zeoRZ/Avl1VV27WuvRz5fBxaCGSqELpZ/qn1mby8ErvQToNeHl4PLf1kG0AjyX9au2rKlet256nkdI0Da2a0faqqN3bMD59C1b9AJXda+k/DP2qO9Gatz3h69SG6RUk8qFWnaUTW0oiL4QQQgi/oFuCStctajkWT1EajgPf49i3FFfuPxXWV+5CHEnf4kj6Fj0gEnuzs7E3G3lom+KGM7qt2QPRzr0YNXoSbFmLWrIA9ftP4HGXr7x/N+rtZ1Hvv4g28JzS0fpOPRvUz1PfNE3jof7RhAXo3P5Talm5Am7/KZWUQjf/PqPmA3VC1DZJ5hsIpRT8mYjx5fuw9tfKK7bvin7t3Whdau9JghM1Y3U6MypI5JdNbEn/eFntUwghhBD+xxQYR3D7KwhufwWuvD049i/FsX9ppdsJGyVZFO6cT+HO+ZiCmmJvdg72ZqOwhLaq34ZXQdM06N4frXt/VE5m6YJ5S7+oeME8lxP1y7eoX76F5m2OjNYHh9Z/wxuI23pEEhZg4prvDuA5apztiTUZpBa5eXVEE8y6JPSi/slj9tT+Y/bHQ7lcqBVLUV99ALu2Vl6xRVv0S26GgWf7/O5fZYvdhVp1ll7QggFNAn3UslOfPLok/IHEqfAXEquippRSuLL/OpTYf49RklXtOeaw9gQ2G4m92TmYAk9uS7i6iFVlGLB5DcZ3C2DNLxWP1h9mDSjdr37khXBaD59/FvWVb3fnM+nb/Tjc3unT+W2C+ejcZgRadB+1rOGQfrX2yZz5avgimVc5WahlX6AWfwJZ6ZVXbN0R/eIbYcBwNN33HYTTo7jp+2T++3euV3nIoUT+dEnk65R0kMIfSJwKfyGxKk6EMtyUZKzHsW8pxck/odxV7PF+iCWyK/amI7AnjDihxL6uY1VlZxwarf8cDiZXXblFu9KV8M8c59M1m3xldUoRY7/cR1axx6t8YBM7X49vQaStce/gJP1q7ZNkvhr1lcwrpeCvDagln6JWfQ/uKu6Atu9amsT3HdJg7n7mlXi48Nv9fJ9U6FUuiXz9kQ5S+AOJU+EvJFbFyVKeYopTV+HYv5Ti1BVguKo9xxLRFXvT4diaDscc2KRG16mvWFWGAZtWY3z3WeloveGpvLLVVjpaP+pC6Ni9wXxerQ9bs0oY9UUSSfnef98dI6wsmtCCNmFWH7XM96RfrX2SzFejrpN5VZCH+nUxaskCSNpReUVNg/5nop9/RYPbHuRAgYsxC5PYnOG9bUuUzcQ345tLIl9PpIMU/kDiVPgLiVVRmwxnPsUpv1C0bynO9ESggp2IjmGJ6Iw9YTi2piMwB1Uei76IVZWVfmS0Pj2l6sot25eO1g8b22hG65MLXIxemMSWYz4bx9hNfHlec85IaJyfjaVfrX2SzFejLpJ5ZRiwZQ3q+y9Rq38El7PyyjY72ojz0c67HK1Ji1ptR23YklHMmIVJ7C/wfpKgbZiFxRNa0D6i/vZZbeykgxT+QOJU+AuJVVFXPMUZOPb/gGP/UlzZf9XoHEtYBwLiB2GLH4QlohOadmR6pS9jVXk8R0br1/5a/Wj9kFGlo/Xtuzaogam6kFPsYfzX+/j1gPdUiwCTxvujmjKpQ+NbNFD61donyXw1ajOZVweTUT9+jfrhy+rvYia0QBs9qTSRb6ArhH6+I4/rliaT5/S+uzwg3s5X5zcnNlA2RKhP0kEKfyBxKvyFxKqoD+6iFIoP/IzjwI+4sv+o0Tl6QAQBcQOxxQ8iILY/qem5DSJWVdbB0oGqZZ9DemrVlVu1Rxt5Edqwc9GCTt3R+mK3weRlyXy0La/csacGxTKlb9Qpf1PjaNKv1j5J5qtxssm8cpagfv8J9f2XsPn3yveGB9BNpXvEnzsJuvVvEIvaVcTpUTz4WxovbCi/Wuv4NiF8eG5TWbHTB6SDFP5A4lT4C4lVUd88RWk4kn8qTeyzttTsJM0MIZ0IbTkcW/xgzMHN67aRNaA8HtiwEmPp57DuVzCqmFIQYEMbPArt3Elo7brUXyPrkaEU0yrY6Qnghq7hzBveBKupcST00q/WPknmq3GiybzatQ31/ReoXxdDQfm7cV7impaOwJ81Hi365LYnqWtJeS4uWbSf1amOcsfu6BHBC8PiMclemj4hHaTwBxKnwl9IrApf8jgO4jjwE8XJP+HM3AzU7CO5KbAJATF9sMb0JSCmDyZbdN02tBoq82Dp5+FlCyGjmtH6Tr1K14bqfyaa6dRb9f2dP3O46Ydk3Mfc2xjaNJBPxzZrFE+0Sr9a+ySZr8bxJPNli9l9v7DqfeGhdE/OM85CO3sCdOnTYEfhj7Z4dz5XfpdcbrsNiw7PD43n9h4RjepRoYZGOkjhDyROhb+QWBUNhacki5LUVRSnrqDk4O812u7uMHNI6yPJfXQvdKtvpm6WjdZ/twASf6t6tD6uKdrYy9DOHo8WGFx/jawHP+4rZOLX+8g9Zopq8xAzX57XnF6xdh+1rH5Iv1r7JJmvRnXJfOlidmtR3y+sfjE7gHad0c6egDZ4tN+s6FnkMnhs1UGeX1/+sfoWIRbmj2nKAFmx3uekgxT+QOJU+AuJVdEQKcOFM3MTxSkrKE5biacg6TjO1rGEdzyU3PfGGtUD3Vz/n99UemrpSvjLvoDMtMorBgaXJvRjL0eLO3X+Lf6dVcLYhUnszvPeus5u1nj7nAQu7Rjmo5bVPelXa58k89Wo7Bek0lNQP36F+uErOJhc9ZuEhKOdORbtrPPRWnWom4bWkV/3F3L99ynsyCl/k2Js62DeG9WUSNup9yiUP5IOUvgDiVPhLyRWhT9wF+zj4LbFWB1bSh/HN6oZVDqaZsIS3omAmN5Yo3tjjeqObq6/kWHlcUPiCoxvP4JNv1deUdfh9BGlj+B37HFKPAWa4XBz8bf7+Wl/+acspvaN4omBsafktFXpV2ufJPPVOPoXpDweSFyOsfhT2Liq6sXsNA16nYF+9gToNwzNYq2fBteSAqfB1BVpzNuUXe6YrsGsgaUrcOqnQId6qpAOUvgDiVPhLyRWhb84HKvKU4wzcwsl6esoSU/Elf03NdnPvoxmwhLRmYCYPgRE98Ia1R3NZKuzdh9N7dmO+vp/qF8WgdtVecUO3dAnXgf9h/nFFNWquDyK+5en8eLG8k++jmwRxAejmxJzis2jl3619kkyX43ExER6t2td+hj9kgXVbykX17R0Ibvh56HFxNdPI2vZ0r0F3PR9Cnvzy3emLUIsvDcqgWHNgnzQMlEV6SCFP5A4Ff5CYlX4i8pi1XAV4MzYcCi5X4c7b9fxvbFuxRrVA1tsfwLiBmAObeu1v31dUDmZqMWfopbMh9zyA0plmrVGu+AatKFj0CyWOm1TXXvnzxxu+TEFp8c77WoabObjc5sxuOmpM5VV+tXaJ8l8NRITE+k5+9aq7xJaA9DOOBvt7PF+s5hdRf7JLuGB5Wl8taugwuO3dY/gqcGxhFjlsfqGSDpI4Q8kToW/kFgV/qKmseopzsKZkUhJ+nqcGetxH9d8e9ADIgmIO/3Q/vYD0C11N7CjnCWli0p/9T9I2lF5xag4tPFXop0zEc3uv0nv6pQiJn6zn5RCt1e5SYPZg2K5r8+p8TSs9Ku1T5L5aiQmJtJz5g0VH2zbqXQxuyHn+s1idhXJKvbw79XpzNucVW67DIC2YRb+7xwZjW/opIMU/kDiVPgLiVXhL040Vj2OdEoyNuDMWE9J+no8hftqfrJmwhrdE1v8IGwJZ2IObHLc168JpRRs/h3jq/+VroJfmeBQtDGXoI29FC0ssk7aUteSC0q3f/4tufz2z+NaB/PfU2CdKulXa58k89Uol8xbA9CGjEY792K0dp1917Ba4PQoXtucxfTV6WSXlM/iNeCe3pHMPCOWQIt/Pm3QmEgHKfyBxKnwFxKrwl/UVqx6HAdLk/v0RErS1+IpqmZf+KNYIrpgb3oWtqbDMQfWzTRTtXcH6ot3Ub8uAcNTcSWrDe2cCWjjr0KL9b9/vy6P4tGVB5mTmFnuWIsQC++PSmCoHw+uSb9a+ySZr0ZZMh/XDO3cSWgjzkcLDfd1s05Ksdvg7T9zeGpdBvvy3RXWOaOJnReGxdM//tTe7/JUIh2k8AcSp8JfSKwKf1EXsaqUwlO4n5KDv1NycC0l6etqvL+9JaIr9mYjsCeMwBQYV6vtAlBpyaiv3kctWwjO4oormcxoQ0ejTbwOrXmbWm9DXftmVz5Xf3eg3GCbBtzfJ4qZZ8QQYPa/gTbpV2ufJPPVSExMpLc7r3RFej+dC39YkcvgzT+ymbMuk+TCipP4FiEWnh4cyyUdQk+JrT8aE+kghT+QOBX+QmJV+Iv6iFVluHFmbqY49TdKUlfUeL69JbIr9qYjsDc9C5M9tnbblJuF+vZj1KJPoCCv4kqaBgOGo180Ga1dl1q9fl3bm+fk4m/3syat/A2LHtEBfDC6KV2j62e3gdoi/Wrtk2S+GlX9gvxFpsPNm3/kMHdDJgeLKn4sKdii83C/aO7uHYndD+/0CekghX+QOBX+QmJV+AtfxKq7YB/Fqb/hOPATrqwtNThDwxrdm8AWo7ElDK/VxfOUowi17HPUl+9D5sHKK/Y4Hf2i66FrH78ZsHJ6FA+tSOP59eW3r7OaNGYPiuXuXpF+szie9Ku1T5L5avhzMr/hoIOXN2Xz4dZcij0V/1UGmDRu6BrOo/1jiA86tfaybGykgxT+QOJU+AuJVeEvfB2rnqI0HMk/4TjwA66sP6o/QbdiTxiGvfkoAmIHoOm18/lTuVyoXxehPn8XDuypvGLHbugXXg99h/jNU7c/JBVw7dJk9heUf7J2cIKdN85OoFNkgA9adnx8HaunIknmq+FvyXyJ22Dhznxe2pTFigpWwzzMbta4pVsE9/eJIiHYv/fnFKWkgxT+QOJU+AuJVeEvGlKslib2P+LY/yOu7OoTe90agb35Odibj8YSflqtjJgrjwd+/xFjwTuw6+/KK7ZsXzqnfvA5aKaGP6CVXezhjp9S+HBb+SkFVpPGw/2imdo3qkHPpW9IsXqqkGS+Gv6QzCulWJdWzH//zuGjbXlkFVeywicQZNG4o0ck9/aOIjaw4XdcouakgxT+QOJU+AuJVeEvGmqsuotSKT7wE479y3DlVJFUH2IObom9xWjszUfVylZ3SinYuApjwf/Bn+srrxjXDG3itWgjzkOzWE/6unXt42253PpjCjkV7ETVKdLKG2clMLhpoA9aVr2GGqv+TJL5ajTkZP5AgYsPt+by7l+5/JVVUmXdliEWbusRwfVdwomySxJ/KpIOUvgDiVPhLyRWhb/wh1h15e/Bse87HPuW1GjLO2tUT+wtzsWeMBzdGnLS11d/b8T47G1Yt7zyShHRpVvajboIzd4wk+HD9ue7uOXHFL7dXVDh8Zu6hjNrUCzRDewzvz/Eqr+RZL4aDS2Z35/vYsH2PBbsyKvyMfrDzmoexJ09IxnXOhiT7h+LY4gTIx2k8AcSp8JfSKwKf+FPsaqUgTNzE46kJTiSf0S5Kk5Gy+hWbE0GE9h8NAFxp6PpJzc1VO3ahvr8bdTK78EoP7INQFAI2qgL0cZehhZVuyvw1yalFPP/yeOuX1IrXOA6PEBn2oAYbusRidXUMHIAf4pVfyHJfDUaQjK/M8fJV7vy+XR7HqtSqk/gI20mrjgtjFu7R/jFYhiidkgHKfyBxKnwFxKrwl/4a6wqTwnFqStwJC2hOG0lqMqniQLo1jBszc4msPm5WCI6n9T8epW8F/XFf1E/fQ3uirdrxmRGGzwKbfyVaG1OO+Fr1bWsYg9Tlqfxf3/mVHi8Q4SV54fGMaZVsM9X8ffXWG3IJJmvhi+SebehWJVSxDe7Cvh6dz5/ZzmrPcesw5hWwVzbOZyxrUMazB04UX+kgxT+QOJU+AuJVeEvToVY9ZTkUHzge4qSluDK/rPa+qag5gS2GIW9+WjMQU1P+LoqIw311fuo7z6DkvL7uZfp1g/9/Cuhz+AGuwL+z/sKufnHFP7JrjhvGNkiiDlD4ugR47u96U+FWG1oJJmvRn0l80l5Lr7fV8D3SYV8t7ewykXsjtYvzsZlHcO44rQwWdCukZMOUvgDiVPhLyRWhb841WLVnZ9E0f7vcCQtwVOUXG19a2T30oXzmp6Fbg09oWuqvGzUNx+hFs+H/NzKKzZthXb+FWhnjkULsJ/QtepSidvgxY1ZzFyTQb6z4mkEF7UPYfrpMXSJqv+k/lSL1YZAkvlq1FUyn1Xs4ad9hfywr5DvkwrZnlP96PthA+LtTGofykXtQ2gZ2vBX3RT1QzpI4Q8kToW/kFgV/uJUjVWlFM6szaXz6w/8gHLlV32CbsEWNxB7i9HY4gaimY7/M7IqcaB++gb11f8geW/lFUPC0UZfhDZyIlrMya+8X9vSCt08tuogb/2RQ0XJnAZc2jGUaQNi6FiPU3JP1Vj1JUnmq1FbyXyx22BFchHfJxXy/b5CEtOKK/zHVRGTBkObBnJemxAubBdKi1DZF16UJx2k8AcSp8JfSKwKf9EYYlV5nBSnrsSxbwnFqStAVTLP/RDNEoK96QhsCWcSENPnuBfOU4YB65ZjfPk+/JlYeUVdh75D0EdPgp5nNLhH8DceLOaeX1P5eX9Rhcd1DS7vGMb9faLq5fH7xhCr9U2S+WqcaDKfV+JhdaqD35KL+O1AEatSHBR7av7rjAjQGdM6hHGtgxndMphwm+m42yAaF+kghT+QOBX+QmJV+IvGFquGMxfHgR9wJH2HM2tztfU1Swi2+EHYEoZji+uPZjq+pFXt+Av11QeoFcvAU8VNhLhmaKMmop05Di0y5riuUZeUUny7u4DHV6WzIb3ydQHObhHEfb2jGNUyqM4WymtssVofJJmvRk2T+QMFLlYkF/FbsoPfDhSxKaMY4zh+exYdzmgSyNktgji7eRD94u2YZSs5cRykgxT+QOJU+AuJVeEvGnOsugsP4Ni3hKKkJXgK91dbXzPZCYg/A3vCcALizkC3BNX4Wio9FbXoE9R3C6Coii31dBP0Hog+4nzoNwzN0jCeqFVKsXBnPtNWp7Mlo6TSel2iAri3dySXdQzDbq7dJw0ac6zWFUnmq1HRL8hjKP7KKmFVypGR9915ruN+7+7RAWXJ+5CmQQRbG9ajOcK/SAcp/IHEqfAXEqvCX0isliaqruw/KUpaTPGBHzCcVSxid5huJSC2P7b4QQTEnY45ML5m13IUon5ZhFryKezZXnXlkHC0IaPQho6Gjj18vjUcgKEUC7bnMW1VOlsrWfkeSvepv/K0MG7oGlFrj+BLrNY+SearkZiYSGyH7vye6mBNqoPfUx0kHnRQ6Dr+X02LEAvntAji7BZBjGgeJKvPi1olHaTwBxKnwl9IrAp/IbHqTRkuSg6uozj5Z4pTfsVw5tToPHNIawLiTi/9iupZ7QJ6SinYtgm1eAFqxVJwVzOwF9OkNLEfPBpad/B5Yu8xFN/sLuC59ZksP1DxnPrD+sbZuLFrBJd2CCU04MSn/kqs1j5J5quRmJhI3+UntvVE58gABifYGdw0kEEJgbQOtfj8H644dUkHKfyBxKnwFxKrwl9IrFZOGW6cmZsoTv4ZR/LPGMUZNTpPM9mwRvfGFn8GAbGnYw5uVvV18rJRPy9C/fAl7K1mtB4goQVa/zPRBgyHDt3QTL5dG2tNqoPnEjNZsCOvymnCASaNc1sFc0mHUMa1Djnup4olVmufJPPVqGkyb9Ghb5ydIQmBDG4ayMAmdqLsMvIu6o90kMIfSJwKfyGxKvyFxGrNKGXgyv4Lx4GfKE7+uUZ72B9mCmqKNaoH1qgeBET1xBTcvMIBOqUU7Pwb9eNXqF8WQWE12+kBhEWg9R2K1m8odOuHFhRyPD9WrdqT6+TlTVn89+9cMhyeKuvazRrjWodwcYdQRrYIqtGIvcRq7ZNkvhqVJfPRdhP94+wMSrAzOCGQfvH2Wl8kQojjIR2k8AcSp8JfSKwKfyGxevyUUrjzdlCcuoKStN9xZm0BVXXyejQ9IKIsubdG9cAS1h5N9x7EU84SSPwNtfw71LpfwVn5onNH3tgEHbqi9TwDrefp0L4Lmqn+BwedHsWXO/N5649sliUVVrudtkWHwQmBjGkdzJhWIXSKtFZ4s0NitfZJMl+NxMREBq8MpE+cjQHxdvrH2ekfb6eVPDIvGhjpIIU/kDgV/kJiVfgLidWTZzjzKUlfR0naKorTVmMUpx/X+Zo5EGtkVywRnbGEdcAS3gFTYEJZrqAchag1v6CWL4GNq8BdxRZ3R7MFQsfuaJ17oXXuVZroB5zY9N8TtSfXydt/5fDB37k1XvC7ZYiFc1oGMbRpIMOaBtEitHRFf4nV2ifJfDUSExPp3rM3FpMk7qJhkw5S+AOJU+EvJFaFv5BYrV2lo/Y7KUlbTXHaapyZm0DVMPk+imYJwRLWviy5t4R3xBzcAhwO1IaV8PvPqMTfqt7m7lhmM7TqgNauM7TrUvq9eZt6Gb1XSpF4sJhP/slj/j95JOXXfCevliEWhjULpFuQk5Edm9A5KkC24K4lksxXo6b7zAvha/KfufAHEqfCX0isCn8hsVq3DLcDV/ZfODM34szcjDNzC8rjOLE3061YwtpiDm6FOaQFJnszzGkFmDZthU1rYd+u439Pqw1atkNr2Q5atj/0vR1aWOSJtbEGlFL8nurg0+15fLu7gG1VbHFXEbtZo1eMjb5xdvrG2egRbaNjhJUAmbJ83KrKVWX1NiGEEEIIIUSjpZvtBMT0ISCmNGFShhtX7nacmZvKvoyS7Jq9meHElf03ruy/vcujdEznJWAOGIypQMd8IAfTtr3oaXmYChVaVcOrzmLY/gdq+x+l7TtcHhIG8c3Q4ptDfDNo0rz0z02aQ3jUSU0X1jSN05sEcnqTQJ4bCjtznCzeU8CiPQX8tK+QYk/V48EOt2JlioOVKUduipg0aB9upUtUAF2iAugcGUC7cCvtwq2EncR2eI2ZJPNCCCGEEEIIcYimm7FGdMIa0QnaXYpSCk/BPpzZf+DK+QdX7j+4cv5BuQuP410NPIX78RTuL30Zc+iLAAB0dwCmfA+m7BL0AoWpUGE69F13KDQnlEvN83MhPxe1/c+yorIU22YvTfDjm6NFx0NkDETGoB36TmQM2INqnPC3DbdyR89I7ugZSZHL4LfkIn49UPr1e6oDZzXJPYBHwdZsJ1uznXy2w3sXgCibiXbhVtqGWWgZaqF5sIXmIRZahJR+Dw/QZS2zCtR7Mu90Opk5cyZLlizBarVy7bXXcuONN1ZYd+vWrUybNo2tW7fStm1bpk+fTvfu3cuOL1q0iLlz53Lw4EEGDhzIE088QVRUFFD6aMgLL7zA/PnzcbvdXHTRRdx///2YfLzHoxBCCCGEEMJ/aJqGOaQF5pAW0GIMULoNnqcwuSyxd+Vuw5XzD0ZJ1gldwzCXYESAK6KSXMWj0ItBd5Qm93qxwuSg7M96MWhOhe4s/a4VO9D2bIc9271WqvdKuW320qQ+IgYtMhpCIyAkvHTEPyQM7dD3srJDyX+gRWdky2BGtgwGoNht8HuqozS535PNllxFWlHNdw4AyCz2kJnq4PfUiqc32EwaMYEmYu1mYuwmYgIPfbcf8z3QTKTNRIhFbxTrodV7Mj9nzhw2btzIO++8Q2pqKlOmTCEhIYGxY8d61SsqKuKGG25gzJgxPPnkk3z88cfcfPPNLFu2jODgYDZv3szUqVOZPn06nTt3ZtasWUyZMoX/+7//A+Ddd9/liy++4MUXX8QwDO6//34iIiK46aab6vtHFkIIIYQQQpxCNE3HHNwMc3Az7E1HlJV7ijNw5+3GXbAXd/5e3AVJuPP34nGkndwFTRpGEBhBNUxQlUJzgVZyJMHXnaC5QXOrQ99daO4DpV8poO0rLccNmqHQDMBD6XcDNExgD0GzB4E1CC0gEGzBWO1BDLEHMcQeyF1ug5DYOHJMNnY5dLYVwrYCjX+KNJKKNYp1Cw7dSrFuKfuzSzfh1kq/DDSoYAS+2KPYl+9mX37NFyq0mTRCrDohVp1Qq6n0z5bDr0u/B1l07CYdm1nDZtKwmXXsR/259LuG3axjNWmYNbDoGuayr6Nea2DWNUz1uPBfvS6AV1RUxOmnn85rr73GwIEDAXjllVdYvnw5H330kVfdBQsWMG/ePH744Qd0XUcpxahRo7jxxhuZNGkSU6ZMwTAMnn32WQBSUlI488wzWbp0KS1btuTMM8/k9ttvZ9KkSQB8+eWXPP/88/zyyy/l2iUL4Al/IQvgCH8gcSr8hcSq8BcSq/7PcDvwFCThOpTgewqScBem4HGkYhRn+Lp5J8dQR5J+Ren8f68vVTpFwDhUv8I6R8qUAoWGUhpKK/2zgXaomlb6pR15fZhS2pG5COrwUwja4ZeHaGV/LsmzkrEzHLfTXPpe2rHXOPLno7k0E99HduXVhHMqvPGgAWadsoTfcijpN2sauga6pqEB+qH7Fvqh8sNlRx/XNY23TstuGAvgbd26FafT6dWYPn368Morr+DxeLwegd+0aRO9e/dG10tXPNQ0jd69e7NhwwYmTZrEpk2bmDx5cln9Jk2a0LRpUzZs2IDNZiMlJYW+fft6XSc1NZWUlBSaNGlSDz+tEEIIIYQQQpQusqeHd8QS3rHcMeVx4nGk4SlKxV2UgqcotfTLkYrHcRCjJBvlLvJBq2tI10A/kjCXHyk+2ZFqhV7Bu56s4HgHTexZRPxY8y34DhufmUiJZuHthOHljinAZYDLOHyn4iSdVvmhek3m09PTCQsLIyAgoKwsOjoal8tFZmYmsbGxXnVbt27tdX5UVBRbt24F4ODBg171Dx9PS0sjPT0dwOt4dHQ0AKmpqRUm84mJiSf50wlRP1JSUnzdBCGqJXEq/IXEqvAXEquNgQ40Lf3SgMBDX6LutIC9g07s1NuA2zjBLQxrSb0m8w6HA6vV6lV2+LXT6axR3cP1iouLKz1eXFzs9d5VXQeQR+yFEEIIIYQQQvgVvT4vFhAQUC6ZPvzabrfXqK7NZqv2eEWJe2XXEUIIIYQQQggh/E29JvNxcXHk5eV5Jdnp6elYrVbCwsLK1T38uPxhGRkZxMTElB3PyMio8HhcXFzZ66OvA5SdL4QQQgghhBBC+Kt6TeY7deqExWJhw4YNZWWJiYl06dIFs9n7if8ePXqwYcMGDi+2r5Ri/fr19OzZs+z40fPcU1JSSE5OpmfPnsTFxZGQkOB1PDExkdjYWFn8TgghhBBCCCGE36vXZN5utzNhwgRmzJjB5s2b+eGHH3j77be5+uqrgdLR88Pz3UePHk1RUREzZ85kx44dzJ49m8LCQsaMGQPAZZddxjfffMP8+fPZtm0bDz74IEOHDqVVq1Zlx59//nlWrVrFmjVreP7558uuA6WP3T/22GP069ePQYMG8eabb9bnr0KISiUlJXHLLbfQr18/hg4dylNPPUVJSQkABw4cYPLkyfTs2ZNzzz23wq0WhfCFRx99lKuuuqrs9datW7nkkkvo0aMHEydOZPPmzT5snWjsXC4Xs2fPZsCAAQwYMIBp06aVPSUo/apoSHJzc7n//vvp378/Q4YM4dlnn8Xj8QCQk5PDXXfdRe/evRkxYgRffPGFj1srGiOn08m4ceNYuXJlWVl1sSmfCepOvSbzAA899BDdunXjmmuuYdq0adx+++1lCfrgwYNZtGgRAMHBwbz++uts2LCBCy64gPXr1/PGG28QHBwMQK9evZg5cyavvvoql156KSEhITz99NNl17n++usZN24cd911F3feeSdjx47l+uuvLzs+Z84cNm7cyDvvvMOMGTN49dVX+fbbb+vxNyFEeU6nk1tuuQWr1crHH3/Ms88+y/fff8/cuXNRSnHbbbcRHh7OggULuOCCC7jrrrvYt2+fr5stGrlVq1bx6aeflr0uKirihhtuoEePHnz++ef06dOHm2++mYKCAh+2UjRmc+bMYdmyZbzyyiu8+uqrLF++nHnz5km/KhqcGTNmkJaWxgcffMAzzzzDwoULeeeddwCYOnUqOTk5fPTRR9x22208/vjjrF+/3sctFo1JSUkJ9957L9u3b/cqryo25TNBHVONUGFhoerWrZtasWJFWdm8efPUpZde6sNWCaHU2rVrVZcuXVRBQUFZ2VdffaUGDhyoVq5cqbp166by8/PLjl1zzTXq+eef90VThVBKlfanZ511lrr00kvVlVdeqZRS6tNPP1Vnnnmm8ng8SimlDMNQ55xzjpo/f74vmyoaqdzcXNWlSxf122+/lZV99tln6vrrr5d+VTQ4vXv3VsuWLSt7PXv2bHX99dervXv3qg4dOqg9e/aUHXv44YfVfffd54tmikZo+/bt6vzzz1fnnXee6tChQ1keVV1symeCulXvI/MNwdatW3E6nV5b0vXp04ctW7aUPcokhC+0adOGN954g6CgoLIyTdPIy8tj06ZNdO7cuezpFCiN240bN/qgpUKUmjt3Lv3796d///5lZZs2baJ3797oeul/MZqm0bt3b6/1UoSoL4mJidjtdgYOHFhWNnHiRN566y3pV0WDEx4ezldffYXD4SAtLY3ly5fTpUsXNm3aRExMDC1btiyrK7Eq6tOaNWsYMGAAn3zyiVd5dbEpnwnqVqNM5tPT0wkLCyMgIKCsLDo6GpfLRWZmpg9bJhq7yMhIrw+chmHwwQcfMHDgQNLT04mNjfWqHxUVRWpqan03UwgANmzYwJIlS3jwwQe9yiuL1bS0tPpsnhBA6TokCQkJfPPNN4wdO5bhw4fz9NNP43Q6pV8VDc60adNYs2YNvXv3ZujQoURHR3PnnXdKrAqfu/zyy3n44YfLbfNdXWzKZ4K6Za6+yqnH4XCU7UV/WEV70wvha7Nnz+bvv/9mwYIFvPPOO1gsFq/jVqsVl8vlo9aJxszpdPLII4/w8MMPl9tatLI+VvpX4QuFhYXs37+fDz74gBkzZlBYWMiMGTNwu904HA7pV0WDkpSUROfOnbn99tspKChg5syZPP3004SHh1fYr7pcLpRSaJrmoxaLxq6y//MPx6Z8JqhbjTKZDwgIKBdAh18fe7dJCF9QSjFr1iw++ugj/vOf/9C+fXsCAgLKLRbidDqx2Ww+aqVozObNm0fLli0599xzyx2rrI+VWBW+YDabKSgo4JlnnqFFixYATJkyhSlTpnDBBRdIvyoajKSkJJ588kl+/PFH4uPjgdL+dPLkydx9992V9quSyAtfqur/fE3T5DNBHWuUyXxcXBx5eXk4nc6yO0Xp6elYrdZyI0xC1DfDMHjkkUf4+uuvmTt3LmeffTZQGrdbt271qpuRkUFMTIwvmikaua+//pr09HR69eoFlG795fF46NWrF+PGjSM9Pd2rvsSq8JXY2FjMZnNZIg/QunVrSkpKiImJ4Z9//vGqL7EqfOWPP/4gJCSkLJEH6Nq1Kx6PB6fTSUZGhld9iVXREMTFxVUZm3FxcfKZoA41yjnznTp1wmKxeC28kJiYSJcuXTCbG+X9DdGAPPXUU3z99de89NJLjBw5sqy8R48ebN26laKiorKyxMREevbs6YNWisbu/fff55tvvmHhwoUsXLiQSZMm0bVrVxYuXEiPHj3YsGEDSimg9EmT9evXS6wKn+jZsydut5tt27aVle3cuZOgoCB69uwp/apoMGJjY8nLy+PgwYNlZTt37gRg6NChpKWlsX///rJjiYmJ9OjRo97bKcTRevbsWWVsymeCutUok3m73c6ECROYMWMGmzdv5ocffuDtt9/m6quv9nXTRCO3ceNG/vvf/3LXXXfRtWtX0tPTy7769+9PQkICU6dOZfv27bzxxhts2rSJSZMm+brZohFq2rQpLVu2LPsKDQ3FZrPRsmVLRo8eTVFRETNnzmTHjh3Mnj2bwsJCxowZ4+tmi0aoVatWnHXWWTz00EP88ccfrFu3jmeffZaLL76YM844Q/pV0WD07NmTDh06MGXKFLZu3crGjRt57LHHGD9+PN27d2fw4ME8+OCDbN26lc8++4yvv/6aK6+80tfNFo1c8+bNq4xN+UxQtzR1+DZJI+NwOJg+fTpLly4lKCiIyZMnM3nyZF83SzRyTz/9NG+//XaFx/78808OHDjAI488wqZNm2jRogUPPfQQgwcPrudWClHe3LlzWb9+Pe+//z4AmzdvZtq0aezYsYOOHTsyffp0unbt6uNWisaqoKCAWbNmsXTpUsxmMxMmTOC+++7DarWyd+9e6VdFg5GWlsaTTz7J6tWrsVgsjB49mvvvvx+bzUZmZiaPPPIIK1euJDo6mn/961+MHz/e100WjVDHjh155513ynZgqi425TNB3Wm0ybwQQgghhBBCCOGvGuVj9kIIIYQQQgghhD+TZF4IIYQQQgghhPAzkswLIYQQQgghhBB+RpJ5IYQQQgghhBDCz0gyL4QQQgghhBBC+BlJ5oUQQgghhBBCCD8jybwQQgjRgE2dOpWOHTtW+tWtW7cqz1+5ciUdO3bk999/P+m2zJ07l44dO9ao7pNPPskzzzxz3NdYsmQJ/fv354YbbmDnzp1MmTKFl1566bjfpzqXXXYZ3333Xa2/rxBCCFFfzL5ugBBCCCGqFhkZyauvvlrhMV1vePfl16xZw6JFi04oWX7xxRe5+uqrKS4uZsKECVgsFj755JNab+PDDz/MTTfdRJ8+fYiOjq719xdCCCHqmiTzQgghRANnsVjo2bOnr5tRY08++SRXXnklQUFBx33uSy+9RLNmzQgICOCmm25C0zRCQkJqvY3dunWjW7duzJs3j2nTptX6+wshhBB1reHdzhdCCCHECfvwww8ZOXIk3bt356qrriI5OblcnbVr13L99dfTr18/unbtyogRI3jxxRfxeDxldYqLi5k1axaDBg2iV69ePPLIIzidzmqv/8svv7B161bOP//8475mx44dWbNmDU8++SQDBgxgyJAh3HvvvezZs8frvVauXMkVV1xBnz596N+/P/fee6/Xz6mUYu7cuZx99tl07dqVYcOGMXPmTAoLC73e5/zzz+ezzz4jIyOj2p9LCCGEaGgkmRdCCCH8gNvtrvDLMIyyOu+//z4zZsxg6NChvPLKK3Tv3p3p06d7vc/WrVu59tprCQ8PZ+7cubz66qv07duXefPm8c0335TVe+CBB1iwYAE33XQTL7zwAtnZ2bz//vvVtvPLL7+kZ8+eJCQkHPc1AZ577jkKCgp49tlnmTFjBps3b+aBBx4oO75w4UKuu+46YmJieP7553n44YfZuHEjF198Menp6QC8+eabfPjhh9xyyy2888473HjjjXz66afMmjXL61ojRoxAKSVz54UQQvglecxeCCGEaODS0tLo0qVLhcduueUW7rnnHpRSvPrqq4waNYpHH30UgMGDB5Ofn+8153zr1q2cfvrpPPPMM2Xz7QcNGsSPP/7ImjVrGD9+PNu3b2fp0qU89thjXHnllQAMGTKEcePGsXPnzirbunr1asaMGeNVVpNrHtamTRuee+65stf79+/npZdeIiMjg8jISJ599lnOOOMMXnjhhbI6vXv3ZsyYMbz11ls89NBDrFmzhi5dunDRRRcB0K9fP4KCgigoKPBqV2BgIG3btmX16tVcccUVVf5cQgghREMjybwQQgjRwEVFRfH6669XeCw2NhaAXbt2kZmZyfDhw72Ojx492iuZnzBhAhMmTKCkpITdu3eTlJTEX3/9hcfjKXuMft26dQBe76XrOuecc06VyXxRURGZmZk0bdrUq7wm1zysV69eXq/j4+MBcDgc7N69m/T0dP71r3951WnRogW9evVizZo1AJxxxhnMmTOHSy+9lOHDhzNs2DAuuOCCCtvctGlT9u/fX+nPJIQQQjRUkswLIYQQDZzZbK52C7rc3FwAIiIivMpjYmK8XhcXFzNz5ky+/PJL3G43zZo1o2fPnpjNZpRSVb7X4RsHlcnPzwfAZrMd9zUPO/bcwyP5hmGQk5NT4c8EEB0dXTZvfvLkyQQFBbFgwQJeeOEFnn/+eVq0aMF9993H6NGjvc6z2+1l7RZCCCH8iSTzQgghxCngcOJ97GJu2dnZXq9nzZrFkiVLmDt3LoMGDSIwMBAoHc0+9r0yMzPLjlf0XpW14djkuCbXrInw8HCAsrnxR0tPTy+7vqZpXHrppVx66aVkZ2ezYsUK3nrrLe677z569epFXFxc2Xl5eXnlbloIIYQQ/kAWwBNCCCFOAa1ataJJkyYsWbLEq/ynn37yep2YmEi/fv0455xzypLqP/74g6ysrLJR8tNPPx2AxYsXV/lex7JarcTExJCSknLc16yJ1q1bExMTw7fffutVvm/fPjZu3EifPn0AuPTSS3niiSeA0hsM48aN45ZbbsHtdnPw4EGvc1NTU70W6xNCCCH8hYzMCyGEEA2cy+Vi48aNlR5v164dwcHB3HvvvTzwwAM88sgjnHvuuWzYsMFrvjxA9+7dWbRoER999BFt27Zl69atvPrqq2iaRlFREQAtW7Zk0qRJvPTSSwB06tSJhQsXsmPHjmrbOmTIEBITE4/7mjWh6zr33nsvDz30EPfccw8TJkwgJyeHl156iZCQECZPngxAnz59ePfdd4mIiKBv375kZmby8ssv07p1azp16lT2fvn5+Wzfvp2rr766xm0QQgghGgpJ5oUQQogGLisri0suuaTS4++99x4DBgzg/PPPR9M0XnvtNb766is6duzIjBkzuP/++8vqTp06FZfLxQsvvIDT6aRZs2bceuut7Nixg++//x63243ZbGb69OlER0fz/vvvk5eXx7Bhw7jpppt48cUXq2zr6NGj+eKLL0hJSaFJkybHdc2amDhxIkFBQbz++uvccccdBAUFMWjQIO67776yx+fvuecebDYbX375Ja+99lpZnfvvv9/rOsuXL8dsNjNixIgaXVsIIYRoSDR1PM+3CSGEEEJUQSnFxIkTOfPMM8utOt/QXH311XTo0KFsKz8hhBDCn8iceSGEEELUGk3TeOCBB/jkk0/K7evekGzatIlt27Zx8803+7opQgghxAmRZF4IIYQQtWrgwIGce+65zJs3z9dNqdTs2bOZNm1ahdvcCSGEEP5AHrMXQgghhBBCCCH8jIzMCyGEEEIIIYQQfkaSeSGEEEIIIYQQws9IMi+EEEIIIYQQQvgZSeaFEEIIIYQQQgg/I8m8EEIIIYQQQgjhZ/4fD7MCNlO+PRYAAAAASUVORK5CYII=",
      "text/plain": [
       "<Figure size 1080x432 with 1 Axes>"
      ]
     },
     "metadata": {},
     "output_type": "display_data"
    }
   ],
   "source": [
    "plt.figure(figsize=(15,6))\n",
    "plt.style.use('seaborn-whitegrid')\n",
    "plt.grid(True, alpha=0.5)\n",
    "sns.kdeplot(df_traffic_accidents.loc[df_traffic_accidents['casualty_severity'] == 1, 'age_of_casualty'], label = 'Accidentados gravedad 1')\n",
    "sns.kdeplot(df_traffic_accidents.loc[df_traffic_accidents['casualty_severity'] == 2, 'age_of_casualty'], label = 'Accidentados gravedad 2')\n",
    "sns.kdeplot(df_traffic_accidents.loc[df_traffic_accidents['casualty_severity'] == 3, 'age_of_casualty'], label = 'Accidentados gravedad 3')\n",
    "plt.xlim(left=0, right=110)\n",
    "plt.xlabel('Edad (años)')\n",
    "plt.ylabel('Densidad')\n",
    "plt.title('Edad vs Severidad de la victima');"
   ]
  },
  {
   "cell_type": "code",
   "execution_count": null,
=======
   "execution_count": 71,
>>>>>>> 602ff74d33bf130460ce1cd5ed2ba91348276f41
   "metadata": {},
   "outputs": [
    {
     "data": {
      "text/plain": [
       "19    2426\n",
       "30    2377\n",
       "20    2306\n",
       "18    2299\n",
       "22    2204\n",
       "      ... \n",
       "94      14\n",
       "96      11\n",
       "98       7\n",
       "99       2\n",
       "97       2\n",
       "Name: age_of_casualty, Length: 101, dtype: int64"
      ]
     },
<<<<<<< HEAD
     "execution_count": 25,
=======
     "execution_count": 71,
>>>>>>> 602ff74d33bf130460ce1cd5ed2ba91348276f41
     "metadata": {},
     "output_type": "execute_result"
    }
   ],
   "source": [
    "df_traffic_accidents['age_of_casualty'].value_counts()"
   ]
  },
  {
   "cell_type": "markdown",
   "metadata": {},
   "source": [
    "#### Casualty severity"
   ]
  },
  {
   "cell_type": "markdown",
   "metadata": {},
   "source": [
    "> Indica el estado de la victima tras el accidente."
   ]
  },
  {
   "cell_type": "code",
<<<<<<< HEAD
   "execution_count": null,
=======
   "execution_count": 72,
>>>>>>> 602ff74d33bf130460ce1cd5ed2ba91348276f41
   "metadata": {},
   "outputs": [
    {
     "data": {
      "text/plain": [
       "3    74323\n",
       "2    16832\n",
       "1     1295\n",
       "Name: casualty_severity, dtype: int64"
      ]
     },
<<<<<<< HEAD
     "execution_count": 26,
=======
     "execution_count": 72,
>>>>>>> 602ff74d33bf130460ce1cd5ed2ba91348276f41
     "metadata": {},
     "output_type": "execute_result"
    }
   ],
   "source": [
    "df_traffic_accidents['casualty_severity'].value_counts()"
   ]
  },
  {
   "cell_type": "markdown",
   "metadata": {},
   "source": [
    "#### Car passenger"
   ]
  },
  {
   "cell_type": "markdown",
   "metadata": {},
   "source": [
    "> Indica el número de pasajeros en el coche en el momento del accidente."
   ]
  },
  {
   "cell_type": "code",
<<<<<<< HEAD
   "execution_count": null,
=======
   "execution_count": 73,
>>>>>>> 602ff74d33bf130460ce1cd5ed2ba91348276f41
   "metadata": {},
   "outputs": [
    {
     "data": {
      "text/plain": [
       " 0    76258\n",
       " 1    10398\n",
       " 2     5453\n",
       "-1      309\n",
       " 9       32\n",
       "Name: car_passenger, dtype: int64"
      ]
     },
<<<<<<< HEAD
     "execution_count": 27,
=======
     "execution_count": 73,
>>>>>>> 602ff74d33bf130460ce1cd5ed2ba91348276f41
     "metadata": {},
     "output_type": "execute_result"
    }
   ],
   "source": [
    "df_traffic_accidents['car_passenger'].value_counts()"
   ]
  },
  {
   "cell_type": "markdown",
   "metadata": {},
   "source": [
    "#### Generic_make_model"
   ]
  },
  {
   "cell_type": "markdown",
   "metadata": {},
   "source": [
    "Marca y modelo del vehiculo"
   ]
  },
  {
   "cell_type": "code",
   "execution_count": 74,
   "metadata": {},
   "outputs": [
    {
     "data": {
      "text/plain": [
       "-1                  26272\n",
       "FORD FIESTA          3207\n",
       "VAUXHALL CORSA       2685\n",
       "VAUXHALL ASTRA       2217\n",
       "FORD FOCUS           2111\n",
       "                    ...  \n",
       "YAMAHA X-MAX 300        2\n",
       "YAMAHA X-MAX            1\n",
       "NISSAN E-NV200          1\n",
       "IVECO STRALIS           1\n",
       "BYD ENVIRO              1\n",
       "Name: generic_make_model, Length: 691, dtype: int64"
      ]
     },
     "execution_count": 74,
     "metadata": {},
     "output_type": "execute_result"
    }
   ],
   "source": [
    "df_traffic_accidents['generic_make_model'].value_counts()"
   ]
  },
  {
   "cell_type": "code",
   "execution_count": 75,
   "metadata": {},
   "outputs": [
    {
     "data": {
      "text/html": [
       "<div>\n",
       "<style scoped>\n",
       "    .dataframe tbody tr th:only-of-type {\n",
       "        vertical-align: middle;\n",
       "    }\n",
       "\n",
       "    .dataframe tbody tr th {\n",
       "        vertical-align: top;\n",
       "    }\n",
       "\n",
       "    .dataframe thead th {\n",
       "        text-align: right;\n",
       "    }\n",
       "</style>\n",
       "<table border=\"1\" class=\"dataframe\">\n",
       "  <thead>\n",
       "    <tr style=\"text-align: right;\">\n",
       "      <th></th>\n",
       "      <th>accident_index</th>\n",
       "      <th>accident_severity</th>\n",
       "      <th>number_of_vehicles</th>\n",
       "      <th>number_of_casualties</th>\n",
       "      <th>date</th>\n",
       "      <th>day_of_week</th>\n",
       "      <th>time</th>\n",
       "      <th>did_police_officer_attend_scene_of_accident</th>\n",
       "      <th>sex_of_driver</th>\n",
       "      <th>age_of_driver</th>\n",
       "      <th>age_of_vehicle</th>\n",
       "      <th>generic_make_model</th>\n",
       "      <th>sex_of_casualty</th>\n",
       "      <th>age_of_casualty</th>\n",
       "      <th>casualty_severity</th>\n",
       "      <th>car_passenger</th>\n",
       "    </tr>\n",
       "  </thead>\n",
       "  <tbody>\n",
       "    <tr>\n",
       "      <th>0</th>\n",
       "      <td>2020010278554</td>\n",
       "      <td>2</td>\n",
       "      <td>2</td>\n",
       "      <td>1</td>\n",
       "      <td>09/11/2020</td>\n",
       "      <td>2</td>\n",
       "      <td>20:20</td>\n",
       "      <td>1</td>\n",
       "      <td>1</td>\n",
       "      <td>23</td>\n",
       "      <td>4</td>\n",
       "      <td>SUZUKI UK 110</td>\n",
       "      <td>1</td>\n",
       "      <td>23</td>\n",
       "      <td>2</td>\n",
       "      <td>0</td>\n",
       "    </tr>\n",
       "    <tr>\n",
       "      <th>1</th>\n",
       "      <td>2020010278556</td>\n",
       "      <td>2</td>\n",
       "      <td>2</td>\n",
       "      <td>1</td>\n",
       "      <td>04/11/2020</td>\n",
       "      <td>4</td>\n",
       "      <td>11:50</td>\n",
       "      <td>3</td>\n",
       "      <td>1</td>\n",
       "      <td>17</td>\n",
       "      <td>4</td>\n",
       "      <td>HONDA CBR125R</td>\n",
       "      <td>1</td>\n",
       "      <td>17</td>\n",
       "      <td>2</td>\n",
       "      <td>0</td>\n",
       "    </tr>\n",
       "    <tr>\n",
       "      <th>2</th>\n",
       "      <td>2020010278558</td>\n",
       "      <td>3</td>\n",
       "      <td>2</td>\n",
       "      <td>1</td>\n",
       "      <td>09/11/2020</td>\n",
       "      <td>2</td>\n",
       "      <td>19:31</td>\n",
       "      <td>1</td>\n",
       "      <td>1</td>\n",
       "      <td>45</td>\n",
       "      <td>0</td>\n",
       "      <td>YAMAHA GPD 125</td>\n",
       "      <td>1</td>\n",
       "      <td>45</td>\n",
       "      <td>3</td>\n",
       "      <td>0</td>\n",
       "    </tr>\n",
       "    <tr>\n",
       "      <th>3</th>\n",
       "      <td>2020010278559</td>\n",
       "      <td>3</td>\n",
       "      <td>2</td>\n",
       "      <td>1</td>\n",
       "      <td>09/11/2020</td>\n",
       "      <td>2</td>\n",
       "      <td>19:13</td>\n",
       "      <td>1</td>\n",
       "      <td>1</td>\n",
       "      <td>45</td>\n",
       "      <td>7</td>\n",
       "      <td>-1</td>\n",
       "      <td>1</td>\n",
       "      <td>45</td>\n",
       "      <td>3</td>\n",
       "      <td>0</td>\n",
       "    </tr>\n",
       "    <tr>\n",
       "      <th>4</th>\n",
       "      <td>2020010278561</td>\n",
       "      <td>2</td>\n",
       "      <td>1</td>\n",
       "      <td>1</td>\n",
       "      <td>09/11/2020</td>\n",
       "      <td>2</td>\n",
       "      <td>18:03</td>\n",
       "      <td>1</td>\n",
       "      <td>1</td>\n",
       "      <td>52</td>\n",
       "      <td>2</td>\n",
       "      <td>ALEXANDER DENNIS MODEL MISSING</td>\n",
       "      <td>1</td>\n",
       "      <td>42</td>\n",
       "      <td>2</td>\n",
       "      <td>0</td>\n",
       "    </tr>\n",
       "    <tr>\n",
       "      <th>...</th>\n",
       "      <td>...</td>\n",
       "      <td>...</td>\n",
       "      <td>...</td>\n",
       "      <td>...</td>\n",
       "      <td>...</td>\n",
       "      <td>...</td>\n",
       "      <td>...</td>\n",
       "      <td>...</td>\n",
       "      <td>...</td>\n",
       "      <td>...</td>\n",
       "      <td>...</td>\n",
       "      <td>...</td>\n",
       "      <td>...</td>\n",
       "      <td>...</td>\n",
       "      <td>...</td>\n",
       "      <td>...</td>\n",
       "    </tr>\n",
       "    <tr>\n",
       "      <th>92445</th>\n",
       "      <td>2020990963785</td>\n",
       "      <td>2</td>\n",
       "      <td>1</td>\n",
       "      <td>1</td>\n",
       "      <td>11/07/2020</td>\n",
       "      <td>7</td>\n",
       "      <td>19:29</td>\n",
       "      <td>2</td>\n",
       "      <td>1</td>\n",
       "      <td>51</td>\n",
       "      <td>20</td>\n",
       "      <td>YAMAHA YZF R1</td>\n",
       "      <td>1</td>\n",
       "      <td>51</td>\n",
       "      <td>2</td>\n",
       "      <td>0</td>\n",
       "    </tr>\n",
       "    <tr>\n",
       "      <th>92446</th>\n",
       "      <td>2020990963795</td>\n",
       "      <td>3</td>\n",
       "      <td>2</td>\n",
       "      <td>1</td>\n",
       "      <td>27/05/2020</td>\n",
       "      <td>4</td>\n",
       "      <td>18:27</td>\n",
       "      <td>1</td>\n",
       "      <td>1</td>\n",
       "      <td>36</td>\n",
       "      <td>-1</td>\n",
       "      <td>-1</td>\n",
       "      <td>1</td>\n",
       "      <td>36</td>\n",
       "      <td>3</td>\n",
       "      <td>0</td>\n",
       "    </tr>\n",
       "    <tr>\n",
       "      <th>92447</th>\n",
       "      <td>2020990963798</td>\n",
       "      <td>3</td>\n",
       "      <td>1</td>\n",
       "      <td>1</td>\n",
       "      <td>11/07/2020</td>\n",
       "      <td>7</td>\n",
       "      <td>09:48</td>\n",
       "      <td>1</td>\n",
       "      <td>1</td>\n",
       "      <td>83</td>\n",
       "      <td>6</td>\n",
       "      <td>MITSUBISHI ASX</td>\n",
       "      <td>2</td>\n",
       "      <td>40</td>\n",
       "      <td>3</td>\n",
       "      <td>0</td>\n",
       "    </tr>\n",
       "    <tr>\n",
       "      <th>92448</th>\n",
       "      <td>2020990963826</td>\n",
       "      <td>2</td>\n",
       "      <td>3</td>\n",
       "      <td>1</td>\n",
       "      <td>11/07/2020</td>\n",
       "      <td>7</td>\n",
       "      <td>13:25</td>\n",
       "      <td>2</td>\n",
       "      <td>1</td>\n",
       "      <td>52</td>\n",
       "      <td>21</td>\n",
       "      <td>-1</td>\n",
       "      <td>1</td>\n",
       "      <td>52</td>\n",
       "      <td>2</td>\n",
       "      <td>0</td>\n",
       "    </tr>\n",
       "    <tr>\n",
       "      <th>92449</th>\n",
       "      <td>2020990963829</td>\n",
       "      <td>3</td>\n",
       "      <td>1</td>\n",
       "      <td>1</td>\n",
       "      <td>11/07/2020</td>\n",
       "      <td>7</td>\n",
       "      <td>18:05</td>\n",
       "      <td>2</td>\n",
       "      <td>1</td>\n",
       "      <td>30</td>\n",
       "      <td>-1</td>\n",
       "      <td>-1</td>\n",
       "      <td>2</td>\n",
       "      <td>79</td>\n",
       "      <td>3</td>\n",
       "      <td>0</td>\n",
       "    </tr>\n",
       "  </tbody>\n",
       "</table>\n",
       "<p>92450 rows × 16 columns</p>\n",
       "</div>"
      ],
      "text/plain": [
       "      accident_index  accident_severity  number_of_vehicles  \\\n",
       "0      2020010278554                  2                   2   \n",
       "1      2020010278556                  2                   2   \n",
       "2      2020010278558                  3                   2   \n",
       "3      2020010278559                  3                   2   \n",
       "4      2020010278561                  2                   1   \n",
       "...              ...                ...                 ...   \n",
       "92445  2020990963785                  2                   1   \n",
       "92446  2020990963795                  3                   2   \n",
       "92447  2020990963798                  3                   1   \n",
       "92448  2020990963826                  2                   3   \n",
       "92449  2020990963829                  3                   1   \n",
       "\n",
       "       number_of_casualties        date  day_of_week   time  \\\n",
       "0                         1  09/11/2020            2  20:20   \n",
       "1                         1  04/11/2020            4  11:50   \n",
       "2                         1  09/11/2020            2  19:31   \n",
       "3                         1  09/11/2020            2  19:13   \n",
       "4                         1  09/11/2020            2  18:03   \n",
       "...                     ...         ...          ...    ...   \n",
       "92445                     1  11/07/2020            7  19:29   \n",
       "92446                     1  27/05/2020            4  18:27   \n",
       "92447                     1  11/07/2020            7  09:48   \n",
       "92448                     1  11/07/2020            7  13:25   \n",
       "92449                     1  11/07/2020            7  18:05   \n",
       "\n",
       "       did_police_officer_attend_scene_of_accident  sex_of_driver  \\\n",
       "0                                                1              1   \n",
       "1                                                3              1   \n",
       "2                                                1              1   \n",
       "3                                                1              1   \n",
       "4                                                1              1   \n",
       "...                                            ...            ...   \n",
       "92445                                            2              1   \n",
       "92446                                            1              1   \n",
       "92447                                            1              1   \n",
       "92448                                            2              1   \n",
       "92449                                            2              1   \n",
       "\n",
       "       age_of_driver  age_of_vehicle              generic_make_model  \\\n",
       "0                 23               4                   SUZUKI UK 110   \n",
       "1                 17               4                   HONDA CBR125R   \n",
       "2                 45               0                  YAMAHA GPD 125   \n",
       "3                 45               7                              -1   \n",
       "4                 52               2  ALEXANDER DENNIS MODEL MISSING   \n",
       "...              ...             ...                             ...   \n",
       "92445             51              20                   YAMAHA YZF R1   \n",
       "92446             36              -1                              -1   \n",
       "92447             83               6                  MITSUBISHI ASX   \n",
       "92448             52              21                              -1   \n",
       "92449             30              -1                              -1   \n",
       "\n",
       "       sex_of_casualty  age_of_casualty  casualty_severity  car_passenger  \n",
       "0                    1               23                  2              0  \n",
       "1                    1               17                  2              0  \n",
       "2                    1               45                  3              0  \n",
       "3                    1               45                  3              0  \n",
       "4                    1               42                  2              0  \n",
       "...                ...              ...                ...            ...  \n",
       "92445                1               51                  2              0  \n",
       "92446                1               36                  3              0  \n",
       "92447                2               40                  3              0  \n",
       "92448                1               52                  2              0  \n",
       "92449                2               79                  3              0  \n",
       "\n",
       "[92450 rows x 16 columns]"
      ]
     },
     "execution_count": 75,
     "metadata": {},
     "output_type": "execute_result"
    }
   ],
   "source": [
    "df_traffic_accidents.dropna(['car_passenger','did_police_officer_attend_scene_of_accident','sex_of_casualty','age_of_vehicle','age_of_driver','generic_make_model'] == -1)"
   ]
  },
  {
   "cell_type": "code",
   "execution_count": 76,
   "metadata": {},
   "outputs": [],
   "source": [
    "df_traffic_accidents = df_traffic_accidents.reindex(columns = ['accident_severity', 'number_of_vehicles', 'number_of_casualties', 'day_of_week', 'did_police_officer_attend_scene_of_accident', 'sex_of_driver', 'age_of_driver', 'age_of_vehicle', 'sex_of_casualty', 'age_of_casualty', 'car_passenger', 'casualty_severity'])"
   ]
  },
  {
   "cell_type": "code",
   "execution_count": 77,
   "metadata": {},
   "outputs": [
    {
     "data": {
      "text/html": [
       "<div>\n",
       "<style scoped>\n",
       "    .dataframe tbody tr th:only-of-type {\n",
       "        vertical-align: middle;\n",
       "    }\n",
       "\n",
       "    .dataframe tbody tr th {\n",
       "        vertical-align: top;\n",
       "    }\n",
       "\n",
       "    .dataframe thead th {\n",
       "        text-align: right;\n",
       "    }\n",
       "</style>\n",
       "<table border=\"1\" class=\"dataframe\">\n",
       "  <thead>\n",
       "    <tr style=\"text-align: right;\">\n",
       "      <th></th>\n",
       "      <th>accident_severity</th>\n",
       "      <th>number_of_vehicles</th>\n",
       "      <th>number_of_casualties</th>\n",
       "      <th>day_of_week</th>\n",
       "      <th>did_police_officer_attend_scene_of_accident</th>\n",
       "      <th>sex_of_driver</th>\n",
       "      <th>age_of_driver</th>\n",
       "      <th>age_of_vehicle</th>\n",
       "      <th>sex_of_casualty</th>\n",
       "      <th>age_of_casualty</th>\n",
       "      <th>car_passenger</th>\n",
       "      <th>casualty_severity</th>\n",
       "    </tr>\n",
       "  </thead>\n",
       "  <tbody>\n",
       "    <tr>\n",
       "      <th>0</th>\n",
       "      <td>2</td>\n",
       "      <td>2</td>\n",
       "      <td>1</td>\n",
       "      <td>2</td>\n",
       "      <td>1</td>\n",
       "      <td>1</td>\n",
       "      <td>23</td>\n",
       "      <td>4</td>\n",
       "      <td>1</td>\n",
       "      <td>23</td>\n",
       "      <td>0</td>\n",
       "      <td>2</td>\n",
       "    </tr>\n",
       "    <tr>\n",
       "      <th>1</th>\n",
       "      <td>2</td>\n",
       "      <td>2</td>\n",
       "      <td>1</td>\n",
       "      <td>4</td>\n",
       "      <td>3</td>\n",
       "      <td>1</td>\n",
       "      <td>17</td>\n",
       "      <td>4</td>\n",
       "      <td>1</td>\n",
       "      <td>17</td>\n",
       "      <td>0</td>\n",
       "      <td>2</td>\n",
       "    </tr>\n",
       "    <tr>\n",
       "      <th>2</th>\n",
       "      <td>3</td>\n",
       "      <td>2</td>\n",
       "      <td>1</td>\n",
       "      <td>2</td>\n",
       "      <td>1</td>\n",
       "      <td>1</td>\n",
       "      <td>45</td>\n",
       "      <td>0</td>\n",
       "      <td>1</td>\n",
       "      <td>45</td>\n",
       "      <td>0</td>\n",
       "      <td>3</td>\n",
       "    </tr>\n",
       "    <tr>\n",
       "      <th>3</th>\n",
       "      <td>3</td>\n",
       "      <td>2</td>\n",
       "      <td>1</td>\n",
       "      <td>2</td>\n",
       "      <td>1</td>\n",
       "      <td>1</td>\n",
       "      <td>45</td>\n",
       "      <td>7</td>\n",
       "      <td>1</td>\n",
       "      <td>45</td>\n",
       "      <td>0</td>\n",
       "      <td>3</td>\n",
       "    </tr>\n",
       "    <tr>\n",
       "      <th>4</th>\n",
       "      <td>2</td>\n",
       "      <td>1</td>\n",
       "      <td>1</td>\n",
       "      <td>2</td>\n",
       "      <td>1</td>\n",
       "      <td>1</td>\n",
       "      <td>52</td>\n",
       "      <td>2</td>\n",
       "      <td>1</td>\n",
       "      <td>42</td>\n",
       "      <td>0</td>\n",
       "      <td>2</td>\n",
       "    </tr>\n",
       "  </tbody>\n",
       "</table>\n",
       "</div>"
      ],
      "text/plain": [
       "   accident_severity  number_of_vehicles  number_of_casualties  day_of_week  \\\n",
       "0                  2                   2                     1            2   \n",
       "1                  2                   2                     1            4   \n",
       "2                  3                   2                     1            2   \n",
       "3                  3                   2                     1            2   \n",
       "4                  2                   1                     1            2   \n",
       "\n",
       "   did_police_officer_attend_scene_of_accident  sex_of_driver  age_of_driver  \\\n",
       "0                                            1              1             23   \n",
       "1                                            3              1             17   \n",
       "2                                            1              1             45   \n",
       "3                                            1              1             45   \n",
       "4                                            1              1             52   \n",
       "\n",
       "   age_of_vehicle  sex_of_casualty  age_of_casualty  car_passenger  \\\n",
       "0               4                1               23              0   \n",
       "1               4                1               17              0   \n",
       "2               0                1               45              0   \n",
       "3               7                1               45              0   \n",
       "4               2                1               42              0   \n",
       "\n",
       "   casualty_severity  \n",
       "0                  2  \n",
       "1                  2  \n",
       "2                  3  \n",
       "3                  3  \n",
       "4                  2  "
      ]
     },
     "execution_count": 77,
     "metadata": {},
     "output_type": "execute_result"
    }
   ],
   "source": [
    "df_traffic_accidents.head()"
   ]
  },
  {
   "cell_type": "markdown",
   "metadata": {},
   "source": [
    "## Modelos"
   ]
  },
  {
   "cell_type": "markdown",
   "metadata": {},
   "source": [
    "### Regresión logística"
   ]
  },
  {
   "cell_type": "code",
   "execution_count": 83,
   "metadata": {},
   "outputs": [],
   "source": [
    "df_traffic_accidents_lg = df_traffic_accidents.drop(['number_of_casualties','day_of_week', 'did_police_officer_attend_scene_of_accident',\n",
    "                                                    'sex_of_driver','age_of_vehicle', 'car_passenger'], axis=1)"
   ]
  },
  {
   "cell_type": "code",
   "execution_count": 84,
   "metadata": {},
   "outputs": [
    {
     "data": {
      "text/html": [
       "<div>\n",
       "<style scoped>\n",
       "    .dataframe tbody tr th:only-of-type {\n",
       "        vertical-align: middle;\n",
       "    }\n",
       "\n",
       "    .dataframe tbody tr th {\n",
       "        vertical-align: top;\n",
       "    }\n",
       "\n",
       "    .dataframe thead th {\n",
       "        text-align: right;\n",
       "    }\n",
       "</style>\n",
       "<table border=\"1\" class=\"dataframe\">\n",
       "  <thead>\n",
       "    <tr style=\"text-align: right;\">\n",
       "      <th></th>\n",
       "      <th>accident_severity</th>\n",
       "      <th>number_of_vehicles</th>\n",
       "      <th>age_of_driver</th>\n",
       "      <th>sex_of_casualty</th>\n",
       "      <th>age_of_casualty</th>\n",
       "      <th>casualty_severity</th>\n",
       "    </tr>\n",
       "  </thead>\n",
       "  <tbody>\n",
       "    <tr>\n",
       "      <th>0</th>\n",
       "      <td>2</td>\n",
       "      <td>2</td>\n",
       "      <td>23</td>\n",
       "      <td>1</td>\n",
       "      <td>23</td>\n",
       "      <td>2</td>\n",
       "    </tr>\n",
       "  </tbody>\n",
       "</table>\n",
       "</div>"
      ],
      "text/plain": [
       "   accident_severity  number_of_vehicles  age_of_driver  sex_of_casualty  \\\n",
       "0                  2                   2             23                1   \n",
       "\n",
       "   age_of_casualty  casualty_severity  \n",
       "0               23                  2  "
      ]
     },
     "execution_count": 84,
     "metadata": {},
     "output_type": "execute_result"
    }
   ],
   "source": [
    "df_traffic_accidents_lg.head(1)"
   ]
  },
  {
   "cell_type": "code",
   "execution_count": 85,
   "metadata": {},
   "outputs": [],
   "source": [
    "X_train, X_test, y_train, y_test = train_test_split(df_traffic_accidents_lg.drop('casualty_severity', axis=1), df_traffic_accidents_lg['casualty_severity'])"
   ]
  },
  {
   "cell_type": "code",
   "execution_count": 99,
   "metadata": {},
   "outputs": [
    {
     "name": "stderr",
     "output_type": "stream",
     "text": [
      "C:\\Users\\migue\\anaconda3\\lib\\site-packages\\sklearn\\linear_model\\_logistic.py:762: ConvergenceWarning: lbfgs failed to converge (status=1):\n",
      "STOP: TOTAL NO. of ITERATIONS REACHED LIMIT.\n",
      "\n",
      "Increase the number of iterations (max_iter) or scale the data as shown in:\n",
      "    https://scikit-learn.org/stable/modules/preprocessing.html\n",
      "Please also refer to the documentation for alternative solver options:\n",
      "    https://scikit-learn.org/stable/modules/linear_model.html#logistic-regression\n",
      "  n_iter_i = _check_optimize_result(\n"
     ]
    },
    {
     "data": {
      "text/plain": [
       "LogisticRegression()"
      ]
     },
     "execution_count": 99,
     "metadata": {},
     "output_type": "execute_result"
    }
   ],
   "source": [
    "lr = LogisticRegression(solver = 'lbfgs')\n",
    "lr.fit(X_train, y_train)"
   ]
  },
  {
   "cell_type": "code",
   "execution_count": 102,
   "metadata": {},
   "outputs": [
    {
     "data": {
      "text/plain": [
       "3"
      ]
     },
     "execution_count": 102,
     "metadata": {},
     "output_type": "execute_result"
    }
   ],
   "source": [
    "lr.predict(np.array([[2,4,50,2,12]]))[0]"
   ]
  },
  {
   "cell_type": "code",
   "execution_count": 94,
   "metadata": {},
   "outputs": [
    {
     "data": {
      "text/plain": [
       "1"
      ]
     },
     "execution_count": 94,
     "metadata": {},
     "output_type": "execute_result"
    }
   ],
   "source": [
    "lr.predict(np.array([[1,2,16,1,65]]))[0]"
   ]
  },
  {
   "cell_type": "code",
   "execution_count": 100,
   "metadata": {},
   "outputs": [
    {
     "data": {
      "text/plain": [
       "3"
      ]
     },
     "execution_count": 100,
     "metadata": {},
     "output_type": "execute_result"
    }
   ],
   "source": [
    "lr.predict(np.array([[3,2,16,1,65]]))[0]"
   ]
  },
  {
   "cell_type": "code",
   "execution_count": 103,
   "metadata": {},
   "outputs": [
    {
     "data": {
      "text/plain": [
       "2"
      ]
     },
     "execution_count": 103,
     "metadata": {},
     "output_type": "execute_result"
    }
   ],
   "source": [
    "lr.predict(np.array([[2,2,16,1,35]]))[0]"
   ]
  },
  {
   "cell_type": "code",
   "execution_count": null,
   "metadata": {},
   "outputs": [],
   "source": []
  }
 ],
 "metadata": {
  "kernelspec": {
   "display_name": "Python 3",
   "language": "python",
   "name": "python3"
  },
  "language_info": {
   "codemirror_mode": {
    "name": "ipython",
    "version": 3
   },
   "file_extension": ".py",
   "mimetype": "text/x-python",
   "name": "python",
   "nbconvert_exporter": "python",
   "pygments_lexer": "ipython3",
   "version": "3.10.0"
  }
 },
 "nbformat": 4,
 "nbformat_minor": 5
}
